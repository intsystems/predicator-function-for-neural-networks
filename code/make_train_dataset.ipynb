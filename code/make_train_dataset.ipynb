{
 "cells": [
  {
   "cell_type": "code",
   "execution_count": 284,
   "metadata": {},
   "outputs": [],
   "source": [
    "import os\n",
    "import json\n",
    "import numpy as np\n",
    "import torch\n",
    "import nni\n",
    "from torch.utils.data import SubsetRandomSampler\n",
    "from torchvision import transforms\n",
    "from torchvision.datasets import CIFAR10\n",
    "from nni.nas.evaluator.pytorch import DataLoader, Classification\n",
    "from nni.nas.hub.pytorch import DARTS as DartsSpace\n",
    "from nni.nas.space import model_context\n",
    "from tqdm import tqdm\n",
    "from IPython.display import clear_output\n",
    "\n",
    "from sklearn.preprocessing import OneHotEncoder\n",
    "import re\n",
    "import io\n",
    "from graphviz import Digraph\n",
    "from IPython.display import display\n",
    "import matplotlib.pyplot as plt\n",
    "\n",
    "import scipy.stats as sps\n",
    "\n",
    "import torch\n",
    "import torch.nn as nn\n",
    "import torch.nn.functional as F\n",
    "from torch_geometric.data import Data\n",
    "from torch_geometric.nn import GCNConv"
   ]
  },
  {
   "cell_type": "code",
   "execution_count": 169,
   "metadata": {},
   "outputs": [],
   "source": [
    "\n",
    "DARTS_OPS = [\n",
    "        'none',\n",
    "        'max_pool_3x3',\n",
    "        'avg_pool_3x3',\n",
    "        'skip_connect',\n",
    "        'sep_conv_3x3',\n",
    "        'sep_conv_5x5',\n",
    "        'dil_conv_3x3',\n",
    "        'dil_conv_5x5',\n",
    "    ]\n",
    "\n",
    "encoder = OneHotEncoder(handle_unknown='ignore')\n"
   ]
  },
  {
   "cell_type": "code",
   "execution_count": 170,
   "metadata": {},
   "outputs": [
    {
     "name": "stdout",
     "output_type": "stream",
     "text": [
      "[[0. 0. 0. 0. 1. 0. 0. 0.]\n",
      " [0. 0. 0. 1. 0. 0. 0. 0.]\n",
      " [1. 0. 0. 0. 0. 0. 0. 0.]\n",
      " [0. 0. 0. 0. 0. 0. 0. 1.]\n",
      " [0. 0. 0. 0. 0. 1. 0. 0.]\n",
      " [0. 0. 0. 0. 0. 0. 1. 0.]\n",
      " [0. 1. 0. 0. 0. 0. 0. 0.]\n",
      " [0. 0. 1. 0. 0. 0. 0. 0.]]\n"
     ]
    }
   ],
   "source": [
    "encoder = OneHotEncoder(handle_unknown='ignore')\n",
    "ops_array = np.array(DARTS_OPS).reshape(-1, 1)\n",
    "\n",
    "DARTS_OPS_ONE_HOT = encoder.fit_transform(ops_array).toarray()\n",
    "\n",
    "print(DARTS_OPS_ONE_HOT)"
   ]
  },
  {
   "cell_type": "code",
   "execution_count": 171,
   "metadata": {},
   "outputs": [],
   "source": [
    "def load_json_from_directory(directory_path):\n",
    "    \"\"\"\n",
    "    Обходит директорию и создает список словарей из JSON файлов.\n",
    "\n",
    "    Аргументы:\n",
    "        directory_path (str): Путь к директории, содержащей JSON файлы.\n",
    "\n",
    "    Возвращает:\n",
    "        list: Список словарей, загруженных из JSON файлов.\n",
    "    \"\"\"\n",
    "    json_data = []\n",
    "    for root, _, files in os.walk(directory_path):\n",
    "        for file in files:\n",
    "            if file.endswith('.json'):\n",
    "                file_path = os.path.join(root, file)\n",
    "                with open(file_path, 'r', encoding='utf-8') as f:\n",
    "                    try:\n",
    "                        data = json.load(f)\n",
    "                        json_data.append(data)\n",
    "                    except json.JSONDecodeError as e:\n",
    "                        print(f\"Error decoding JSON from file {file_path}: {e}\")\n",
    "    return json_data"
   ]
  },
  {
   "cell_type": "code",
   "execution_count": 172,
   "metadata": {},
   "outputs": [],
   "source": [
    "models_dict = load_json_from_directory('first_dataset/')"
   ]
  },
  {
   "cell_type": "markdown",
   "metadata": {},
   "source": [
    "Посмотрим как распределена точность моделей"
   ]
  },
  {
   "cell_type": "code",
   "execution_count": 306,
   "metadata": {},
   "outputs": [
    {
     "data": {
      "image/png": "[encoded data removed]",
      "text/plain": [
       "<Figure size 1000x600 with 1 Axes>"
      ]
     },
     "metadata": {},
     "output_type": "display_data"
    }
   ],
   "source": [
    "accuracies = [model['test_accuracy'] for model in models_dict]\n",
    "\n",
    "plt.figure(figsize=(10, 6))\n",
    "\n",
    "plt.hist(accuracies, bins=20, edgecolor='black')\n",
    "plt.title('Распределение точности моделей')\n",
    "plt.xlabel('Accuracy')\n",
    "plt.ylabel('Frequency')\n",
    "plt.show()"
   ]
  },
  {
   "cell_type": "code",
   "execution_count": 173,
   "metadata": {},
   "outputs": [],
   "source": [
    "def extract_cells(arch_dict):\n",
    "    normal_cell, reduction_cell = [], []\n",
    "    tmp_list = []\n",
    "\n",
    "    for key, value in arch_dict[\"architecture\"].items():\n",
    "        if key.startswith(\"normal/\") or key.startswith(\"reduce/\"):\n",
    "            tmp_list.extend([key, value])\n",
    "\n",
    "        if len(tmp_list) == 4:\n",
    "            tmp_list.pop(2)\n",
    "            if key.startswith(\"normal/\"):\n",
    "                normal_cell.append(tmp_list)\n",
    "            else:\n",
    "                reduction_cell.append(tmp_list)\n",
    "            tmp_list = []\n",
    "\n",
    "    return normal_cell, reduction_cell"
   ]
  },
  {
   "cell_type": "code",
   "execution_count": 225,
   "metadata": {},
   "outputs": [],
   "source": [
    "class Vertex:\n",
    "    def __init__(self, op, in_channel, out_channel):\n",
    "        self.op = op\n",
    "        self.in_channel = in_channel\n",
    "        self.out_channel = out_channel\n",
    "        self.op_one_hot = DARTS_OPS_ONE_HOT[DARTS_OPS.index(op)]\n",
    "\n",
    "    def __str__(self):\n",
    "        return f\"Op: {self.op} | In: {self.in_channel} | Out: {self.out_channel}\"\n",
    "    def __repr__(self):\n",
    "        return self.__str__()"
   ]
  },
  {
   "cell_type": "code",
   "execution_count": null,
   "metadata": {},
   "outputs": [],
   "source": [
    "class GraphDataset(torch.utils.data.Dataset):\n",
    "    def __init__(self, model_dict):\n",
    "        self.model_dict = model_dict\n",
    "        self.normal_cell, self.reduction_cell = extract_cells(model_dict)\n",
    "\n",
    "        self.normal_graph = self.make_graph(self.normal_cell)\n",
    "        self.reduction_graph = self.make_graph(self.reduction_cell)\n",
    "\n",
    "        self.normal_num_vertices, self.reduction_num_vertices = self.__len__()\n",
    "\n",
    "    def __len__(self):\n",
    "        max_normal_out = max(vertex.out_channel for vertex in self.normal_graph)\n",
    "        max_reduction_out = max(vertex.out_channel for vertex in self.reduction_graph)\n",
    "        return (max_normal_out, max_reduction_out)\n",
    "\n",
    "    def make_graph(self, cell):\n",
    "        graph = []\n",
    "        for value in cell:\n",
    "            in_channel = int(value[2][0])\n",
    "            out_channel = int(re.search(r\"op_(\\d+)_\", value[0]).group(1))\n",
    "            op = value[1]\n",
    "            graph.append(Vertex(op, in_channel, out_channel))\n",
    "        graph.append(Vertex(\"none\", 0, 0))\n",
    "        graph.append(Vertex(\"none\", 1, 1))\n",
    "\n",
    "        graph.sort(key=lambda vertex: (vertex.in_channel, vertex.out_channel))\n",
    "\n",
    "        return graph\n",
    "\n",
    "    def show_graph(self, cell_type=\"normal\"):\n",
    "        # Выбираем целевой граф\n",
    "        if cell_type == \"normal\":\n",
    "            graph = self.normal_graph\n",
    "            graph_name = \"Normal Cell\"\n",
    "        else:\n",
    "            graph = self.reduction_graph\n",
    "            graph_name = \"Reduction Cell\"\n",
    "\n",
    "        # Создаем объект Digraph\n",
    "        dot = Digraph(comment=graph_name, format=\"png\")\n",
    "        dot.attr(rankdir=\"TB\")  # Ориентация графа: сверху вниз (TB)\n",
    "\n",
    "        # Добавляем узлы\n",
    "        for idx, vertex in enumerate(graph):\n",
    "            label = (\n",
    "                f\"{{Op: {vertex.op} | \"\n",
    "                f\"In: {vertex.in_channel} | \"\n",
    "                f\"Out: {vertex.out_channel}}}\"\n",
    "            )\n",
    "            dot.node(str(idx), label=label, shape=\"record\")\n",
    "\n",
    "        # Добавляем связи между узлами\n",
    "        connections = set()\n",
    "        for src_idx, src_vertex in enumerate(graph):\n",
    "            for dst_idx, dst_vertex in enumerate(graph):\n",
    "                # Связь существует, если out_channel источника совпадает с in_channel приемника\n",
    "                if src_vertex.out_channel == dst_vertex.in_channel:\n",
    "                    if (src_idx, dst_idx) not in connections:\n",
    "                        dot.edge(str(src_idx), str(dst_idx))\n",
    "                        connections.add((src_idx, dst_idx))\n",
    "\n",
    "        # Рендерим граф в Jupyter Notebook\n",
    "        display(dot)\n",
    "\n",
    "    def get_normal_graph(self):\n",
    "        return self.normal_graph\n",
    "\n",
    "    def get_reduction_graph(self):\n",
    "        return self.reduction_graph\n",
    "\n",
    "    def _get_graph_cell_by_type(self, cell_type=\"normal\"):\n",
    "        if cell_type == \"normal\":\n",
    "            return self.normal_graph, self.normal_cell\n",
    "\n",
    "        return self.reduction_graph, self.reduction_cell\n",
    "\n",
    "    def get_adjacency_matrix(self, cell_type=\"normal\"):\n",
    "        graph, _ = self._get_graph_cell_by_type(cell_type)\n",
    "\n",
    "        if cell_type == \"normal\":\n",
    "            adj_matrix = np.zeros(\n",
    "                shape=(self.normal_num_vertices + 1, self.normal_num_vertices + 1)\n",
    "            )\n",
    "        else:\n",
    "            adj_matrix = np.zeros(\n",
    "                shape=(self.reduction_num_vertices + 1, self.reduction_num_vertices + 1)\n",
    "            )\n",
    "\n",
    "        operations = []\n",
    "        operations_one_hot = []\n",
    "        for vertex in graph:\n",
    "            adj_matrix[vertex.in_channel, vertex.out_channel] = 1\n",
    "            operations.append(vertex.op)\n",
    "            operations_one_hot.append(vertex.op_one_hot)\n",
    "\n",
    "        return adj_matrix, operations, operations_one_hot"
   ]
  },
  {
   "cell_type": "code",
   "execution_count": 305,
   "metadata": {},
   "outputs": [
    {
     "data": {
      "image/svg+xml": [
       "<?xml version=\"1.0\" encoding=\"UTF-8\" standalone=\"no\"?>\n",
       "<!DOCTYPE svg PUBLIC \"-//W3C//DTD SVG 1.1//EN\"\n",
       " \"http://www.w3.org/Graphics/SVG/1.1/DTD/svg11.dtd\">\n",
       "<!-- Generated by graphviz version 2.43.0 (0)\n",
       " -->\n",
       "<!-- Title: %3 Pages: 1 -->\n",
       "<svg width=\"639pt\" height=\"396pt\"\n",
       " viewBox=\"0.00 0.00 639.11 396.00\" xmlns=\"http://www.w3.org/2000/svg\" xmlns:xlink=\"http://www.w3.org/1999/xlink\">\n",
       "<g id=\"graph0\" class=\"graph\" transform=\"scale(1 1) rotate(0) translate(4 392)\">\n",
       "<title>%3</title>\n",
       "<polygon fill=\"white\" stroke=\"transparent\" points=\"-4,4 -4,-392 635.11,-392 635.11,4 -4,4\"/>\n",
       "<!-- 0 -->\n",
       "<g id=\"node1\" class=\"node\">\n",
       "<title>0</title>\n",
       "<polygon fill=\"none\" stroke=\"black\" points=\"443.61,-318.5 443.61,-387.5 523.61,-387.5 523.61,-318.5 443.61,-318.5\"/>\n",
       "<text text-anchor=\"middle\" x=\"483.61\" y=\"-372.3\" font-family=\"Times,serif\" font-size=\"14.00\">Op: none</text>\n",
       "<polyline fill=\"none\" stroke=\"black\" points=\"443.61,-364.5 523.61,-364.5 \"/>\n",
       "<text text-anchor=\"middle\" x=\"483.61\" y=\"-349.3\" font-family=\"Times,serif\" font-size=\"14.00\">In: 0</text>\n",
       "<polyline fill=\"none\" stroke=\"black\" points=\"443.61,-341.5 523.61,-341.5 \"/>\n",
       "<text text-anchor=\"middle\" x=\"483.61\" y=\"-326.3\" font-family=\"Times,serif\" font-size=\"14.00\">Out: 0</text>\n",
       "</g>\n",
       "<!-- 0&#45;&gt;0 -->\n",
       "<g id=\"edge1\" class=\"edge\">\n",
       "<title>0&#45;&gt;0</title>\n",
       "<path fill=\"none\" stroke=\"black\" d=\"M523.73,-372.64C533.95,-371.35 541.61,-364.8 541.61,-353 541.61,-345.44 538.47,-340.04 533.52,-336.79\"/>\n",
       "<polygon fill=\"black\" stroke=\"black\" points=\"534.33,-333.36 523.73,-333.36 532.01,-339.97 534.33,-333.36\"/>\n",
       "</g>\n",
       "<!-- 1 -->\n",
       "<g id=\"node2\" class=\"node\">\n",
       "<title>1</title>\n",
       "<polygon fill=\"none\" stroke=\"black\" points=\"333.11,-212.5 333.11,-281.5 476.11,-281.5 476.11,-212.5 333.11,-212.5\"/>\n",
       "<text text-anchor=\"middle\" x=\"404.61\" y=\"-266.3\" font-family=\"Times,serif\" font-size=\"14.00\">Op: sep_conv_5x5</text>\n",
       "<polyline fill=\"none\" stroke=\"black\" points=\"333.11,-258.5 476.11,-258.5 \"/>\n",
       "<text text-anchor=\"middle\" x=\"404.61\" y=\"-243.3\" font-family=\"Times,serif\" font-size=\"14.00\">In: 0</text>\n",
       "<polyline fill=\"none\" stroke=\"black\" points=\"333.11,-235.5 476.11,-235.5 \"/>\n",
       "<text text-anchor=\"middle\" x=\"404.61\" y=\"-220.3\" font-family=\"Times,serif\" font-size=\"14.00\">Out: 2</text>\n",
       "</g>\n",
       "<!-- 0&#45;&gt;1 -->\n",
       "<g id=\"edge2\" class=\"edge\">\n",
       "<title>0&#45;&gt;1</title>\n",
       "<path fill=\"none\" stroke=\"black\" d=\"M457.97,-318.23C451.07,-309.15 443.52,-299.22 436.33,-289.76\"/>\n",
       "<polygon fill=\"black\" stroke=\"black\" points=\"438.97,-287.44 430.13,-281.6 433.4,-291.68 438.97,-287.44\"/>\n",
       "</g>\n",
       "<!-- 2 -->\n",
       "<g id=\"node3\" class=\"node\">\n",
       "<title>2</title>\n",
       "<polygon fill=\"none\" stroke=\"black\" points=\"494.11,-212.5 494.11,-281.5 631.11,-281.5 631.11,-212.5 494.11,-212.5\"/>\n",
       "<text text-anchor=\"middle\" x=\"562.61\" y=\"-266.3\" font-family=\"Times,serif\" font-size=\"14.00\">Op: skip_connect</text>\n",
       "<polyline fill=\"none\" stroke=\"black\" points=\"494.11,-258.5 631.11,-258.5 \"/>\n",
       "<text text-anchor=\"middle\" x=\"562.61\" y=\"-243.3\" font-family=\"Times,serif\" font-size=\"14.00\">In: 0</text>\n",
       "<polyline fill=\"none\" stroke=\"black\" points=\"494.11,-235.5 631.11,-235.5 \"/>\n",
       "<text text-anchor=\"middle\" x=\"562.61\" y=\"-220.3\" font-family=\"Times,serif\" font-size=\"14.00\">Out: 4</text>\n",
       "</g>\n",
       "<!-- 0&#45;&gt;2 -->\n",
       "<g id=\"edge3\" class=\"edge\">\n",
       "<title>0&#45;&gt;2</title>\n",
       "<path fill=\"none\" stroke=\"black\" d=\"M509.26,-318.23C516.16,-309.15 523.71,-299.22 530.9,-289.76\"/>\n",
       "<polygon fill=\"black\" stroke=\"black\" points=\"533.83,-291.68 537.09,-281.6 528.26,-287.44 533.83,-291.68\"/>\n",
       "</g>\n",
       "<!-- 7 -->\n",
       "<g id=\"node8\" class=\"node\">\n",
       "<title>7</title>\n",
       "<polygon fill=\"none\" stroke=\"black\" points=\"175.11,-106.5 175.11,-175.5 318.11,-175.5 318.11,-106.5 175.11,-106.5\"/>\n",
       "<text text-anchor=\"middle\" x=\"246.61\" y=\"-160.3\" font-family=\"Times,serif\" font-size=\"14.00\">Op: sep_conv_3x3</text>\n",
       "<polyline fill=\"none\" stroke=\"black\" points=\"175.11,-152.5 318.11,-152.5 \"/>\n",
       "<text text-anchor=\"middle\" x=\"246.61\" y=\"-137.3\" font-family=\"Times,serif\" font-size=\"14.00\">In: 2</text>\n",
       "<polyline fill=\"none\" stroke=\"black\" points=\"175.11,-129.5 318.11,-129.5 \"/>\n",
       "<text text-anchor=\"middle\" x=\"246.61\" y=\"-114.3\" font-family=\"Times,serif\" font-size=\"14.00\">Out: 3</text>\n",
       "</g>\n",
       "<!-- 1&#45;&gt;7 -->\n",
       "<g id=\"edge4\" class=\"edge\">\n",
       "<title>1&#45;&gt;7</title>\n",
       "<path fill=\"none\" stroke=\"black\" d=\"M353.32,-212.23C338.26,-202.33 321.67,-191.41 306.15,-181.19\"/>\n",
       "<polygon fill=\"black\" stroke=\"black\" points=\"307.93,-178.17 297.65,-175.6 304.08,-184.02 307.93,-178.17\"/>\n",
       "</g>\n",
       "<!-- 3 -->\n",
       "<g id=\"node4\" class=\"node\">\n",
       "<title>3</title>\n",
       "<polygon fill=\"none\" stroke=\"black\" points=\"49.61,-318.5 49.61,-387.5 129.61,-387.5 129.61,-318.5 49.61,-318.5\"/>\n",
       "<text text-anchor=\"middle\" x=\"89.61\" y=\"-372.3\" font-family=\"Times,serif\" font-size=\"14.00\">Op: none</text>\n",
       "<polyline fill=\"none\" stroke=\"black\" points=\"49.61,-364.5 129.61,-364.5 \"/>\n",
       "<text text-anchor=\"middle\" x=\"89.61\" y=\"-349.3\" font-family=\"Times,serif\" font-size=\"14.00\">In: 1</text>\n",
       "<polyline fill=\"none\" stroke=\"black\" points=\"49.61,-341.5 129.61,-341.5 \"/>\n",
       "<text text-anchor=\"middle\" x=\"89.61\" y=\"-326.3\" font-family=\"Times,serif\" font-size=\"14.00\">Out: 1</text>\n",
       "</g>\n",
       "<!-- 3&#45;&gt;3 -->\n",
       "<g id=\"edge5\" class=\"edge\">\n",
       "<title>3&#45;&gt;3</title>\n",
       "<path fill=\"none\" stroke=\"black\" d=\"M129.73,-372.64C139.95,-371.35 147.61,-364.8 147.61,-353 147.61,-345.44 144.47,-340.04 139.52,-336.79\"/>\n",
       "<polygon fill=\"black\" stroke=\"black\" points=\"140.33,-333.36 129.73,-333.36 138.01,-339.97 140.33,-333.36\"/>\n",
       "</g>\n",
       "<!-- 4 -->\n",
       "<g id=\"node5\" class=\"node\">\n",
       "<title>4</title>\n",
       "<polygon fill=\"none\" stroke=\"black\" points=\"178.11,-212.5 178.11,-281.5 315.11,-281.5 315.11,-212.5 178.11,-212.5\"/>\n",
       "<text text-anchor=\"middle\" x=\"246.61\" y=\"-266.3\" font-family=\"Times,serif\" font-size=\"14.00\">Op: skip_connect</text>\n",
       "<polyline fill=\"none\" stroke=\"black\" points=\"178.11,-258.5 315.11,-258.5 \"/>\n",
       "<text text-anchor=\"middle\" x=\"246.61\" y=\"-243.3\" font-family=\"Times,serif\" font-size=\"14.00\">In: 1</text>\n",
       "<polyline fill=\"none\" stroke=\"black\" points=\"178.11,-235.5 315.11,-235.5 \"/>\n",
       "<text text-anchor=\"middle\" x=\"246.61\" y=\"-220.3\" font-family=\"Times,serif\" font-size=\"14.00\">Out: 2</text>\n",
       "</g>\n",
       "<!-- 3&#45;&gt;4 -->\n",
       "<g id=\"edge6\" class=\"edge\">\n",
       "<title>3&#45;&gt;4</title>\n",
       "<path fill=\"none\" stroke=\"black\" d=\"M129.64,-325.49C147.21,-313.85 168.19,-299.95 187.51,-287.15\"/>\n",
       "<polygon fill=\"black\" stroke=\"black\" points=\"189.55,-290 195.95,-281.56 185.68,-284.16 189.55,-290\"/>\n",
       "</g>\n",
       "<!-- 5 -->\n",
       "<g id=\"node6\" class=\"node\">\n",
       "<title>5</title>\n",
       "<polygon fill=\"none\" stroke=\"black\" points=\"20.11,-106.5 20.11,-175.5 157.11,-175.5 157.11,-106.5 20.11,-106.5\"/>\n",
       "<text text-anchor=\"middle\" x=\"88.61\" y=\"-160.3\" font-family=\"Times,serif\" font-size=\"14.00\">Op: skip_connect</text>\n",
       "<polyline fill=\"none\" stroke=\"black\" points=\"20.11,-152.5 157.11,-152.5 \"/>\n",
       "<text text-anchor=\"middle\" x=\"88.61\" y=\"-137.3\" font-family=\"Times,serif\" font-size=\"14.00\">In: 1</text>\n",
       "<polyline fill=\"none\" stroke=\"black\" points=\"20.11,-129.5 157.11,-129.5 \"/>\n",
       "<text text-anchor=\"middle\" x=\"88.61\" y=\"-114.3\" font-family=\"Times,serif\" font-size=\"14.00\">Out: 3</text>\n",
       "</g>\n",
       "<!-- 3&#45;&gt;5 -->\n",
       "<g id=\"edge7\" class=\"edge\">\n",
       "<title>3&#45;&gt;5</title>\n",
       "<path fill=\"none\" stroke=\"black\" d=\"M49.42,-327.7C33.95,-316.01 18,-300.49 9.61,-282 -3.24,-253.67 -3.15,-240.37 9.61,-212 14.49,-201.16 21.96,-191.33 30.41,-182.68\"/>\n",
       "<polygon fill=\"black\" stroke=\"black\" points=\"32.9,-185.14 37.69,-175.69 28.05,-180.09 32.9,-185.14\"/>\n",
       "</g>\n",
       "<!-- 6 -->\n",
       "<g id=\"node7\" class=\"node\">\n",
       "<title>6</title>\n",
       "<polygon fill=\"none\" stroke=\"black\" points=\"19.11,-212.5 19.11,-281.5 160.11,-281.5 160.11,-212.5 19.11,-212.5\"/>\n",
       "<text text-anchor=\"middle\" x=\"89.61\" y=\"-266.3\" font-family=\"Times,serif\" font-size=\"14.00\">Op: avg_pool_3x3</text>\n",
       "<polyline fill=\"none\" stroke=\"black\" points=\"19.11,-258.5 160.11,-258.5 \"/>\n",
       "<text text-anchor=\"middle\" x=\"89.61\" y=\"-243.3\" font-family=\"Times,serif\" font-size=\"14.00\">In: 1</text>\n",
       "<polyline fill=\"none\" stroke=\"black\" points=\"19.11,-235.5 160.11,-235.5 \"/>\n",
       "<text text-anchor=\"middle\" x=\"89.61\" y=\"-220.3\" font-family=\"Times,serif\" font-size=\"14.00\">Out: 5</text>\n",
       "</g>\n",
       "<!-- 3&#45;&gt;6 -->\n",
       "<g id=\"edge8\" class=\"edge\">\n",
       "<title>3&#45;&gt;6</title>\n",
       "<path fill=\"none\" stroke=\"black\" d=\"M89.61,-318.23C89.61,-309.79 89.61,-300.62 89.61,-291.77\"/>\n",
       "<polygon fill=\"black\" stroke=\"black\" points=\"93.11,-291.6 89.61,-281.6 86.11,-291.6 93.11,-291.6\"/>\n",
       "</g>\n",
       "<!-- 4&#45;&gt;7 -->\n",
       "<g id=\"edge9\" class=\"edge\">\n",
       "<title>4&#45;&gt;7</title>\n",
       "<path fill=\"none\" stroke=\"black\" d=\"M246.61,-212.23C246.61,-203.79 246.61,-194.62 246.61,-185.77\"/>\n",
       "<polygon fill=\"black\" stroke=\"black\" points=\"250.11,-185.6 246.61,-175.6 243.11,-185.6 250.11,-185.6\"/>\n",
       "</g>\n",
       "<!-- 8 -->\n",
       "<g id=\"node9\" class=\"node\">\n",
       "<title>8</title>\n",
       "<polygon fill=\"none\" stroke=\"black\" points=\"20.11,-0.5 20.11,-69.5 157.11,-69.5 157.11,-0.5 20.11,-0.5\"/>\n",
       "<text text-anchor=\"middle\" x=\"88.61\" y=\"-54.3\" font-family=\"Times,serif\" font-size=\"14.00\">Op: skip_connect</text>\n",
       "<polyline fill=\"none\" stroke=\"black\" points=\"20.11,-46.5 157.11,-46.5 \"/>\n",
       "<text text-anchor=\"middle\" x=\"88.61\" y=\"-31.3\" font-family=\"Times,serif\" font-size=\"14.00\">In: 3</text>\n",
       "<polyline fill=\"none\" stroke=\"black\" points=\"20.11,-23.5 157.11,-23.5 \"/>\n",
       "<text text-anchor=\"middle\" x=\"88.61\" y=\"-8.3\" font-family=\"Times,serif\" font-size=\"14.00\">Out: 4</text>\n",
       "</g>\n",
       "<!-- 5&#45;&gt;8 -->\n",
       "<g id=\"edge10\" class=\"edge\">\n",
       "<title>5&#45;&gt;8</title>\n",
       "<path fill=\"none\" stroke=\"black\" d=\"M88.61,-106.23C88.61,-97.79 88.61,-88.62 88.61,-79.77\"/>\n",
       "<polygon fill=\"black\" stroke=\"black\" points=\"92.11,-79.6 88.61,-69.6 85.11,-79.6 92.11,-79.6\"/>\n",
       "</g>\n",
       "<!-- 9 -->\n",
       "<g id=\"node10\" class=\"node\">\n",
       "<title>9</title>\n",
       "<polygon fill=\"none\" stroke=\"black\" points=\"175.11,-0.5 175.11,-69.5 318.11,-69.5 318.11,-0.5 175.11,-0.5\"/>\n",
       "<text text-anchor=\"middle\" x=\"246.61\" y=\"-54.3\" font-family=\"Times,serif\" font-size=\"14.00\">Op: sep_conv_3x3</text>\n",
       "<polyline fill=\"none\" stroke=\"black\" points=\"175.11,-46.5 318.11,-46.5 \"/>\n",
       "<text text-anchor=\"middle\" x=\"246.61\" y=\"-31.3\" font-family=\"Times,serif\" font-size=\"14.00\">In: 3</text>\n",
       "<polyline fill=\"none\" stroke=\"black\" points=\"175.11,-23.5 318.11,-23.5 \"/>\n",
       "<text text-anchor=\"middle\" x=\"246.61\" y=\"-8.3\" font-family=\"Times,serif\" font-size=\"14.00\">Out: 5</text>\n",
       "</g>\n",
       "<!-- 5&#45;&gt;9 -->\n",
       "<g id=\"edge11\" class=\"edge\">\n",
       "<title>5&#45;&gt;9</title>\n",
       "<path fill=\"none\" stroke=\"black\" d=\"M139.91,-106.23C154.97,-96.33 171.56,-85.41 187.08,-75.19\"/>\n",
       "<polygon fill=\"black\" stroke=\"black\" points=\"189.14,-78.02 195.57,-69.6 185.3,-72.17 189.14,-78.02\"/>\n",
       "</g>\n",
       "<!-- 7&#45;&gt;8 -->\n",
       "<g id=\"edge12\" class=\"edge\">\n",
       "<title>7&#45;&gt;8</title>\n",
       "<path fill=\"none\" stroke=\"black\" d=\"M195.32,-106.23C180.26,-96.33 163.67,-85.41 148.15,-75.19\"/>\n",
       "<polygon fill=\"black\" stroke=\"black\" points=\"149.93,-72.17 139.65,-69.6 146.08,-78.02 149.93,-72.17\"/>\n",
       "</g>\n",
       "<!-- 7&#45;&gt;9 -->\n",
       "<g id=\"edge13\" class=\"edge\">\n",
       "<title>7&#45;&gt;9</title>\n",
       "<path fill=\"none\" stroke=\"black\" d=\"M246.61,-106.23C246.61,-97.79 246.61,-88.62 246.61,-79.77\"/>\n",
       "<polygon fill=\"black\" stroke=\"black\" points=\"250.11,-79.6 246.61,-69.6 243.11,-79.6 250.11,-79.6\"/>\n",
       "</g>\n",
       "</g>\n",
       "</svg>\n"
      ],
      "text/plain": [
       "<graphviz.graphs.Digraph at 0x7b056c8919a0>"
      ]
     },
     "metadata": {},
     "output_type": "display_data"
    }
   ],
   "source": [
    "graph = GraphDataset(models_dict[0])\n",
    "graph.show_graph()"
   ]
  },
  {
   "cell_type": "code",
   "execution_count": 246,
   "metadata": {},
   "outputs": [
    {
     "data": {
      "text/plain": [
       "dict_keys(['architecture', 'test_predictions', 'test_accuracy'])"
      ]
     },
     "execution_count": 246,
     "metadata": {},
     "output_type": "execute_result"
    }
   ],
   "source": [
    "models_dict[0].keys()"
   ]
  },
  {
   "cell_type": "code",
   "execution_count": 289,
   "metadata": {},
   "outputs": [],
   "source": [
    "def get_get_diversity(model_dict_1, model_dict_2):\n",
    "    model_1_answers = np.array(model_dict_1[\"test_predictions\"])\n",
    "    model_2_answers = np.array(model_dict_2[\"test_predictions\"])\n",
    "\n",
    "    return np.mean(model_1_answers == model_2_answers)"
   ]
  },
  {
   "cell_type": "code",
   "execution_count": 291,
   "metadata": {},
   "outputs": [
    {
     "name": "stderr",
     "output_type": "stream",
     "text": [
      "100%|██████████| 300/300 [00:58<00:00,  5.11it/s]\n"
     ]
    }
   ],
   "source": [
    "diversity_matrix = np.zeros((len(models_dict), len(models_dict))) + np.eye(\n",
    "    len(models_dict)\n",
    ")\n",
    "\n",
    "for i in tqdm(range(len(models_dict))):\n",
    "    for j in range(i + 1, len(models_dict)):\n",
    "        diversity_matrix[i, j] = get_get_diversity(models_dict[i], models_dict[j])\n",
    "        diversity_matrix[j, i] = diversity_matrix[i, j]"
   ]
  },
  {
   "cell_type": "code",
   "execution_count": 308,
   "metadata": {},
   "outputs": [
    {
     "name": "stderr",
     "output_type": "stream",
     "text": [
      "100%|██████████| 300/300 [00:00<00:00, 19409.99it/s]\n"
     ]
    },
    {
     "data": {
      "image/png": "[encoded data removed]",
      "text/plain": [
       "<Figure size 1000x600 with 1 Axes>"
      ]
     },
     "metadata": {},
     "output_type": "display_data"
    }
   ],
   "source": [
    "diversities = []\n",
    "\n",
    "for i in tqdm(range(len(models_dict))):\n",
    "    for j in range(i + 1, len(models_dict)):\n",
    "        diversities.append(diversity_matrix[i, j])\n",
    "diversities = np.array(diversities)\n",
    "\n",
    "plt.figure(figsize=(10, 6))\n",
    "\n",
    "plt.hist(diversities, bins=20, edgecolor=\"black\")\n",
    "plt.title(\"Распределение разнообразия моделей\")\n",
    "plt.xlabel(\"Процент различий\")\n",
    "plt.ylabel(\"Частота\")\n",
    "plt.grid(axis='y', linestyle='--', alpha=0.7)\n",
    "plt.show()"
   ]
  },
  {
   "cell_type": "code",
   "execution_count": 301,
   "metadata": {},
   "outputs": [],
   "source": [
    "def find_postive_negative(index, models_dict, diversity_matrix):\n",
    "    positive = []\n",
    "    negative = []\n",
    "    margin = np.quantile(diversity_matrix[:, index], 0.75)\n",
    "    print(margin)\n",
    "    for i in range(len(models_dict)):\n",
    "        if diversity_matrix[i, index] > margin:\n",
    "            positive.append(i)\n",
    "        else:\n",
    "            negative.append(i)\n",
    "\n",
    "    return positive, negative"
   ]
  },
  {
   "cell_type": "code",
   "execution_count": 302,
   "metadata": {},
   "outputs": [
    {
     "name": "stdout",
     "output_type": "stream",
     "text": [
      "0.7493\n"
     ]
    }
   ],
   "source": [
    "postive, negative = find_postive_negative(228, models_dict, diversity_matrix)"
   ]
  },
  {
   "cell_type": "code",
   "execution_count": 304,
   "metadata": {},
   "outputs": [
    {
     "name": "stderr",
     "output_type": "stream",
     "text": [
      "100%|██████████| 300/300 [00:00<00:00, 6147.09it/s]\n"
     ]
    }
   ],
   "source": [
    "adj_martrices = []\n",
    "one_hot_operations = []\n",
    "for model in tqdm(models_dict):\n",
    "    graph = GraphDataset(model)\n",
    "    adj_martrices.append(graph.get_adjacency_matrix()[0])\n",
    "    one_hot_operations.append(graph.get_adjacency_matrix()[2])"
   ]
  },
  {
   "cell_type": "code",
   "execution_count": null,
   "metadata": {},
   "outputs": [],
   "source": []
  }
 ],
 "metadata": {
  "kernelspec": {
   "display_name": "usr",
   "language": "python",
   "name": "python3"
  },
  "language_info": {
   "codemirror_mode": {
    "name": "ipython",
    "version": 3
   },
   "file_extension": ".py",
   "mimetype": "text/x-python",
   "name": "python",
   "nbconvert_exporter": "python",
   "pygments_lexer": "ipython3",
   "version": "3.12.3"
  }
 },
 "nbformat": 4,
 "nbformat_minor": 2
}

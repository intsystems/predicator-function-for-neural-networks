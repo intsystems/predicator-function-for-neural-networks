{
 "cells": [
  {
   "cell_type": "markdown",
   "metadata": {},
   "source": [
    "В данном ноутбуке я создам базовый класс, на основе которого обучу сверточную графовую нейронную сеть."
   ]
  },
  {
   "cell_type": "code",
   "execution_count": 26,
   "metadata": {
    "execution": {
     "iopub.execute_input": "2025-04-21T02:24:13.738241Z",
     "iopub.status.busy": "2025-04-21T02:24:13.738021Z",
     "iopub.status.idle": "2025-04-21T02:24:29.255496Z",
     "shell.execute_reply": "2025-04-21T02:24:29.254626Z",
     "shell.execute_reply.started": "2025-04-21T02:24:13.738221Z"
    },
    "trusted": true
   },
   "outputs": [
    {
     "name": "stdout",
     "output_type": "stream",
     "text": [
      "\u001b[1;31merror\u001b[0m: \u001b[1mexternally-managed-environment\u001b[0m\n",
      "\n",
      "\u001b[31m×\u001b[0m This environment is externally managed\n",
      "\u001b[31m╰─>\u001b[0m To install Python packages system-wide, try apt install\n",
      "\u001b[31m   \u001b[0m python3-xyz, where xyz is the package you are trying to\n",
      "\u001b[31m   \u001b[0m install.\n",
      "\u001b[31m   \u001b[0m \n",
      "\u001b[31m   \u001b[0m If you wish to install a non-Debian-packaged Python package,\n",
      "\u001b[31m   \u001b[0m create a virtual environment using python3 -m venv path/to/venv.\n",
      "\u001b[31m   \u001b[0m Then use path/to/venv/bin/python and path/to/venv/bin/pip. Make\n",
      "\u001b[31m   \u001b[0m sure you have python3-full installed.\n",
      "\u001b[31m   \u001b[0m \n",
      "\u001b[31m   \u001b[0m If you wish to install a non-Debian packaged Python application,\n",
      "\u001b[31m   \u001b[0m it may be easiest to use pipx install xyz, which will manage a\n",
      "\u001b[31m   \u001b[0m virtual environment for you. Make sure you have pipx installed.\n",
      "\u001b[31m   \u001b[0m \n",
      "\u001b[31m   \u001b[0m See /usr/share/doc/python3.12/README.venv for more information.\n",
      "\n",
      "\u001b[1;35mnote\u001b[0m: If you believe this is a mistake, please contact your Python installation or OS distribution provider. You can override this, at the risk of breaking your Python installation or OS, by passing --break-system-packages.\n",
      "\u001b[1;36mhint\u001b[0m: See PEP 668 for the detailed specification.\n",
      "\u001b[1;31merror\u001b[0m: \u001b[1mexternally-managed-environment\u001b[0m\n",
      "\n",
      "\u001b[31m×\u001b[0m This environment is externally managed\n",
      "\u001b[31m╰─>\u001b[0m To install Python packages system-wide, try apt install\n",
      "\u001b[31m   \u001b[0m python3-xyz, where xyz is the package you are trying to\n",
      "\u001b[31m   \u001b[0m install.\n",
      "\u001b[31m   \u001b[0m \n",
      "\u001b[31m   \u001b[0m If you wish to install a non-Debian-packaged Python package,\n",
      "\u001b[31m   \u001b[0m create a virtual environment using python3 -m venv path/to/venv.\n",
      "\u001b[31m   \u001b[0m Then use path/to/venv/bin/python and path/to/venv/bin/pip. Make\n",
      "\u001b[31m   \u001b[0m sure you have python3-full installed.\n",
      "\u001b[31m   \u001b[0m \n",
      "\u001b[31m   \u001b[0m If you wish to install a non-Debian packaged Python application,\n",
      "\u001b[31m   \u001b[0m it may be easiest to use pipx install xyz, which will manage a\n",
      "\u001b[31m   \u001b[0m virtual environment for you. Make sure you have pipx installed.\n",
      "\u001b[31m   \u001b[0m \n",
      "\u001b[31m   \u001b[0m See /usr/share/doc/python3.12/README.venv for more information.\n",
      "\n",
      "\u001b[1;35mnote\u001b[0m: If you believe this is a mistake, please contact your Python installation or OS distribution provider. You can override this, at the risk of breaking your Python installation or OS, by passing --break-system-packages.\n",
      "\u001b[1;36mhint\u001b[0m: See PEP 668 for the detailed specification.\n"
     ]
    }
   ],
   "source": [
    "!pip install torch_geometric --quiet\n",
    "!pip install nni --quiet"
   ]
  },
  {
   "cell_type": "markdown",
   "metadata": {},
   "source": [
    "Импортируем необходимые библиотеки"
   ]
  },
  {
   "cell_type": "code",
   "execution_count": 27,
   "metadata": {
    "execution": {
     "iopub.execute_input": "2025-04-21T02:24:29.256717Z",
     "iopub.status.busy": "2025-04-21T02:24:29.256460Z",
     "iopub.status.idle": "2025-04-21T02:24:37.199037Z",
     "shell.execute_reply": "2025-04-21T02:24:37.198383Z",
     "shell.execute_reply.started": "2025-04-21T02:24:29.256696Z"
    },
    "trusted": true
   },
   "outputs": [],
   "source": [
    "import os\n",
    "import json\n",
    "import numpy as np\n",
    "import matplotlib.pyplot as plt\n",
    "from tqdm.notebook import tqdm\n",
    "from sklearn.preprocessing import OneHotEncoder\n",
    "from sklearn.decomposition import PCA\n",
    "from sklearn.cluster import OPTICS\n",
    "from scipy.spatial.distance import cdist\n",
    "from scipy.stats import pearsonr\n",
    "from scipy.spatial.distance import jensenshannon\n",
    "\n",
    "import torch\n",
    "import torch.nn as nn\n",
    "import torch.nn.functional as F\n",
    "from torch.utils.data import Dataset, random_split\n",
    "\n",
    "from torch_geometric.utils import dense_to_sparse\n",
    "\n",
    "from itertools import combinations\n",
    "\n",
    "from multiprocessing import Pool, cpu_count\n",
    "from joblib import Parallel, delayed\n",
    "\n",
    "# Custom imports\n",
    "import sys\n",
    "sys.path.insert(1, \"../input/dependecies\")\n",
    "\n",
    "from Graph import Graph\n",
    "from GCN import (\n",
    "    GCN,\n",
    "    SimpleGCN,\n",
    "    SimpleGAT,\n",
    "    CustomDataset,\n",
    "    train_model_accuracy,\n",
    "    train_model_diversity,\n",
    "    get_positive_and_negative\n",
    ")\n",
    "\n",
    "device = torch.device(\"cuda\" if torch.cuda.is_available() else \"cpu\")"
   ]
  },
  {
   "cell_type": "markdown",
   "metadata": {},
   "source": [
    "Основные операция DARTS search space. Добавил 'none' для начальных вершин."
   ]
  },
  {
   "cell_type": "code",
   "execution_count": 28,
   "metadata": {
    "execution": {
     "iopub.execute_input": "2025-04-21T02:24:37.200084Z",
     "iopub.status.busy": "2025-04-21T02:24:37.199727Z",
     "iopub.status.idle": "2025-04-21T02:24:37.203676Z",
     "shell.execute_reply": "2025-04-21T02:24:37.202899Z",
     "shell.execute_reply.started": "2025-04-21T02:24:37.200063Z"
    },
    "trusted": true
   },
   "outputs": [],
   "source": [
    "\n",
    "DARTS_OPS = [\n",
    "        'none',\n",
    "        'max_pool_3x3',\n",
    "        'avg_pool_3x3',\n",
    "        'skip_connect',\n",
    "        'sep_conv_3x3',\n",
    "        'sep_conv_5x5',\n",
    "        'dil_conv_3x3',\n",
    "        'dil_conv_5x5',\n",
    "    ]\n",
    "\n",
    "encoder = OneHotEncoder(handle_unknown='ignore')\n"
   ]
  },
  {
   "cell_type": "markdown",
   "metadata": {},
   "source": [
    "Для графовой нейронной сети нам необходимо привести операции к числовому виду. Воспользуемся one-hot-encoder."
   ]
  },
  {
   "cell_type": "code",
   "execution_count": 29,
   "metadata": {
    "execution": {
     "iopub.execute_input": "2025-04-21T02:24:37.204711Z",
     "iopub.status.busy": "2025-04-21T02:24:37.204362Z",
     "iopub.status.idle": "2025-04-21T02:24:37.225724Z",
     "shell.execute_reply": "2025-04-21T02:24:37.224927Z",
     "shell.execute_reply.started": "2025-04-21T02:24:37.204663Z"
    },
    "trusted": true
   },
   "outputs": [
    {
     "name": "stdout",
     "output_type": "stream",
     "text": [
      "[[0. 0. 0. 0. 1. 0. 0. 0.]\n",
      " [0. 0. 0. 1. 0. 0. 0. 0.]\n",
      " [1. 0. 0. 0. 0. 0. 0. 0.]\n",
      " [0. 0. 0. 0. 0. 0. 0. 1.]\n",
      " [0. 0. 0. 0. 0. 1. 0. 0.]\n",
      " [0. 0. 0. 0. 0. 0. 1. 0.]\n",
      " [0. 1. 0. 0. 0. 0. 0. 0.]\n",
      " [0. 0. 1. 0. 0. 0. 0. 0.]]\n"
     ]
    }
   ],
   "source": [
    "encoder = OneHotEncoder(handle_unknown='ignore')\n",
    "ops_array = np.array(DARTS_OPS).reshape(-1, 1)\n",
    "\n",
    "DARTS_OPS_ONE_HOT = encoder.fit_transform(ops_array).toarray()\n",
    "\n",
    "print(DARTS_OPS_ONE_HOT)"
   ]
  },
  {
   "cell_type": "markdown",
   "metadata": {},
   "source": [
    "Загрузим архитектуры обученных моделей, их предсказания и точность."
   ]
  },
  {
   "cell_type": "code",
   "execution_count": 30,
   "metadata": {
    "execution": {
     "iopub.execute_input": "2025-04-21T02:24:37.228085Z",
     "iopub.status.busy": "2025-04-21T02:24:37.227870Z",
     "iopub.status.idle": "2025-04-21T02:24:37.239168Z",
     "shell.execute_reply": "2025-04-21T02:24:37.238446Z",
     "shell.execute_reply.started": "2025-04-21T02:24:37.228056Z"
    },
    "trusted": true
   },
   "outputs": [],
   "source": [
    "def load_json_from_directory(directory_path):\n",
    "    \"\"\"\n",
    "    Обходит директорию и создает список словарей из JSON файлов.\n",
    "\n",
    "    Аргументы:\n",
    "        directory_path (str): Путь к директории, содержащей JSON файлы.\n",
    "\n",
    "    Возвращает:\n",
    "        list: Список словарей, загруженных из JSON файлов.\n",
    "    \"\"\"\n",
    "    json_data = []\n",
    "    for root, _, files in os.walk(directory_path):\n",
    "        for file in files:\n",
    "            if file.endswith('.json'):\n",
    "                file_path = os.path.join(root, file)\n",
    "                with open(file_path, 'r', encoding='utf-8') as f:\n",
    "                    try:\n",
    "                        data = json.load(f)\n",
    "                        json_data.append(data)\n",
    "                    except json.JSONDecodeError as e:\n",
    "                        print(f\"Error decoding JSON from file {file_path}: {e}\")\n",
    "    return json_data"
   ]
  },
  {
   "cell_type": "code",
   "execution_count": 33,
   "metadata": {
    "execution": {
     "iopub.execute_input": "2025-04-21T02:24:37.242915Z",
     "iopub.status.busy": "2025-04-21T02:24:37.242667Z",
     "iopub.status.idle": "2025-04-21T02:24:44.147554Z",
     "shell.execute_reply": "2025-04-21T02:24:44.146882Z",
     "shell.execute_reply.started": "2025-04-21T02:24:37.242897Z"
    },
    "trusted": true
   },
   "outputs": [],
   "source": [
    "models_dict = load_json_from_directory('third_dataset')"
   ]
  },
  {
   "cell_type": "markdown",
   "metadata": {},
   "source": [
    "Посмотрю как распределена точность моделей"
   ]
  },
  {
   "cell_type": "code",
   "execution_count": 35,
   "metadata": {
    "execution": {
     "iopub.execute_input": "2025-04-21T02:24:44.148616Z",
     "iopub.status.busy": "2025-04-21T02:24:44.148309Z",
     "iopub.status.idle": "2025-04-21T02:24:44.422901Z",
     "shell.execute_reply": "2025-04-21T02:24:44.422061Z",
     "shell.execute_reply.started": "2025-04-21T02:24:44.148587Z"
    },
    "trusted": true
   },
   "outputs": [
    {
     "data": {
      "image/png": "[encoded data removed]",
      "text/plain": [
       "<Figure size 1000x600 with 1 Axes>"
      ]
     },
     "metadata": {},
     "output_type": "display_data"
    }
   ],
   "source": [
    "accuracies = [model['test_accuracy'] for model in models_dict]\n",
    "\n",
    "plt.figure(figsize=(10, 6))\n",
    "\n",
    "plt.hist(accuracies, bins=20, edgecolor='black', color=\"green\", weights=np.ones(len(accuracies))/len(accuracies)*100)\n",
    "# plt.title('Distribution of Model Accuracies')\n",
    "plt.xlabel('Accuracy', fontsize=18)\n",
    "plt.ylabel('Percentage (%)', fontsize=18)\n",
    "plt.xticks(fontsize=16)\n",
    "plt.yticks(fontsize=16)\n",
    "plt.grid(axis='y', linestyle='--', alpha=0.7)\n",
    "plt.show()"
   ]
  },
  {
   "cell_type": "code",
   "execution_count": null,
   "metadata": {
    "execution": {
     "iopub.execute_input": "2025-04-21T02:24:44.423866Z",
     "iopub.status.busy": "2025-04-21T02:24:44.423644Z",
     "iopub.status.idle": "2025-04-21T02:24:44.427601Z",
     "shell.execute_reply": "2025-04-21T02:24:44.426812Z",
     "shell.execute_reply.started": "2025-04-21T02:24:44.423847Z"
    },
    "trusted": true
   },
   "outputs": [],
   "source": [
    "graph = Graph(models_dict[1])"
   ]
  },
  {
   "cell_type": "markdown",
   "metadata": {},
   "source": [
    "Посмотрю как выглядит граф."
   ]
  },
  {
   "cell_type": "code",
   "execution_count": null,
   "metadata": {
    "execution": {
     "iopub.execute_input": "2025-04-21T02:24:44.428600Z",
     "iopub.status.busy": "2025-04-21T02:24:44.428301Z",
     "iopub.status.idle": "2025-04-21T02:24:44.613190Z",
     "shell.execute_reply": "2025-04-21T02:24:44.612431Z",
     "shell.execute_reply.started": "2025-04-21T02:24:44.428571Z"
    },
    "trusted": true
   },
   "outputs": [
    {
     "data": {
      "image/svg+xml": [
       "<?xml version=\"1.0\" encoding=\"UTF-8\" standalone=\"no\"?>\n",
       "<!DOCTYPE svg PUBLIC \"-//W3C//DTD SVG 1.1//EN\"\n",
       " \"http://www.w3.org/Graphics/SVG/1.1/DTD/svg11.dtd\">\n",
       "<!-- Generated by graphviz version 2.43.0 (0)\n",
       " -->\n",
       "<!-- Title: %3 Pages: 1 -->\n",
       "<svg width=\"605pt\" height=\"820pt\"\n",
       " viewBox=\"0.00 0.00 605.00 820.00\" xmlns=\"http://www.w3.org/2000/svg\" xmlns:xlink=\"http://www.w3.org/1999/xlink\">\n",
       "<g id=\"graph0\" class=\"graph\" transform=\"scale(1 1) rotate(0) translate(4 816)\">\n",
       "<title>%3</title>\n",
       "<polygon fill=\"white\" stroke=\"transparent\" points=\"-4,4 -4,-816 601,-816 601,4 -4,4\"/>\n",
       "<!-- 0 -->\n",
       "<g id=\"node1\" class=\"node\">\n",
       "<title>0</title>\n",
       "<polygon fill=\"none\" stroke=\"black\" points=\"464.5,-742.5 464.5,-811.5 531.5,-811.5 531.5,-742.5 464.5,-742.5\"/>\n",
       "<text text-anchor=\"middle\" x=\"498\" y=\"-796.3\" font-family=\"Times,serif\" font-size=\"14.00\">Op: none</text>\n",
       "<polyline fill=\"none\" stroke=\"black\" points=\"464.5,-788.5 531.5,-788.5 \"/>\n",
       "<text text-anchor=\"middle\" x=\"498\" y=\"-773.3\" font-family=\"Times,serif\" font-size=\"14.00\">In: 0</text>\n",
       "<polyline fill=\"none\" stroke=\"black\" points=\"464.5,-765.5 531.5,-765.5 \"/>\n",
       "<text text-anchor=\"middle\" x=\"498\" y=\"-750.3\" font-family=\"Times,serif\" font-size=\"14.00\">Out: 0</text>\n",
       "</g>\n",
       "<!-- 1 -->\n",
       "<g id=\"node2\" class=\"node\">\n",
       "<title>1</title>\n",
       "<polygon fill=\"none\" stroke=\"black\" points=\"304,-636.5 304,-705.5 422,-705.5 422,-636.5 304,-636.5\"/>\n",
       "<text text-anchor=\"middle\" x=\"363\" y=\"-690.3\" font-family=\"Times,serif\" font-size=\"14.00\">Op: avg_pool_3x3</text>\n",
       "<polyline fill=\"none\" stroke=\"black\" points=\"304,-682.5 422,-682.5 \"/>\n",
       "<text text-anchor=\"middle\" x=\"363\" y=\"-667.3\" font-family=\"Times,serif\" font-size=\"14.00\">In: 0</text>\n",
       "<polyline fill=\"none\" stroke=\"black\" points=\"304,-659.5 422,-659.5 \"/>\n",
       "<text text-anchor=\"middle\" x=\"363\" y=\"-644.3\" font-family=\"Times,serif\" font-size=\"14.00\">Out: 2</text>\n",
       "</g>\n",
       "<!-- 0&#45;&gt;1 -->\n",
       "<g id=\"edge1\" class=\"edge\">\n",
       "<title>0&#45;&gt;1</title>\n",
       "<path fill=\"none\" stroke=\"black\" d=\"M464.28,-750.02C449.32,-738.49 431.36,-724.66 414.76,-711.87\"/>\n",
       "<polygon fill=\"black\" stroke=\"black\" points=\"416.79,-709.02 406.73,-705.69 412.52,-714.57 416.79,-709.02\"/>\n",
       "</g>\n",
       "<!-- 2 -->\n",
       "<g id=\"node3\" class=\"node\">\n",
       "<title>2</title>\n",
       "<polygon fill=\"none\" stroke=\"black\" points=\"439,-530.5 439,-599.5 557,-599.5 557,-530.5 439,-530.5\"/>\n",
       "<text text-anchor=\"middle\" x=\"498\" y=\"-584.3\" font-family=\"Times,serif\" font-size=\"14.00\">Op: avg_pool_3x3</text>\n",
       "<polyline fill=\"none\" stroke=\"black\" points=\"439,-576.5 557,-576.5 \"/>\n",
       "<text text-anchor=\"middle\" x=\"498\" y=\"-561.3\" font-family=\"Times,serif\" font-size=\"14.00\">In: 0</text>\n",
       "<polyline fill=\"none\" stroke=\"black\" points=\"439,-553.5 557,-553.5 \"/>\n",
       "<text text-anchor=\"middle\" x=\"498\" y=\"-538.3\" font-family=\"Times,serif\" font-size=\"14.00\">Out: 4</text>\n",
       "</g>\n",
       "<!-- 0&#45;&gt;2 -->\n",
       "<g id=\"edge2\" class=\"edge\">\n",
       "<title>0&#45;&gt;2</title>\n",
       "<path fill=\"none\" stroke=\"black\" d=\"M498,-742.26C498,-706.29 498,-649.18 498,-609.77\"/>\n",
       "<polygon fill=\"black\" stroke=\"black\" points=\"501.5,-609.66 498,-599.66 494.5,-609.66 501.5,-609.66\"/>\n",
       "</g>\n",
       "<!-- 3 -->\n",
       "<g id=\"node4\" class=\"node\">\n",
       "<title>3</title>\n",
       "<polygon fill=\"none\" stroke=\"black\" points=\"485,-424.5 485,-493.5 597,-493.5 597,-424.5 485,-424.5\"/>\n",
       "<text text-anchor=\"middle\" x=\"541\" y=\"-478.3\" font-family=\"Times,serif\" font-size=\"14.00\">Op: skip_connect</text>\n",
       "<polyline fill=\"none\" stroke=\"black\" points=\"485,-470.5 597,-470.5 \"/>\n",
       "<text text-anchor=\"middle\" x=\"541\" y=\"-455.3\" font-family=\"Times,serif\" font-size=\"14.00\">In: 0</text>\n",
       "<polyline fill=\"none\" stroke=\"black\" points=\"485,-447.5 597,-447.5 \"/>\n",
       "<text text-anchor=\"middle\" x=\"541\" y=\"-432.3\" font-family=\"Times,serif\" font-size=\"14.00\">Out: 5</text>\n",
       "</g>\n",
       "<!-- 0&#45;&gt;3 -->\n",
       "<g id=\"edge3\" class=\"edge\">\n",
       "<title>0&#45;&gt;3</title>\n",
       "<path fill=\"none\" stroke=\"black\" d=\"M515.31,-742.37C532.08,-707.74 556.36,-651.68 566,-600 571.7,-569.42 571.31,-560.65 566,-530 564.46,-521.13 561.91,-511.9 559,-503.16\"/>\n",
       "<polygon fill=\"black\" stroke=\"black\" points=\"562.24,-501.81 555.61,-493.55 555.64,-504.14 562.24,-501.81\"/>\n",
       "</g>\n",
       "<!-- 7 -->\n",
       "<g id=\"node8\" class=\"node\">\n",
       "<title>7</title>\n",
       "<polygon fill=\"none\" stroke=\"black\" points=\"165,-530.5 165,-599.5 287,-599.5 287,-530.5 165,-530.5\"/>\n",
       "<text text-anchor=\"middle\" x=\"226\" y=\"-584.3\" font-family=\"Times,serif\" font-size=\"14.00\">Op: max_pool_3x3</text>\n",
       "<polyline fill=\"none\" stroke=\"black\" points=\"165,-576.5 287,-576.5 \"/>\n",
       "<text text-anchor=\"middle\" x=\"226\" y=\"-561.3\" font-family=\"Times,serif\" font-size=\"14.00\">In: 2</text>\n",
       "<polyline fill=\"none\" stroke=\"black\" points=\"165,-553.5 287,-553.5 \"/>\n",
       "<text text-anchor=\"middle\" x=\"226\" y=\"-538.3\" font-family=\"Times,serif\" font-size=\"14.00\">Out: 3</text>\n",
       "</g>\n",
       "<!-- 1&#45;&gt;7 -->\n",
       "<g id=\"edge4\" class=\"edge\">\n",
       "<title>1&#45;&gt;7</title>\n",
       "<path fill=\"none\" stroke=\"black\" d=\"M318.52,-636.23C305.71,-626.51 291.61,-615.81 278.37,-605.76\"/>\n",
       "<polygon fill=\"black\" stroke=\"black\" points=\"280.34,-602.86 270.26,-599.6 276.11,-608.43 280.34,-602.86\"/>\n",
       "</g>\n",
       "<!-- 8 -->\n",
       "<g id=\"node9\" class=\"node\">\n",
       "<title>8</title>\n",
       "<polygon fill=\"none\" stroke=\"black\" points=\"305.5,-530.5 305.5,-599.5 420.5,-599.5 420.5,-530.5 305.5,-530.5\"/>\n",
       "<text text-anchor=\"middle\" x=\"363\" y=\"-584.3\" font-family=\"Times,serif\" font-size=\"14.00\">Op: dil_conv_5x5</text>\n",
       "<polyline fill=\"none\" stroke=\"black\" points=\"305.5,-576.5 420.5,-576.5 \"/>\n",
       "<text text-anchor=\"middle\" x=\"363\" y=\"-561.3\" font-family=\"Times,serif\" font-size=\"14.00\">In: 2</text>\n",
       "<polyline fill=\"none\" stroke=\"black\" points=\"305.5,-553.5 420.5,-553.5 \"/>\n",
       "<text text-anchor=\"middle\" x=\"363\" y=\"-538.3\" font-family=\"Times,serif\" font-size=\"14.00\">Out: 4</text>\n",
       "</g>\n",
       "<!-- 1&#45;&gt;8 -->\n",
       "<g id=\"edge5\" class=\"edge\">\n",
       "<title>1&#45;&gt;8</title>\n",
       "<path fill=\"none\" stroke=\"black\" d=\"M363,-636.23C363,-627.79 363,-618.62 363,-609.77\"/>\n",
       "<polygon fill=\"black\" stroke=\"black\" points=\"366.5,-609.6 363,-599.6 359.5,-609.6 366.5,-609.6\"/>\n",
       "</g>\n",
       "<!-- 9 -->\n",
       "<g id=\"node10\" class=\"node\">\n",
       "<title>9</title>\n",
       "<polygon fill=\"none\" stroke=\"black\" points=\"303.5,-424.5 303.5,-493.5 422.5,-493.5 422.5,-424.5 303.5,-424.5\"/>\n",
       "<text text-anchor=\"middle\" x=\"363\" y=\"-478.3\" font-family=\"Times,serif\" font-size=\"14.00\">Op: sep_conv_3x3</text>\n",
       "<polyline fill=\"none\" stroke=\"black\" points=\"303.5,-470.5 422.5,-470.5 \"/>\n",
       "<text text-anchor=\"middle\" x=\"363\" y=\"-455.3\" font-family=\"Times,serif\" font-size=\"14.00\">In: 4</text>\n",
       "<polyline fill=\"none\" stroke=\"black\" points=\"303.5,-447.5 422.5,-447.5 \"/>\n",
       "<text text-anchor=\"middle\" x=\"363\" y=\"-432.3\" font-family=\"Times,serif\" font-size=\"14.00\">Out: 5</text>\n",
       "</g>\n",
       "<!-- 2&#45;&gt;9 -->\n",
       "<g id=\"edge6\" class=\"edge\">\n",
       "<title>2&#45;&gt;9</title>\n",
       "<path fill=\"none\" stroke=\"black\" d=\"M454.17,-530.23C441.55,-520.51 427.66,-509.81 414.61,-499.76\"/>\n",
       "<polygon fill=\"black\" stroke=\"black\" points=\"416.67,-496.93 406.61,-493.6 412.4,-502.47 416.67,-496.93\"/>\n",
       "</g>\n",
       "<!-- 10 -->\n",
       "<g id=\"node11\" class=\"node\">\n",
       "<title>10</title>\n",
       "<polygon fill=\"none\" stroke=\"black\" points=\"284.5,-318.5 284.5,-387.5 351.5,-387.5 351.5,-318.5 284.5,-318.5\"/>\n",
       "<text text-anchor=\"middle\" x=\"318\" y=\"-372.3\" font-family=\"Times,serif\" font-size=\"14.00\">Op: none</text>\n",
       "<polyline fill=\"none\" stroke=\"black\" points=\"284.5,-364.5 351.5,-364.5 \"/>\n",
       "<text text-anchor=\"middle\" x=\"318\" y=\"-349.3\" font-family=\"Times,serif\" font-size=\"14.00\">In: 5</text>\n",
       "<polyline fill=\"none\" stroke=\"black\" points=\"284.5,-341.5 351.5,-341.5 \"/>\n",
       "<text text-anchor=\"middle\" x=\"318\" y=\"-326.3\" font-family=\"Times,serif\" font-size=\"14.00\">Out: 5</text>\n",
       "</g>\n",
       "<!-- 3&#45;&gt;10 -->\n",
       "<g id=\"edge7\" class=\"edge\">\n",
       "<title>3&#45;&gt;10</title>\n",
       "<path fill=\"none\" stroke=\"black\" d=\"M484.73,-431.76C446.23,-413.8 395.99,-390.37 360.76,-373.94\"/>\n",
       "<polygon fill=\"black\" stroke=\"black\" points=\"362.24,-370.77 351.69,-369.71 359.28,-377.11 362.24,-370.77\"/>\n",
       "</g>\n",
       "<!-- 4 -->\n",
       "<g id=\"node5\" class=\"node\">\n",
       "<title>4</title>\n",
       "<polygon fill=\"none\" stroke=\"black\" points=\"103.5,-742.5 103.5,-811.5 170.5,-811.5 170.5,-742.5 103.5,-742.5\"/>\n",
       "<text text-anchor=\"middle\" x=\"137\" y=\"-796.3\" font-family=\"Times,serif\" font-size=\"14.00\">Op: none</text>\n",
       "<polyline fill=\"none\" stroke=\"black\" points=\"103.5,-788.5 170.5,-788.5 \"/>\n",
       "<text text-anchor=\"middle\" x=\"137\" y=\"-773.3\" font-family=\"Times,serif\" font-size=\"14.00\">In: 1</text>\n",
       "<polyline fill=\"none\" stroke=\"black\" points=\"103.5,-765.5 170.5,-765.5 \"/>\n",
       "<text text-anchor=\"middle\" x=\"137\" y=\"-750.3\" font-family=\"Times,serif\" font-size=\"14.00\">Out: 1</text>\n",
       "</g>\n",
       "<!-- 5 -->\n",
       "<g id=\"node6\" class=\"node\">\n",
       "<title>5</title>\n",
       "<polygon fill=\"none\" stroke=\"black\" points=\"167,-636.5 167,-705.5 285,-705.5 285,-636.5 167,-636.5\"/>\n",
       "<text text-anchor=\"middle\" x=\"226\" y=\"-690.3\" font-family=\"Times,serif\" font-size=\"14.00\">Op: avg_pool_3x3</text>\n",
       "<polyline fill=\"none\" stroke=\"black\" points=\"167,-682.5 285,-682.5 \"/>\n",
       "<text text-anchor=\"middle\" x=\"226\" y=\"-667.3\" font-family=\"Times,serif\" font-size=\"14.00\">In: 1</text>\n",
       "<polyline fill=\"none\" stroke=\"black\" points=\"167,-659.5 285,-659.5 \"/>\n",
       "<text text-anchor=\"middle\" x=\"226\" y=\"-644.3\" font-family=\"Times,serif\" font-size=\"14.00\">Out: 2</text>\n",
       "</g>\n",
       "<!-- 4&#45;&gt;5 -->\n",
       "<g id=\"edge8\" class=\"edge\">\n",
       "<title>4&#45;&gt;5</title>\n",
       "<path fill=\"none\" stroke=\"black\" d=\"M165.9,-742.23C173.75,-733.06 182.34,-723.02 190.51,-713.47\"/>\n",
       "<polygon fill=\"black\" stroke=\"black\" points=\"193.41,-715.47 197.25,-705.6 188.09,-710.92 193.41,-715.47\"/>\n",
       "</g>\n",
       "<!-- 6 -->\n",
       "<g id=\"node7\" class=\"node\">\n",
       "<title>6</title>\n",
       "<polygon fill=\"none\" stroke=\"black\" points=\"129.5,-424.5 129.5,-493.5 244.5,-493.5 244.5,-424.5 129.5,-424.5\"/>\n",
       "<text text-anchor=\"middle\" x=\"187\" y=\"-478.3\" font-family=\"Times,serif\" font-size=\"14.00\">Op: dil_conv_3x3</text>\n",
       "<polyline fill=\"none\" stroke=\"black\" points=\"129.5,-470.5 244.5,-470.5 \"/>\n",
       "<text text-anchor=\"middle\" x=\"187\" y=\"-455.3\" font-family=\"Times,serif\" font-size=\"14.00\">In: 1</text>\n",
       "<polyline fill=\"none\" stroke=\"black\" points=\"129.5,-447.5 244.5,-447.5 \"/>\n",
       "<text text-anchor=\"middle\" x=\"187\" y=\"-432.3\" font-family=\"Times,serif\" font-size=\"14.00\">Out: 3</text>\n",
       "</g>\n",
       "<!-- 4&#45;&gt;6 -->\n",
       "<g id=\"edge9\" class=\"edge\">\n",
       "<title>4&#45;&gt;6</title>\n",
       "<path fill=\"none\" stroke=\"black\" d=\"M136.03,-742.4C135.44,-694.49 137.31,-604.14 156,-530 158.27,-521.01 161.6,-511.72 165.25,-502.96\"/>\n",
       "<polygon fill=\"black\" stroke=\"black\" points=\"168.5,-504.27 169.3,-493.71 162.09,-501.47 168.5,-504.27\"/>\n",
       "</g>\n",
       "<!-- 13 -->\n",
       "<g id=\"node14\" class=\"node\">\n",
       "<title>13</title>\n",
       "<polygon fill=\"none\" stroke=\"black\" points=\"65.5,-318.5 65.5,-387.5 132.5,-387.5 132.5,-318.5 65.5,-318.5\"/>\n",
       "<text text-anchor=\"middle\" x=\"99\" y=\"-372.3\" font-family=\"Times,serif\" font-size=\"14.00\">Op: none</text>\n",
       "<polyline fill=\"none\" stroke=\"black\" points=\"65.5,-364.5 132.5,-364.5 \"/>\n",
       "<text text-anchor=\"middle\" x=\"99\" y=\"-349.3\" font-family=\"Times,serif\" font-size=\"14.00\">In: 6</text>\n",
       "<polyline fill=\"none\" stroke=\"black\" points=\"65.5,-341.5 132.5,-341.5 \"/>\n",
       "<text text-anchor=\"middle\" x=\"99\" y=\"-326.3\" font-family=\"Times,serif\" font-size=\"14.00\">Out: 6</text>\n",
       "</g>\n",
       "<!-- 4&#45;&gt;13 -->\n",
       "<g id=\"edge10\" class=\"edge\">\n",
       "<title>4&#45;&gt;13</title>\n",
       "<path fill=\"none\" stroke=\"black\" d=\"M133.95,-742.18C127.12,-666.23 110.54,-482.21 102.94,-397.73\"/>\n",
       "<polygon fill=\"black\" stroke=\"black\" points=\"106.42,-397.33 102.03,-387.69 99.44,-397.96 106.42,-397.33\"/>\n",
       "</g>\n",
       "<!-- 5&#45;&gt;7 -->\n",
       "<g id=\"edge11\" class=\"edge\">\n",
       "<title>5&#45;&gt;7</title>\n",
       "<path fill=\"none\" stroke=\"black\" d=\"M226,-636.23C226,-627.79 226,-618.62 226,-609.77\"/>\n",
       "<polygon fill=\"black\" stroke=\"black\" points=\"229.5,-609.6 226,-599.6 222.5,-609.6 229.5,-609.6\"/>\n",
       "</g>\n",
       "<!-- 5&#45;&gt;8 -->\n",
       "<g id=\"edge12\" class=\"edge\">\n",
       "<title>5&#45;&gt;8</title>\n",
       "<path fill=\"none\" stroke=\"black\" d=\"M270.48,-636.23C283.29,-626.51 297.39,-615.81 310.63,-605.76\"/>\n",
       "<polygon fill=\"black\" stroke=\"black\" points=\"312.89,-608.43 318.74,-599.6 308.66,-602.86 312.89,-608.43\"/>\n",
       "</g>\n",
       "<!-- 6&#45;&gt;10 -->\n",
       "<g id=\"edge13\" class=\"edge\">\n",
       "<title>6&#45;&gt;10</title>\n",
       "<path fill=\"none\" stroke=\"black\" d=\"M229.53,-424.23C244.53,-412.32 261.38,-398.95 276.31,-387.1\"/>\n",
       "<polygon fill=\"black\" stroke=\"black\" points=\"278.73,-389.65 284.39,-380.69 274.38,-384.16 278.73,-389.65\"/>\n",
       "</g>\n",
       "<!-- 7&#45;&gt;10 -->\n",
       "<g id=\"edge14\" class=\"edge\">\n",
       "<title>7&#45;&gt;10</title>\n",
       "<path fill=\"none\" stroke=\"black\" d=\"M240.78,-530.26C256.61,-494.13 281.77,-436.7 299.04,-397.27\"/>\n",
       "<polygon fill=\"black\" stroke=\"black\" points=\"302.45,-398.22 303.26,-387.66 296.04,-395.41 302.45,-398.22\"/>\n",
       "</g>\n",
       "<!-- 8&#45;&gt;9 -->\n",
       "<g id=\"edge15\" class=\"edge\">\n",
       "<title>8&#45;&gt;9</title>\n",
       "<path fill=\"none\" stroke=\"black\" d=\"M363,-530.23C363,-521.79 363,-512.62 363,-503.77\"/>\n",
       "<polygon fill=\"black\" stroke=\"black\" points=\"366.5,-503.6 363,-493.6 359.5,-503.6 366.5,-503.6\"/>\n",
       "</g>\n",
       "<!-- 9&#45;&gt;10 -->\n",
       "<g id=\"edge16\" class=\"edge\">\n",
       "<title>9&#45;&gt;10</title>\n",
       "<path fill=\"none\" stroke=\"black\" d=\"M348.39,-424.23C344.62,-415.52 340.51,-406.02 336.57,-396.91\"/>\n",
       "<polygon fill=\"black\" stroke=\"black\" points=\"339.72,-395.38 332.54,-387.6 333.3,-398.16 339.72,-395.38\"/>\n",
       "</g>\n",
       "<!-- 11 -->\n",
       "<g id=\"node12\" class=\"node\">\n",
       "<title>11</title>\n",
       "<polygon fill=\"none\" stroke=\"black\" points=\"173,-212.5 173,-281.5 285,-281.5 285,-212.5 173,-212.5\"/>\n",
       "<text text-anchor=\"middle\" x=\"229\" y=\"-266.3\" font-family=\"Times,serif\" font-size=\"14.00\">Op: skip_connect</text>\n",
       "<polyline fill=\"none\" stroke=\"black\" points=\"173,-258.5 285,-258.5 \"/>\n",
       "<text text-anchor=\"middle\" x=\"229\" y=\"-243.3\" font-family=\"Times,serif\" font-size=\"14.00\">In: 5</text>\n",
       "<polyline fill=\"none\" stroke=\"black\" points=\"173,-235.5 285,-235.5 \"/>\n",
       "<text text-anchor=\"middle\" x=\"229\" y=\"-220.3\" font-family=\"Times,serif\" font-size=\"14.00\">Out: 7</text>\n",
       "</g>\n",
       "<!-- 10&#45;&gt;11 -->\n",
       "<g id=\"edge17\" class=\"edge\">\n",
       "<title>10&#45;&gt;11</title>\n",
       "<path fill=\"none\" stroke=\"black\" d=\"M289.1,-318.23C281.25,-309.06 272.66,-299.02 264.49,-289.47\"/>\n",
       "<polygon fill=\"black\" stroke=\"black\" points=\"266.91,-286.92 257.75,-281.6 261.59,-291.47 266.91,-286.92\"/>\n",
       "</g>\n",
       "<!-- 12 -->\n",
       "<g id=\"node13\" class=\"node\">\n",
       "<title>12</title>\n",
       "<polygon fill=\"none\" stroke=\"black\" points=\"436.5,-212.5 436.5,-281.5 555.5,-281.5 555.5,-212.5 436.5,-212.5\"/>\n",
       "<text text-anchor=\"middle\" x=\"496\" y=\"-266.3\" font-family=\"Times,serif\" font-size=\"14.00\">Op: sep_conv_5x5</text>\n",
       "<polyline fill=\"none\" stroke=\"black\" points=\"436.5,-258.5 555.5,-258.5 \"/>\n",
       "<text text-anchor=\"middle\" x=\"496\" y=\"-243.3\" font-family=\"Times,serif\" font-size=\"14.00\">In: 5</text>\n",
       "<polyline fill=\"none\" stroke=\"black\" points=\"436.5,-235.5 555.5,-235.5 \"/>\n",
       "<text text-anchor=\"middle\" x=\"496\" y=\"-220.3\" font-family=\"Times,serif\" font-size=\"14.00\">Out: 8</text>\n",
       "</g>\n",
       "<!-- 10&#45;&gt;12 -->\n",
       "<g id=\"edge18\" class=\"edge\">\n",
       "<title>10&#45;&gt;12</title>\n",
       "<path fill=\"none\" stroke=\"black\" d=\"M351.9,-332.19C373.83,-319.38 403.12,-302.27 429.57,-286.82\"/>\n",
       "<polygon fill=\"black\" stroke=\"black\" points=\"431.54,-289.71 438.41,-281.65 428.01,-283.67 431.54,-289.71\"/>\n",
       "</g>\n",
       "<!-- 17 -->\n",
       "<g id=\"node18\" class=\"node\">\n",
       "<title>17</title>\n",
       "<polygon fill=\"none\" stroke=\"black\" points=\"171.5,-106.5 171.5,-175.5 286.5,-175.5 286.5,-106.5 171.5,-106.5\"/>\n",
       "<text text-anchor=\"middle\" x=\"229\" y=\"-160.3\" font-family=\"Times,serif\" font-size=\"14.00\">Op: dil_conv_3x3</text>\n",
       "<polyline fill=\"none\" stroke=\"black\" points=\"171.5,-152.5 286.5,-152.5 \"/>\n",
       "<text text-anchor=\"middle\" x=\"229\" y=\"-137.3\" font-family=\"Times,serif\" font-size=\"14.00\">In: 7</text>\n",
       "<polyline fill=\"none\" stroke=\"black\" points=\"171.5,-129.5 286.5,-129.5 \"/>\n",
       "<text text-anchor=\"middle\" x=\"229\" y=\"-114.3\" font-family=\"Times,serif\" font-size=\"14.00\">Out: 9</text>\n",
       "</g>\n",
       "<!-- 11&#45;&gt;17 -->\n",
       "<g id=\"edge19\" class=\"edge\">\n",
       "<title>11&#45;&gt;17</title>\n",
       "<path fill=\"none\" stroke=\"black\" d=\"M229,-212.23C229,-203.79 229,-194.62 229,-185.77\"/>\n",
       "<polygon fill=\"black\" stroke=\"black\" points=\"232.5,-185.6 229,-175.6 225.5,-185.6 232.5,-185.6\"/>\n",
       "</g>\n",
       "<!-- 18 -->\n",
       "<g id=\"node19\" class=\"node\">\n",
       "<title>18</title>\n",
       "<polygon fill=\"none\" stroke=\"black\" points=\"305,-106.5 305,-175.5 417,-175.5 417,-106.5 305,-106.5\"/>\n",
       "<text text-anchor=\"middle\" x=\"361\" y=\"-160.3\" font-family=\"Times,serif\" font-size=\"14.00\">Op: skip_connect</text>\n",
       "<polyline fill=\"none\" stroke=\"black\" points=\"305,-152.5 417,-152.5 \"/>\n",
       "<text text-anchor=\"middle\" x=\"361\" y=\"-137.3\" font-family=\"Times,serif\" font-size=\"14.00\">In: 8</text>\n",
       "<polyline fill=\"none\" stroke=\"black\" points=\"305,-129.5 417,-129.5 \"/>\n",
       "<text text-anchor=\"middle\" x=\"361\" y=\"-114.3\" font-family=\"Times,serif\" font-size=\"14.00\">Out: 9</text>\n",
       "</g>\n",
       "<!-- 12&#45;&gt;18 -->\n",
       "<g id=\"edge20\" class=\"edge\">\n",
       "<title>12&#45;&gt;18</title>\n",
       "<path fill=\"none\" stroke=\"black\" d=\"M452.17,-212.23C439.55,-202.51 425.66,-191.81 412.61,-181.76\"/>\n",
       "<polygon fill=\"black\" stroke=\"black\" points=\"414.67,-178.93 404.61,-175.6 410.4,-184.47 414.67,-178.93\"/>\n",
       "</g>\n",
       "<!-- 19 -->\n",
       "<g id=\"node20\" class=\"node\">\n",
       "<title>19</title>\n",
       "<polygon fill=\"none\" stroke=\"black\" points=\"435,-106.5 435,-175.5 557,-175.5 557,-106.5 435,-106.5\"/>\n",
       "<text text-anchor=\"middle\" x=\"496\" y=\"-160.3\" font-family=\"Times,serif\" font-size=\"14.00\">Op: max_pool_3x3</text>\n",
       "<polyline fill=\"none\" stroke=\"black\" points=\"435,-152.5 557,-152.5 \"/>\n",
       "<text text-anchor=\"middle\" x=\"496\" y=\"-137.3\" font-family=\"Times,serif\" font-size=\"14.00\">In: 8</text>\n",
       "<polyline fill=\"none\" stroke=\"black\" points=\"435,-129.5 557,-129.5 \"/>\n",
       "<text text-anchor=\"middle\" x=\"496\" y=\"-114.3\" font-family=\"Times,serif\" font-size=\"14.00\">Out: 10</text>\n",
       "</g>\n",
       "<!-- 12&#45;&gt;19 -->\n",
       "<g id=\"edge21\" class=\"edge\">\n",
       "<title>12&#45;&gt;19</title>\n",
       "<path fill=\"none\" stroke=\"black\" d=\"M496,-212.23C496,-203.79 496,-194.62 496,-185.77\"/>\n",
       "<polygon fill=\"black\" stroke=\"black\" points=\"499.5,-185.6 496,-175.6 492.5,-185.6 499.5,-185.6\"/>\n",
       "</g>\n",
       "<!-- 14 -->\n",
       "<g id=\"node15\" class=\"node\">\n",
       "<title>14</title>\n",
       "<polygon fill=\"none\" stroke=\"black\" points=\"43,-212.5 43,-281.5 155,-281.5 155,-212.5 43,-212.5\"/>\n",
       "<text text-anchor=\"middle\" x=\"99\" y=\"-266.3\" font-family=\"Times,serif\" font-size=\"14.00\">Op: skip_connect</text>\n",
       "<polyline fill=\"none\" stroke=\"black\" points=\"43,-258.5 155,-258.5 \"/>\n",
       "<text text-anchor=\"middle\" x=\"99\" y=\"-243.3\" font-family=\"Times,serif\" font-size=\"14.00\">In: 6</text>\n",
       "<polyline fill=\"none\" stroke=\"black\" points=\"43,-235.5 155,-235.5 \"/>\n",
       "<text text-anchor=\"middle\" x=\"99\" y=\"-220.3\" font-family=\"Times,serif\" font-size=\"14.00\">Out: 7</text>\n",
       "</g>\n",
       "<!-- 13&#45;&gt;14 -->\n",
       "<g id=\"edge22\" class=\"edge\">\n",
       "<title>13&#45;&gt;14</title>\n",
       "<path fill=\"none\" stroke=\"black\" d=\"M99,-318.23C99,-309.79 99,-300.62 99,-291.77\"/>\n",
       "<polygon fill=\"black\" stroke=\"black\" points=\"102.5,-291.6 99,-281.6 95.5,-291.6 102.5,-291.6\"/>\n",
       "</g>\n",
       "<!-- 15 -->\n",
       "<g id=\"node16\" class=\"node\">\n",
       "<title>15</title>\n",
       "<polygon fill=\"none\" stroke=\"black\" points=\"303.5,-212.5 303.5,-281.5 418.5,-281.5 418.5,-212.5 303.5,-212.5\"/>\n",
       "<text text-anchor=\"middle\" x=\"361\" y=\"-266.3\" font-family=\"Times,serif\" font-size=\"14.00\">Op: dil_conv_5x5</text>\n",
       "<polyline fill=\"none\" stroke=\"black\" points=\"303.5,-258.5 418.5,-258.5 \"/>\n",
       "<text text-anchor=\"middle\" x=\"361\" y=\"-243.3\" font-family=\"Times,serif\" font-size=\"14.00\">In: 6</text>\n",
       "<polyline fill=\"none\" stroke=\"black\" points=\"303.5,-235.5 418.5,-235.5 \"/>\n",
       "<text text-anchor=\"middle\" x=\"361\" y=\"-220.3\" font-family=\"Times,serif\" font-size=\"14.00\">Out: 8</text>\n",
       "</g>\n",
       "<!-- 13&#45;&gt;15 -->\n",
       "<g id=\"edge23\" class=\"edge\">\n",
       "<title>13&#45;&gt;15</title>\n",
       "<path fill=\"none\" stroke=\"black\" d=\"M132.61,-341.35C171.87,-328.6 238.51,-305.93 294,-282 294.1,-281.96 294.19,-281.92 294.29,-281.87\"/>\n",
       "<polygon fill=\"black\" stroke=\"black\" points=\"295.77,-285.05 303.47,-277.77 292.92,-278.65 295.77,-285.05\"/>\n",
       "</g>\n",
       "<!-- 16 -->\n",
       "<g id=\"node17\" class=\"node\">\n",
       "<title>16</title>\n",
       "<polygon fill=\"none\" stroke=\"black\" points=\"0,-106.5 0,-175.5 112,-175.5 112,-106.5 0,-106.5\"/>\n",
       "<text text-anchor=\"middle\" x=\"56\" y=\"-160.3\" font-family=\"Times,serif\" font-size=\"14.00\">Op: skip_connect</text>\n",
       "<polyline fill=\"none\" stroke=\"black\" points=\"0,-152.5 112,-152.5 \"/>\n",
       "<text text-anchor=\"middle\" x=\"56\" y=\"-137.3\" font-family=\"Times,serif\" font-size=\"14.00\">In: 6</text>\n",
       "<polyline fill=\"none\" stroke=\"black\" points=\"0,-129.5 112,-129.5 \"/>\n",
       "<text text-anchor=\"middle\" x=\"56\" y=\"-114.3\" font-family=\"Times,serif\" font-size=\"14.00\">Out: 10</text>\n",
       "</g>\n",
       "<!-- 13&#45;&gt;16 -->\n",
       "<g id=\"edge24\" class=\"edge\">\n",
       "<title>13&#45;&gt;16</title>\n",
       "<path fill=\"none\" stroke=\"black\" d=\"M65.17,-325.25C52.91,-313.46 40.49,-298.52 34,-282 21.81,-250.96 28.69,-213.55 37.87,-185.22\"/>\n",
       "<polygon fill=\"black\" stroke=\"black\" points=\"41.24,-186.19 41.18,-175.6 34.62,-183.91 41.24,-186.19\"/>\n",
       "</g>\n",
       "<!-- 14&#45;&gt;17 -->\n",
       "<g id=\"edge25\" class=\"edge\">\n",
       "<title>14&#45;&gt;17</title>\n",
       "<path fill=\"none\" stroke=\"black\" d=\"M141.21,-212.23C153.25,-202.6 166.49,-192.01 178.95,-182.04\"/>\n",
       "<polygon fill=\"black\" stroke=\"black\" points=\"181.38,-184.58 187,-175.6 177.01,-179.11 181.38,-184.58\"/>\n",
       "</g>\n",
       "<!-- 15&#45;&gt;18 -->\n",
       "<g id=\"edge26\" class=\"edge\">\n",
       "<title>15&#45;&gt;18</title>\n",
       "<path fill=\"none\" stroke=\"black\" d=\"M361,-212.23C361,-203.79 361,-194.62 361,-185.77\"/>\n",
       "<polygon fill=\"black\" stroke=\"black\" points=\"364.5,-185.6 361,-175.6 357.5,-185.6 364.5,-185.6\"/>\n",
       "</g>\n",
       "<!-- 15&#45;&gt;19 -->\n",
       "<g id=\"edge27\" class=\"edge\">\n",
       "<title>15&#45;&gt;19</title>\n",
       "<path fill=\"none\" stroke=\"black\" d=\"M404.83,-212.23C417.45,-202.51 431.34,-191.81 444.39,-181.76\"/>\n",
       "<polygon fill=\"black\" stroke=\"black\" points=\"446.6,-184.47 452.39,-175.6 442.33,-178.93 446.6,-184.47\"/>\n",
       "</g>\n",
       "<!-- 20 -->\n",
       "<g id=\"node21\" class=\"node\">\n",
       "<title>20</title>\n",
       "<polygon fill=\"none\" stroke=\"black\" points=\"261.5,-0.5 261.5,-69.5 328.5,-69.5 328.5,-0.5 261.5,-0.5\"/>\n",
       "<text text-anchor=\"middle\" x=\"295\" y=\"-54.3\" font-family=\"Times,serif\" font-size=\"14.00\">Op: none</text>\n",
       "<polyline fill=\"none\" stroke=\"black\" points=\"261.5,-46.5 328.5,-46.5 \"/>\n",
       "<text text-anchor=\"middle\" x=\"295\" y=\"-31.3\" font-family=\"Times,serif\" font-size=\"14.00\">In: 11</text>\n",
       "<polyline fill=\"none\" stroke=\"black\" points=\"261.5,-23.5 328.5,-23.5 \"/>\n",
       "<text text-anchor=\"middle\" x=\"295\" y=\"-8.3\" font-family=\"Times,serif\" font-size=\"14.00\">Out: 11</text>\n",
       "</g>\n",
       "<!-- 16&#45;&gt;20 -->\n",
       "<g id=\"edge28\" class=\"edge\">\n",
       "<title>16&#45;&gt;20</title>\n",
       "<path fill=\"none\" stroke=\"black\" d=\"M112.03,-115.62C154.77,-97.02 212.76,-71.78 251.91,-54.75\"/>\n",
       "<polygon fill=\"black\" stroke=\"black\" points=\"253.66,-57.8 261.44,-50.6 250.87,-51.39 253.66,-57.8\"/>\n",
       "</g>\n",
       "<!-- 17&#45;&gt;20 -->\n",
       "<g id=\"edge29\" class=\"edge\">\n",
       "<title>17&#45;&gt;20</title>\n",
       "<path fill=\"none\" stroke=\"black\" d=\"M250.43,-106.23C256.13,-97.24 262.37,-87.42 268.32,-78.04\"/>\n",
       "<polygon fill=\"black\" stroke=\"black\" points=\"271.28,-79.92 273.68,-69.6 265.37,-76.16 271.28,-79.92\"/>\n",
       "</g>\n",
       "<!-- 18&#45;&gt;20 -->\n",
       "<g id=\"edge30\" class=\"edge\">\n",
       "<title>18&#45;&gt;20</title>\n",
       "<path fill=\"none\" stroke=\"black\" d=\"M339.57,-106.23C333.87,-97.24 327.63,-87.42 321.68,-78.04\"/>\n",
       "<polygon fill=\"black\" stroke=\"black\" points=\"324.63,-76.16 316.32,-69.6 318.72,-79.92 324.63,-76.16\"/>\n",
       "</g>\n",
       "<!-- 19&#45;&gt;20 -->\n",
       "<g id=\"edge31\" class=\"edge\">\n",
       "<title>19&#45;&gt;20</title>\n",
       "<path fill=\"none\" stroke=\"black\" d=\"M434.87,-108.37C403.54,-92.16 366.13,-72.8 337.89,-58.19\"/>\n",
       "<polygon fill=\"black\" stroke=\"black\" points=\"339.18,-54.92 328.69,-53.43 335.96,-61.13 339.18,-54.92\"/>\n",
       "</g>\n",
       "</g>\n",
       "</svg>\n"
      ],
      "text/plain": [
       "<graphviz.graphs.Digraph at 0x7ac4cdb22260>"
      ]
     },
     "metadata": {},
     "output_type": "display_data"
    }
   ],
   "source": [
    "graph.show_graph()"
   ]
  },
  {
   "cell_type": "code",
   "execution_count": null,
   "metadata": {
    "execution": {
     "iopub.execute_input": "2025-04-21T02:24:44.614170Z",
     "iopub.status.busy": "2025-04-21T02:24:44.613965Z",
     "iopub.status.idle": "2025-04-21T02:24:44.625003Z",
     "shell.execute_reply": "2025-04-21T02:24:44.624277Z",
     "shell.execute_reply.started": "2025-04-21T02:24:44.614151Z"
    },
    "trusted": true
   },
   "outputs": [
    {
     "data": {
      "text/plain": [
       "(array([[0., 1., 1., 1., 0., 0., 0., 0., 0., 0., 0., 0., 0., 0., 0., 0.,\n",
       "         0., 0., 0., 0., 0.],\n",
       "        [0., 0., 0., 0., 0., 0., 0., 1., 1., 0., 0., 0., 0., 0., 0., 0.,\n",
       "         0., 0., 0., 0., 0.],\n",
       "        [0., 0., 0., 0., 0., 0., 0., 0., 0., 1., 0., 0., 0., 0., 0., 0.,\n",
       "         0., 0., 0., 0., 0.],\n",
       "        [0., 0., 0., 0., 0., 0., 0., 0., 0., 0., 1., 0., 0., 0., 0., 0.,\n",
       "         0., 0., 0., 0., 0.],\n",
       "        [0., 0., 0., 0., 0., 1., 1., 0., 0., 0., 0., 0., 0., 1., 0., 0.,\n",
       "         0., 0., 0., 0., 0.],\n",
       "        [0., 0., 0., 0., 0., 0., 0., 1., 1., 0., 0., 0., 0., 0., 0., 0.,\n",
       "         0., 0., 0., 0., 0.],\n",
       "        [0., 0., 0., 0., 0., 0., 0., 0., 0., 0., 1., 0., 0., 0., 0., 0.,\n",
       "         0., 0., 0., 0., 0.],\n",
       "        [0., 0., 0., 0., 0., 0., 0., 0., 0., 0., 1., 0., 0., 0., 0., 0.,\n",
       "         0., 0., 0., 0., 0.],\n",
       "        [0., 0., 0., 0., 0., 0., 0., 0., 0., 1., 0., 0., 0., 0., 0., 0.,\n",
       "         0., 0., 0., 0., 0.],\n",
       "        [0., 0., 0., 0., 0., 0., 0., 0., 0., 0., 1., 0., 0., 0., 0., 0.,\n",
       "         0., 0., 0., 0., 0.],\n",
       "        [0., 0., 0., 0., 0., 0., 0., 0., 0., 0., 0., 1., 1., 0., 0., 0.,\n",
       "         0., 0., 0., 0., 0.],\n",
       "        [0., 0., 0., 0., 0., 0., 0., 0., 0., 0., 0., 0., 0., 0., 0., 0.,\n",
       "         0., 1., 0., 0., 0.],\n",
       "        [0., 0., 0., 0., 0., 0., 0., 0., 0., 0., 0., 0., 0., 0., 0., 0.,\n",
       "         0., 0., 1., 1., 0.],\n",
       "        [0., 0., 0., 0., 0., 0., 0., 0., 0., 0., 0., 0., 0., 0., 1., 1.,\n",
       "         1., 0., 0., 0., 0.],\n",
       "        [0., 0., 0., 0., 0., 0., 0., 0., 0., 0., 0., 0., 0., 0., 0., 0.,\n",
       "         0., 1., 0., 0., 0.],\n",
       "        [0., 0., 0., 0., 0., 0., 0., 0., 0., 0., 0., 0., 0., 0., 0., 0.,\n",
       "         0., 0., 1., 1., 0.],\n",
       "        [0., 0., 0., 0., 0., 0., 0., 0., 0., 0., 0., 0., 0., 0., 0., 0.,\n",
       "         0., 0., 0., 0., 1.],\n",
       "        [0., 0., 0., 0., 0., 0., 0., 0., 0., 0., 0., 0., 0., 0., 0., 0.,\n",
       "         0., 0., 0., 0., 1.],\n",
       "        [0., 0., 0., 0., 0., 0., 0., 0., 0., 0., 0., 0., 0., 0., 0., 0.,\n",
       "         0., 0., 0., 0., 1.],\n",
       "        [0., 0., 0., 0., 0., 0., 0., 0., 0., 0., 0., 0., 0., 0., 0., 0.,\n",
       "         0., 0., 0., 0., 1.],\n",
       "        [0., 0., 0., 0., 0., 0., 0., 0., 0., 0., 0., 0., 0., 0., 0., 0.,\n",
       "         0., 0., 0., 0., 0.]]),\n",
       " ['none',\n",
       "  'avg_pool_3x3',\n",
       "  'avg_pool_3x3',\n",
       "  'skip_connect',\n",
       "  'none',\n",
       "  'avg_pool_3x3',\n",
       "  'dil_conv_3x3',\n",
       "  'max_pool_3x3',\n",
       "  'dil_conv_5x5',\n",
       "  'sep_conv_3x3',\n",
       "  'none',\n",
       "  'skip_connect',\n",
       "  'sep_conv_5x5',\n",
       "  'none',\n",
       "  'skip_connect',\n",
       "  'dil_conv_5x5',\n",
       "  'skip_connect',\n",
       "  'dil_conv_3x3',\n",
       "  'skip_connect',\n",
       "  'max_pool_3x3',\n",
       "  'none'],\n",
       " array([[0., 0., 0., 0., 1., 0., 0., 0.],\n",
       "        [1., 0., 0., 0., 0., 0., 0., 0.],\n",
       "        [1., 0., 0., 0., 0., 0., 0., 0.],\n",
       "        [0., 0., 0., 0., 0., 0., 0., 1.],\n",
       "        [0., 0., 0., 0., 1., 0., 0., 0.],\n",
       "        [1., 0., 0., 0., 0., 0., 0., 0.],\n",
       "        [0., 1., 0., 0., 0., 0., 0., 0.],\n",
       "        [0., 0., 0., 1., 0., 0., 0., 0.],\n",
       "        [0., 0., 1., 0., 0., 0., 0., 0.],\n",
       "        [0., 0., 0., 0., 0., 1., 0., 0.],\n",
       "        [0., 0., 0., 0., 1., 0., 0., 0.],\n",
       "        [0., 0., 0., 0., 0., 0., 0., 1.],\n",
       "        [0., 0., 0., 0., 0., 0., 1., 0.],\n",
       "        [0., 0., 0., 0., 1., 0., 0., 0.],\n",
       "        [0., 0., 0., 0., 0., 0., 0., 1.],\n",
       "        [0., 0., 1., 0., 0., 0., 0., 0.],\n",
       "        [0., 0., 0., 0., 0., 0., 0., 1.],\n",
       "        [0., 1., 0., 0., 0., 0., 0., 0.],\n",
       "        [0., 0., 0., 0., 0., 0., 0., 1.],\n",
       "        [0., 0., 0., 1., 0., 0., 0., 0.],\n",
       "        [0., 0., 0., 0., 1., 0., 0., 0.]]))"
      ]
     },
     "execution_count": 10,
     "metadata": {},
     "output_type": "execute_result"
    }
   ],
   "source": [
    "graph.get_adjacency_matrix()"
   ]
  },
  {
   "cell_type": "code",
   "execution_count": null,
   "metadata": {
    "execution": {
     "iopub.execute_input": "2025-04-21T02:24:44.626016Z",
     "iopub.status.busy": "2025-04-21T02:24:44.625727Z",
     "iopub.status.idle": "2025-04-21T02:24:44.640445Z",
     "shell.execute_reply": "2025-04-21T02:24:44.639870Z",
     "shell.execute_reply.started": "2025-04-21T02:24:44.625986Z"
    },
    "trusted": true
   },
   "outputs": [
    {
     "data": {
      "text/plain": [
       "[Op: none | In: 0 | Out: 0,\n",
       " Op: avg_pool_3x3 | In: 0 | Out: 2,\n",
       " Op: avg_pool_3x3 | In: 0 | Out: 4,\n",
       " Op: skip_connect | In: 0 | Out: 5,\n",
       " Op: none | In: 1 | Out: 1,\n",
       " Op: avg_pool_3x3 | In: 1 | Out: 2,\n",
       " Op: dil_conv_3x3 | In: 1 | Out: 3,\n",
       " Op: max_pool_3x3 | In: 2 | Out: 3,\n",
       " Op: dil_conv_5x5 | In: 2 | Out: 4,\n",
       " Op: sep_conv_3x3 | In: 4 | Out: 5]"
      ]
     },
     "execution_count": 11,
     "metadata": {},
     "output_type": "execute_result"
    }
   ],
   "source": [
    "graph._normal_graph"
   ]
  },
  {
   "cell_type": "code",
   "execution_count": null,
   "metadata": {
    "execution": {
     "iopub.execute_input": "2025-04-21T02:24:44.641458Z",
     "iopub.status.busy": "2025-04-21T02:24:44.641185Z",
     "iopub.status.idle": "2025-04-21T02:24:44.655589Z",
     "shell.execute_reply": "2025-04-21T02:24:44.654933Z",
     "shell.execute_reply.started": "2025-04-21T02:24:44.641430Z"
    },
    "trusted": true
   },
   "outputs": [
    {
     "data": {
      "text/plain": [
       "[Op: none | In: 0 | Out: 0,\n",
       " Op: skip_connect | In: 0 | Out: 2,\n",
       " Op: sep_conv_5x5 | In: 0 | Out: 3,\n",
       " Op: none | In: 1 | Out: 1,\n",
       " Op: skip_connect | In: 1 | Out: 2,\n",
       " Op: dil_conv_5x5 | In: 1 | Out: 3,\n",
       " Op: skip_connect | In: 1 | Out: 5,\n",
       " Op: dil_conv_3x3 | In: 2 | Out: 4,\n",
       " Op: skip_connect | In: 3 | Out: 4,\n",
       " Op: max_pool_3x3 | In: 3 | Out: 5]"
      ]
     },
     "execution_count": 12,
     "metadata": {},
     "output_type": "execute_result"
    }
   ],
   "source": [
    "graph._reduction_graph\n"
   ]
  },
  {
   "cell_type": "markdown",
   "metadata": {},
   "source": [
    "Матрица смежности и описания узлов(сначала в виде строк, потом в виде one-hot векторов) представлены так"
   ]
  },
  {
   "cell_type": "code",
   "execution_count": null,
   "metadata": {
    "execution": {
     "iopub.execute_input": "2025-04-21T02:24:44.656611Z",
     "iopub.status.busy": "2025-04-21T02:24:44.656317Z",
     "iopub.status.idle": "2025-04-21T02:24:44.675276Z",
     "shell.execute_reply": "2025-04-21T02:24:44.674491Z",
     "shell.execute_reply.started": "2025-04-21T02:24:44.656582Z"
    },
    "trusted": true
   },
   "outputs": [
    {
     "data": {
      "text/plain": [
       "(array([[0., 1., 1., 1., 0., 0., 0., 0., 0., 0., 0., 0., 0., 0., 0., 0.,\n",
       "         0., 0., 0., 0., 0.],\n",
       "        [0., 0., 0., 0., 0., 0., 0., 1., 1., 0., 0., 0., 0., 0., 0., 0.,\n",
       "         0., 0., 0., 0., 0.],\n",
       "        [0., 0., 0., 0., 0., 0., 0., 0., 0., 1., 0., 0., 0., 0., 0., 0.,\n",
       "         0., 0., 0., 0., 0.],\n",
       "        [0., 0., 0., 0., 0., 0., 0., 0., 0., 0., 1., 0., 0., 0., 0., 0.,\n",
       "         0., 0., 0., 0., 0.],\n",
       "        [0., 0., 0., 0., 0., 1., 1., 0., 0., 0., 0., 0., 0., 1., 0., 0.,\n",
       "         0., 0., 0., 0., 0.],\n",
       "        [0., 0., 0., 0., 0., 0., 0., 1., 1., 0., 0., 0., 0., 0., 0., 0.,\n",
       "         0., 0., 0., 0., 0.],\n",
       "        [0., 0., 0., 0., 0., 0., 0., 0., 0., 0., 1., 0., 0., 0., 0., 0.,\n",
       "         0., 0., 0., 0., 0.],\n",
       "        [0., 0., 0., 0., 0., 0., 0., 0., 0., 0., 1., 0., 0., 0., 0., 0.,\n",
       "         0., 0., 0., 0., 0.],\n",
       "        [0., 0., 0., 0., 0., 0., 0., 0., 0., 1., 0., 0., 0., 0., 0., 0.,\n",
       "         0., 0., 0., 0., 0.],\n",
       "        [0., 0., 0., 0., 0., 0., 0., 0., 0., 0., 1., 0., 0., 0., 0., 0.,\n",
       "         0., 0., 0., 0., 0.],\n",
       "        [0., 0., 0., 0., 0., 0., 0., 0., 0., 0., 0., 1., 1., 0., 0., 0.,\n",
       "         0., 0., 0., 0., 0.],\n",
       "        [0., 0., 0., 0., 0., 0., 0., 0., 0., 0., 0., 0., 0., 0., 0., 0.,\n",
       "         0., 1., 0., 0., 0.],\n",
       "        [0., 0., 0., 0., 0., 0., 0., 0., 0., 0., 0., 0., 0., 0., 0., 0.,\n",
       "         0., 0., 1., 1., 0.],\n",
       "        [0., 0., 0., 0., 0., 0., 0., 0., 0., 0., 0., 0., 0., 0., 1., 1.,\n",
       "         1., 0., 0., 0., 0.],\n",
       "        [0., 0., 0., 0., 0., 0., 0., 0., 0., 0., 0., 0., 0., 0., 0., 0.,\n",
       "         0., 1., 0., 0., 0.],\n",
       "        [0., 0., 0., 0., 0., 0., 0., 0., 0., 0., 0., 0., 0., 0., 0., 0.,\n",
       "         0., 0., 1., 1., 0.],\n",
       "        [0., 0., 0., 0., 0., 0., 0., 0., 0., 0., 0., 0., 0., 0., 0., 0.,\n",
       "         0., 0., 0., 0., 1.],\n",
       "        [0., 0., 0., 0., 0., 0., 0., 0., 0., 0., 0., 0., 0., 0., 0., 0.,\n",
       "         0., 0., 0., 0., 1.],\n",
       "        [0., 0., 0., 0., 0., 0., 0., 0., 0., 0., 0., 0., 0., 0., 0., 0.,\n",
       "         0., 0., 0., 0., 1.],\n",
       "        [0., 0., 0., 0., 0., 0., 0., 0., 0., 0., 0., 0., 0., 0., 0., 0.,\n",
       "         0., 0., 0., 0., 1.],\n",
       "        [0., 0., 0., 0., 0., 0., 0., 0., 0., 0., 0., 0., 0., 0., 0., 0.,\n",
       "         0., 0., 0., 0., 0.]]),\n",
       " ['none',\n",
       "  'avg_pool_3x3',\n",
       "  'avg_pool_3x3',\n",
       "  'skip_connect',\n",
       "  'none',\n",
       "  'avg_pool_3x3',\n",
       "  'dil_conv_3x3',\n",
       "  'max_pool_3x3',\n",
       "  'dil_conv_5x5',\n",
       "  'sep_conv_3x3',\n",
       "  'none',\n",
       "  'skip_connect',\n",
       "  'sep_conv_5x5',\n",
       "  'none',\n",
       "  'skip_connect',\n",
       "  'dil_conv_5x5',\n",
       "  'skip_connect',\n",
       "  'dil_conv_3x3',\n",
       "  'skip_connect',\n",
       "  'max_pool_3x3',\n",
       "  'none'],\n",
       " array([[0., 0., 0., 0., 1., 0., 0., 0.],\n",
       "        [1., 0., 0., 0., 0., 0., 0., 0.],\n",
       "        [1., 0., 0., 0., 0., 0., 0., 0.],\n",
       "        [0., 0., 0., 0., 0., 0., 0., 1.],\n",
       "        [0., 0., 0., 0., 1., 0., 0., 0.],\n",
       "        [1., 0., 0., 0., 0., 0., 0., 0.],\n",
       "        [0., 1., 0., 0., 0., 0., 0., 0.],\n",
       "        [0., 0., 0., 1., 0., 0., 0., 0.],\n",
       "        [0., 0., 1., 0., 0., 0., 0., 0.],\n",
       "        [0., 0., 0., 0., 0., 1., 0., 0.],\n",
       "        [0., 0., 0., 0., 1., 0., 0., 0.],\n",
       "        [0., 0., 0., 0., 0., 0., 0., 1.],\n",
       "        [0., 0., 0., 0., 0., 0., 1., 0.],\n",
       "        [0., 0., 0., 0., 1., 0., 0., 0.],\n",
       "        [0., 0., 0., 0., 0., 0., 0., 1.],\n",
       "        [0., 0., 1., 0., 0., 0., 0., 0.],\n",
       "        [0., 0., 0., 0., 0., 0., 0., 1.],\n",
       "        [0., 1., 0., 0., 0., 0., 0., 0.],\n",
       "        [0., 0., 0., 0., 0., 0., 0., 1.],\n",
       "        [0., 0., 0., 1., 0., 0., 0., 0.],\n",
       "        [0., 0., 0., 0., 1., 0., 0., 0.]]))"
      ]
     },
     "execution_count": 13,
     "metadata": {},
     "output_type": "execute_result"
    }
   ],
   "source": [
    "graph.get_adjacency_matrix()"
   ]
  },
  {
   "cell_type": "markdown",
   "metadata": {},
   "source": [
    "Рассчитаю разнообразие наивно -- просто буду говорить каков процент совпадений ответов у моделей "
   ]
  },
  {
   "cell_type": "code",
   "execution_count": null,
   "metadata": {
    "execution": {
     "iopub.execute_input": "2025-04-21T02:24:44.679082Z",
     "iopub.status.busy": "2025-04-21T02:24:44.678840Z",
     "iopub.status.idle": "2025-04-21T02:24:44.690373Z",
     "shell.execute_reply": "2025-04-21T02:24:44.689691Z",
     "shell.execute_reply.started": "2025-04-21T02:24:44.679063Z"
    },
    "trusted": true
   },
   "outputs": [],
   "source": [
    "def get_diversity(args):\n",
    "    i, j, model_i, model_j = args\n",
    "    preds_i = np.array(model_i[\"test_predictions\"])\n",
    "    preds_j = np.array(model_j[\"test_predictions\"])\n",
    "    distance = np.mean(preds_i == preds_j)\n",
    "    return (i, j, distance)\n",
    "\n",
    "def get_diversity_js(args):\n",
    "    i, j, model_i, model_j, num_samples = args\n",
    "    indices = np.random.choice(len(model_i[\"test_predictions\"]), num_samples, replace=False)\n",
    "    preds_i = np.array(model_i[\"test_predictions\"])[indices]\n",
    "    preds_j = np.array(model_j[\"test_predictions\"])[indices]\n",
    "    distance = np.mean([jensenshannon(p1, p2) for p1, p2 in zip(preds_i, preds_j)])\n",
    "    return (i, j, distance)"
   ]
  },
  {
   "cell_type": "markdown",
   "metadata": {},
   "source": [
    "Построю матрицу разнообразия"
   ]
  },
  {
   "cell_type": "code",
   "execution_count": null,
   "metadata": {
    "execution": {
     "iopub.execute_input": "2025-04-21T02:24:44.691877Z",
     "iopub.status.busy": "2025-04-21T02:24:44.691650Z",
     "iopub.status.idle": "2025-04-21T02:24:44.705057Z",
     "shell.execute_reply": "2025-04-21T02:24:44.704237Z",
     "shell.execute_reply.started": "2025-04-21T02:24:44.691859Z"
    },
    "trusted": true
   },
   "outputs": [],
   "source": [
    "def get_diversity_matrix_naive(models_dict, num_samples=None):\n",
    "    n_models = len(models_dict)\n",
    "    diversity_matrix = np.eye(n_models)\n",
    "\n",
    "    cached_preds = {}\n",
    "    for i in range(n_models):\n",
    "        preds = np.array(models_dict[i][\"test_predictions\"])\n",
    "        if num_samples is not None:\n",
    "            preds = preds[:num_samples]\n",
    "        cached_preds[i] = preds\n",
    "\n",
    "    for i in tqdm(range(n_models), desc=\"Computing diversity matrix\"):\n",
    "        for j in range(i + 1, n_models):\n",
    "            distance = np.mean(cached_preds[i] == cached_preds[j])\n",
    "            diversity_matrix[i, j] = distance\n",
    "            diversity_matrix[j, i] = distance\n",
    "\n",
    "    return diversity_matrix\n",
    "\n",
    "def get_diversity_matrix_js(models_dict, num_samples=2000):\n",
    "    n_models = len(models_dict)\n",
    "    diversity_matrix = np.eye(n_models)\n",
    "    \n",
    "    cached_preds = {}\n",
    "    for i in range(n_models):\n",
    "        preds = np.array(models_dict[i][\"test_predictions\"])\n",
    "        if num_samples is not None:\n",
    "            preds = preds[:num_samples]\n",
    "        cached_preds[i] = preds\n",
    "    \n",
    "    for i in tqdm(range(n_models), desc=\"Computing diversity matrix\"):\n",
    "        for j in range(i + 1, n_models):\n",
    "            distance = np.mean(jensenshannon(cached_preds[i], cached_preds[j]))\n",
    "            diversity_matrix[i, j] = distance\n",
    "            diversity_matrix[j, i] = distance \n",
    "\n",
    "    return diversity_matrix"
   ]
  },
  {
   "cell_type": "code",
   "execution_count": null,
   "metadata": {
    "execution": {
     "iopub.execute_input": "2025-04-21T02:24:44.705964Z",
     "iopub.status.busy": "2025-04-21T02:24:44.705746Z",
     "iopub.status.idle": "2025-04-21T02:26:19.832219Z",
     "shell.execute_reply": "2025-04-21T02:26:19.831245Z",
     "shell.execute_reply.started": "2025-04-21T02:24:44.705944Z"
    },
    "trusted": true
   },
   "outputs": [
    {
     "data": {
      "application/vnd.jupyter.widget-view+json": {
       "model_id": "a94fde54e18c4ee28a9a7cf4ecbe03ff",
       "version_major": 2,
       "version_minor": 0
      },
      "text/plain": [
       "Computing diversity matrix:   0%|          | 0/1300 [00:00<?, ?it/s]"
      ]
     },
     "metadata": {},
     "output_type": "display_data"
    }
   ],
   "source": [
    "diversity_matrix = get_diversity_matrix_js(models_dict)"
   ]
  },
  {
   "cell_type": "code",
   "execution_count": null,
   "metadata": {
    "execution": {
     "iopub.execute_input": "2025-04-21T02:26:19.833396Z",
     "iopub.status.busy": "2025-04-21T02:26:19.833124Z",
     "iopub.status.idle": "2025-04-21T02:26:20.335931Z",
     "shell.execute_reply": "2025-04-21T02:26:20.335054Z",
     "shell.execute_reply.started": "2025-04-21T02:26:19.833376Z"
    },
    "trusted": true
   },
   "outputs": [
    {
     "data": {
      "application/vnd.jupyter.widget-view+json": {
       "model_id": "2c327e39fbc745149c2f054d6f26d102",
       "version_major": 2,
       "version_minor": 0
      },
      "text/plain": [
       "  0%|          | 0/1300 [00:00<?, ?it/s]"
      ]
     },
     "metadata": {},
     "output_type": "display_data"
    },
    {
     "data": {
      "image/png": "[encoded data removed]",
      "text/plain": [
       "<Figure size 1000x600 with 1 Axes>"
      ]
     },
     "metadata": {},
     "output_type": "display_data"
    }
   ],
   "source": [
    "diversities = []\n",
    "\n",
    "for i in tqdm(range(len(models_dict))):\n",
    "    for j in range(i + 1, len(models_dict)):\n",
    "        diversities.append(diversity_matrix[i, j])\n",
    "diversities = np.array(diversities)\n",
    "\n",
    "plt.figure(figsize=(10, 6))\n",
    "\n",
    "plt.hist(diversities, bins=30, edgecolor=\"black\", weights=np.ones(len(diversities)) / len(diversities))\n",
    "# plt.title(\"Distribution of Model Diversity\")\n",
    "plt.xlabel(\"Percentage of Differences\", fontsize=18)\n",
    "plt.ylabel(\"Percentage\", fontsize=18)\n",
    "plt.grid(axis='y', linestyle='--', alpha=0.7)\n",
    "plt.xticks(fontsize=16)\n",
    "plt.yticks(fontsize=16)\n",
    "plt.show()\n",
    "abort()"
   ]
  },
  {
   "cell_type": "markdown",
   "metadata": {},
   "source": [
    "Для triplet loss нам нужно будет подбирать positive и negative примеры, для этого удобно будет использовать дискретную матрицу разнообразия\n",
    "\n",
    "В ней 1 -- positive, -1 -- negative, 0 в ином случае."
   ]
  },
  {
   "cell_type": "code",
   "execution_count": null,
   "metadata": {
    "execution": {
     "iopub.execute_input": "2025-04-21T02:26:20.337140Z",
     "iopub.status.busy": "2025-04-21T02:26:20.336824Z",
     "iopub.status.idle": "2025-04-21T02:26:20.341795Z",
     "shell.execute_reply": "2025-04-21T02:26:20.340897Z",
     "shell.execute_reply.started": "2025-04-21T02:26:20.337109Z"
    },
    "trusted": true
   },
   "outputs": [],
   "source": [
    "def create_discrete_diversity_matrix(models_dict, diversity_matrix):\n",
    "    discrete_diversity_matrix = np.zeros((len(models_dict), len(models_dict)))\n",
    "\n",
    "    upper_margins = np.quantile(diversity_matrix, 0.9, axis=1)\n",
    "    lower_margins = np.quantile(diversity_matrix, 0.1, axis=1)\n",
    "\n",
    "    discrete_diversity_matrix[diversity_matrix > upper_margins[:, None]] = 1\n",
    "    discrete_diversity_matrix[diversity_matrix < lower_margins[:, None]] = -1\n",
    "\n",
    "    return discrete_diversity_matrix"
   ]
  },
  {
   "cell_type": "code",
   "execution_count": null,
   "metadata": {
    "execution": {
     "iopub.execute_input": "2025-04-21T02:26:20.342908Z",
     "iopub.status.busy": "2025-04-21T02:26:20.342640Z",
     "iopub.status.idle": "2025-04-21T02:26:20.431271Z",
     "shell.execute_reply": "2025-04-21T02:26:20.430627Z",
     "shell.execute_reply.started": "2025-04-21T02:26:20.342888Z"
    },
    "trusted": true
   },
   "outputs": [],
   "source": [
    "discrete_diversity_matrix = create_discrete_diversity_matrix(models_dict, diversity_matrix)"
   ]
  },
  {
   "cell_type": "markdown",
   "metadata": {},
   "source": [
    "Строим тренировочный и валидационный датасеты."
   ]
  },
  {
   "cell_type": "code",
   "execution_count": null,
   "metadata": {
    "execution": {
     "iopub.execute_input": "2025-04-21T02:26:20.432304Z",
     "iopub.status.busy": "2025-04-21T02:26:20.432064Z",
     "iopub.status.idle": "2025-04-21T02:26:23.626065Z",
     "shell.execute_reply": "2025-04-21T02:26:23.625195Z",
     "shell.execute_reply.started": "2025-04-21T02:26:20.432283Z"
    },
    "trusted": true
   },
   "outputs": [
    {
     "name": "stderr",
     "output_type": "stream",
     "text": [
      "100%|██████████| 1300/1300 [00:03<00:00, 424.45it/s]"
     ]
    },
    {
     "name": "stdout",
     "output_type": "stream",
     "text": [
      "Train dataset size: 1040\n",
      "Test dataset size: 260\n"
     ]
    },
    {
     "name": "stderr",
     "output_type": "stream",
     "text": [
      "\n"
     ]
    }
   ],
   "source": [
    "graphs = [Graph(model_dict, index=i) for (i, model_dict) in enumerate(models_dict)]\n",
    "accuracies = [model['test_accuracy'] for model in models_dict]\n",
    "graphs_dataset = CustomDataset(graphs, accuracies)\n",
    "\n",
    "train_size = int(0.8 * len(graphs_dataset))  # 80% для тренировки\n",
    "valid_size = len(graphs_dataset) - train_size  # Остальные 20% для теста\n",
    "\n",
    "train_dataset, valid_dataset = random_split(graphs_dataset, [train_size, valid_size])\n",
    "\n",
    "print(f\"Train dataset size: {len(train_dataset)}\")\n",
    "print(f\"Test dataset size: {len(valid_dataset)}\")"
   ]
  },
  {
   "cell_type": "code",
   "execution_count": null,
   "metadata": {
    "execution": {
     "iopub.execute_input": "2025-04-21T02:26:23.627017Z",
     "iopub.status.busy": "2025-04-21T02:26:23.626808Z",
     "iopub.status.idle": "2025-04-21T02:26:23.631126Z",
     "shell.execute_reply": "2025-04-21T02:26:23.630194Z",
     "shell.execute_reply.started": "2025-04-21T02:26:23.626999Z"
    },
    "trusted": true
   },
   "outputs": [],
   "source": [
    "def triplet_loss(anchor, positive, negative, margin=0.1):\n",
    "    d_ap = (anchor - positive).pow(2).sum(-1)\n",
    "    d_an = (anchor - negative).pow(2).sum(-1)\n",
    "    \n",
    "    loss = F.relu(d_ap - d_an + margin)\n",
    "    return loss.mean()"
   ]
  },
  {
   "cell_type": "code",
   "execution_count": null,
   "metadata": {
    "execution": {
     "iopub.execute_input": "2025-04-21T02:26:23.632315Z",
     "iopub.status.busy": "2025-04-21T02:26:23.632089Z",
     "iopub.status.idle": "2025-04-21T02:26:23.646102Z",
     "shell.execute_reply": "2025-04-21T02:26:23.645328Z",
     "shell.execute_reply.started": "2025-04-21T02:26:23.632296Z"
    },
    "trusted": true
   },
   "outputs": [],
   "source": [
    "def extract_embeddings(model, dataset, device):\n",
    "    model.to(device)\n",
    "    model.eval()\n",
    "    embeddings = []\n",
    "    indices = []\n",
    "    \n",
    "    with torch.no_grad():\n",
    "        for data in dataset:\n",
    "            adj, features, index, _ = data\n",
    "            \n",
    "            # Перемещение данных на GPU (если используется)\n",
    "            adj = adj.to(device)\n",
    "            features = features.to(device)\n",
    "\n",
    "            # Преобразование матрицы смежности в edge_index\n",
    "            edge_index, _ = dense_to_sparse(adj)\n",
    "\n",
    "            # Получение эмбеддинга графа\n",
    "            embedding = model(features, edge_index)\n",
    "\n",
    "            embeddings.append(embedding.cpu().numpy())\n",
    "            indices.append(index)\n",
    "\n",
    "    embeddings = np.vstack(embeddings)\n",
    "    return embeddings, indices"
   ]
  },
  {
   "cell_type": "markdown",
   "metadata": {},
   "source": [
    "Обучим модель предсказывать точность по архитектуре."
   ]
  },
  {
   "cell_type": "code",
   "execution_count": null,
   "metadata": {
    "execution": {
     "iopub.execute_input": "2025-04-21T02:26:23.647112Z",
     "iopub.status.busy": "2025-04-21T02:26:23.646888Z",
     "iopub.status.idle": "2025-04-21T02:26:23.729301Z",
     "shell.execute_reply": "2025-04-21T02:26:23.728756Z",
     "shell.execute_reply.started": "2025-04-21T02:26:23.647093Z"
    },
    "trusted": true
   },
   "outputs": [],
   "source": [
    "input_dim = graphs_dataset[0][1].shape[1]\n",
    "embedding_dim = 64\n",
    "hidden_dim = 256  # Размерность скрытого слоя\n",
    "output_dim = 1\n",
    "num_epochs = 10\n",
    "\n",
    "model_accuracy = GCN(input_dim, output_dim, dropout=0)\n",
    "optimizer = torch.optim.AdamW(model_accuracy.parameters(), lr=2e-4)\n",
    "criterion = nn.MSELoss()  "
   ]
  },
  {
   "cell_type": "code",
   "execution_count": null,
   "metadata": {
    "execution": {
     "iopub.execute_input": "2025-04-21T02:26:23.730421Z",
     "iopub.status.busy": "2025-04-21T02:26:23.730143Z",
     "iopub.status.idle": "2025-04-21T02:27:28.906204Z",
     "shell.execute_reply": "2025-04-21T02:27:28.905389Z",
     "shell.execute_reply.started": "2025-04-21T02:26:23.730393Z"
    },
    "trusted": true
   },
   "outputs": [
    {
     "data": {
      "image/png": "[encoded data removed]",
      "text/plain": [
       "<Figure size 1200x600 with 1 Axes>"
      ]
     },
     "metadata": {},
     "output_type": "display_data"
    },
    {
     "name": "stderr",
     "output_type": "stream",
     "text": [
      "Training Progress: 100%|██████████| 10/10 [01:04<00:00,  6.50s/it]"
     ]
    },
    {
     "name": "stdout",
     "output_type": "stream",
     "text": [
      "Epoch 10, Train Loss: 0.0004, Valid Loss: 0.0005, LR: 0.000050\n"
     ]
    },
    {
     "name": "stderr",
     "output_type": "stream",
     "text": [
      "\n"
     ]
    }
   ],
   "source": [
    "train_model_accuracy(\n",
    "    model_accuracy,\n",
    "    train_dataset,\n",
    "    valid_dataset,\n",
    "    optimizer,\n",
    "    criterion,\n",
    "    num_epochs,\n",
    "    device=device,\n",
    "    developer_mode=False\n",
    ");"
   ]
  },
  {
   "cell_type": "code",
   "execution_count": null,
   "metadata": {
    "execution": {
     "iopub.execute_input": "2025-04-21T02:27:28.907464Z",
     "iopub.status.busy": "2025-04-21T02:27:28.907172Z",
     "iopub.status.idle": "2025-04-21T02:27:29.682997Z",
     "shell.execute_reply": "2025-04-21T02:27:29.682195Z",
     "shell.execute_reply.started": "2025-04-21T02:27:28.907438Z"
    },
    "trusted": true
   },
   "outputs": [
    {
     "name": "stdout",
     "output_type": "stream",
     "text": [
      "Index: 0628, Accuracy: 0.750, Embedding: 0.798\n",
      "Index: 0718, Accuracy: 0.897, Embedding: 0.877\n",
      "Index: 0174, Accuracy: 0.850, Embedding: 0.860\n",
      "Index: 1189, Accuracy: 0.850, Embedding: 0.851\n",
      "Index: 1115, Accuracy: 0.803, Embedding: 0.816\n",
      "Index: 1159, Accuracy: 0.860, Embedding: 0.856\n",
      "Index: 1076, Accuracy: 0.850, Embedding: 0.853\n",
      "Index: 0632, Accuracy: 0.854, Embedding: 0.851\n",
      "Index: 0495, Accuracy: 0.865, Embedding: 0.852\n",
      "Index: 0238, Accuracy: 0.814, Embedding: 0.839\n",
      "Index: 0532, Accuracy: 0.827, Embedding: 0.849\n",
      "Index: 1293, Accuracy: 0.857, Embedding: 0.867\n",
      "Index: 0044, Accuracy: 0.870, Embedding: 0.874\n",
      "Index: 1234, Accuracy: 0.830, Embedding: 0.854\n",
      "Index: 1113, Accuracy: 0.804, Embedding: 0.826\n",
      "Index: 0059, Accuracy: 0.828, Embedding: 0.860\n",
      "Index: 0243, Accuracy: 0.785, Embedding: 0.838\n",
      "Index: 0406, Accuracy: 0.836, Embedding: 0.811\n",
      "Index: 0758, Accuracy: 0.782, Embedding: 0.797\n",
      "Index: 0637, Accuracy: 0.806, Embedding: 0.833\n",
      "Index: 1081, Accuracy: 0.744, Embedding: 0.812\n"
     ]
    }
   ],
   "source": [
    "embeddings = extract_embeddings(model_accuracy, valid_dataset, device=device)[0]\n",
    "for i, (adj, features, index, accuracy) in enumerate(valid_dataset):\n",
    "    print(f\"Index: {index:04d}, Accuracy: {accuracy.item():.3f}, Embedding: {embeddings[i][0]:.3f}\")\n",
    "    if i >= 20:\n",
    "        break"
   ]
  },
  {
   "cell_type": "code",
   "execution_count": null,
   "metadata": {
    "execution": {
     "iopub.execute_input": "2025-04-21T02:27:29.683970Z",
     "iopub.status.busy": "2025-04-21T02:27:29.683742Z",
     "iopub.status.idle": "2025-04-21T02:27:29.695722Z",
     "shell.execute_reply": "2025-04-21T02:27:29.694908Z",
     "shell.execute_reply.started": "2025-04-21T02:27:29.683950Z"
    },
    "trusted": true
   },
   "outputs": [],
   "source": [
    "input_dim = graphs_dataset[0][1].shape[1]\n",
    "hidden_dim = 256  # Размерность скрытого слоя\n",
    "output_dim = 16\n",
    "num_epochs = 30\n",
    "\n",
    "model = GCN(input_dim, output_dim, dropout=0)\n",
    "optimizer = torch.optim.AdamW(model.parameters(), lr=1e-3)\n",
    "criterion = lambda anchor, positive, negative: triplet_loss(anchor, positive, negative, margin=1)"
   ]
  },
  {
   "cell_type": "markdown",
   "metadata": {},
   "source": [
    "Основной код обучения модели похожести."
   ]
  },
  {
   "cell_type": "code",
   "execution_count": null,
   "metadata": {
    "execution": {
     "iopub.execute_input": "2025-04-21T02:27:29.696777Z",
     "iopub.status.busy": "2025-04-21T02:27:29.696484Z",
     "iopub.status.idle": "2025-04-21T02:39:53.083731Z",
     "shell.execute_reply": "2025-04-21T02:39:53.082826Z",
     "shell.execute_reply.started": "2025-04-21T02:27:29.696744Z"
    },
    "trusted": true
   },
   "outputs": [
    {
     "data": {
      "image/png": "[encoded data removed]",
      "text/plain": [
       "<Figure size 1200x600 with 1 Axes>"
      ]
     },
     "metadata": {},
     "output_type": "display_data"
    },
    {
     "name": "stderr",
     "output_type": "stream",
     "text": [
      "Training Progress: 100%|██████████| 30/30 [12:23<00:00, 24.78s/it]"
     ]
    },
    {
     "name": "stdout",
     "output_type": "stream",
     "text": [
      "Epoch 30, Train Loss: 0.6732, Valid Loss: 0.6513, LR: 0.000016\n"
     ]
    },
    {
     "name": "stderr",
     "output_type": "stream",
     "text": [
      "\n"
     ]
    }
   ],
   "source": [
    "train_model_diversity(\n",
    "    model,\n",
    "    train_dataset,\n",
    "    valid_dataset,\n",
    "    discrete_diversity_matrix,\n",
    "    optimizer,\n",
    "    criterion,\n",
    "    num_epochs,\n",
    "    device=device,\n",
    "    developer_mode=False,\n",
    ");"
   ]
  },
  {
   "cell_type": "code",
   "execution_count": null,
   "metadata": {
    "execution": {
     "iopub.execute_input": "2025-04-21T02:39:53.085086Z",
     "iopub.status.busy": "2025-04-21T02:39:53.084760Z",
     "iopub.status.idle": "2025-04-21T02:39:53.091980Z",
     "shell.execute_reply": "2025-04-21T02:39:53.091146Z",
     "shell.execute_reply.started": "2025-04-21T02:39:53.085054Z"
    },
    "trusted": true
   },
   "outputs": [],
   "source": [
    "def visualize_clusters(model, dataset, device=\"cpu\", min_samples=3, xi=0.025, min_cluster_size=3):\n",
    "  \"\"\"\n",
    "  Визуализирует кластеры, используя PCA для уменьшения размерности и OPTICS для кластеризации.\n",
    "\n",
    "  Аргументы:\n",
    "    model: Обученная модель для извлечения эмбеддингов.\n",
    "    train_dataset: Датасет для обучения.\n",
    "    device: Устройство для вычислений (\"cpu\" или \"cuda\").\n",
    "    min_samples: Минимальное количество образцов для формирования кластера в OPTICS.\n",
    "    xi: Параметр для определения устойчивости кластеров в OPTICS.\n",
    "    min_cluster_size: Минимальный размер кластера в OPTICS.\n",
    "  \"\"\"\n",
    "  # Извлечение эмбеддингов\n",
    "  embeddings, indices = extract_embeddings(model, dataset, device=device)\n",
    "  \n",
    "  # Преобразование эмбеддингов в 2D с помощью PCA\n",
    "  pca = PCA(n_components=2)\n",
    "  embeddings_2d = pca.fit_transform(embeddings)\n",
    "\n",
    "  # Кластеризация с помощью OPTICS\n",
    "  optics = OPTICS(min_samples=min_samples, xi=xi, min_cluster_size=min_cluster_size, metric=\"euclidean\")\n",
    "  clusters = optics.fit_predict(embeddings)\n",
    "\n",
    "  # Визуализация кластеров\n",
    "  plt.figure(figsize=(8, 6.5))\n",
    "  scatter = plt.scatter(\n",
    "    embeddings_2d[:, 0], \n",
    "    embeddings_2d[:, 1], \n",
    "    c=clusters, \n",
    "    cmap='tab10',  \n",
    "    s=np.where(clusters == -1, 20, 70),  \n",
    "    alpha=np.where(clusters == -1, 0.5, 1)\n",
    "  )\n",
    "  plt.xlabel(\"PCA Component 1\", fontsize=16)\n",
    "  plt.ylabel(\"PCA Component 2\", fontsize=16)\n",
    "\n",
    "  # Создание легенды для кластеров\n",
    "  unique_clusters = np.unique(clusters)\n",
    "  for cluster in unique_clusters:\n",
    "    if cluster == -1:\n",
    "      label = \"Noise\"\n",
    "    else:\n",
    "      label = f\"Cluster {cluster}\"\n",
    "    plt.scatter([], [], color=scatter.cmap(scatter.norm(cluster)), label=label, s=50 if cluster != -1 else 20)\n",
    "\n",
    "  plt.gca().set_facecolor('lightgrey')\n",
    "  plt.show()\n",
    "\n",
    "  return clusters"
   ]
  },
  {
   "cell_type": "code",
   "execution_count": null,
   "metadata": {
    "execution": {
     "iopub.execute_input": "2025-04-21T02:39:53.093106Z",
     "iopub.status.busy": "2025-04-21T02:39:53.092832Z",
     "iopub.status.idle": "2025-04-21T02:39:54.544245Z",
     "shell.execute_reply": "2025-04-21T02:39:54.543351Z",
     "shell.execute_reply.started": "2025-04-21T02:39:53.093076Z"
    },
    "trusted": true
   },
   "outputs": [
    {
     "data": {
      "image/png": "[encoded data removed]",
      "text/plain": [
       "<Figure size 800x650 with 1 Axes>"
      ]
     },
     "metadata": {},
     "output_type": "display_data"
    }
   ],
   "source": [
    "clusters = visualize_clusters(\n",
    "    model,\n",
    "    valid_dataset,\n",
    "    device=device,\n",
    "    min_samples=3,\n",
    "    xi=0.025,\n",
    "    min_cluster_size=3\n",
    ")"
   ]
  },
  {
   "cell_type": "code",
   "execution_count": null,
   "metadata": {
    "execution": {
     "iopub.execute_input": "2025-04-21T02:39:54.545117Z",
     "iopub.status.busy": "2025-04-21T02:39:54.544909Z",
     "iopub.status.idle": "2025-04-21T02:39:54.555838Z",
     "shell.execute_reply": "2025-04-21T02:39:54.555183Z",
     "shell.execute_reply.started": "2025-04-21T02:39:54.545098Z"
    },
    "trusted": true
   },
   "outputs": [],
   "source": [
    "torch.save(model.state_dict(), \"model_diversity_weights.pth\")\n",
    "torch.save(model_accuracy.state_dict(), \"model_accuracy_weights.pth\")"
   ]
  },
  {
   "cell_type": "code",
   "execution_count": null,
   "metadata": {
    "execution": {
     "iopub.execute_input": "2025-04-21T02:39:54.557011Z",
     "iopub.status.busy": "2025-04-21T02:39:54.556710Z",
     "iopub.status.idle": "2025-04-21T02:39:54.564346Z",
     "shell.execute_reply": "2025-04-21T02:39:54.563766Z",
     "shell.execute_reply.started": "2025-04-21T02:39:54.556982Z"
    },
    "trusted": true
   },
   "outputs": [
    {
     "data": {
      "text/plain": [
       "array([0.7975759], dtype=float32)"
      ]
     },
     "execution_count": 31,
     "metadata": {},
     "output_type": "execute_result"
    }
   ],
   "source": [
    "embeddings[0]"
   ]
  },
  {
   "cell_type": "code",
   "execution_count": null,
   "metadata": {
    "execution": {
     "iopub.execute_input": "2025-04-21T02:39:54.565382Z",
     "iopub.status.busy": "2025-04-21T02:39:54.565108Z",
     "iopub.status.idle": "2025-04-21T02:39:54.612169Z",
     "shell.execute_reply": "2025-04-21T02:39:54.611514Z",
     "shell.execute_reply.started": "2025-04-21T02:39:54.565353Z"
    },
    "trusted": true
   },
   "outputs": [
    {
     "name": "stdout",
     "output_type": "stream",
     "text": [
      "acc_true: 0.804, pred 0.840\n",
      "acc_true: 0.851, pred 0.853\n",
      "acc_true: 0.858, pred 0.851\n",
      "acc_true: 0.854, pred 0.855\n",
      "acc_true: 0.857, pred 0.846\n",
      "acc_true: 0.836, pred 0.849\n",
      "acc_true: 0.735, pred 0.849\n",
      "acc_true: 0.761, pred 0.843\n",
      "acc_true: 0.865, pred 0.846\n",
      "acc_true: 0.853, pred 0.839\n"
     ]
    }
   ],
   "source": [
    "max_cluster = np.max(clusters)\n",
    "cluster_indexes = [np.where(clusters == i)[0] for i in range(max_cluster + 1)]\n",
    "cluster_indexes = sorted(cluster_indexes, key=len, reverse=True)\n",
    "cluster_indexes = cluster_indexes[0]\n",
    "embeddings, indices = extract_embeddings(\n",
    "model_accuracy,\n",
    "graphs_dataset[cluster_indexes],\n",
    "device=device,\n",
    ")\n",
    "\n",
    "for embedding, index in zip(embeddings, indices):\n",
    "    print(f\"acc_true: {valid_dataset[index][3]:.3f}, pred {embedding[0]:.3f}\")"
   ]
  },
  {
   "cell_type": "code",
   "execution_count": null,
   "metadata": {
    "execution": {
     "iopub.execute_input": "2025-04-21T02:39:54.613164Z",
     "iopub.status.busy": "2025-04-21T02:39:54.612885Z",
     "iopub.status.idle": "2025-04-21T02:39:54.619411Z",
     "shell.execute_reply": "2025-04-21T02:39:54.618682Z",
     "shell.execute_reply.started": "2025-04-21T02:39:54.613144Z"
    },
    "trusted": true
   },
   "outputs": [],
   "source": [
    "def compute_correlation(models_dict, dataset, model, diversity_matrix, device=\"cpu\"):\n",
    "    model.to(device)\n",
    "    model.eval()\n",
    "\n",
    "    N = len(dataset)\n",
    "    embeddings = []\n",
    "\n",
    "    with torch.no_grad():\n",
    "        for adj, features, index, _ in dataset:\n",
    "            adj, features = adj.to(device), features.to(device)\n",
    "\n",
    "            edge_index, _ = dense_to_sparse(adj)\n",
    "\n",
    "            embedding = model(features, edge_index).cpu().numpy()\n",
    "            embeddings.append(embedding)\n",
    "\n",
    "    embeddings = np.array(embeddings)\n",
    "\n",
    "    distance_matrix = cdist(embeddings, embeddings, metric=\"euclidean\")\n",
    "\n",
    "    architectures = [models_dict[index] for index in dataset.indices]\n",
    "\n",
    "    similarity_matrix = np.zeros((N, N))\n",
    "    for i in tqdm(range(N), desc=\"Computing similarity matrix\"):\n",
    "        for j in range(i + 1, N):\n",
    "            arch_i_index = dataset[i][2]\n",
    "            arch_j_index = dataset[j][2]\n",
    "            \n",
    "            similarity_matrix[i, j] = diversity_matrix[arch_i_index, arch_j_index]\n",
    "            similarity_matrix[j, i] = similarity_matrix[i, j]\n",
    "\n",
    "    triu_indices = np.triu_indices(N, k=1)\n",
    "\n",
    "    similarity_values = similarity_matrix[triu_indices]\n",
    "    embedding_distances = distance_matrix[triu_indices]\n",
    "\n",
    "    correlation, _ = pearsonr(embedding_distances, similarity_values)\n",
    "\n",
    "    return correlation"
   ]
  },
  {
   "cell_type": "markdown",
   "metadata": {},
   "source": [
    "Рассчитаю корреляции"
   ]
  },
  {
   "cell_type": "code",
   "execution_count": null,
   "metadata": {
    "execution": {
     "iopub.execute_input": "2025-04-21T02:39:54.620358Z",
     "iopub.status.busy": "2025-04-21T02:39:54.620173Z",
     "iopub.status.idle": "2025-04-21T02:39:55.603885Z",
     "shell.execute_reply": "2025-04-21T02:39:55.603136Z",
     "shell.execute_reply.started": "2025-04-21T02:39:54.620342Z"
    },
    "trusted": true
   },
   "outputs": [
    {
     "data": {
      "application/vnd.jupyter.widget-view+json": {
       "model_id": "445254d7a374437aa51cd20d10483c1a",
       "version_major": 2,
       "version_minor": 0
      },
      "text/plain": [
       "Computing similarity matrix:   0%|          | 0/260 [00:00<?, ?it/s]"
      ]
     },
     "metadata": {},
     "output_type": "display_data"
    },
    {
     "name": "stdout",
     "output_type": "stream",
     "text": [
      "Корреляция Пирсона: -0.261\n"
     ]
    }
   ],
   "source": [
    "pearson_correlation = compute_correlation(models_dict, valid_dataset, model, diversity_matrix, device=device)\n",
    "\n",
    "print(f\"Корреляция Пирсона: {pearson_correlation:.3f}\")"
   ]
  },
  {
   "cell_type": "code",
   "execution_count": null,
   "metadata": {
    "execution": {
     "iopub.execute_input": "2025-04-21T02:39:55.605056Z",
     "iopub.status.busy": "2025-04-21T02:39:55.604733Z",
     "iopub.status.idle": "2025-04-21T02:39:55.626810Z",
     "shell.execute_reply": "2025-04-21T02:39:55.626169Z",
     "shell.execute_reply.started": "2025-04-21T02:39:55.605025Z"
    },
    "trusted": true
   },
   "outputs": [
    {
     "name": "stdout",
     "output_type": "stream",
     "text": [
      "Cluster 0:\n",
      "  Mean Positive Diversity: 0.1928\n",
      "  Mean Negative Diversity: 0.1656\n",
      "Cluster 1:\n",
      "  Mean Positive Diversity: 0.1820\n",
      "  Mean Negative Diversity: 0.1553\n",
      "Cluster 2:\n",
      "  Mean Positive Diversity: 0.1908\n",
      "  Mean Negative Diversity: 0.1492\n",
      "Cluster 3:\n",
      "  Mean Positive Diversity: 0.1879\n",
      "  Mean Negative Diversity: 0.1556\n",
      "Cluster 4:\n",
      "  Mean Positive Diversity: 0.1943\n",
      "  Mean Negative Diversity: 0.1568\n",
      "Cluster 5:\n",
      "  Mean Positive Diversity: 0.1854\n",
      "  Mean Negative Diversity: 0.1496\n",
      "Cluster 6:\n",
      "  Mean Positive Diversity: 0.1911\n",
      "  Mean Negative Diversity: 0.1500\n",
      "Cluster 7:\n",
      "  Mean Positive Diversity: 0.1912\n",
      "  Mean Negative Diversity: 0.1597\n",
      "Cluster 8:\n",
      "  Mean Positive Diversity: 0.1910\n",
      "  Mean Negative Diversity: 0.1546\n",
      "Cluster 9:\n",
      "  Mean Positive Diversity: 0.1902\n",
      "  Mean Negative Diversity: 0.1613\n",
      "Cluster 10:\n",
      "  Mean Positive Diversity: 0.1863\n",
      "  Mean Negative Diversity: 0.1460\n"
     ]
    }
   ],
   "source": [
    "def compute_cluster_mean_diversities(\n",
    "    clusters: np.ndarray,\n",
    "    diversity_matrix: np.ndarray,\n",
    "    discrete_diversity_matrix: np.ndarray,\n",
    "    min_samples: int = 10,\n",
    "):\n",
    "    \"\"\"\n",
    "    Для каждого кластера берёт «якорную» архитектуру (первый элемент кластера),\n",
    "    затем в min_samples раз выбирает положительную и отрицательную архитектуры\n",
    "    через get_positive_and_negative (по discrete_diversity_matrix),\n",
    "    и усредняет заранее посчитанные отношения разнообразия из diversity_matrix.\n",
    "    \"\"\"\n",
    "    n_clusters = len(set(clusters))\n",
    "    \n",
    "    for i in range(n_clusters):\n",
    "        # индексы объектов, попавших в кластер i\n",
    "        cluster_idxs = np.where(clusters == i)[0]\n",
    "        if len(cluster_idxs) < 2:\n",
    "            print(f\"Cluster {i}: not enough samples.\")\n",
    "            continue\n",
    "        \n",
    "        anchor = cluster_idxs[0]\n",
    "        pos_divs, neg_divs = [], []\n",
    "        \n",
    "        for _ in range(min_samples):\n",
    "            positive, negative = get_positive_and_negative(discrete_diversity_matrix, anchor)\n",
    "            if positive is None or negative is None:\n",
    "                # пропускаем, если не удалось найти пару\n",
    "                continue\n",
    "            \n",
    "            # вместо вызова get_diversity_js просто берём готовое значение\n",
    "            pos_divs.append(diversity_matrix[anchor, positive])\n",
    "            neg_divs.append(diversity_matrix[anchor, negative])\n",
    "        \n",
    "        mean_pos = np.mean(pos_divs) if pos_divs else None\n",
    "        mean_neg = np.mean(neg_divs) if neg_divs else None\n",
    "        \n",
    "        print(f\"Cluster {i}:\")\n",
    "        if mean_pos is not None:\n",
    "            print(f\"  Mean Positive Diversity: {mean_pos:.4f}\")\n",
    "        else:\n",
    "            print(\"  No positive diversity data available.\")\n",
    "        \n",
    "        if mean_neg is not None:\n",
    "            print(f\"  Mean Negative Diversity: {mean_neg:.4f}\")\n",
    "        else:\n",
    "            print(\"  No negative diversity data available.\")\n",
    "        \n",
    "        # ограничиваем вывод первыми 11 кластерами\n",
    "        if i >= 10:\n",
    "            break\n",
    "            \n",
    "compute_cluster_mean_diversities(\n",
    "    clusters,\n",
    "    diversity_matrix,\n",
    "    discrete_diversity_matrix,\n",
    "    min_samples=10,\n",
    ")"
   ]
  },
  {
   "cell_type": "code",
   "execution_count": null,
   "metadata": {
    "execution": {
     "iopub.execute_input": "2025-04-21T02:39:55.627727Z",
     "iopub.status.busy": "2025-04-21T02:39:55.627495Z",
     "iopub.status.idle": "2025-04-21T02:39:55.634216Z",
     "shell.execute_reply": "2025-04-21T02:39:55.633411Z",
     "shell.execute_reply.started": "2025-04-21T02:39:55.627703Z"
    },
    "trusted": true
   },
   "outputs": [
    {
     "name": "stdout",
     "output_type": "stream",
     "text": [
      "Средняя похожесть внутри первого кластера: 0.1602\n",
      "Средняя похожесть между первым и вторым кластерами: 0.1674\n"
     ]
    }
   ],
   "source": [
    "# Индексы кластеров\n",
    "cluster_1_indexes = np.where(clusters == 1)[0]\n",
    "cluster_2_indexes = np.where(clusters == 2)[0]\n",
    "\n",
    "# ====== Средняя похожесть внутри первого кластера ======\n",
    "n1 = len(cluster_1_indexes)\n",
    "if n1 > 1:\n",
    "    # Выбираем подматрицу diversity_matrix для кластер 1\n",
    "    submat_1 = diversity_matrix[np.ix_(cluster_1_indexes, cluster_1_indexes)]\n",
    "    # Берём только верхний треугольник без диагонали\n",
    "    triu_i, triu_j = np.triu_indices(n1, k=1)\n",
    "    sims_within_1 = submat_1[triu_i, triu_j]\n",
    "    mean_similarity_within_cluster_1 = np.mean(sims_within_1)\n",
    "else:\n",
    "    mean_similarity_within_cluster_1 = None\n",
    "\n",
    "# ====== Средняя похожесть между кластерами 1 и 2 ======\n",
    "if len(cluster_1_indexes) > 0 and len(cluster_2_indexes) > 0:\n",
    "    sims_between = diversity_matrix[np.ix_(cluster_1_indexes, cluster_2_indexes)]\n",
    "    mean_similarity_between_clusters = np.mean(sims_between)\n",
    "else:\n",
    "    mean_similarity_between_clusters = None\n",
    "\n",
    "# ====== Результаты ======\n",
    "if mean_similarity_within_cluster_1 is not None:\n",
    "    print(f\"Средняя похожесть внутри первого кластера: {mean_similarity_within_cluster_1:.4f}\")\n",
    "else:\n",
    "    print(\"В первом кластере недостаточно элементов для расчёта похожести.\")\n",
    "\n",
    "if mean_similarity_between_clusters is not None:\n",
    "    print(f\"Средняя похожесть между первым и вторым кластерами: {mean_similarity_between_clusters:.4f}\")\n",
    "else:\n",
    "    print(\"Недостаточно элементов в одном из кластеров для расчёта межкластерной похожести.\")"
   ]
  },
  {
   "cell_type": "code",
   "execution_count": null,
   "metadata": {
    "execution": {
     "iopub.execute_input": "2025-04-21T02:39:55.635102Z",
     "iopub.status.busy": "2025-04-21T02:39:55.634899Z",
     "iopub.status.idle": "2025-04-21T02:39:55.650963Z",
     "shell.execute_reply": "2025-04-21T02:39:55.650155Z",
     "shell.execute_reply.started": "2025-04-21T02:39:55.635083Z"
    },
    "trusted": true
   },
   "outputs": [],
   "source": [
    "with open(\"logs.txt\", \"w\", encoding=\"utf-8\") as log:\n",
    "    for index in cluster_1_indexes:\n",
    "        tmp_graph = Graph(models_dict[index], index=index)\n",
    "        for key, value in models_dict[index][\"architecture\"].items():\n",
    "            log.write(f\"{key}: {value}\\n\")\n",
    "        log.write(\"\\n\")  # Добавляем пустую строку между архитектурами"
   ]
  }
 ],
 "metadata": {
  "kaggle": {
   "accelerator": "gpu",
   "dataSources": [
    {
     "databundleVersionId": 11940192,
     "datasetId": 6977610,
     "sourceId": 11493170,
     "sourceType": "datasetVersion"
    }
   ],
   "dockerImageVersionId": 30919,
   "isGpuEnabled": true,
   "isInternetEnabled": true,
   "language": "python",
   "sourceType": "notebook"
  },
  "kernelspec": {
   "display_name": "Python 3",
   "language": "python",
   "name": "python3"
  },
  "language_info": {
   "codemirror_mode": {
    "name": "ipython",
    "version": 3
   },
   "file_extension": ".py",
   "mimetype": "text/x-python",
   "name": "python",
   "nbconvert_exporter": "python",
   "pygments_lexer": "ipython3",
   "version": "3.10.12"
  }
 },
 "nbformat": 4,
 "nbformat_minor": 4
}

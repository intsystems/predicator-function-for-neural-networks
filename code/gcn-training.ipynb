{
 "cells": [
  {
   "cell_type": "markdown",
   "metadata": {
    "papermill": {
     "duration": 0.009642,
     "end_time": "2025-04-10T15:58:56.509183",
     "exception": false,
     "start_time": "2025-04-10T15:58:56.499541",
     "status": "completed"
    },
    "tags": []
   },
   "source": [
    "В данном ноутбуке я создам базовый класс, на основе которого обучу сверточную графовую нейронную сеть."
   ]
  },
  {
   "cell_type": "code",
   "execution_count": 1,
   "metadata": {
    "execution": {
     "iopub.execute_input": "2025-05-08T15:51:32.232108Z",
     "iopub.status.busy": "2025-05-08T15:51:32.231764Z",
     "iopub.status.idle": "2025-05-08T15:51:47.402638Z",
     "shell.execute_reply": "2025-05-08T15:51:47.401781Z",
     "shell.execute_reply.started": "2025-05-08T15:51:32.232079Z"
    },
    "papermill": {
     "duration": 16.552176,
     "end_time": "2025-04-10T15:59:13.069782",
     "exception": false,
     "start_time": "2025-04-10T15:58:56.517606",
     "status": "completed"
    },
    "tags": [],
    "trusted": true
   },
   "outputs": [
    {
     "name": "stdout",
     "output_type": "stream",
     "text": [
      "\u001b[2K     \u001b[90m━━━━━━━━━━━━━━━━━━━━━━━━━━━━━━━━━━━━━━━━\u001b[0m \u001b[32m63.1/63.1 kB\u001b[0m \u001b[31m2.6 MB/s\u001b[0m eta \u001b[36m0:00:00\u001b[0m\n",
      "\u001b[2K   \u001b[90m━━━━━━━━━━━━━━━━━━━━━━━━━━━━━━━━━━━━━━━━\u001b[0m \u001b[32m1.1/1.1 MB\u001b[0m \u001b[31m27.9 MB/s\u001b[0m eta \u001b[36m0:00:00\u001b[0m00:01\u001b[0m\n",
      "\u001b[2K     \u001b[90m━━━━━━━━━━━━━━━━━━━━━━━━━━━━━━━━━━━━━━━━\u001b[0m \u001b[32m47.2/47.2 kB\u001b[0m \u001b[31m2.0 MB/s\u001b[0m eta \u001b[36m0:00:00\u001b[0m\n",
      "\u001b[2K   \u001b[90m━━━━━━━━━━━━━━━━━━━━━━━━━━━━━━━━━━━━━━━━\u001b[0m \u001b[32m61.4/61.4 MB\u001b[0m \u001b[31m28.1 MB/s\u001b[0m eta \u001b[36m0:00:00\u001b[0m:00:01\u001b[0m00:01\u001b[0m\n",
      "\u001b[2K   \u001b[90m━━━━━━━━━━━━━━━━━━━━━━━━━━━━━━━━━━━━━━━━\u001b[0m \u001b[32m138.0/138.0 kB\u001b[0m \u001b[31m10.1 MB/s\u001b[0m eta \u001b[36m0:00:00\u001b[0m\n",
      "\u001b[?25h\u001b[31mERROR: pip's dependency resolver does not currently take into account all the packages that are installed. This behaviour is the source of the following dependency conflicts.\n",
      "pytensor 2.26.4 requires filelock>=3.15, but you have filelock 3.11.0 which is incompatible.\u001b[0m\u001b[31m\n",
      "\u001b[0m"
     ]
    }
   ],
   "source": [
    "!pip install torch_geometric --quiet\n",
    "!pip install nni --quiet"
   ]
  },
  {
   "cell_type": "markdown",
   "metadata": {
    "papermill": {
     "duration": 0.008695,
     "end_time": "2025-04-10T15:59:13.088648",
     "exception": false,
     "start_time": "2025-04-10T15:59:13.079953",
     "status": "completed"
    },
    "tags": []
   },
   "source": [
    "Импортируем необходимые библиотеки"
   ]
  },
  {
   "cell_type": "code",
   "execution_count": 2,
   "metadata": {
    "execution": {
     "iopub.execute_input": "2025-05-08T15:51:47.404196Z",
     "iopub.status.busy": "2025-05-08T15:51:47.403866Z",
     "iopub.status.idle": "2025-05-08T15:51:55.984974Z",
     "shell.execute_reply": "2025-05-08T15:51:55.984338Z",
     "shell.execute_reply.started": "2025-05-08T15:51:47.404171Z"
    },
    "papermill": {
     "duration": 11.498714,
     "end_time": "2025-04-10T15:59:24.596429",
     "exception": false,
     "start_time": "2025-04-10T15:59:13.097715",
     "status": "completed"
    },
    "tags": [],
    "trusted": true
   },
   "outputs": [],
   "source": [
    "import os\n",
    "import json\n",
    "import numpy as np\n",
    "import matplotlib.pyplot as plt\n",
    "from tqdm import tqdm\n",
    "from sklearn.preprocessing import OneHotEncoder\n",
    "from sklearn.decomposition import PCA\n",
    "from sklearn.cluster import OPTICS,DBSCAN\n",
    "from scipy.spatial.distance import cdist\n",
    "from scipy.stats import pearsonr, spearmanr\n",
    "from scipy.spatial.distance import jensenshannon\n",
    "\n",
    "import torch\n",
    "import torch.nn as nn\n",
    "import torch.nn.functional as F\n",
    "from torch.utils.data import random_split\n",
    "from torch.utils.data import DataLoader\n",
    "\n",
    "# Custom imports\n",
    "import sys\n",
    "sys.path.insert(1, \"../input/dependecies\")\n",
    "\n",
    "from Graph import Graph\n",
    "from GCN import (\n",
    "    GCN,\n",
    "    SimpleGCN,\n",
    "    GAT,\n",
    "    CustomDataset,\n",
    "    TripletGraphDataset,\n",
    "    train_model_accuracy,\n",
    "    train_model_diversity,\n",
    "    get_positive_and_negative,\n",
    "    extract_embeddings,\n",
    "    collate_triplets,\n",
    "    collate_graphs\n",
    ")\n",
    "\n",
    "device = torch.device(\"cuda\" if torch.cuda.is_available() else \"cpu\")"
   ]
  },
  {
   "cell_type": "markdown",
   "metadata": {
    "papermill": {
     "duration": 0.008813,
     "end_time": "2025-04-10T15:59:24.615173",
     "exception": false,
     "start_time": "2025-04-10T15:59:24.606360",
     "status": "completed"
    },
    "tags": []
   },
   "source": [
    "Основные операция DARTS search space. Добавил 'none' для начальных вершин."
   ]
  },
  {
   "cell_type": "code",
   "execution_count": 3,
   "metadata": {
    "execution": {
     "iopub.execute_input": "2025-05-08T15:51:55.987051Z",
     "iopub.status.busy": "2025-05-08T15:51:55.986611Z",
     "iopub.status.idle": "2025-05-08T15:51:55.990567Z",
     "shell.execute_reply": "2025-05-08T15:51:55.989745Z",
     "shell.execute_reply.started": "2025-05-08T15:51:55.987016Z"
    },
    "papermill": {
     "duration": 0.015381,
     "end_time": "2025-04-10T15:59:24.639967",
     "exception": false,
     "start_time": "2025-04-10T15:59:24.624586",
     "status": "completed"
    },
    "tags": [],
    "trusted": true
   },
   "outputs": [],
   "source": [
    "DARTS_OPS = [\n",
    "        'none',\n",
    "        'max_pool_3x3',\n",
    "        'avg_pool_3x3',\n",
    "        'skip_connect',\n",
    "        'sep_conv_3x3',\n",
    "        'sep_conv_5x5',\n",
    "        'dil_conv_3x3',\n",
    "        'dil_conv_5x5',\n",
    "    ]\n",
    "\n",
    "encoder = OneHotEncoder(handle_unknown='ignore')"
   ]
  },
  {
   "cell_type": "markdown",
   "metadata": {
    "papermill": {
     "duration": 0.009107,
     "end_time": "2025-04-10T15:59:24.658614",
     "exception": false,
     "start_time": "2025-04-10T15:59:24.649507",
     "status": "completed"
    },
    "tags": []
   },
   "source": [
    "Для графовой нейронной сети нам необходимо привести операции к числовому виду. Воспользуемся one-hot-encoder."
   ]
  },
  {
   "cell_type": "code",
   "execution_count": 4,
   "metadata": {
    "execution": {
     "iopub.execute_input": "2025-05-08T15:51:55.992590Z",
     "iopub.status.busy": "2025-05-08T15:51:55.991924Z",
     "iopub.status.idle": "2025-05-08T15:51:56.034138Z",
     "shell.execute_reply": "2025-05-08T15:51:56.033318Z",
     "shell.execute_reply.started": "2025-05-08T15:51:55.992567Z"
    },
    "papermill": {
     "duration": 0.018514,
     "end_time": "2025-04-10T15:59:24.686321",
     "exception": false,
     "start_time": "2025-04-10T15:59:24.667807",
     "status": "completed"
    },
    "tags": [],
    "trusted": true
   },
   "outputs": [
    {
     "name": "stdout",
     "output_type": "stream",
     "text": [
      "[[0. 0. 0. 0. 1. 0. 0. 0.]\n",
      " [0. 0. 0. 1. 0. 0. 0. 0.]\n",
      " [1. 0. 0. 0. 0. 0. 0. 0.]\n",
      " [0. 0. 0. 0. 0. 0. 0. 1.]\n",
      " [0. 0. 0. 0. 0. 1. 0. 0.]\n",
      " [0. 0. 0. 0. 0. 0. 1. 0.]\n",
      " [0. 1. 0. 0. 0. 0. 0. 0.]\n",
      " [0. 0. 1. 0. 0. 0. 0. 0.]]\n"
     ]
    }
   ],
   "source": [
    "encoder = OneHotEncoder(handle_unknown='ignore')\n",
    "ops_array = np.array(DARTS_OPS).reshape(-1, 1)\n",
    "\n",
    "DARTS_OPS_ONE_HOT = encoder.fit_transform(ops_array).toarray()\n",
    "\n",
    "print(DARTS_OPS_ONE_HOT)"
   ]
  },
  {
   "cell_type": "markdown",
   "metadata": {
    "papermill": {
     "duration": 0.009188,
     "end_time": "2025-04-10T15:59:24.706202",
     "exception": false,
     "start_time": "2025-04-10T15:59:24.697014",
     "status": "completed"
    },
    "tags": []
   },
   "source": [
    "Загрузим архитектуры обученных моделей, их предсказания и точность."
   ]
  },
  {
   "cell_type": "code",
   "execution_count": 5,
   "metadata": {
    "execution": {
     "iopub.execute_input": "2025-05-08T15:51:56.035325Z",
     "iopub.status.busy": "2025-05-08T15:51:56.035033Z",
     "iopub.status.idle": "2025-05-08T15:51:56.048698Z",
     "shell.execute_reply": "2025-05-08T15:51:56.047818Z",
     "shell.execute_reply.started": "2025-05-08T15:51:56.035295Z"
    },
    "papermill": {
     "duration": 0.017254,
     "end_time": "2025-04-10T15:59:24.732904",
     "exception": false,
     "start_time": "2025-04-10T15:59:24.715650",
     "status": "completed"
    },
    "tags": [],
    "trusted": true
   },
   "outputs": [],
   "source": [
    "def load_json_from_directory(directory_path):\n",
    "    \"\"\"\n",
    "    Обходит директорию и создает список словарей из JSON файлов.\n",
    "\n",
    "    Аргументы:\n",
    "        directory_path (str): Путь к директории, содержащей JSON файлы.\n",
    "\n",
    "    Возвращает:\n",
    "        list: Список словарей, загруженных из JSON файлов.\n",
    "    \"\"\"\n",
    "    json_data = []\n",
    "    for root, _, files in os.walk(directory_path):\n",
    "        for file in tqdm(files):\n",
    "            if file.endswith('.json'):\n",
    "                file_path = os.path.join(root, file)\n",
    "                with open(file_path, 'r', encoding='utf-8') as f:\n",
    "                    try:\n",
    "                        data = json.load(f)\n",
    "                        json_data.append(data)\n",
    "                    except json.JSONDecodeError as e:\n",
    "                        print(f\"Error decoding JSON from file {file_path}: {e}\")\n",
    "    return json_data"
   ]
  },
  {
   "cell_type": "code",
   "execution_count": 6,
   "metadata": {
    "execution": {
     "iopub.execute_input": "2025-05-08T15:51:56.049791Z",
     "iopub.status.busy": "2025-05-08T15:51:56.049533Z",
     "iopub.status.idle": "2025-05-08T15:53:20.315812Z",
     "shell.execute_reply": "2025-05-08T15:53:20.315104Z",
     "shell.execute_reply.started": "2025-05-08T15:51:56.049773Z"
    },
    "papermill": {
     "duration": 11.178686,
     "end_time": "2025-04-10T15:59:35.921341",
     "exception": false,
     "start_time": "2025-04-10T15:59:24.742655",
     "status": "completed"
    },
    "tags": [],
    "trusted": true
   },
   "outputs": [
    {
     "name": "stderr",
     "output_type": "stream",
     "text": [
      "0it [00:00, ?it/s]\n",
      "100%|██████████| 1000/1000 [01:22<00:00, 12.15it/s]\n"
     ]
    }
   ],
   "source": [
    "models_dict = load_json_from_directory('../input/probs_dataset')"
   ]
  },
  {
   "cell_type": "markdown",
   "metadata": {
    "papermill": {
     "duration": 0.009603,
     "end_time": "2025-04-10T15:59:35.941597",
     "exception": false,
     "start_time": "2025-04-10T15:59:35.931994",
     "status": "completed"
    },
    "tags": []
   },
   "source": [
    "Посмотрю как распределена точность моделей"
   ]
  },
  {
   "cell_type": "code",
   "execution_count": 7,
   "metadata": {
    "execution": {
     "iopub.execute_input": "2025-05-08T15:53:20.317096Z",
     "iopub.status.busy": "2025-05-08T15:53:20.316773Z",
     "iopub.status.idle": "2025-05-08T15:53:20.622637Z",
     "shell.execute_reply": "2025-05-08T15:53:20.621976Z",
     "shell.execute_reply.started": "2025-05-08T15:53:20.317049Z"
    },
    "papermill": {
     "duration": 0.329964,
     "end_time": "2025-04-10T15:59:36.281267",
     "exception": false,
     "start_time": "2025-04-10T15:59:35.951303",
     "status": "completed"
    },
    "tags": [],
    "trusted": true
   },
   "outputs": [
    {
     "name": "stdout",
     "output_type": "stream",
     "text": [
      "0.9009\n"
     ]
    },
    {
     "data": {
      "image/png": "[encoded data removed]",
      "text/plain": [
       "<Figure size 1000x600 with 1 Axes>"
      ]
     },
     "metadata": {},
     "output_type": "display_data"
    }
   ],
   "source": [
    "accuracies = [model['test_accuracy'] for model in models_dict]\n",
    "\n",
    "plt.figure(figsize=(10, 6))\n",
    "\n",
    "plt.hist(accuracies, bins=50, edgecolor='black', color=\"green\", weights=[1/len(accuracies)]*len(accuracies))\n",
    "# plt.title('Distribution of Model Accuracies')\n",
    "plt.xlabel('Accuracy', fontsize=18)\n",
    "plt.ylabel('Percentage', fontsize=18)\n",
    "plt.xticks(fontsize=16)\n",
    "plt.yticks(fontsize=16)\n",
    "print(np.max(accuracies))\n",
    "plt.show()"
   ]
  },
  {
   "cell_type": "code",
   "execution_count": 8,
   "metadata": {
    "execution": {
     "iopub.execute_input": "2025-05-08T15:53:20.624965Z",
     "iopub.status.busy": "2025-05-08T15:53:20.624722Z",
     "iopub.status.idle": "2025-05-08T15:53:20.628856Z",
     "shell.execute_reply": "2025-05-08T15:53:20.627869Z",
     "shell.execute_reply.started": "2025-05-08T15:53:20.624938Z"
    },
    "papermill": {
     "duration": 0.016572,
     "end_time": "2025-04-10T15:59:36.308649",
     "exception": false,
     "start_time": "2025-04-10T15:59:36.292077",
     "status": "completed"
    },
    "tags": [],
    "trusted": true
   },
   "outputs": [],
   "source": [
    "graph = Graph(models_dict[1])"
   ]
  },
  {
   "cell_type": "markdown",
   "metadata": {
    "papermill": {
     "duration": 0.009593,
     "end_time": "2025-04-10T15:59:36.328554",
     "exception": false,
     "start_time": "2025-04-10T15:59:36.318961",
     "status": "completed"
    },
    "tags": []
   },
   "source": [
    "Посмотрю как выглядит граф."
   ]
  },
  {
   "cell_type": "code",
   "execution_count": 9,
   "metadata": {
    "execution": {
     "iopub.execute_input": "2025-05-08T15:53:20.630795Z",
     "iopub.status.busy": "2025-05-08T15:53:20.630599Z",
     "iopub.status.idle": "2025-05-08T15:53:20.809900Z",
     "shell.execute_reply": "2025-05-08T15:53:20.809004Z",
     "shell.execute_reply.started": "2025-05-08T15:53:20.630778Z"
    },
    "papermill": {
     "duration": 0.248156,
     "end_time": "2025-04-10T15:59:36.586773",
     "exception": false,
     "start_time": "2025-04-10T15:59:36.338617",
     "status": "completed"
    },
    "tags": [],
    "trusted": true
   },
   "outputs": [
    {
     "data": {
      "image/svg+xml": [
       "<?xml version=\"1.0\" encoding=\"UTF-8\" standalone=\"no\"?>\n",
       "<!DOCTYPE svg PUBLIC \"-//W3C//DTD SVG 1.1//EN\"\n",
       " \"http://www.w3.org/Graphics/SVG/1.1/DTD/svg11.dtd\">\n",
       "<!-- Generated by graphviz version 2.43.0 (0)\n",
       " -->\n",
       "<!-- Title: %3 Pages: 1 -->\n",
       "<svg width=\"743pt\" height=\"926pt\"\n",
       " viewBox=\"0.00 0.00 742.50 926.00\" xmlns=\"http://www.w3.org/2000/svg\" xmlns:xlink=\"http://www.w3.org/1999/xlink\">\n",
       "<g id=\"graph0\" class=\"graph\" transform=\"scale(1 1) rotate(0) translate(4 922)\">\n",
       "<title>%3</title>\n",
       "<polygon fill=\"white\" stroke=\"transparent\" points=\"-4,4 -4,-922 738.5,-922 738.5,4 -4,4\"/>\n",
       "<!-- 0 -->\n",
       "<g id=\"node1\" class=\"node\">\n",
       "<title>0</title>\n",
       "<polygon fill=\"none\" stroke=\"black\" points=\"163,-848.5 163,-917.5 230,-917.5 230,-848.5 163,-848.5\"/>\n",
       "<text text-anchor=\"middle\" x=\"196.5\" y=\"-902.3\" font-family=\"Times,serif\" font-size=\"14.00\">Op: none</text>\n",
       "<polyline fill=\"none\" stroke=\"black\" points=\"163,-894.5 230,-894.5 \"/>\n",
       "<text text-anchor=\"middle\" x=\"196.5\" y=\"-879.3\" font-family=\"Times,serif\" font-size=\"14.00\">In: 0</text>\n",
       "<polyline fill=\"none\" stroke=\"black\" points=\"163,-871.5 230,-871.5 \"/>\n",
       "<text text-anchor=\"middle\" x=\"196.5\" y=\"-856.3\" font-family=\"Times,serif\" font-size=\"14.00\">Out: 0</text>\n",
       "</g>\n",
       "<!-- 1 -->\n",
       "<g id=\"node2\" class=\"node\">\n",
       "<title>1</title>\n",
       "<polygon fill=\"none\" stroke=\"black\" points=\"137,-742.5 137,-811.5 256,-811.5 256,-742.5 137,-742.5\"/>\n",
       "<text text-anchor=\"middle\" x=\"196.5\" y=\"-796.3\" font-family=\"Times,serif\" font-size=\"14.00\">Op: sep_conv_5x5</text>\n",
       "<polyline fill=\"none\" stroke=\"black\" points=\"137,-788.5 256,-788.5 \"/>\n",
       "<text text-anchor=\"middle\" x=\"196.5\" y=\"-773.3\" font-family=\"Times,serif\" font-size=\"14.00\">In: 0</text>\n",
       "<polyline fill=\"none\" stroke=\"black\" points=\"137,-765.5 256,-765.5 \"/>\n",
       "<text text-anchor=\"middle\" x=\"196.5\" y=\"-750.3\" font-family=\"Times,serif\" font-size=\"14.00\">Out: 2</text>\n",
       "</g>\n",
       "<!-- 0&#45;&gt;1 -->\n",
       "<g id=\"edge1\" class=\"edge\">\n",
       "<title>0&#45;&gt;1</title>\n",
       "<path fill=\"none\" stroke=\"black\" d=\"M196.5,-848.23C196.5,-839.79 196.5,-830.62 196.5,-821.77\"/>\n",
       "<polygon fill=\"black\" stroke=\"black\" points=\"200,-821.6 196.5,-811.6 193,-821.6 200,-821.6\"/>\n",
       "</g>\n",
       "<!-- 2 -->\n",
       "<g id=\"node3\" class=\"node\">\n",
       "<title>2</title>\n",
       "<polygon fill=\"none\" stroke=\"black\" points=\"0,-742.5 0,-811.5 119,-811.5 119,-742.5 0,-742.5\"/>\n",
       "<text text-anchor=\"middle\" x=\"59.5\" y=\"-796.3\" font-family=\"Times,serif\" font-size=\"14.00\">Op: sep_conv_5x5</text>\n",
       "<polyline fill=\"none\" stroke=\"black\" points=\"0,-788.5 119,-788.5 \"/>\n",
       "<text text-anchor=\"middle\" x=\"59.5\" y=\"-773.3\" font-family=\"Times,serif\" font-size=\"14.00\">In: 0</text>\n",
       "<polyline fill=\"none\" stroke=\"black\" points=\"0,-765.5 119,-765.5 \"/>\n",
       "<text text-anchor=\"middle\" x=\"59.5\" y=\"-750.3\" font-family=\"Times,serif\" font-size=\"14.00\">Out: 3</text>\n",
       "</g>\n",
       "<!-- 0&#45;&gt;2 -->\n",
       "<g id=\"edge2\" class=\"edge\">\n",
       "<title>0&#45;&gt;2</title>\n",
       "<path fill=\"none\" stroke=\"black\" d=\"M162.99,-856.56C147.67,-844.93 129.16,-830.88 112.06,-817.9\"/>\n",
       "<polygon fill=\"black\" stroke=\"black\" points=\"113.88,-814.88 103.79,-811.63 109.64,-820.46 113.88,-814.88\"/>\n",
       "</g>\n",
       "<!-- 3 -->\n",
       "<g id=\"node4\" class=\"node\">\n",
       "<title>3</title>\n",
       "<polygon fill=\"none\" stroke=\"black\" points=\"363,-636.5 363,-705.5 478,-705.5 478,-636.5 363,-636.5\"/>\n",
       "<text text-anchor=\"middle\" x=\"420.5\" y=\"-690.3\" font-family=\"Times,serif\" font-size=\"14.00\">Op: dil_conv_5x5</text>\n",
       "<polyline fill=\"none\" stroke=\"black\" points=\"363,-682.5 478,-682.5 \"/>\n",
       "<text text-anchor=\"middle\" x=\"420.5\" y=\"-667.3\" font-family=\"Times,serif\" font-size=\"14.00\">In: 0</text>\n",
       "<polyline fill=\"none\" stroke=\"black\" points=\"363,-659.5 478,-659.5 \"/>\n",
       "<text text-anchor=\"middle\" x=\"420.5\" y=\"-644.3\" font-family=\"Times,serif\" font-size=\"14.00\">Out: 5</text>\n",
       "</g>\n",
       "<!-- 0&#45;&gt;3 -->\n",
       "<g id=\"edge3\" class=\"edge\">\n",
       "<title>0&#45;&gt;3</title>\n",
       "<path fill=\"none\" stroke=\"black\" d=\"M230.15,-880.86C276.48,-877.35 358.98,-863.7 401.5,-812 423.31,-785.48 426.95,-746.1 425.77,-715.85\"/>\n",
       "<polygon fill=\"black\" stroke=\"black\" points=\"429.25,-715.35 425.17,-705.57 422.26,-715.76 429.25,-715.35\"/>\n",
       "</g>\n",
       "<!-- 7 -->\n",
       "<g id=\"node8\" class=\"node\">\n",
       "<title>7</title>\n",
       "<polygon fill=\"none\" stroke=\"black\" points=\"92.5,-636.5 92.5,-705.5 214.5,-705.5 214.5,-636.5 92.5,-636.5\"/>\n",
       "<text text-anchor=\"middle\" x=\"153.5\" y=\"-690.3\" font-family=\"Times,serif\" font-size=\"14.00\">Op: max_pool_3x3</text>\n",
       "<polyline fill=\"none\" stroke=\"black\" points=\"92.5,-682.5 214.5,-682.5 \"/>\n",
       "<text text-anchor=\"middle\" x=\"153.5\" y=\"-667.3\" font-family=\"Times,serif\" font-size=\"14.00\">In: 2</text>\n",
       "<polyline fill=\"none\" stroke=\"black\" points=\"92.5,-659.5 214.5,-659.5 \"/>\n",
       "<text text-anchor=\"middle\" x=\"153.5\" y=\"-644.3\" font-family=\"Times,serif\" font-size=\"14.00\">Out: 3</text>\n",
       "</g>\n",
       "<!-- 1&#45;&gt;7 -->\n",
       "<g id=\"edge4\" class=\"edge\">\n",
       "<title>1&#45;&gt;7</title>\n",
       "<path fill=\"none\" stroke=\"black\" d=\"M182.54,-742.23C178.94,-733.52 175.01,-724.02 171.24,-714.91\"/>\n",
       "<polygon fill=\"black\" stroke=\"black\" points=\"174.45,-713.5 167.39,-705.6 167.98,-716.17 174.45,-713.5\"/>\n",
       "</g>\n",
       "<!-- 8 -->\n",
       "<g id=\"node9\" class=\"node\">\n",
       "<title>8</title>\n",
       "<polygon fill=\"none\" stroke=\"black\" points=\"232.5,-636.5 232.5,-705.5 344.5,-705.5 344.5,-636.5 232.5,-636.5\"/>\n",
       "<text text-anchor=\"middle\" x=\"288.5\" y=\"-690.3\" font-family=\"Times,serif\" font-size=\"14.00\">Op: skip_connect</text>\n",
       "<polyline fill=\"none\" stroke=\"black\" points=\"232.5,-682.5 344.5,-682.5 \"/>\n",
       "<text text-anchor=\"middle\" x=\"288.5\" y=\"-667.3\" font-family=\"Times,serif\" font-size=\"14.00\">In: 2</text>\n",
       "<polyline fill=\"none\" stroke=\"black\" points=\"232.5,-659.5 344.5,-659.5 \"/>\n",
       "<text text-anchor=\"middle\" x=\"288.5\" y=\"-644.3\" font-family=\"Times,serif\" font-size=\"14.00\">Out: 4</text>\n",
       "</g>\n",
       "<!-- 1&#45;&gt;8 -->\n",
       "<g id=\"edge5\" class=\"edge\">\n",
       "<title>1&#45;&gt;8</title>\n",
       "<path fill=\"none\" stroke=\"black\" d=\"M226.37,-742.23C234.57,-732.97 243.55,-722.82 252.07,-713.18\"/>\n",
       "<polygon fill=\"black\" stroke=\"black\" points=\"254.78,-715.41 258.78,-705.6 249.53,-710.77 254.78,-715.41\"/>\n",
       "</g>\n",
       "<!-- 9 -->\n",
       "<g id=\"node10\" class=\"node\">\n",
       "<title>9</title>\n",
       "<polygon fill=\"none\" stroke=\"black\" points=\"96,-530.5 96,-599.5 211,-599.5 211,-530.5 96,-530.5\"/>\n",
       "<text text-anchor=\"middle\" x=\"153.5\" y=\"-584.3\" font-family=\"Times,serif\" font-size=\"14.00\">Op: dil_conv_5x5</text>\n",
       "<polyline fill=\"none\" stroke=\"black\" points=\"96,-576.5 211,-576.5 \"/>\n",
       "<text text-anchor=\"middle\" x=\"153.5\" y=\"-561.3\" font-family=\"Times,serif\" font-size=\"14.00\">In: 3</text>\n",
       "<polyline fill=\"none\" stroke=\"black\" points=\"96,-553.5 211,-553.5 \"/>\n",
       "<text text-anchor=\"middle\" x=\"153.5\" y=\"-538.3\" font-family=\"Times,serif\" font-size=\"14.00\">Out: 5</text>\n",
       "</g>\n",
       "<!-- 2&#45;&gt;9 -->\n",
       "<g id=\"edge6\" class=\"edge\">\n",
       "<title>2&#45;&gt;9</title>\n",
       "<path fill=\"none\" stroke=\"black\" d=\"M59.62,-742.23C61.01,-712.69 66.21,-669.4 83.5,-636 88.93,-625.51 96.49,-615.6 104.65,-606.72\"/>\n",
       "<polygon fill=\"black\" stroke=\"black\" points=\"107.18,-609.14 111.61,-599.52 102.14,-604.28 107.18,-609.14\"/>\n",
       "</g>\n",
       "<!-- 10 -->\n",
       "<g id=\"node11\" class=\"node\">\n",
       "<title>10</title>\n",
       "<polygon fill=\"none\" stroke=\"black\" points=\"263,-424.5 263,-493.5 330,-493.5 330,-424.5 263,-424.5\"/>\n",
       "<text text-anchor=\"middle\" x=\"296.5\" y=\"-478.3\" font-family=\"Times,serif\" font-size=\"14.00\">Op: none</text>\n",
       "<polyline fill=\"none\" stroke=\"black\" points=\"263,-470.5 330,-470.5 \"/>\n",
       "<text text-anchor=\"middle\" x=\"296.5\" y=\"-455.3\" font-family=\"Times,serif\" font-size=\"14.00\">In: 5</text>\n",
       "<polyline fill=\"none\" stroke=\"black\" points=\"263,-447.5 330,-447.5 \"/>\n",
       "<text text-anchor=\"middle\" x=\"296.5\" y=\"-432.3\" font-family=\"Times,serif\" font-size=\"14.00\">Out: 5</text>\n",
       "</g>\n",
       "<!-- 3&#45;&gt;10 -->\n",
       "<g id=\"edge7\" class=\"edge\">\n",
       "<title>3&#45;&gt;10</title>\n",
       "<path fill=\"none\" stroke=\"black\" d=\"M399.54,-636.29C392.47,-624.81 384.59,-611.88 377.5,-600 358.03,-567.36 336.51,-530.09 320.54,-502.22\"/>\n",
       "<polygon fill=\"black\" stroke=\"black\" points=\"323.57,-500.46 315.57,-493.52 317.49,-503.94 323.57,-500.46\"/>\n",
       "</g>\n",
       "<!-- 4 -->\n",
       "<g id=\"node5\" class=\"node\">\n",
       "<title>4</title>\n",
       "<polygon fill=\"none\" stroke=\"black\" points=\"473,-848.5 473,-917.5 540,-917.5 540,-848.5 473,-848.5\"/>\n",
       "<text text-anchor=\"middle\" x=\"506.5\" y=\"-902.3\" font-family=\"Times,serif\" font-size=\"14.00\">Op: none</text>\n",
       "<polyline fill=\"none\" stroke=\"black\" points=\"473,-894.5 540,-894.5 \"/>\n",
       "<text text-anchor=\"middle\" x=\"506.5\" y=\"-879.3\" font-family=\"Times,serif\" font-size=\"14.00\">In: 1</text>\n",
       "<polyline fill=\"none\" stroke=\"black\" points=\"473,-871.5 540,-871.5 \"/>\n",
       "<text text-anchor=\"middle\" x=\"506.5\" y=\"-856.3\" font-family=\"Times,serif\" font-size=\"14.00\">Out: 1</text>\n",
       "</g>\n",
       "<!-- 5 -->\n",
       "<g id=\"node6\" class=\"node\">\n",
       "<title>5</title>\n",
       "<polygon fill=\"none\" stroke=\"black\" points=\"274.5,-742.5 274.5,-811.5 392.5,-811.5 392.5,-742.5 274.5,-742.5\"/>\n",
       "<text text-anchor=\"middle\" x=\"333.5\" y=\"-796.3\" font-family=\"Times,serif\" font-size=\"14.00\">Op: avg_pool_3x3</text>\n",
       "<polyline fill=\"none\" stroke=\"black\" points=\"274.5,-788.5 392.5,-788.5 \"/>\n",
       "<text text-anchor=\"middle\" x=\"333.5\" y=\"-773.3\" font-family=\"Times,serif\" font-size=\"14.00\">In: 1</text>\n",
       "<polyline fill=\"none\" stroke=\"black\" points=\"274.5,-765.5 392.5,-765.5 \"/>\n",
       "<text text-anchor=\"middle\" x=\"333.5\" y=\"-750.3\" font-family=\"Times,serif\" font-size=\"14.00\">Out: 2</text>\n",
       "</g>\n",
       "<!-- 4&#45;&gt;5 -->\n",
       "<g id=\"edge8\" class=\"edge\">\n",
       "<title>4&#45;&gt;5</title>\n",
       "<path fill=\"none\" stroke=\"black\" d=\"M472.73,-861.7C451.53,-848.96 423.5,-832.11 398.15,-816.87\"/>\n",
       "<polygon fill=\"black\" stroke=\"black\" points=\"399.68,-813.7 389.31,-811.55 396.08,-819.7 399.68,-813.7\"/>\n",
       "</g>\n",
       "<!-- 6 -->\n",
       "<g id=\"node7\" class=\"node\">\n",
       "<title>6</title>\n",
       "<polygon fill=\"none\" stroke=\"black\" points=\"387,-530.5 387,-599.5 506,-599.5 506,-530.5 387,-530.5\"/>\n",
       "<text text-anchor=\"middle\" x=\"446.5\" y=\"-584.3\" font-family=\"Times,serif\" font-size=\"14.00\">Op: sep_conv_5x5</text>\n",
       "<polyline fill=\"none\" stroke=\"black\" points=\"387,-576.5 506,-576.5 \"/>\n",
       "<text text-anchor=\"middle\" x=\"446.5\" y=\"-561.3\" font-family=\"Times,serif\" font-size=\"14.00\">In: 1</text>\n",
       "<polyline fill=\"none\" stroke=\"black\" points=\"387,-553.5 506,-553.5 \"/>\n",
       "<text text-anchor=\"middle\" x=\"446.5\" y=\"-538.3\" font-family=\"Times,serif\" font-size=\"14.00\">Out: 4</text>\n",
       "</g>\n",
       "<!-- 4&#45;&gt;6 -->\n",
       "<g id=\"edge9\" class=\"edge\">\n",
       "<title>4&#45;&gt;6</title>\n",
       "<path fill=\"none\" stroke=\"black\" d=\"M508.6,-848.48C510.57,-800.29 510.41,-709.17 487.5,-636 484.6,-626.72 480.28,-617.36 475.52,-608.63\"/>\n",
       "<polygon fill=\"black\" stroke=\"black\" points=\"478.46,-606.72 470.44,-599.8 472.39,-610.21 478.46,-606.72\"/>\n",
       "</g>\n",
       "<!-- 14 -->\n",
       "<g id=\"node15\" class=\"node\">\n",
       "<title>14</title>\n",
       "<polygon fill=\"none\" stroke=\"black\" points=\"511,-424.5 511,-493.5 578,-493.5 578,-424.5 511,-424.5\"/>\n",
       "<text text-anchor=\"middle\" x=\"544.5\" y=\"-478.3\" font-family=\"Times,serif\" font-size=\"14.00\">Op: none</text>\n",
       "<polyline fill=\"none\" stroke=\"black\" points=\"511,-470.5 578,-470.5 \"/>\n",
       "<text text-anchor=\"middle\" x=\"544.5\" y=\"-455.3\" font-family=\"Times,serif\" font-size=\"14.00\">In: 6</text>\n",
       "<polyline fill=\"none\" stroke=\"black\" points=\"511,-447.5 578,-447.5 \"/>\n",
       "<text text-anchor=\"middle\" x=\"544.5\" y=\"-432.3\" font-family=\"Times,serif\" font-size=\"14.00\">Out: 6</text>\n",
       "</g>\n",
       "<!-- 4&#45;&gt;14 -->\n",
       "<g id=\"edge10\" class=\"edge\">\n",
       "<title>4&#45;&gt;14</title>\n",
       "<path fill=\"none\" stroke=\"black\" d=\"M514.75,-848.35C517.28,-836.88 519.84,-823.94 521.5,-812 536.83,-701.74 541.99,-570.59 543.69,-503.81\"/>\n",
       "<polygon fill=\"black\" stroke=\"black\" points=\"547.19,-503.74 543.93,-493.65 540.19,-503.57 547.19,-503.74\"/>\n",
       "</g>\n",
       "<!-- 5&#45;&gt;7 -->\n",
       "<g id=\"edge11\" class=\"edge\">\n",
       "<title>5&#45;&gt;7</title>\n",
       "<path fill=\"none\" stroke=\"black\" d=\"M275.06,-742.23C257.59,-732.14 238.31,-721 220.35,-710.62\"/>\n",
       "<polygon fill=\"black\" stroke=\"black\" points=\"222.06,-707.57 211.65,-705.6 218.56,-713.63 222.06,-707.57\"/>\n",
       "</g>\n",
       "<!-- 5&#45;&gt;8 -->\n",
       "<g id=\"edge12\" class=\"edge\">\n",
       "<title>5&#45;&gt;8</title>\n",
       "<path fill=\"none\" stroke=\"black\" d=\"M318.89,-742.23C315.12,-733.52 311.01,-724.02 307.07,-714.91\"/>\n",
       "<polygon fill=\"black\" stroke=\"black\" points=\"310.22,-713.38 303.04,-705.6 303.8,-716.16 310.22,-713.38\"/>\n",
       "</g>\n",
       "<!-- 6&#45;&gt;10 -->\n",
       "<g id=\"edge13\" class=\"edge\">\n",
       "<title>6&#45;&gt;10</title>\n",
       "<path fill=\"none\" stroke=\"black\" d=\"M397.8,-530.23C378.83,-517.08 357.3,-502.15 338.97,-489.45\"/>\n",
       "<polygon fill=\"black\" stroke=\"black\" points=\"340.47,-486.23 330.26,-483.41 336.48,-491.98 340.47,-486.23\"/>\n",
       "</g>\n",
       "<!-- 7&#45;&gt;9 -->\n",
       "<g id=\"edge14\" class=\"edge\">\n",
       "<title>7&#45;&gt;9</title>\n",
       "<path fill=\"none\" stroke=\"black\" d=\"M153.5,-636.23C153.5,-627.79 153.5,-618.62 153.5,-609.77\"/>\n",
       "<polygon fill=\"black\" stroke=\"black\" points=\"157,-609.6 153.5,-599.6 150,-609.6 157,-609.6\"/>\n",
       "</g>\n",
       "<!-- 8&#45;&gt;10 -->\n",
       "<g id=\"edge15\" class=\"edge\">\n",
       "<title>8&#45;&gt;10</title>\n",
       "<path fill=\"none\" stroke=\"black\" d=\"M289.79,-636.26C291.16,-600.29 293.33,-543.18 294.83,-503.77\"/>\n",
       "<polygon fill=\"black\" stroke=\"black\" points=\"298.33,-503.78 295.22,-493.66 291.34,-503.52 298.33,-503.78\"/>\n",
       "</g>\n",
       "<!-- 9&#45;&gt;10 -->\n",
       "<g id=\"edge16\" class=\"edge\">\n",
       "<title>9&#45;&gt;10</title>\n",
       "<path fill=\"none\" stroke=\"black\" d=\"M199.93,-530.23C217.59,-517.39 237.59,-502.85 254.79,-490.34\"/>\n",
       "<polygon fill=\"black\" stroke=\"black\" points=\"256.95,-493.09 262.98,-484.38 252.84,-487.43 256.95,-493.09\"/>\n",
       "</g>\n",
       "<!-- 11 -->\n",
       "<g id=\"node12\" class=\"node\">\n",
       "<title>11</title>\n",
       "<polygon fill=\"none\" stroke=\"black\" points=\"339,-318.5 339,-387.5 458,-387.5 458,-318.5 339,-318.5\"/>\n",
       "<text text-anchor=\"middle\" x=\"398.5\" y=\"-372.3\" font-family=\"Times,serif\" font-size=\"14.00\">Op: sep_conv_5x5</text>\n",
       "<polyline fill=\"none\" stroke=\"black\" points=\"339,-364.5 458,-364.5 \"/>\n",
       "<text text-anchor=\"middle\" x=\"398.5\" y=\"-349.3\" font-family=\"Times,serif\" font-size=\"14.00\">In: 5</text>\n",
       "<polyline fill=\"none\" stroke=\"black\" points=\"339,-341.5 458,-341.5 \"/>\n",
       "<text text-anchor=\"middle\" x=\"398.5\" y=\"-326.3\" font-family=\"Times,serif\" font-size=\"14.00\">Out: 7</text>\n",
       "</g>\n",
       "<!-- 10&#45;&gt;11 -->\n",
       "<g id=\"edge17\" class=\"edge\">\n",
       "<title>10&#45;&gt;11</title>\n",
       "<path fill=\"none\" stroke=\"black\" d=\"M329.62,-424.23C338.79,-414.88 348.86,-404.62 358.39,-394.9\"/>\n",
       "<polygon fill=\"black\" stroke=\"black\" points=\"361.05,-397.19 365.55,-387.6 356.05,-392.29 361.05,-397.19\"/>\n",
       "</g>\n",
       "<!-- 12 -->\n",
       "<g id=\"node13\" class=\"node\">\n",
       "<title>12</title>\n",
       "<polygon fill=\"none\" stroke=\"black\" points=\"166,-106.5 166,-175.5 285,-175.5 285,-106.5 166,-106.5\"/>\n",
       "<text text-anchor=\"middle\" x=\"225.5\" y=\"-160.3\" font-family=\"Times,serif\" font-size=\"14.00\">Op: sep_conv_5x5</text>\n",
       "<polyline fill=\"none\" stroke=\"black\" points=\"166,-152.5 285,-152.5 \"/>\n",
       "<text text-anchor=\"middle\" x=\"225.5\" y=\"-137.3\" font-family=\"Times,serif\" font-size=\"14.00\">In: 5</text>\n",
       "<polyline fill=\"none\" stroke=\"black\" points=\"166,-129.5 285,-129.5 \"/>\n",
       "<text text-anchor=\"middle\" x=\"225.5\" y=\"-114.3\" font-family=\"Times,serif\" font-size=\"14.00\">Out: 9</text>\n",
       "</g>\n",
       "<!-- 10&#45;&gt;12 -->\n",
       "<g id=\"edge18\" class=\"edge\">\n",
       "<title>10&#45;&gt;12</title>\n",
       "<path fill=\"none\" stroke=\"black\" d=\"M278.77,-424.42C261.56,-389.83 236.62,-333.8 226.5,-282 220.3,-250.27 220.28,-213.72 221.68,-185.92\"/>\n",
       "<polygon fill=\"black\" stroke=\"black\" points=\"225.19,-185.91 222.28,-175.73 218.2,-185.5 225.19,-185.91\"/>\n",
       "</g>\n",
       "<!-- 13 -->\n",
       "<g id=\"node14\" class=\"node\">\n",
       "<title>13</title>\n",
       "<polygon fill=\"none\" stroke=\"black\" points=\"235.5,-212.5 235.5,-281.5 357.5,-281.5 357.5,-212.5 235.5,-212.5\"/>\n",
       "<text text-anchor=\"middle\" x=\"296.5\" y=\"-266.3\" font-family=\"Times,serif\" font-size=\"14.00\">Op: max_pool_3x3</text>\n",
       "<polyline fill=\"none\" stroke=\"black\" points=\"235.5,-258.5 357.5,-258.5 \"/>\n",
       "<text text-anchor=\"middle\" x=\"296.5\" y=\"-243.3\" font-family=\"Times,serif\" font-size=\"14.00\">In: 5</text>\n",
       "<polyline fill=\"none\" stroke=\"black\" points=\"235.5,-235.5 357.5,-235.5 \"/>\n",
       "<text text-anchor=\"middle\" x=\"296.5\" y=\"-220.3\" font-family=\"Times,serif\" font-size=\"14.00\">Out: 10</text>\n",
       "</g>\n",
       "<!-- 10&#45;&gt;13 -->\n",
       "<g id=\"edge19\" class=\"edge\">\n",
       "<title>10&#45;&gt;13</title>\n",
       "<path fill=\"none\" stroke=\"black\" d=\"M296.5,-424.26C296.5,-388.29 296.5,-331.18 296.5,-291.77\"/>\n",
       "<polygon fill=\"black\" stroke=\"black\" points=\"300,-291.66 296.5,-281.66 293,-291.66 300,-291.66\"/>\n",
       "</g>\n",
       "<!-- 17 -->\n",
       "<g id=\"node18\" class=\"node\">\n",
       "<title>17</title>\n",
       "<polygon fill=\"none\" stroke=\"black\" points=\"515.5,-212.5 515.5,-281.5 627.5,-281.5 627.5,-212.5 515.5,-212.5\"/>\n",
       "<text text-anchor=\"middle\" x=\"571.5\" y=\"-266.3\" font-family=\"Times,serif\" font-size=\"14.00\">Op: skip_connect</text>\n",
       "<polyline fill=\"none\" stroke=\"black\" points=\"515.5,-258.5 627.5,-258.5 \"/>\n",
       "<text text-anchor=\"middle\" x=\"571.5\" y=\"-243.3\" font-family=\"Times,serif\" font-size=\"14.00\">In: 7</text>\n",
       "<polyline fill=\"none\" stroke=\"black\" points=\"515.5,-235.5 627.5,-235.5 \"/>\n",
       "<text text-anchor=\"middle\" x=\"571.5\" y=\"-220.3\" font-family=\"Times,serif\" font-size=\"14.00\">Out: 8</text>\n",
       "</g>\n",
       "<!-- 11&#45;&gt;17 -->\n",
       "<g id=\"edge20\" class=\"edge\">\n",
       "<title>11&#45;&gt;17</title>\n",
       "<path fill=\"none\" stroke=\"black\" d=\"M454.67,-318.23C471.3,-308.23 489.65,-297.2 506.78,-286.91\"/>\n",
       "<polygon fill=\"black\" stroke=\"black\" points=\"508.85,-289.75 515.61,-281.6 505.24,-283.75 508.85,-289.75\"/>\n",
       "</g>\n",
       "<!-- 18 -->\n",
       "<g id=\"node19\" class=\"node\">\n",
       "<title>18</title>\n",
       "<polygon fill=\"none\" stroke=\"black\" points=\"375.5,-212.5 375.5,-281.5 497.5,-281.5 497.5,-212.5 375.5,-212.5\"/>\n",
       "<text text-anchor=\"middle\" x=\"436.5\" y=\"-266.3\" font-family=\"Times,serif\" font-size=\"14.00\">Op: max_pool_3x3</text>\n",
       "<polyline fill=\"none\" stroke=\"black\" points=\"375.5,-258.5 497.5,-258.5 \"/>\n",
       "<text text-anchor=\"middle\" x=\"436.5\" y=\"-243.3\" font-family=\"Times,serif\" font-size=\"14.00\">In: 7</text>\n",
       "<polyline fill=\"none\" stroke=\"black\" points=\"375.5,-235.5 497.5,-235.5 \"/>\n",
       "<text text-anchor=\"middle\" x=\"436.5\" y=\"-220.3\" font-family=\"Times,serif\" font-size=\"14.00\">Out: 10</text>\n",
       "</g>\n",
       "<!-- 11&#45;&gt;18 -->\n",
       "<g id=\"edge21\" class=\"edge\">\n",
       "<title>11&#45;&gt;18</title>\n",
       "<path fill=\"none\" stroke=\"black\" d=\"M410.84,-318.23C413.99,-309.61 417.42,-300.22 420.72,-291.19\"/>\n",
       "<polygon fill=\"black\" stroke=\"black\" points=\"424.08,-292.19 424.22,-281.6 417.5,-289.79 424.08,-292.19\"/>\n",
       "</g>\n",
       "<!-- 20 -->\n",
       "<g id=\"node21\" class=\"node\">\n",
       "<title>20</title>\n",
       "<polygon fill=\"none\" stroke=\"black\" points=\"350,-0.5 350,-69.5 417,-69.5 417,-0.5 350,-0.5\"/>\n",
       "<text text-anchor=\"middle\" x=\"383.5\" y=\"-54.3\" font-family=\"Times,serif\" font-size=\"14.00\">Op: none</text>\n",
       "<polyline fill=\"none\" stroke=\"black\" points=\"350,-46.5 417,-46.5 \"/>\n",
       "<text text-anchor=\"middle\" x=\"383.5\" y=\"-31.3\" font-family=\"Times,serif\" font-size=\"14.00\">In: 11</text>\n",
       "<polyline fill=\"none\" stroke=\"black\" points=\"350,-23.5 417,-23.5 \"/>\n",
       "<text text-anchor=\"middle\" x=\"383.5\" y=\"-8.3\" font-family=\"Times,serif\" font-size=\"14.00\">Out: 11</text>\n",
       "</g>\n",
       "<!-- 12&#45;&gt;20 -->\n",
       "<g id=\"edge22\" class=\"edge\">\n",
       "<title>12&#45;&gt;20</title>\n",
       "<path fill=\"none\" stroke=\"black\" d=\"M276.8,-106.23C297.68,-92.49 321.51,-76.8 341.35,-63.74\"/>\n",
       "<polygon fill=\"black\" stroke=\"black\" points=\"343.44,-66.56 349.87,-58.13 339.6,-60.71 343.44,-66.56\"/>\n",
       "</g>\n",
       "<!-- 13&#45;&gt;20 -->\n",
       "<g id=\"edge23\" class=\"edge\">\n",
       "<title>13&#45;&gt;20</title>\n",
       "<path fill=\"none\" stroke=\"black\" d=\"M310.48,-212.26C325.44,-176.13 349.24,-118.7 365.57,-79.27\"/>\n",
       "<polygon fill=\"black\" stroke=\"black\" points=\"368.96,-80.23 369.56,-69.66 362.5,-77.56 368.96,-80.23\"/>\n",
       "</g>\n",
       "<!-- 15 -->\n",
       "<g id=\"node16\" class=\"node\">\n",
       "<title>15</title>\n",
       "<polygon fill=\"none\" stroke=\"black\" points=\"476.5,-318.5 476.5,-387.5 598.5,-387.5 598.5,-318.5 476.5,-318.5\"/>\n",
       "<text text-anchor=\"middle\" x=\"537.5\" y=\"-372.3\" font-family=\"Times,serif\" font-size=\"14.00\">Op: max_pool_3x3</text>\n",
       "<polyline fill=\"none\" stroke=\"black\" points=\"476.5,-364.5 598.5,-364.5 \"/>\n",
       "<text text-anchor=\"middle\" x=\"537.5\" y=\"-349.3\" font-family=\"Times,serif\" font-size=\"14.00\">In: 6</text>\n",
       "<polyline fill=\"none\" stroke=\"black\" points=\"476.5,-341.5 598.5,-341.5 \"/>\n",
       "<text text-anchor=\"middle\" x=\"537.5\" y=\"-326.3\" font-family=\"Times,serif\" font-size=\"14.00\">Out: 7</text>\n",
       "</g>\n",
       "<!-- 14&#45;&gt;15 -->\n",
       "<g id=\"edge24\" class=\"edge\">\n",
       "<title>14&#45;&gt;15</title>\n",
       "<path fill=\"none\" stroke=\"black\" d=\"M542.23,-424.23C541.66,-415.79 541.04,-406.62 540.45,-397.77\"/>\n",
       "<polygon fill=\"black\" stroke=\"black\" points=\"543.93,-397.34 539.76,-387.6 536.94,-397.81 543.93,-397.34\"/>\n",
       "</g>\n",
       "<!-- 16 -->\n",
       "<g id=\"node17\" class=\"node\">\n",
       "<title>16</title>\n",
       "<polygon fill=\"none\" stroke=\"black\" points=\"616.5,-318.5 616.5,-387.5 734.5,-387.5 734.5,-318.5 616.5,-318.5\"/>\n",
       "<text text-anchor=\"middle\" x=\"675.5\" y=\"-372.3\" font-family=\"Times,serif\" font-size=\"14.00\">Op: avg_pool_3x3</text>\n",
       "<polyline fill=\"none\" stroke=\"black\" points=\"616.5,-364.5 734.5,-364.5 \"/>\n",
       "<text text-anchor=\"middle\" x=\"675.5\" y=\"-349.3\" font-family=\"Times,serif\" font-size=\"14.00\">In: 6</text>\n",
       "<polyline fill=\"none\" stroke=\"black\" points=\"616.5,-341.5 734.5,-341.5 \"/>\n",
       "<text text-anchor=\"middle\" x=\"675.5\" y=\"-326.3\" font-family=\"Times,serif\" font-size=\"14.00\">Out: 8</text>\n",
       "</g>\n",
       "<!-- 14&#45;&gt;16 -->\n",
       "<g id=\"edge25\" class=\"edge\">\n",
       "<title>14&#45;&gt;16</title>\n",
       "<path fill=\"none\" stroke=\"black\" d=\"M578.24,-431.22C592.44,-419.94 609.27,-406.58 624.9,-394.17\"/>\n",
       "<polygon fill=\"black\" stroke=\"black\" points=\"627.3,-396.74 632.95,-387.78 622.94,-391.26 627.3,-396.74\"/>\n",
       "</g>\n",
       "<!-- 15&#45;&gt;17 -->\n",
       "<g id=\"edge26\" class=\"edge\">\n",
       "<title>15&#45;&gt;17</title>\n",
       "<path fill=\"none\" stroke=\"black\" d=\"M548.54,-318.23C551.36,-309.61 554.43,-300.22 557.38,-291.19\"/>\n",
       "<polygon fill=\"black\" stroke=\"black\" points=\"560.74,-292.19 560.52,-281.6 554.08,-290.01 560.74,-292.19\"/>\n",
       "</g>\n",
       "<!-- 15&#45;&gt;18 -->\n",
       "<g id=\"edge27\" class=\"edge\">\n",
       "<title>15&#45;&gt;18</title>\n",
       "<path fill=\"none\" stroke=\"black\" d=\"M504.71,-318.23C495.62,-308.88 485.66,-298.62 476.22,-288.9\"/>\n",
       "<polygon fill=\"black\" stroke=\"black\" points=\"478.6,-286.33 469.13,-281.6 473.58,-291.21 478.6,-286.33\"/>\n",
       "</g>\n",
       "<!-- 19 -->\n",
       "<g id=\"node20\" class=\"node\">\n",
       "<title>19</title>\n",
       "<polygon fill=\"none\" stroke=\"black\" points=\"512,-106.5 512,-175.5 631,-175.5 631,-106.5 512,-106.5\"/>\n",
       "<text text-anchor=\"middle\" x=\"571.5\" y=\"-160.3\" font-family=\"Times,serif\" font-size=\"14.00\">Op: sep_conv_3x3</text>\n",
       "<polyline fill=\"none\" stroke=\"black\" points=\"512,-152.5 631,-152.5 \"/>\n",
       "<text text-anchor=\"middle\" x=\"571.5\" y=\"-137.3\" font-family=\"Times,serif\" font-size=\"14.00\">In: 8</text>\n",
       "<polyline fill=\"none\" stroke=\"black\" points=\"512,-129.5 631,-129.5 \"/>\n",
       "<text text-anchor=\"middle\" x=\"571.5\" y=\"-114.3\" font-family=\"Times,serif\" font-size=\"14.00\">Out: 9</text>\n",
       "</g>\n",
       "<!-- 16&#45;&gt;19 -->\n",
       "<g id=\"edge28\" class=\"edge\">\n",
       "<title>16&#45;&gt;19</title>\n",
       "<path fill=\"none\" stroke=\"black\" d=\"M670.74,-318.32C665.53,-288.83 655.28,-245.58 636.5,-212 630.86,-201.93 623.49,-192.15 615.73,-183.27\"/>\n",
       "<polygon fill=\"black\" stroke=\"black\" points=\"618.17,-180.74 608.86,-175.7 612.99,-185.45 618.17,-180.74\"/>\n",
       "</g>\n",
       "<!-- 17&#45;&gt;19 -->\n",
       "<g id=\"edge29\" class=\"edge\">\n",
       "<title>17&#45;&gt;19</title>\n",
       "<path fill=\"none\" stroke=\"black\" d=\"M571.5,-212.23C571.5,-203.79 571.5,-194.62 571.5,-185.77\"/>\n",
       "<polygon fill=\"black\" stroke=\"black\" points=\"575,-185.6 571.5,-175.6 568,-185.6 575,-185.6\"/>\n",
       "</g>\n",
       "<!-- 18&#45;&gt;20 -->\n",
       "<g id=\"edge30\" class=\"edge\">\n",
       "<title>18&#45;&gt;20</title>\n",
       "<path fill=\"none\" stroke=\"black\" d=\"M427.98,-212.26C418.89,-176.21 404.43,-118.94 394.48,-79.52\"/>\n",
       "<polygon fill=\"black\" stroke=\"black\" points=\"397.83,-78.5 391.99,-69.66 391.05,-80.21 397.83,-78.5\"/>\n",
       "</g>\n",
       "<!-- 19&#45;&gt;20 -->\n",
       "<g id=\"edge31\" class=\"edge\">\n",
       "<title>19&#45;&gt;20</title>\n",
       "<path fill=\"none\" stroke=\"black\" d=\"M511.76,-106.95C483.89,-91.54 451.37,-73.55 426.05,-59.54\"/>\n",
       "<polygon fill=\"black\" stroke=\"black\" points=\"427.52,-56.35 417.07,-54.57 424.13,-62.47 427.52,-56.35\"/>\n",
       "</g>\n",
       "</g>\n",
       "</svg>\n"
      ],
      "text/plain": [
       "<graphviz.graphs.Digraph at 0x7d7d293759c0>"
      ]
     },
     "metadata": {},
     "output_type": "display_data"
    }
   ],
   "source": [
    "graph.show_graph()"
   ]
  },
  {
   "cell_type": "code",
   "execution_count": 10,
   "metadata": {
    "execution": {
     "iopub.execute_input": "2025-05-08T15:53:20.811075Z",
     "iopub.status.busy": "2025-05-08T15:53:20.810774Z",
     "iopub.status.idle": "2025-05-08T15:53:20.823778Z",
     "shell.execute_reply": "2025-05-08T15:53:20.822983Z",
     "shell.execute_reply.started": "2025-05-08T15:53:20.811054Z"
    },
    "papermill": {
     "duration": 0.02457,
     "end_time": "2025-04-10T15:59:36.622731",
     "exception": false,
     "start_time": "2025-04-10T15:59:36.598161",
     "status": "completed"
    },
    "tags": [],
    "trusted": true
   },
   "outputs": [
    {
     "data": {
      "text/plain": [
       "(array([[0., 1., 1., 1., 0., 0., 0., 0., 0., 0., 0., 0., 0., 0., 0., 0.,\n",
       "         0., 0., 0., 0., 0.],\n",
       "        [0., 0., 0., 0., 0., 0., 0., 1., 1., 0., 0., 0., 0., 0., 0., 0.,\n",
       "         0., 0., 0., 0., 0.],\n",
       "        [0., 0., 0., 0., 0., 0., 0., 0., 0., 1., 0., 0., 0., 0., 0., 0.,\n",
       "         0., 0., 0., 0., 0.],\n",
       "        [0., 0., 0., 0., 0., 0., 0., 0., 0., 0., 1., 0., 0., 0., 0., 0.,\n",
       "         0., 0., 0., 0., 0.],\n",
       "        [0., 0., 0., 0., 0., 1., 1., 0., 0., 0., 0., 0., 0., 0., 1., 0.,\n",
       "         0., 0., 0., 0., 0.],\n",
       "        [0., 0., 0., 0., 0., 0., 0., 1., 1., 0., 0., 0., 0., 0., 0., 0.,\n",
       "         0., 0., 0., 0., 0.],\n",
       "        [0., 0., 0., 0., 0., 0., 0., 0., 0., 0., 1., 0., 0., 0., 0., 0.,\n",
       "         0., 0., 0., 0., 0.],\n",
       "        [0., 0., 0., 0., 0., 0., 0., 0., 0., 1., 0., 0., 0., 0., 0., 0.,\n",
       "         0., 0., 0., 0., 0.],\n",
       "        [0., 0., 0., 0., 0., 0., 0., 0., 0., 0., 1., 0., 0., 0., 0., 0.,\n",
       "         0., 0., 0., 0., 0.],\n",
       "        [0., 0., 0., 0., 0., 0., 0., 0., 0., 0., 1., 0., 0., 0., 0., 0.,\n",
       "         0., 0., 0., 0., 0.],\n",
       "        [0., 0., 0., 0., 0., 0., 0., 0., 0., 0., 0., 1., 1., 1., 0., 0.,\n",
       "         0., 0., 0., 0., 0.],\n",
       "        [0., 0., 0., 0., 0., 0., 0., 0., 0., 0., 0., 0., 0., 0., 0., 0.,\n",
       "         0., 1., 1., 0., 0.],\n",
       "        [0., 0., 0., 0., 0., 0., 0., 0., 0., 0., 0., 0., 0., 0., 0., 0.,\n",
       "         0., 0., 0., 0., 1.],\n",
       "        [0., 0., 0., 0., 0., 0., 0., 0., 0., 0., 0., 0., 0., 0., 0., 0.,\n",
       "         0., 0., 0., 0., 1.],\n",
       "        [0., 0., 0., 0., 0., 0., 0., 0., 0., 0., 0., 0., 0., 0., 0., 1.,\n",
       "         1., 0., 0., 0., 0.],\n",
       "        [0., 0., 0., 0., 0., 0., 0., 0., 0., 0., 0., 0., 0., 0., 0., 0.,\n",
       "         0., 1., 1., 0., 0.],\n",
       "        [0., 0., 0., 0., 0., 0., 0., 0., 0., 0., 0., 0., 0., 0., 0., 0.,\n",
       "         0., 0., 0., 1., 0.],\n",
       "        [0., 0., 0., 0., 0., 0., 0., 0., 0., 0., 0., 0., 0., 0., 0., 0.,\n",
       "         0., 0., 0., 1., 0.],\n",
       "        [0., 0., 0., 0., 0., 0., 0., 0., 0., 0., 0., 0., 0., 0., 0., 0.,\n",
       "         0., 0., 0., 0., 1.],\n",
       "        [0., 0., 0., 0., 0., 0., 0., 0., 0., 0., 0., 0., 0., 0., 0., 0.,\n",
       "         0., 0., 0., 0., 1.],\n",
       "        [0., 0., 0., 0., 0., 0., 0., 0., 0., 0., 0., 0., 0., 0., 0., 0.,\n",
       "         0., 0., 0., 0., 0.]]),\n",
       " ['none',\n",
       "  'sep_conv_5x5',\n",
       "  'sep_conv_5x5',\n",
       "  'dil_conv_5x5',\n",
       "  'none',\n",
       "  'avg_pool_3x3',\n",
       "  'sep_conv_5x5',\n",
       "  'max_pool_3x3',\n",
       "  'skip_connect',\n",
       "  'dil_conv_5x5',\n",
       "  'none',\n",
       "  'sep_conv_5x5',\n",
       "  'sep_conv_5x5',\n",
       "  'max_pool_3x3',\n",
       "  'none',\n",
       "  'max_pool_3x3',\n",
       "  'avg_pool_3x3',\n",
       "  'skip_connect',\n",
       "  'max_pool_3x3',\n",
       "  'sep_conv_3x3',\n",
       "  'none'],\n",
       " array([[0., 0., 0., 0., 1., 0., 0., 0.],\n",
       "        [0., 0., 0., 0., 0., 0., 1., 0.],\n",
       "        [0., 0., 0., 0., 0., 0., 1., 0.],\n",
       "        [0., 0., 1., 0., 0., 0., 0., 0.],\n",
       "        [0., 0., 0., 0., 1., 0., 0., 0.],\n",
       "        [1., 0., 0., 0., 0., 0., 0., 0.],\n",
       "        [0., 0., 0., 0., 0., 0., 1., 0.],\n",
       "        [0., 0., 0., 1., 0., 0., 0., 0.],\n",
       "        [0., 0., 0., 0., 0., 0., 0., 1.],\n",
       "        [0., 0., 1., 0., 0., 0., 0., 0.],\n",
       "        [0., 0., 0., 0., 1., 0., 0., 0.],\n",
       "        [0., 0., 0., 0., 0., 0., 1., 0.],\n",
       "        [0., 0., 0., 0., 0., 0., 1., 0.],\n",
       "        [0., 0., 0., 1., 0., 0., 0., 0.],\n",
       "        [0., 0., 0., 0., 1., 0., 0., 0.],\n",
       "        [0., 0., 0., 1., 0., 0., 0., 0.],\n",
       "        [1., 0., 0., 0., 0., 0., 0., 0.],\n",
       "        [0., 0., 0., 0., 0., 0., 0., 1.],\n",
       "        [0., 0., 0., 1., 0., 0., 0., 0.],\n",
       "        [0., 0., 0., 0., 0., 1., 0., 0.],\n",
       "        [0., 0., 0., 0., 1., 0., 0., 0.]]))"
      ]
     },
     "execution_count": 10,
     "metadata": {},
     "output_type": "execute_result"
    }
   ],
   "source": [
    "graph.get_adjacency_matrix()"
   ]
  },
  {
   "cell_type": "code",
   "execution_count": 11,
   "metadata": {
    "execution": {
     "iopub.execute_input": "2025-05-08T15:53:20.824792Z",
     "iopub.status.busy": "2025-05-08T15:53:20.824569Z",
     "iopub.status.idle": "2025-05-08T15:53:20.842475Z",
     "shell.execute_reply": "2025-05-08T15:53:20.841807Z",
     "shell.execute_reply.started": "2025-05-08T15:53:20.824774Z"
    },
    "papermill": {
     "duration": 0.01749,
     "end_time": "2025-04-10T15:59:36.650704",
     "exception": false,
     "start_time": "2025-04-10T15:59:36.633214",
     "status": "completed"
    },
    "tags": [],
    "trusted": true
   },
   "outputs": [
    {
     "data": {
      "text/plain": [
       "[Op: none | In: 0 | Out: 0,\n",
       " Op: sep_conv_5x5 | In: 0 | Out: 2,\n",
       " Op: sep_conv_5x5 | In: 0 | Out: 3,\n",
       " Op: dil_conv_5x5 | In: 0 | Out: 5,\n",
       " Op: none | In: 1 | Out: 1,\n",
       " Op: avg_pool_3x3 | In: 1 | Out: 2,\n",
       " Op: sep_conv_5x5 | In: 1 | Out: 4,\n",
       " Op: max_pool_3x3 | In: 2 | Out: 3,\n",
       " Op: skip_connect | In: 2 | Out: 4,\n",
       " Op: dil_conv_5x5 | In: 3 | Out: 5]"
      ]
     },
     "execution_count": 11,
     "metadata": {},
     "output_type": "execute_result"
    }
   ],
   "source": [
    "graph._normal_graph"
   ]
  },
  {
   "cell_type": "code",
   "execution_count": 12,
   "metadata": {
    "execution": {
     "iopub.execute_input": "2025-05-08T15:53:20.843427Z",
     "iopub.status.busy": "2025-05-08T15:53:20.843209Z",
     "iopub.status.idle": "2025-05-08T15:53:20.858087Z",
     "shell.execute_reply": "2025-05-08T15:53:20.857394Z",
     "shell.execute_reply.started": "2025-05-08T15:53:20.843396Z"
    },
    "papermill": {
     "duration": 0.017447,
     "end_time": "2025-04-10T15:59:36.678813",
     "exception": false,
     "start_time": "2025-04-10T15:59:36.661366",
     "status": "completed"
    },
    "tags": [],
    "trusted": true
   },
   "outputs": [
    {
     "data": {
      "text/plain": [
       "[Op: none | In: 0 | Out: 0,\n",
       " Op: sep_conv_5x5 | In: 0 | Out: 2,\n",
       " Op: sep_conv_5x5 | In: 0 | Out: 4,\n",
       " Op: max_pool_3x3 | In: 0 | Out: 5,\n",
       " Op: none | In: 1 | Out: 1,\n",
       " Op: max_pool_3x3 | In: 1 | Out: 2,\n",
       " Op: avg_pool_3x3 | In: 1 | Out: 3,\n",
       " Op: skip_connect | In: 2 | Out: 3,\n",
       " Op: max_pool_3x3 | In: 2 | Out: 5,\n",
       " Op: sep_conv_3x3 | In: 3 | Out: 4]"
      ]
     },
     "execution_count": 12,
     "metadata": {},
     "output_type": "execute_result"
    }
   ],
   "source": [
    "graph._reduction_graph\n"
   ]
  },
  {
   "cell_type": "markdown",
   "metadata": {
    "papermill": {
     "duration": 0.010992,
     "end_time": "2025-04-10T15:59:36.700771",
     "exception": false,
     "start_time": "2025-04-10T15:59:36.689779",
     "status": "completed"
    },
    "tags": []
   },
   "source": [
    "Матрица смежности и описания узлов(сначала в виде строк, потом в виде one-hot векторов) представлены так"
   ]
  },
  {
   "cell_type": "code",
   "execution_count": 13,
   "metadata": {
    "execution": {
     "iopub.execute_input": "2025-05-08T15:53:20.859304Z",
     "iopub.status.busy": "2025-05-08T15:53:20.858996Z",
     "iopub.status.idle": "2025-05-08T15:53:20.879523Z",
     "shell.execute_reply": "2025-05-08T15:53:20.878745Z",
     "shell.execute_reply.started": "2025-05-08T15:53:20.859268Z"
    },
    "papermill": {
     "duration": 0.025042,
     "end_time": "2025-04-10T15:59:36.736866",
     "exception": false,
     "start_time": "2025-04-10T15:59:36.711824",
     "status": "completed"
    },
    "tags": [],
    "trusted": true
   },
   "outputs": [
    {
     "data": {
      "text/plain": [
       "(array([[0., 1., 1., 1., 0., 0., 0., 0., 0., 0., 0., 0., 0., 0., 0., 0.,\n",
       "         0., 0., 0., 0., 0.],\n",
       "        [0., 0., 0., 0., 0., 0., 0., 1., 1., 0., 0., 0., 0., 0., 0., 0.,\n",
       "         0., 0., 0., 0., 0.],\n",
       "        [0., 0., 0., 0., 0., 0., 0., 0., 0., 1., 0., 0., 0., 0., 0., 0.,\n",
       "         0., 0., 0., 0., 0.],\n",
       "        [0., 0., 0., 0., 0., 0., 0., 0., 0., 0., 1., 0., 0., 0., 0., 0.,\n",
       "         0., 0., 0., 0., 0.],\n",
       "        [0., 0., 0., 0., 0., 1., 1., 0., 0., 0., 0., 0., 0., 0., 1., 0.,\n",
       "         0., 0., 0., 0., 0.],\n",
       "        [0., 0., 0., 0., 0., 0., 0., 1., 1., 0., 0., 0., 0., 0., 0., 0.,\n",
       "         0., 0., 0., 0., 0.],\n",
       "        [0., 0., 0., 0., 0., 0., 0., 0., 0., 0., 1., 0., 0., 0., 0., 0.,\n",
       "         0., 0., 0., 0., 0.],\n",
       "        [0., 0., 0., 0., 0., 0., 0., 0., 0., 1., 0., 0., 0., 0., 0., 0.,\n",
       "         0., 0., 0., 0., 0.],\n",
       "        [0., 0., 0., 0., 0., 0., 0., 0., 0., 0., 1., 0., 0., 0., 0., 0.,\n",
       "         0., 0., 0., 0., 0.],\n",
       "        [0., 0., 0., 0., 0., 0., 0., 0., 0., 0., 1., 0., 0., 0., 0., 0.,\n",
       "         0., 0., 0., 0., 0.],\n",
       "        [0., 0., 0., 0., 0., 0., 0., 0., 0., 0., 0., 1., 1., 1., 0., 0.,\n",
       "         0., 0., 0., 0., 0.],\n",
       "        [0., 0., 0., 0., 0., 0., 0., 0., 0., 0., 0., 0., 0., 0., 0., 0.,\n",
       "         0., 1., 1., 0., 0.],\n",
       "        [0., 0., 0., 0., 0., 0., 0., 0., 0., 0., 0., 0., 0., 0., 0., 0.,\n",
       "         0., 0., 0., 0., 1.],\n",
       "        [0., 0., 0., 0., 0., 0., 0., 0., 0., 0., 0., 0., 0., 0., 0., 0.,\n",
       "         0., 0., 0., 0., 1.],\n",
       "        [0., 0., 0., 0., 0., 0., 0., 0., 0., 0., 0., 0., 0., 0., 0., 1.,\n",
       "         1., 0., 0., 0., 0.],\n",
       "        [0., 0., 0., 0., 0., 0., 0., 0., 0., 0., 0., 0., 0., 0., 0., 0.,\n",
       "         0., 1., 1., 0., 0.],\n",
       "        [0., 0., 0., 0., 0., 0., 0., 0., 0., 0., 0., 0., 0., 0., 0., 0.,\n",
       "         0., 0., 0., 1., 0.],\n",
       "        [0., 0., 0., 0., 0., 0., 0., 0., 0., 0., 0., 0., 0., 0., 0., 0.,\n",
       "         0., 0., 0., 1., 0.],\n",
       "        [0., 0., 0., 0., 0., 0., 0., 0., 0., 0., 0., 0., 0., 0., 0., 0.,\n",
       "         0., 0., 0., 0., 1.],\n",
       "        [0., 0., 0., 0., 0., 0., 0., 0., 0., 0., 0., 0., 0., 0., 0., 0.,\n",
       "         0., 0., 0., 0., 1.],\n",
       "        [0., 0., 0., 0., 0., 0., 0., 0., 0., 0., 0., 0., 0., 0., 0., 0.,\n",
       "         0., 0., 0., 0., 0.]]),\n",
       " ['none',\n",
       "  'sep_conv_5x5',\n",
       "  'sep_conv_5x5',\n",
       "  'dil_conv_5x5',\n",
       "  'none',\n",
       "  'avg_pool_3x3',\n",
       "  'sep_conv_5x5',\n",
       "  'max_pool_3x3',\n",
       "  'skip_connect',\n",
       "  'dil_conv_5x5',\n",
       "  'none',\n",
       "  'sep_conv_5x5',\n",
       "  'sep_conv_5x5',\n",
       "  'max_pool_3x3',\n",
       "  'none',\n",
       "  'max_pool_3x3',\n",
       "  'avg_pool_3x3',\n",
       "  'skip_connect',\n",
       "  'max_pool_3x3',\n",
       "  'sep_conv_3x3',\n",
       "  'none'],\n",
       " array([[0., 0., 0., 0., 1., 0., 0., 0.],\n",
       "        [0., 0., 0., 0., 0., 0., 1., 0.],\n",
       "        [0., 0., 0., 0., 0., 0., 1., 0.],\n",
       "        [0., 0., 1., 0., 0., 0., 0., 0.],\n",
       "        [0., 0., 0., 0., 1., 0., 0., 0.],\n",
       "        [1., 0., 0., 0., 0., 0., 0., 0.],\n",
       "        [0., 0., 0., 0., 0., 0., 1., 0.],\n",
       "        [0., 0., 0., 1., 0., 0., 0., 0.],\n",
       "        [0., 0., 0., 0., 0., 0., 0., 1.],\n",
       "        [0., 0., 1., 0., 0., 0., 0., 0.],\n",
       "        [0., 0., 0., 0., 1., 0., 0., 0.],\n",
       "        [0., 0., 0., 0., 0., 0., 1., 0.],\n",
       "        [0., 0., 0., 0., 0., 0., 1., 0.],\n",
       "        [0., 0., 0., 1., 0., 0., 0., 0.],\n",
       "        [0., 0., 0., 0., 1., 0., 0., 0.],\n",
       "        [0., 0., 0., 1., 0., 0., 0., 0.],\n",
       "        [1., 0., 0., 0., 0., 0., 0., 0.],\n",
       "        [0., 0., 0., 0., 0., 0., 0., 1.],\n",
       "        [0., 0., 0., 1., 0., 0., 0., 0.],\n",
       "        [0., 0., 0., 0., 0., 1., 0., 0.],\n",
       "        [0., 0., 0., 0., 1., 0., 0., 0.]]))"
      ]
     },
     "execution_count": 13,
     "metadata": {},
     "output_type": "execute_result"
    }
   ],
   "source": [
    "graph.get_adjacency_matrix()"
   ]
  },
  {
   "cell_type": "markdown",
   "metadata": {
    "papermill": {
     "duration": 0.010719,
     "end_time": "2025-04-10T15:59:36.759079",
     "exception": false,
     "start_time": "2025-04-10T15:59:36.748360",
     "status": "completed"
    },
    "tags": []
   },
   "source": [
    "Рассчитаю разнообразие наивно -- просто буду говорить каков процент совпадений ответов у моделей "
   ]
  },
  {
   "cell_type": "code",
   "execution_count": 14,
   "metadata": {
    "execution": {
     "iopub.execute_input": "2025-05-08T15:53:20.880528Z",
     "iopub.status.busy": "2025-05-08T15:53:20.880327Z",
     "iopub.status.idle": "2025-05-08T15:53:20.892409Z",
     "shell.execute_reply": "2025-05-08T15:53:20.891627Z",
     "shell.execute_reply.started": "2025-05-08T15:53:20.880510Z"
    },
    "papermill": {
     "duration": 0.019545,
     "end_time": "2025-04-10T15:59:36.789624",
     "exception": false,
     "start_time": "2025-04-10T15:59:36.770079",
     "status": "completed"
    },
    "tags": [],
    "trusted": true
   },
   "outputs": [],
   "source": [
    "def get_diversity(args):\n",
    "    i, j, model_i, model_j = args\n",
    "    preds_i = np.array(model_i[\"test_predictions\"])\n",
    "    preds_j = np.array(model_j[\"test_predictions\"])\n",
    "    distance = np.mean(preds_i == preds_j)\n",
    "    return (i, j, distance)\n",
    "\n",
    "def get_diversity_using_jensen_shannon(args):\n",
    "    i, j, model_i, model_j= args\n",
    "    preds_i = np.array(model_i[\"test_predictions\"])\n",
    "    preds_j = np.array(model_j[\"test_predictions\"])\n",
    "    distance = np.mean([np.sqrt(jensenshannon(p1, p2)) for p1, p2 in zip(preds_i, preds_j)])\n",
    "    return (i, j, distance)"
   ]
  },
  {
   "cell_type": "markdown",
   "metadata": {
    "papermill": {
     "duration": 0.011595,
     "end_time": "2025-04-10T15:59:36.813236",
     "exception": false,
     "start_time": "2025-04-10T15:59:36.801641",
     "status": "completed"
    },
    "tags": []
   },
   "source": [
    "Построю матрицу разнообразия"
   ]
  },
  {
   "cell_type": "code",
   "execution_count": 15,
   "metadata": {
    "execution": {
     "iopub.execute_input": "2025-05-08T15:53:20.893409Z",
     "iopub.status.busy": "2025-05-08T15:53:20.893180Z",
     "iopub.status.idle": "2025-05-08T15:53:20.911217Z",
     "shell.execute_reply": "2025-05-08T15:53:20.910300Z",
     "shell.execute_reply.started": "2025-05-08T15:53:20.893389Z"
    },
    "papermill": {
     "duration": 0.022754,
     "end_time": "2025-04-10T15:59:36.847812",
     "exception": false,
     "start_time": "2025-04-10T15:59:36.825058",
     "status": "completed"
    },
    "tags": [],
    "trusted": true
   },
   "outputs": [],
   "source": [
    "def get_diversity_matrix_naive(models_dict, num_samples=None):\n",
    "    n_models = len(models_dict)\n",
    "    diversity_matrix = np.eye(n_models)\n",
    "\n",
    "    # Предобработка: обрезаем и кешируем предсказания\n",
    "    cached_preds = {}\n",
    "    for i in range(n_models):\n",
    "        preds = np.array(models_dict[i][\"test_predictions\"])\n",
    "        if num_samples is not None:\n",
    "            preds = preds[:num_samples]\n",
    "        cached_preds[i] = preds\n",
    "\n",
    "    for i in tqdm(range(n_models), desc=\"Computing diversity matrix\"):\n",
    "        for j in range(i + 1, n_models):\n",
    "            distance = np.mean(cached_preds[i] == cached_preds[j])\n",
    "            diversity_matrix[i, j] = diversity_matrix[j, i] = distance\n",
    "\n",
    "    return diversity_matrix\n",
    "\n",
    "def get_diversity_matrix(models_dict, num_samples=2000):\n",
    "    n_models = len(models_dict)\n",
    "    diversity_matrix = np.eye(n_models)\n",
    "\n",
    "    # Предобработка: обрезаем и кешируем предсказания\n",
    "    cached_preds = {}\n",
    "    for i in range(n_models):\n",
    "        preds = np.array(models_dict[i][\"test_predictions\"])\n",
    "        cached_preds[i] = preds\n",
    "\n",
    "    for i in tqdm(range(n_models), desc=\"Computing diversity matrix\"):\n",
    "        for j in range(i + 1, n_models):\n",
    "            distance = np.mean(np.sqrt(jensenshannon(cached_preds[i], cached_preds[j])))\n",
    "            diversity_matrix[i, j] = distance\n",
    "            diversity_matrix[j, i] = distance\n",
    "\n",
    "    return diversity_matrix"
   ]
  },
  {
   "cell_type": "code",
   "execution_count": 16,
   "metadata": {
    "execution": {
     "iopub.execute_input": "2025-05-08T15:53:20.912587Z",
     "iopub.status.busy": "2025-05-08T15:53:20.912264Z",
     "iopub.status.idle": "2025-05-08T16:34:30.065839Z",
     "shell.execute_reply": "2025-05-08T16:34:30.064957Z",
     "shell.execute_reply.started": "2025-05-08T15:53:20.912555Z"
    },
    "papermill": {
     "duration": 22.960355,
     "end_time": "2025-04-10T15:59:59.819743",
     "exception": false,
     "start_time": "2025-04-10T15:59:36.859388",
     "status": "completed"
    },
    "tags": [],
    "trusted": true
   },
   "outputs": [
    {
     "name": "stderr",
     "output_type": "stream",
     "text": [
      "Computing diversity matrix: 100%|██████████| 1000/1000 [41:00<00:00,  2.46s/it] \n"
     ]
    }
   ],
   "source": [
    "diversity_matrix = get_diversity_matrix(models_dict)"
   ]
  },
  {
   "cell_type": "code",
   "execution_count": 17,
   "metadata": {
    "execution": {
     "iopub.execute_input": "2025-05-08T16:34:30.067145Z",
     "iopub.status.busy": "2025-05-08T16:34:30.066852Z",
     "iopub.status.idle": "2025-05-08T16:34:30.490292Z",
     "shell.execute_reply": "2025-05-08T16:34:30.489480Z",
     "shell.execute_reply.started": "2025-05-08T16:34:30.067124Z"
    },
    "papermill": {
     "duration": 0.585071,
     "end_time": "2025-04-10T16:00:00.427002",
     "exception": false,
     "start_time": "2025-04-10T15:59:59.841931",
     "status": "completed"
    },
    "tags": [],
    "trusted": true
   },
   "outputs": [
    {
     "name": "stderr",
     "output_type": "stream",
     "text": [
      "100%|██████████| 1000/1000 [00:00<00:00, 7022.56it/s]\n"
     ]
    },
    {
     "data": {
      "image/png": "[encoded data removed]",
      "text/plain": [
       "<Figure size 1000x600 with 1 Axes>"
      ]
     },
     "metadata": {},
     "output_type": "display_data"
    }
   ],
   "source": [
    "diversities = []\n",
    "\n",
    "for i in tqdm(range(len(models_dict))):\n",
    "    for j in range(i + 1, len(models_dict)):\n",
    "        diversities.append(diversity_matrix[i, j])\n",
    "diversities = np.array(diversities)\n",
    "\n",
    "plt.figure(figsize=(10, 6))\n",
    "\n",
    "plt.hist(diversities, bins=50, edgecolor=\"black\", weights=np.ones(len(diversities)) / len(diversities))\n",
    "# plt.title(\"Distribution of Model Diversity\")\n",
    "plt.xlabel(\"Percentage of Differences\", fontsize=18)\n",
    "plt.ylabel(\"Percentage\", fontsize=18)\n",
    "plt.grid(axis='y', linestyle='--', alpha=0.7)\n",
    "plt.xticks(fontsize=16)\n",
    "plt.yticks(fontsize=16)\n",
    "plt.show()"
   ]
  },
  {
   "cell_type": "markdown",
   "metadata": {
    "papermill": {
     "duration": 0.022295,
     "end_time": "2025-04-10T16:00:00.472612",
     "exception": false,
     "start_time": "2025-04-10T16:00:00.450317",
     "status": "completed"
    },
    "tags": []
   },
   "source": [
    "Для triplet loss нам нужно будет подбирать positive и negative примеры, для этого удобно будет использовать дискретную матрицу разнообразия\n",
    "\n",
    "В ней 1 -- positive, -1 -- negative, 0 в ином случае."
   ]
  },
  {
   "cell_type": "code",
   "execution_count": 18,
   "metadata": {
    "execution": {
     "iopub.execute_input": "2025-05-08T16:34:30.491401Z",
     "iopub.status.busy": "2025-05-08T16:34:30.491137Z",
     "iopub.status.idle": "2025-05-08T16:34:30.495672Z",
     "shell.execute_reply": "2025-05-08T16:34:30.494990Z",
     "shell.execute_reply.started": "2025-05-08T16:34:30.491379Z"
    },
    "papermill": {
     "duration": 0.029419,
     "end_time": "2025-04-10T16:00:00.524285",
     "exception": false,
     "start_time": "2025-04-10T16:00:00.494866",
     "status": "completed"
    },
    "tags": [],
    "trusted": true
   },
   "outputs": [],
   "source": [
    "def create_discrete_diversity_matrix(models_dict, diversity_matrix):\n",
    "    discrete_diversity_matrix = np.zeros((len(models_dict), len(models_dict)))\n",
    "\n",
    "    upper_margins = np.quantile(diversity_matrix, 0.8, axis=1)\n",
    "    lower_margins = np.quantile(diversity_matrix, 0.2, axis=1)\n",
    "\n",
    "    discrete_diversity_matrix[diversity_matrix > upper_margins[:, None]] = 1\n",
    "    discrete_diversity_matrix[diversity_matrix < lower_margins[:, None]] = -1\n",
    "\n",
    "    return discrete_diversity_matrix"
   ]
  },
  {
   "cell_type": "code",
   "execution_count": 19,
   "metadata": {
    "execution": {
     "iopub.execute_input": "2025-05-08T16:34:30.496696Z",
     "iopub.status.busy": "2025-05-08T16:34:30.496418Z",
     "iopub.status.idle": "2025-05-08T16:34:30.570477Z",
     "shell.execute_reply": "2025-05-08T16:34:30.569775Z",
     "shell.execute_reply.started": "2025-05-08T16:34:30.496668Z"
    },
    "papermill": {
     "duration": 0.114839,
     "end_time": "2025-04-10T16:00:00.662047",
     "exception": false,
     "start_time": "2025-04-10T16:00:00.547208",
     "status": "completed"
    },
    "tags": [],
    "trusted": true
   },
   "outputs": [],
   "source": [
    "discrete_diversity_matrix = create_discrete_diversity_matrix(models_dict, diversity_matrix)"
   ]
  },
  {
   "cell_type": "markdown",
   "metadata": {
    "papermill": {
     "duration": 0.02218,
     "end_time": "2025-04-10T16:00:00.706161",
     "exception": false,
     "start_time": "2025-04-10T16:00:00.683981",
     "status": "completed"
    },
    "tags": []
   },
   "source": [
    "Строим тренировочный и валидационный датасеты."
   ]
  },
  {
   "cell_type": "code",
   "execution_count": 20,
   "metadata": {
    "execution": {
     "iopub.execute_input": "2025-05-08T16:34:30.571451Z",
     "iopub.status.busy": "2025-05-08T16:34:30.571236Z",
     "iopub.status.idle": "2025-05-08T16:34:53.269851Z",
     "shell.execute_reply": "2025-05-08T16:34:53.268890Z",
     "shell.execute_reply.started": "2025-05-08T16:34:30.571432Z"
    },
    "papermill": {
     "duration": 3.848322,
     "end_time": "2025-04-10T16:00:04.576314",
     "exception": false,
     "start_time": "2025-04-10T16:00:00.727992",
     "status": "completed"
    },
    "tags": [],
    "trusted": true
   },
   "outputs": [
    {
     "name": "stdout",
     "output_type": "stream",
     "text": [
      "Train dataset size: 800\n",
      "Test dataset size: 200\n"
     ]
    }
   ],
   "source": [
    "graphs = [Graph(model_dict, index=i) for (i, model_dict) in enumerate(models_dict)]\n",
    "accuracies = [model['test_accuracy'] for model in models_dict]\n",
    "graphs_dataset = CustomDataset(graphs, accuracies)\n",
    "\n",
    "train_size = int(0.8 * len(graphs_dataset))  # 80% для тренировки\n",
    "valid_size = len(graphs_dataset) - train_size  # Остальные 20% для теста\n",
    "\n",
    "base_train_dataset, base_valid_dataset = random_split(graphs_dataset, [train_size, valid_size])\n",
    "\n",
    "print(f\"Train dataset size: {len(base_train_dataset)}\")\n",
    "print(f\"Test dataset size: {len(base_valid_dataset)}\")"
   ]
  },
  {
   "cell_type": "code",
   "execution_count": 21,
   "metadata": {
    "execution": {
     "iopub.execute_input": "2025-05-08T16:34:53.271429Z",
     "iopub.status.busy": "2025-05-08T16:34:53.271035Z",
     "iopub.status.idle": "2025-05-08T16:34:53.407352Z",
     "shell.execute_reply": "2025-05-08T16:34:53.406637Z",
     "shell.execute_reply.started": "2025-05-08T16:34:53.271395Z"
    },
    "trusted": true
   },
   "outputs": [],
   "source": [
    "train_dataset = TripletGraphDataset(base_train_dataset, discrete_diversity_matrix)\n",
    "valid_dataset = TripletGraphDataset(base_valid_dataset, discrete_diversity_matrix)\n",
    "full_triplet_dataset = TripletGraphDataset(graphs_dataset, discrete_diversity_matrix)\n",
    "\n",
    "BATCH_SIZE = 8\n",
    "\n",
    "train_loader_diversity = DataLoader(\n",
    "    train_dataset,\n",
    "    batch_size=BATCH_SIZE,\n",
    "    shuffle=True,\n",
    "    num_workers=4,\n",
    "    collate_fn=collate_triplets,\n",
    ")\n",
    "\n",
    "valid_loader_diversity = DataLoader(\n",
    "    valid_dataset,\n",
    "    batch_size=BATCH_SIZE,\n",
    "    shuffle=False,\n",
    "    num_workers=4,\n",
    "    collate_fn=collate_triplets,\n",
    ")\n",
    "\n",
    "train_loader_accuracy = DataLoader(\n",
    "    base_train_dataset,\n",
    "    batch_size=BATCH_SIZE,\n",
    "    shuffle=True,\n",
    "    num_workers=4,\n",
    "    collate_fn=collate_graphs,\n",
    ")\n",
    "\n",
    "valid_loader_accuracy = DataLoader(\n",
    "    base_valid_dataset,\n",
    "    batch_size=BATCH_SIZE,\n",
    "    shuffle=False,\n",
    "    num_workers=4,\n",
    "    collate_fn=collate_graphs,\n",
    ")"
   ]
  },
  {
   "cell_type": "markdown",
   "metadata": {
    "papermill": {
     "duration": 0.030448,
     "end_time": "2025-04-10T16:00:20.740044",
     "exception": false,
     "start_time": "2025-04-10T16:00:20.709596",
     "status": "completed"
    },
    "tags": []
   },
   "source": [
    "Обучим модель предсказывать точность по архитектуре."
   ]
  },
  {
   "cell_type": "code",
   "execution_count": 22,
   "metadata": {
    "execution": {
     "iopub.execute_input": "2025-05-08T16:34:53.408391Z",
     "iopub.status.busy": "2025-05-08T16:34:53.408165Z",
     "iopub.status.idle": "2025-05-08T16:34:53.503544Z",
     "shell.execute_reply": "2025-05-08T16:34:53.502693Z",
     "shell.execute_reply.started": "2025-05-08T16:34:53.408370Z"
    },
    "papermill": {
     "duration": 0.109536,
     "end_time": "2025-04-10T16:00:20.880034",
     "exception": false,
     "start_time": "2025-04-10T16:00:20.770498",
     "status": "completed"
    },
    "tags": [],
    "trusted": true
   },
   "outputs": [],
   "source": [
    "input_dim = graphs_dataset[0][\"x\"].shape[1]\n",
    "output_dim = 1\n",
    "num_epochs = 30\n",
    "\n",
    "model_accuracy = GAT(input_dim, output_dim=output_dim, dropout=0.4, heads=16)\n",
    "optimizer = torch.optim.AdamW(model_accuracy.parameters(), lr=1e-2)\n",
    "criterion = nn.MSELoss()"
   ]
  },
  {
   "cell_type": "code",
   "execution_count": 23,
   "metadata": {
    "execution": {
     "iopub.execute_input": "2025-05-08T16:34:53.508310Z",
     "iopub.status.busy": "2025-05-08T16:34:53.508092Z",
     "iopub.status.idle": "2025-05-08T16:36:41.542058Z",
     "shell.execute_reply": "2025-05-08T16:36:41.541136Z",
     "shell.execute_reply.started": "2025-05-08T16:34:53.508290Z"
    },
    "papermill": {
     "duration": 98.381372,
     "end_time": "2025-04-10T16:01:59.292304",
     "exception": false,
     "start_time": "2025-04-10T16:00:20.910932",
     "status": "completed"
    },
    "tags": [],
    "trusted": true
   },
   "outputs": [
    {
     "data": {
      "image/png": "[encoded data removed]",
      "text/plain": [
       "<Figure size 1200x600 with 1 Axes>"
      ]
     },
     "metadata": {},
     "output_type": "display_data"
    },
    {
     "name": "stdout",
     "output_type": "stream",
     "text": [
      "Epoch 30, Train Loss: 2.9981, Valid Loss: 3.3008, LR: 0.000156\n"
     ]
    }
   ],
   "source": [
    "train_model_accuracy(\n",
    "    model_accuracy,\n",
    "    train_loader_accuracy,\n",
    "    valid_loader_accuracy,\n",
    "    optimizer,\n",
    "    criterion,\n",
    "    num_epochs,\n",
    "    device=device,\n",
    "    developer_mode=False\n",
    ");"
   ]
  },
  {
   "cell_type": "code",
   "execution_count": null,
   "metadata": {
    "execution": {
     "execution_failed": "2025-05-08T16:40:41.750Z"
    },
    "papermill": {
     "duration": 0.734207,
     "end_time": "2025-04-10T16:02:00.057751",
     "exception": false,
     "start_time": "2025-04-10T16:01:59.323544",
     "status": "completed"
    },
    "tags": [],
    "trusted": true
   },
   "outputs": [],
   "source": [
    "embeddings = extract_embeddings(model_accuracy, valid_loader_accuracy, device=device)[0]\n",
    "\n",
    "for i, data in enumerate(valid_loader_accuracy):\n",
    "    index = data.index\n",
    "    accuracy = data.y\n",
    "    accuracy_values = accuracy.cpu().numpy()\n",
    "\n",
    "    mask = (accuracy_values > 0.87) | (accuracy_values < 0.83)\n",
    "    accuracy_values = accuracy_values[mask]\n",
    "    index = index[mask] \n",
    "\n",
    "    for j in range(len(accuracy_values)):\n",
    "        embedding_index = i * BATCH_SIZE + j\n",
    "        print(f\"Index: {index[j]:04d}, Accuracy: {accuracy_values[j]:.3f}, Embedding: {embeddings[embedding_index].mean():.3f}\")\n",
    "        \n",
    "        if j >= 20:\n",
    "            break\n",
    "\n",
    "    if i * BATCH_SIZE > 20:\n",
    "        break\n"
   ]
  },
  {
   "cell_type": "code",
   "execution_count": 25,
   "metadata": {
    "execution": {
     "iopub.execute_input": "2025-05-08T16:36:42.912386Z",
     "iopub.status.busy": "2025-05-08T16:36:42.912083Z",
     "iopub.status.idle": "2025-05-08T16:36:42.917249Z",
     "shell.execute_reply": "2025-05-08T16:36:42.916444Z",
     "shell.execute_reply.started": "2025-05-08T16:36:42.912360Z"
    },
    "trusted": true
   },
   "outputs": [],
   "source": [
    "def triplet_loss(anchor, positive, negative, margin=0.1):\n",
    "    d_ap = (anchor - positive).pow(2).sum(-1)\n",
    "    d_an = (anchor - negative).pow(2).sum(-1)\n",
    "    \n",
    "    loss = F.relu(d_ap - d_an + margin)\n",
    "    return loss.mean()"
   ]
  },
  {
   "cell_type": "code",
   "execution_count": 26,
   "metadata": {
    "execution": {
     "iopub.execute_input": "2025-05-08T16:36:42.918367Z",
     "iopub.status.busy": "2025-05-08T16:36:42.918119Z",
     "iopub.status.idle": "2025-05-08T16:36:42.948057Z",
     "shell.execute_reply": "2025-05-08T16:36:42.947461Z",
     "shell.execute_reply.started": "2025-05-08T16:36:42.918339Z"
    },
    "papermill": {
     "duration": 0.045729,
     "end_time": "2025-04-10T16:02:00.137298",
     "exception": false,
     "start_time": "2025-04-10T16:02:00.091569",
     "status": "completed"
    },
    "tags": [],
    "trusted": true
   },
   "outputs": [],
   "source": [
    "input_dim = graphs_dataset[0][\"x\"].shape[1]\n",
    "hidden_dim = 256  # Размерность скрытого слоя\n",
    "output_dim = 128\n",
    "num_epochs = 30\n",
    "\n",
    "model = GAT(input_dim, output_dim, dropout=0.1)\n",
    "optimizer = torch.optim.AdamW(model.parameters(), lr=1e-3)\n",
    "criterion = lambda anchor, positive, negative: triplet_loss(anchor, positive, negative, margin=1)"
   ]
  },
  {
   "cell_type": "markdown",
   "metadata": {
    "papermill": {
     "duration": 0.030697,
     "end_time": "2025-04-10T16:02:00.199992",
     "exception": false,
     "start_time": "2025-04-10T16:02:00.169295",
     "status": "completed"
    },
    "tags": []
   },
   "source": [
    "Основной код обучения модели похожести."
   ]
  },
  {
   "cell_type": "code",
   "execution_count": null,
   "metadata": {
    "execution": {
     "execution_failed": "2025-05-08T16:40:41.739Z",
     "iopub.execute_input": "2025-05-08T16:36:42.949081Z",
     "iopub.status.busy": "2025-05-08T16:36:42.948810Z"
    },
    "papermill": {
     "duration": 510.069494,
     "end_time": "2025-04-10T16:10:30.300489",
     "exception": false,
     "start_time": "2025-04-10T16:02:00.230995",
     "status": "completed"
    },
    "tags": [],
    "trusted": true
   },
   "outputs": [
    {
     "data": {
      "image/png": "[encoded data removed]",
      "text/plain": [
       "<Figure size 1000x500 with 1 Axes>"
      ]
     },
     "metadata": {},
     "output_type": "display_data"
    },
    {
     "name": "stdout",
     "output_type": "stream",
     "text": [
      "Epoch 27/30 — Train Loss: 0.5566, Valid Loss: 1.0925, LR: 0.000031\n"
     ]
    }
   ],
   "source": [
    "train_model_diversity(\n",
    "    model,\n",
    "    train_loader_diversity,\n",
    "    valid_loader_diversity,\n",
    "    optimizer,\n",
    "    criterion,\n",
    "    num_epochs,\n",
    "    device=device,\n",
    "    developer_mode=False,\n",
    ");"
   ]
  },
  {
   "cell_type": "code",
   "execution_count": null,
   "metadata": {
    "execution": {
     "execution_failed": "2025-05-08T16:40:41.740Z"
    },
    "papermill": {
     "duration": 0.039922,
     "end_time": "2025-04-10T16:10:30.372120",
     "exception": false,
     "start_time": "2025-04-10T16:10:30.332198",
     "status": "completed"
    },
    "tags": [],
    "trusted": true
   },
   "outputs": [],
   "source": [
    "def visualize_clusters(model, train_loader, device=\"cpu\", min_samples=3, eps=0.025):\n",
    "    # Извлечение эмбеддингов\n",
    "    embeddings, indices = extract_embeddings(model, train_loader, device=device)\n",
    "    \n",
    "    # Преобразование эмбеддингов в 2D с помощью PCA\n",
    "    pca = PCA(n_components=2)\n",
    "    embeddings_2d = pca.fit_transform(embeddings)\n",
    "    \n",
    "    # Кластеризация с помощью OPTICS\n",
    "    # optics = OPTICS(min_samples=min_samples, xi=xi, min_cluster_size=min_cluster_size, metric=\"euclidean\")\n",
    "    # clusters = optics.fit_predict(embeddings)\n",
    "    \n",
    "    dbscan = DBSCAN(eps=eps, min_samples=min_samples, metric='euclidean', n_jobs=-1)\n",
    "    clusters = dbscan.fit_predict(embeddings)\n",
    "    \n",
    "    # Визуализация кластеров\n",
    "    plt.figure(figsize=(8, 6.5))\n",
    "    scatter = plt.scatter(\n",
    "        embeddings_2d[:, 0], \n",
    "        embeddings_2d[:, 1], \n",
    "        c=clusters, \n",
    "        cmap='tab10',  \n",
    "        s=np.where(clusters == -1, 20, 70),  \n",
    "        alpha=np.where(clusters == -1, 0.5, 1)\n",
    "    )\n",
    "    plt.xlabel(\"PCA Component 1\", fontsize=16)\n",
    "    plt.ylabel(\"PCA Component 2\", fontsize=16)\n",
    "    \n",
    "    # Создание легенды для кластеров\n",
    "    unique_clusters = np.unique(clusters)\n",
    "    for cluster in unique_clusters:\n",
    "        if cluster == -1:\n",
    "          label = \"Noise\"\n",
    "        else:\n",
    "          label = f\"Cluster {cluster}\"\n",
    "        plt.scatter([], [], color=scatter.cmap(scatter.norm(cluster)), label=label ,  s=50 if cluster != -1 else 20)\n",
    "    \n",
    "    plt.gca().set_facecolor('lightgrey')\n",
    "    # plt.legend()\n",
    "    plt.show()\n",
    "    \n",
    "    return clusters"
   ]
  },
  {
   "cell_type": "code",
   "execution_count": null,
   "metadata": {
    "execution": {
     "execution_failed": "2025-05-08T16:40:41.741Z"
    },
    "papermill": {
     "duration": 4.717403,
     "end_time": "2025-04-10T16:10:35.120432",
     "exception": false,
     "start_time": "2025-04-10T16:10:30.403029",
     "status": "completed"
    },
    "tags": [],
    "trusted": true
   },
   "outputs": [],
   "source": [
    "clusters = visualize_clusters(\n",
    "  model,\n",
    "  train_loader_diversity,\n",
    "  device=device,\n",
    "  min_samples=3,\n",
    "  eps=0.6,\n",
    ")"
   ]
  },
  {
   "cell_type": "code",
   "execution_count": null,
   "metadata": {
    "execution": {
     "execution_failed": "2025-05-08T16:40:41.742Z"
    },
    "papermill": {
     "duration": 0.04271,
     "end_time": "2025-04-10T16:10:35.275163",
     "exception": false,
     "start_time": "2025-04-10T16:10:35.232453",
     "status": "completed"
    },
    "tags": [],
    "trusted": true
   },
   "outputs": [],
   "source": [
    "embeddings[0]"
   ]
  },
  {
   "cell_type": "code",
   "execution_count": null,
   "metadata": {
    "execution": {
     "execution_failed": "2025-05-08T16:40:41.743Z"
    },
    "papermill": {
     "duration": 0.045568,
     "end_time": "2025-04-10T16:10:35.355584",
     "exception": false,
     "start_time": "2025-04-10T16:10:35.310016",
     "status": "completed"
    },
    "tags": [],
    "trusted": true
   },
   "outputs": [],
   "source": [
    "def compute_correlation(models_dict, dataset, model, diversity_matrix, device=\"cpu\"):\n",
    "    model.to(device)\n",
    "    model.eval()\n",
    "\n",
    "    N = len(dataset)\n",
    "    embeddings = []\n",
    "\n",
    "    with torch.no_grad():\n",
    "        for sample in dataset:\n",
    "            x = sample.x.to(device)\n",
    "            edge_index = sample.edge_index.to(device)\n",
    "            batch = sample.batch if hasattr(sample, \"batch\") else None  # если batch'и не заданы\n",
    "\n",
    "            embedding = model(x, edge_index, batch=batch).cpu().numpy().reshape(-1)\n",
    "            embeddings.append(embedding)\n",
    "\n",
    "    embeddings = np.array(embeddings)\n",
    "\n",
    "    # Вычисление попарных евклидовых расстояний\n",
    "    distance_matrix = cdist(embeddings, embeddings, metric=\"euclidean\")\n",
    "\n",
    "    # Массив архитектур\n",
    "    architectures = [models_dict[index] for index in dataset.indices]\n",
    "\n",
    "    # Заполнение similarity matrix по индексам архитектур\n",
    "    similarity_matrix = np.zeros((N, N))\n",
    "    for i in tqdm(range(N), desc=\"Computing similarity matrix\"):\n",
    "        for j in range(i + 1, N):\n",
    "            arch_i_index = dataset[i].index\n",
    "            arch_j_index = dataset[j].index\n",
    "\n",
    "            similarity_matrix[i, j] = diversity_matrix[arch_i_index, arch_j_index]\n",
    "            similarity_matrix[j, i] = similarity_matrix[i, j]\n",
    "\n",
    "    # Только верхний треугольник\n",
    "    triu_indices = np.triu_indices(N, k=1)\n",
    "\n",
    "    similarity_values = similarity_matrix[triu_indices]\n",
    "    embedding_distances = distance_matrix[triu_indices]\n",
    "\n",
    "    correlation_pearson, _ = pearsonr(embedding_distances, similarity_values)\n",
    "    correlation_spearman, _ = spearmanr(embedding_distances, similarity_values)\n",
    "\n",
    "    return correlation_pearson, correlation_spearman"
   ]
  },
  {
   "cell_type": "markdown",
   "metadata": {
    "papermill": {
     "duration": 0.03507,
     "end_time": "2025-04-10T16:10:35.425820",
     "exception": false,
     "start_time": "2025-04-10T16:10:35.390750",
     "status": "completed"
    },
    "tags": []
   },
   "source": [
    "Рассчитаю корреляции"
   ]
  },
  {
   "cell_type": "code",
   "execution_count": null,
   "metadata": {
    "execution": {
     "execution_failed": "2025-05-08T16:40:41.744Z"
    },
    "papermill": {
     "duration": 0.941399,
     "end_time": "2025-04-10T16:10:36.402867",
     "exception": false,
     "start_time": "2025-04-10T16:10:35.461468",
     "status": "completed"
    },
    "tags": [],
    "trusted": true
   },
   "outputs": [],
   "source": [
    "pearson_correlation, spearman_correlation = compute_correlation(\n",
    "    models_dict, base_valid_dataset, model, diversity_matrix, device=device\n",
    ")\n",
    "\n",
    "print(f\"Корреляция Пирсона: {pearson_correlation:.3f}\")\n",
    "print(f\"Корреляция Спирмена: {spearman_correlation:.3f}\")"
   ]
  },
  {
   "cell_type": "code",
   "execution_count": null,
   "metadata": {
    "execution": {
     "execution_failed": "2025-05-08T16:40:41.745Z"
    },
    "papermill": {
     "duration": 1.052262,
     "end_time": "2025-04-10T16:10:37.494091",
     "exception": false,
     "start_time": "2025-04-10T16:10:36.441829",
     "status": "completed"
    },
    "tags": [],
    "trusted": true
   },
   "outputs": [],
   "source": [
    "def compute_cluster_mean_diversities(\n",
    "    clusters: np.ndarray,\n",
    "    diversity_matrix: np.ndarray,\n",
    "    discrete_diversity_matrix: np.ndarray,\n",
    "    min_samples: int = 10,\n",
    "):\n",
    "    \"\"\"\n",
    "    Для каждого кластера берёт «якорную» архитектуру (первый элемент кластера),\n",
    "    затем в min_samples раз выбирает положительную и отрицательную архитектуры\n",
    "    через get_positive_and_negative (по discrete_diversity_matrix),\n",
    "    и усредняет заранее посчитанные отношения разнообразия из diversity_matrix.\n",
    "    \"\"\"\n",
    "    n_clusters = len(set(clusters))\n",
    "    \n",
    "    for i in range(n_clusters):\n",
    "        # индексы объектов, попавших в кластер i\n",
    "        cluster_idxs = np.where(clusters == i)[0]\n",
    "        if len(cluster_idxs) < 2:\n",
    "            print(f\"Cluster {i}: not enough samples.\")\n",
    "            continue\n",
    "        \n",
    "        anchor = cluster_idxs[0]\n",
    "        pos_divs, neg_divs = [], []\n",
    "        \n",
    "        for _ in range(min_samples):\n",
    "            positive, negative = get_positive_and_negative(discrete_diversity_matrix, [anchor])\n",
    "            if positive is None or negative is None:\n",
    "                # пропускаем, если не удалось найти пару\n",
    "                continue\n",
    "            \n",
    "            # вместо вызова get_diversity_js просто берём готовое значение\n",
    "            pos_divs.append(diversity_matrix[anchor, positive])\n",
    "            neg_divs.append(diversity_matrix[anchor, negative])\n",
    "        \n",
    "        mean_pos = np.mean(pos_divs) if pos_divs else None\n",
    "        mean_neg = np.mean(neg_divs) if neg_divs else None\n",
    "        \n",
    "        print(f\"Cluster {i}:\")\n",
    "        if mean_pos is not None:\n",
    "            print(f\"  Mean Positive Diversity: {mean_pos:.4f}\")\n",
    "        else:\n",
    "            print(\"  No positive diversity data available.\")\n",
    "        \n",
    "        if mean_neg is not None:\n",
    "            print(f\"  Mean Negative Diversity: {mean_neg:.4f}\")\n",
    "        else:\n",
    "            print(\"  No negative diversity data available.\")\n",
    "        \n",
    "        # ограничиваем вывод первыми 11 кластерами\n",
    "        if i >= 10:\n",
    "            break\n",
    "            \n",
    "compute_cluster_mean_diversities(\n",
    "    clusters,\n",
    "    diversity_matrix,\n",
    "    discrete_diversity_matrix,\n",
    "    min_samples=10,\n",
    ")"
   ]
  },
  {
   "cell_type": "code",
   "execution_count": null,
   "metadata": {
    "execution": {
     "execution_failed": "2025-05-08T16:40:41.745Z"
    },
    "papermill": {
     "duration": 0.085831,
     "end_time": "2025-04-10T16:10:37.615173",
     "exception": false,
     "start_time": "2025-04-10T16:10:37.529342",
     "status": "completed"
    },
    "tags": [],
    "trusted": true
   },
   "outputs": [],
   "source": [
    "# Индексы кластеров\n",
    "cluster_1_indexes = np.where(clusters == 1)[0]\n",
    "cluster_2_indexes = np.where(clusters == 2)[0]\n",
    "\n",
    "# ====== Средняя похожесть внутри первого кластера ======\n",
    "n1 = len(cluster_1_indexes)\n",
    "if n1 > 1:\n",
    "    # Выбираем подматрицу diversity_matrix для кластер 1\n",
    "    submat_1 = diversity_matrix[np.ix_(cluster_1_indexes, cluster_1_indexes)]\n",
    "    # Берём только верхний треугольник без диагонали\n",
    "    triu_i, triu_j = np.triu_indices(n1, k=1)\n",
    "    sims_within_1 = submat_1[triu_i, triu_j]\n",
    "    mean_similarity_within_cluster_1 = np.mean(sims_within_1)\n",
    "else:\n",
    "    mean_similarity_within_cluster_1 = None\n",
    "\n",
    "# ====== Средняя похожесть между кластерами 1 и 2 ======\n",
    "if len(cluster_1_indexes) > 0 and len(cluster_2_indexes) > 0:\n",
    "    sims_between = diversity_matrix[np.ix_(cluster_1_indexes, cluster_2_indexes)]\n",
    "    mean_similarity_between_clusters = np.mean(sims_between)\n",
    "else:\n",
    "    mean_similarity_between_clusters = None\n",
    "\n",
    "# ====== Результаты ======\n",
    "if mean_similarity_within_cluster_1 is not None:\n",
    "    print(f\"Средняя похожесть внутри первого кластера: {mean_similarity_within_cluster_1:.4f}\")\n",
    "else:\n",
    "    print(\"В первом кластере недостаточно элементов для расчёта похожести.\")\n",
    "\n",
    "if mean_similarity_between_clusters is not None:\n",
    "    print(f\"Средняя похожесть между первым и вторым кластерами: {mean_similarity_between_clusters:.4f}\")\n",
    "else:\n",
    "    print(\"Недостаточно элементов в одном из кластеров для расчёта межкластерной похожести.\")"
   ]
  },
  {
   "cell_type": "code",
   "execution_count": null,
   "metadata": {
    "execution": {
     "execution_failed": "2025-05-08T16:40:41.747Z"
    },
    "trusted": true
   },
   "outputs": [],
   "source": [
    "abort()"
   ]
  },
  {
   "cell_type": "code",
   "execution_count": null,
   "metadata": {
    "execution": {
     "execution_failed": "2025-05-08T16:40:41.747Z"
    },
    "trusted": true
   },
   "outputs": [],
   "source": [
    "final_loader_accuracy = DataLoader(\n",
    "    graphs_dataset,\n",
    "    batch_size=BATCH_SIZE,\n",
    "    shuffle=False,\n",
    "    collate_fn=collate_graphs,\n",
    "    num_workers=4,\n",
    ")\n",
    "\n",
    "final_loader_diversity = DataLoader(\n",
    "    full_triplet_dataset,\n",
    "    batch_size=BATCH_SIZE,\n",
    "    shuffle=False,\n",
    "    collate_fn=collate_triplets,\n",
    "    num_workers=4,\n",
    ")"
   ]
  },
  {
   "cell_type": "code",
   "execution_count": null,
   "metadata": {
    "execution": {
     "execution_failed": "2025-05-08T16:40:41.748Z"
    },
    "trusted": true
   },
   "outputs": [],
   "source": [
    "abort()"
   ]
  },
  {
   "cell_type": "code",
   "execution_count": null,
   "metadata": {
    "execution": {
     "execution_failed": "2025-05-08T16:40:41.748Z"
    },
    "trusted": true
   },
   "outputs": [],
   "source": [
    "input_dim = graphs_dataset[0][\"x\"].shape[1]\n",
    "output_dim = 1\n",
    "num_epochs = 30\n",
    "\n",
    "model_accuracy = GAT(input_dim, output_dim=output_dim, dropout=0.4, heads=16)\n",
    "optimizer = torch.optim.AdamW(model_accuracy.parameters(), lr=1e-2)\n",
    "criterion = nn.MSELoss()\n",
    "\n",
    "train_model_accuracy(\n",
    "    model_accuracy,\n",
    "    final_loader_accuracy,\n",
    "    final_loader_accuracy,\n",
    "    optimizer,\n",
    "    criterion,\n",
    "    num_epochs,\n",
    "    device=device,\n",
    "    developer_mode=False\n",
    ");"
   ]
  },
  {
   "cell_type": "code",
   "execution_count": null,
   "metadata": {
    "execution": {
     "execution_failed": "2025-05-08T16:40:41.750Z"
    },
    "trusted": true
   },
   "outputs": [],
   "source": [
    "input_dim = graphs_dataset[0][\"x\"].shape[1]\n",
    "hidden_dim = 256  # Размерность скрытого слоя\n",
    "output_dim = 128\n",
    "num_epochs = 30\n",
    "\n",
    "model = GAT(input_dim, output_dim, dropout=0.1)\n",
    "optimizer = torch.optim.AdamW(model.parameters(), lr=1e-3)\n",
    "criterion = lambda anchor, positive, negative: triplet_loss(anchor, positive, negative, margin=1)\n",
    "\n",
    "train_model_diversity(\n",
    "    model,\n",
    "    final_loader_diversity,\n",
    "    valid_loader_diversity,\n",
    "    optimizer,\n",
    "    criterion,\n",
    "    num_epochs,\n",
    "    device=device,\n",
    "    developer_mode=False,\n",
    ");"
   ]
  },
  {
   "cell_type": "code",
   "execution_count": null,
   "metadata": {
    "execution": {
     "execution_failed": "2025-05-08T16:40:41.750Z"
    },
    "trusted": true
   },
   "outputs": [],
   "source": [
    "torch.save(model.state_dict(), \"model_diversity_weights.pth\")\n",
    "torch.save(model_accuracy.state_dict(), \"model_accuracy_weights.pth\")"
   ]
  },
  {
   "cell_type": "code",
   "execution_count": null,
   "metadata": {
    "execution": {
     "execution_failed": "2025-05-08T16:40:41.750Z"
    },
    "trusted": true
   },
   "outputs": [],
   "source": [
    "!zip weights model_diversity_weights.pth model_accuracy_weights.pth"
   ]
  }
 ],
 "metadata": {
  "kaggle": {
   "accelerator": "gpu",
   "dataSources": [
    {
     "datasetId": 6977610,
     "sourceId": 11734885,
     "sourceType": "datasetVersion"
    }
   ],
   "dockerImageVersionId": 30919,
   "isGpuEnabled": true,
   "isInternetEnabled": true,
   "language": "python",
   "sourceType": "notebook"
  },
  "kernelspec": {
   "display_name": "Python 3",
   "language": "python",
   "name": "python3"
  },
  "language_info": {
   "codemirror_mode": {
    "name": "ipython",
    "version": 3
   },
   "file_extension": ".py",
   "mimetype": "text/x-python",
   "name": "python",
   "nbconvert_exporter": "python",
   "pygments_lexer": "ipython3",
   "version": "3.12.3"
  },
  "papermill": {
   "default_parameters": {},
   "duration": 707.259268,
   "end_time": "2025-04-10T16:10:40.838775",
   "environment_variables": {},
   "exception": null,
   "input_path": "__notebook__.ipynb",
   "output_path": "__notebook__.ipynb",
   "parameters": {},
   "start_time": "2025-04-10T15:58:53.579507",
   "version": "2.6.0"
  }
 },
 "nbformat": 4,
 "nbformat_minor": 4
}

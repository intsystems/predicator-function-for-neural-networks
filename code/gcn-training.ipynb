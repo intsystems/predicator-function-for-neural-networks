{
 "cells": [
  {
   "cell_type": "markdown",
   "metadata": {},
   "source": [
    "В данном ноутбуке я создам базовый класс, на основе которого обучу сверточную графовую нейронную сеть."
   ]
  },
  {
   "cell_type": "code",
   "execution_count": 1,
   "metadata": {
    "execution": {
     "iopub.execute_input": "2025-04-08T17:23:30.955210Z",
     "iopub.status.busy": "2025-04-08T17:23:30.954767Z",
     "iopub.status.idle": "2025-04-08T17:23:46.214892Z",
     "shell.execute_reply": "2025-04-08T17:23:46.214026Z",
     "shell.execute_reply.started": "2025-04-08T17:23:30.955172Z"
    },
    "trusted": true
   },
   "outputs": [],
   "source": [
    "# !pip install torch_geometric --quiet\n",
    "# !pip install nni --quiet"
   ]
  },
  {
   "cell_type": "markdown",
   "metadata": {},
   "source": [
    "Импортируем необходимые библиотеки"
   ]
  },
  {
   "cell_type": "code",
   "execution_count": null,
   "metadata": {
    "execution": {
     "iopub.execute_input": "2025-04-08T17:23:46.216432Z",
     "iopub.status.busy": "2025-04-08T17:23:46.216189Z",
     "iopub.status.idle": "2025-04-08T17:23:58.271508Z",
     "shell.execute_reply": "2025-04-08T17:23:58.270594Z",
     "shell.execute_reply.started": "2025-04-08T17:23:46.216412Z"
    },
    "trusted": true
   },
   "outputs": [],
   "source": [
    "import os\n",
    "import json\n",
    "import numpy as np\n",
    "import matplotlib.pyplot as plt\n",
    "from tqdm import tqdm\n",
    "from sklearn.preprocessing import OneHotEncoder\n",
    "from sklearn.decomposition import PCA\n",
    "from sklearn.cluster import OPTICS\n",
    "from scipy.spatial.distance import cdist\n",
    "from scipy.stats import pearsonr\n",
    "from scipy.spatial.distance import jensenshannon\n",
    "\n",
    "import torch\n",
    "import torch.nn as nn\n",
    "import torch.nn.functional as F\n",
    "from torch.utils.data import Dataset, random_split\n",
    "\n",
    "from torch_geometric.utils import dense_to_sparse\n",
    "\n",
    "from itertools import combinations\n",
    "\n",
    "from multiprocessing import Pool, cpu_count\n",
    "\n",
    "# Custom imports\n",
    "from Graph import Graph\n",
    "from GCN import (\n",
    "    GCN,\n",
    "    SimpleGCN,\n",
    "    SimpleGAT,\n",
    "    CustomDataset,\n",
    "    train_model_accuracy,\n",
    "    train_model_diversity,\n",
    "    get_positive_and_negative\n",
    ")"
   ]
  },
  {
   "cell_type": "markdown",
   "metadata": {},
   "source": [
    "Основные операция DARTS search space. Добавил 'none' для начальных вершин."
   ]
  },
  {
   "cell_type": "code",
   "execution_count": 3,
   "metadata": {
    "execution": {
     "iopub.execute_input": "2025-04-08T17:23:58.273228Z",
     "iopub.status.busy": "2025-04-08T17:23:58.272817Z",
     "iopub.status.idle": "2025-04-08T17:23:58.277129Z",
     "shell.execute_reply": "2025-04-08T17:23:58.276267Z",
     "shell.execute_reply.started": "2025-04-08T17:23:58.273205Z"
    },
    "trusted": true
   },
   "outputs": [],
   "source": [
    "\n",
    "DARTS_OPS = [\n",
    "        'none',\n",
    "        'max_pool_3x3',\n",
    "        'avg_pool_3x3',\n",
    "        'skip_connect',\n",
    "        'sep_conv_3x3',\n",
    "        'sep_conv_5x5',\n",
    "        'dil_conv_3x3',\n",
    "        'dil_conv_5x5',\n",
    "    ]\n",
    "\n",
    "encoder = OneHotEncoder(handle_unknown='ignore')\n"
   ]
  },
  {
   "cell_type": "markdown",
   "metadata": {},
   "source": [
    "Для графовой нейронной сети нам необходимо привести операции к числовому виду. Воспользуемся one-hot-encoder."
   ]
  },
  {
   "cell_type": "code",
   "execution_count": 4,
   "metadata": {
    "execution": {
     "iopub.execute_input": "2025-04-08T17:23:58.278914Z",
     "iopub.status.busy": "2025-04-08T17:23:58.278545Z",
     "iopub.status.idle": "2025-04-08T17:23:58.315232Z",
     "shell.execute_reply": "2025-04-08T17:23:58.314496Z",
     "shell.execute_reply.started": "2025-04-08T17:23:58.278882Z"
    },
    "trusted": true
   },
   "outputs": [
    {
     "name": "stdout",
     "output_type": "stream",
     "text": [
      "[[0. 0. 0. 0. 1. 0. 0. 0.]\n",
      " [0. 0. 0. 1. 0. 0. 0. 0.]\n",
      " [1. 0. 0. 0. 0. 0. 0. 0.]\n",
      " [0. 0. 0. 0. 0. 0. 0. 1.]\n",
      " [0. 0. 0. 0. 0. 1. 0. 0.]\n",
      " [0. 0. 0. 0. 0. 0. 1. 0.]\n",
      " [0. 1. 0. 0. 0. 0. 0. 0.]\n",
      " [0. 0. 1. 0. 0. 0. 0. 0.]]\n"
     ]
    }
   ],
   "source": [
    "encoder = OneHotEncoder(handle_unknown='ignore')\n",
    "ops_array = np.array(DARTS_OPS).reshape(-1, 1)\n",
    "\n",
    "DARTS_OPS_ONE_HOT = encoder.fit_transform(ops_array).toarray()\n",
    "\n",
    "print(DARTS_OPS_ONE_HOT)"
   ]
  },
  {
   "cell_type": "markdown",
   "metadata": {},
   "source": [
    "Загрузим архитектуры обученных моделей, их предсказания и точность."
   ]
  },
  {
   "cell_type": "code",
   "execution_count": 5,
   "metadata": {
    "execution": {
     "iopub.execute_input": "2025-04-08T17:23:58.316294Z",
     "iopub.status.busy": "2025-04-08T17:23:58.316035Z",
     "iopub.status.idle": "2025-04-08T17:23:58.330068Z",
     "shell.execute_reply": "2025-04-08T17:23:58.329329Z",
     "shell.execute_reply.started": "2025-04-08T17:23:58.316275Z"
    },
    "trusted": true
   },
   "outputs": [],
   "source": [
    "def load_json_from_directory(directory_path):\n",
    "    \"\"\"\n",
    "    Обходит директорию и создает список словарей из JSON файлов.\n",
    "\n",
    "    Аргументы:\n",
    "        directory_path (str): Путь к директории, содержащей JSON файлы.\n",
    "\n",
    "    Возвращает:\n",
    "        list: Список словарей, загруженных из JSON файлов.\n",
    "    \"\"\"\n",
    "    json_data = []\n",
    "    for root, _, files in os.walk(directory_path):\n",
    "        for file in files:\n",
    "            if file.endswith('.json'):\n",
    "                file_path = os.path.join(root, file)\n",
    "                with open(file_path, 'r', encoding='utf-8') as f:\n",
    "                    try:\n",
    "                        data = json.load(f)\n",
    "                        json_data.append(data)\n",
    "                    except json.JSONDecodeError as e:\n",
    "                        print(f\"Error decoding JSON from file {file_path}: {e}\")\n",
    "    return json_data"
   ]
  },
  {
   "cell_type": "code",
   "execution_count": 6,
   "metadata": {
    "execution": {
     "iopub.execute_input": "2025-04-08T17:23:58.331094Z",
     "iopub.status.busy": "2025-04-08T17:23:58.330855Z",
     "iopub.status.idle": "2025-04-08T17:24:06.618311Z",
     "shell.execute_reply": "2025-04-08T17:24:06.617575Z",
     "shell.execute_reply.started": "2025-04-08T17:23:58.331074Z"
    },
    "trusted": true
   },
   "outputs": [],
   "source": [
    "models_dict = load_json_from_directory('third_dataset')"
   ]
  },
  {
   "cell_type": "markdown",
   "metadata": {},
   "source": [
    "Посмотрю как распределена точность моделей"
   ]
  },
  {
   "cell_type": "code",
   "execution_count": 7,
   "metadata": {
    "execution": {
     "iopub.execute_input": "2025-04-08T17:24:06.619231Z",
     "iopub.status.busy": "2025-04-08T17:24:06.619009Z",
     "iopub.status.idle": "2025-04-08T17:24:06.898376Z",
     "shell.execute_reply": "2025-04-08T17:24:06.897498Z",
     "shell.execute_reply.started": "2025-04-08T17:24:06.619212Z"
    },
    "trusted": true
   },
   "outputs": [
    {
     "data": {
      "image/png": "[encoded data removed]",
      "text/plain": [
       "<Figure size 1000x600 with 1 Axes>"
      ]
     },
     "metadata": {},
     "output_type": "display_data"
    }
   ],
   "source": [
    "accuracies = [model['test_accuracy'] for model in models_dict]\n",
    "\n",
    "plt.figure(figsize=(10, 6))\n",
    "\n",
    "plt.hist(accuracies, bins=20, edgecolor='black', color=\"green\")\n",
    "# plt.title('Distribution of Model Accuracies')\n",
    "plt.xlabel('Accuracy', fontsize=18)\n",
    "plt.ylabel('Frequency', fontsize=18)\n",
    "plt.xticks(fontsize=16)\n",
    "plt.yticks(fontsize=16)\n",
    "plt.show()"
   ]
  },
  {
   "cell_type": "code",
   "execution_count": 8,
   "metadata": {
    "execution": {
     "iopub.execute_input": "2025-04-08T17:24:06.938874Z",
     "iopub.status.busy": "2025-04-08T17:24:06.938599Z",
     "iopub.status.idle": "2025-04-08T17:24:06.956532Z",
     "shell.execute_reply": "2025-04-08T17:24:06.955771Z",
     "shell.execute_reply.started": "2025-04-08T17:24:06.938848Z"
    },
    "trusted": true
   },
   "outputs": [],
   "source": [
    "graph = Graph(models_dict[0])"
   ]
  },
  {
   "cell_type": "markdown",
   "metadata": {},
   "source": [
    "Посмотрю как выглядит граф."
   ]
  },
  {
   "cell_type": "code",
   "execution_count": 9,
   "metadata": {
    "execution": {
     "iopub.execute_input": "2025-04-08T17:24:06.957372Z",
     "iopub.status.busy": "2025-04-08T17:24:06.957191Z",
     "iopub.status.idle": "2025-04-08T17:24:07.136291Z",
     "shell.execute_reply": "2025-04-08T17:24:07.135472Z",
     "shell.execute_reply.started": "2025-04-08T17:24:06.957356Z"
    },
    "trusted": true
   },
   "outputs": [
    {
     "data": {
      "image/svg+xml": [
       "<?xml version=\"1.0\" encoding=\"UTF-8\" standalone=\"no\"?>\n",
       "<!DOCTYPE svg PUBLIC \"-//W3C//DTD SVG 1.1//EN\"\n",
       " \"http://www.w3.org/Graphics/SVG/1.1/DTD/svg11.dtd\">\n",
       "<!-- Generated by graphviz version 2.43.0 (0)\n",
       " -->\n",
       "<!-- Title: %3 Pages: 1 -->\n",
       "<svg width=\"627pt\" height=\"1032pt\"\n",
       " viewBox=\"0.00 0.00 627.00 1032.00\" xmlns=\"http://www.w3.org/2000/svg\" xmlns:xlink=\"http://www.w3.org/1999/xlink\">\n",
       "<g id=\"graph0\" class=\"graph\" transform=\"scale(1 1) rotate(0) translate(4 1028)\">\n",
       "<title>%3</title>\n",
       "<polygon fill=\"white\" stroke=\"transparent\" points=\"-4,4 -4,-1028 623,-1028 623,4 -4,4\"/>\n",
       "<!-- 0 -->\n",
       "<g id=\"node1\" class=\"node\">\n",
       "<title>0</title>\n",
       "<polygon fill=\"none\" stroke=\"black\" points=\"31.5,-954.5 31.5,-1023.5 111.5,-1023.5 111.5,-954.5 31.5,-954.5\"/>\n",
       "<text text-anchor=\"middle\" x=\"71.5\" y=\"-1008.3\" font-family=\"Times,serif\" font-size=\"14.00\">Op: none</text>\n",
       "<polyline fill=\"none\" stroke=\"black\" points=\"31.5,-1000.5 111.5,-1000.5 \"/>\n",
       "<text text-anchor=\"middle\" x=\"71.5\" y=\"-985.3\" font-family=\"Times,serif\" font-size=\"14.00\">In: 0</text>\n",
       "<polyline fill=\"none\" stroke=\"black\" points=\"31.5,-977.5 111.5,-977.5 \"/>\n",
       "<text text-anchor=\"middle\" x=\"71.5\" y=\"-962.3\" font-family=\"Times,serif\" font-size=\"14.00\">Out: 0</text>\n",
       "</g>\n",
       "<!-- 1 -->\n",
       "<g id=\"node2\" class=\"node\">\n",
       "<title>1</title>\n",
       "<polygon fill=\"none\" stroke=\"black\" points=\"0,-848.5 0,-917.5 143,-917.5 143,-848.5 0,-848.5\"/>\n",
       "<text text-anchor=\"middle\" x=\"71.5\" y=\"-902.3\" font-family=\"Times,serif\" font-size=\"14.00\">Op: sep_conv_3x3</text>\n",
       "<polyline fill=\"none\" stroke=\"black\" points=\"0,-894.5 143,-894.5 \"/>\n",
       "<text text-anchor=\"middle\" x=\"71.5\" y=\"-879.3\" font-family=\"Times,serif\" font-size=\"14.00\">In: 0</text>\n",
       "<polyline fill=\"none\" stroke=\"black\" points=\"0,-871.5 143,-871.5 \"/>\n",
       "<text text-anchor=\"middle\" x=\"71.5\" y=\"-856.3\" font-family=\"Times,serif\" font-size=\"14.00\">Out: 2</text>\n",
       "</g>\n",
       "<!-- 0&#45;&gt;1 -->\n",
       "<g id=\"edge1\" class=\"edge\">\n",
       "<title>0&#45;&gt;1</title>\n",
       "<path fill=\"none\" stroke=\"black\" d=\"M71.5,-954.23C71.5,-945.79 71.5,-936.62 71.5,-927.77\"/>\n",
       "<polygon fill=\"black\" stroke=\"black\" points=\"75,-927.6 71.5,-917.6 68,-927.6 75,-927.6\"/>\n",
       "</g>\n",
       "<!-- 5 -->\n",
       "<g id=\"node6\" class=\"node\">\n",
       "<title>5</title>\n",
       "<polygon fill=\"none\" stroke=\"black\" points=\"161,-742.5 161,-811.5 298,-811.5 298,-742.5 161,-742.5\"/>\n",
       "<text text-anchor=\"middle\" x=\"229.5\" y=\"-796.3\" font-family=\"Times,serif\" font-size=\"14.00\">Op: dil_conv_3x3</text>\n",
       "<polyline fill=\"none\" stroke=\"black\" points=\"161,-788.5 298,-788.5 \"/>\n",
       "<text text-anchor=\"middle\" x=\"229.5\" y=\"-773.3\" font-family=\"Times,serif\" font-size=\"14.00\">In: 2</text>\n",
       "<polyline fill=\"none\" stroke=\"black\" points=\"161,-765.5 298,-765.5 \"/>\n",
       "<text text-anchor=\"middle\" x=\"229.5\" y=\"-750.3\" font-family=\"Times,serif\" font-size=\"14.00\">Out: 3</text>\n",
       "</g>\n",
       "<!-- 1&#45;&gt;5 -->\n",
       "<g id=\"edge2\" class=\"edge\">\n",
       "<title>1&#45;&gt;5</title>\n",
       "<path fill=\"none\" stroke=\"black\" d=\"M122.8,-848.23C137.85,-838.33 154.44,-827.41 169.96,-817.19\"/>\n",
       "<polygon fill=\"black\" stroke=\"black\" points=\"172.03,-820.02 178.46,-811.6 168.18,-814.17 172.03,-820.02\"/>\n",
       "</g>\n",
       "<!-- 6 -->\n",
       "<g id=\"node7\" class=\"node\">\n",
       "<title>6</title>\n",
       "<polygon fill=\"none\" stroke=\"black\" points=\"0,-742.5 0,-811.5 143,-811.5 143,-742.5 0,-742.5\"/>\n",
       "<text text-anchor=\"middle\" x=\"71.5\" y=\"-796.3\" font-family=\"Times,serif\" font-size=\"14.00\">Op: sep_conv_3x3</text>\n",
       "<polyline fill=\"none\" stroke=\"black\" points=\"0,-788.5 143,-788.5 \"/>\n",
       "<text text-anchor=\"middle\" x=\"71.5\" y=\"-773.3\" font-family=\"Times,serif\" font-size=\"14.00\">In: 2</text>\n",
       "<polyline fill=\"none\" stroke=\"black\" points=\"0,-765.5 143,-765.5 \"/>\n",
       "<text text-anchor=\"middle\" x=\"71.5\" y=\"-750.3\" font-family=\"Times,serif\" font-size=\"14.00\">Out: 4</text>\n",
       "</g>\n",
       "<!-- 1&#45;&gt;6 -->\n",
       "<g id=\"edge3\" class=\"edge\">\n",
       "<title>1&#45;&gt;6</title>\n",
       "<path fill=\"none\" stroke=\"black\" d=\"M71.5,-848.23C71.5,-839.79 71.5,-830.62 71.5,-821.77\"/>\n",
       "<polygon fill=\"black\" stroke=\"black\" points=\"75,-821.6 71.5,-811.6 68,-821.6 75,-821.6\"/>\n",
       "</g>\n",
       "<!-- 2 -->\n",
       "<g id=\"node3\" class=\"node\">\n",
       "<title>2</title>\n",
       "<polygon fill=\"none\" stroke=\"black\" points=\"347.5,-954.5 347.5,-1023.5 427.5,-1023.5 427.5,-954.5 347.5,-954.5\"/>\n",
       "<text text-anchor=\"middle\" x=\"387.5\" y=\"-1008.3\" font-family=\"Times,serif\" font-size=\"14.00\">Op: none</text>\n",
       "<polyline fill=\"none\" stroke=\"black\" points=\"347.5,-1000.5 427.5,-1000.5 \"/>\n",
       "<text text-anchor=\"middle\" x=\"387.5\" y=\"-985.3\" font-family=\"Times,serif\" font-size=\"14.00\">In: 1</text>\n",
       "<polyline fill=\"none\" stroke=\"black\" points=\"347.5,-977.5 427.5,-977.5 \"/>\n",
       "<text text-anchor=\"middle\" x=\"387.5\" y=\"-962.3\" font-family=\"Times,serif\" font-size=\"14.00\">Out: 1</text>\n",
       "</g>\n",
       "<!-- 3 -->\n",
       "<g id=\"node4\" class=\"node\">\n",
       "<title>3</title>\n",
       "<polygon fill=\"none\" stroke=\"black\" points=\"161,-848.5 161,-917.5 298,-917.5 298,-848.5 161,-848.5\"/>\n",
       "<text text-anchor=\"middle\" x=\"229.5\" y=\"-902.3\" font-family=\"Times,serif\" font-size=\"14.00\">Op: dil_conv_3x3</text>\n",
       "<polyline fill=\"none\" stroke=\"black\" points=\"161,-894.5 298,-894.5 \"/>\n",
       "<text text-anchor=\"middle\" x=\"229.5\" y=\"-879.3\" font-family=\"Times,serif\" font-size=\"14.00\">In: 1</text>\n",
       "<polyline fill=\"none\" stroke=\"black\" points=\"161,-871.5 298,-871.5 \"/>\n",
       "<text text-anchor=\"middle\" x=\"229.5\" y=\"-856.3\" font-family=\"Times,serif\" font-size=\"14.00\">Out: 2</text>\n",
       "</g>\n",
       "<!-- 2&#45;&gt;3 -->\n",
       "<g id=\"edge4\" class=\"edge\">\n",
       "<title>2&#45;&gt;3</title>\n",
       "<path fill=\"none\" stroke=\"black\" d=\"M347.22,-961.49C329.54,-949.85 308.42,-935.95 288.98,-923.15\"/>\n",
       "<polygon fill=\"black\" stroke=\"black\" points=\"290.76,-920.13 280.48,-917.56 286.91,-925.98 290.76,-920.13\"/>\n",
       "</g>\n",
       "<!-- 4 -->\n",
       "<g id=\"node5\" class=\"node\">\n",
       "<title>4</title>\n",
       "<polygon fill=\"none\" stroke=\"black\" points=\"316,-742.5 316,-811.5 459,-811.5 459,-742.5 316,-742.5\"/>\n",
       "<text text-anchor=\"middle\" x=\"387.5\" y=\"-796.3\" font-family=\"Times,serif\" font-size=\"14.00\">Op: sep_conv_3x3</text>\n",
       "<polyline fill=\"none\" stroke=\"black\" points=\"316,-788.5 459,-788.5 \"/>\n",
       "<text text-anchor=\"middle\" x=\"387.5\" y=\"-773.3\" font-family=\"Times,serif\" font-size=\"14.00\">In: 1</text>\n",
       "<polyline fill=\"none\" stroke=\"black\" points=\"316,-765.5 459,-765.5 \"/>\n",
       "<text text-anchor=\"middle\" x=\"387.5\" y=\"-750.3\" font-family=\"Times,serif\" font-size=\"14.00\">Out: 3</text>\n",
       "</g>\n",
       "<!-- 2&#45;&gt;4 -->\n",
       "<g id=\"edge5\" class=\"edge\">\n",
       "<title>2&#45;&gt;4</title>\n",
       "<path fill=\"none\" stroke=\"black\" d=\"M387.5,-954.26C387.5,-918.29 387.5,-861.18 387.5,-821.77\"/>\n",
       "<polygon fill=\"black\" stroke=\"black\" points=\"391,-821.66 387.5,-811.66 384,-821.66 391,-821.66\"/>\n",
       "</g>\n",
       "<!-- 13 -->\n",
       "<g id=\"node14\" class=\"node\">\n",
       "<title>13</title>\n",
       "<polygon fill=\"none\" stroke=\"black\" points=\"447.5,-424.5 447.5,-493.5 527.5,-493.5 527.5,-424.5 447.5,-424.5\"/>\n",
       "<text text-anchor=\"middle\" x=\"487.5\" y=\"-478.3\" font-family=\"Times,serif\" font-size=\"14.00\">Op: none</text>\n",
       "<polyline fill=\"none\" stroke=\"black\" points=\"447.5,-470.5 527.5,-470.5 \"/>\n",
       "<text text-anchor=\"middle\" x=\"487.5\" y=\"-455.3\" font-family=\"Times,serif\" font-size=\"14.00\">In: 6</text>\n",
       "<polyline fill=\"none\" stroke=\"black\" points=\"447.5,-447.5 527.5,-447.5 \"/>\n",
       "<text text-anchor=\"middle\" x=\"487.5\" y=\"-432.3\" font-family=\"Times,serif\" font-size=\"14.00\">Out: 6</text>\n",
       "</g>\n",
       "<!-- 2&#45;&gt;13 -->\n",
       "<g id=\"edge6\" class=\"edge\">\n",
       "<title>2&#45;&gt;13</title>\n",
       "<path fill=\"none\" stroke=\"black\" d=\"M415.09,-954.31C444.69,-914.67 487.5,-845.64 487.5,-778 487.5,-778 487.5,-778 487.5,-670 487.5,-612.57 487.5,-546.31 487.5,-503.83\"/>\n",
       "<polygon fill=\"black\" stroke=\"black\" points=\"491,-503.83 487.5,-493.83 484,-503.83 491,-503.83\"/>\n",
       "</g>\n",
       "<!-- 3&#45;&gt;5 -->\n",
       "<g id=\"edge7\" class=\"edge\">\n",
       "<title>3&#45;&gt;5</title>\n",
       "<path fill=\"none\" stroke=\"black\" d=\"M229.5,-848.23C229.5,-839.79 229.5,-830.62 229.5,-821.77\"/>\n",
       "<polygon fill=\"black\" stroke=\"black\" points=\"233,-821.6 229.5,-811.6 226,-821.6 233,-821.6\"/>\n",
       "</g>\n",
       "<!-- 3&#45;&gt;6 -->\n",
       "<g id=\"edge8\" class=\"edge\">\n",
       "<title>3&#45;&gt;6</title>\n",
       "<path fill=\"none\" stroke=\"black\" d=\"M178.2,-848.23C163.15,-838.33 146.56,-827.41 131.04,-817.19\"/>\n",
       "<polygon fill=\"black\" stroke=\"black\" points=\"132.82,-814.17 122.54,-811.6 128.97,-820.02 132.82,-814.17\"/>\n",
       "</g>\n",
       "<!-- 7 -->\n",
       "<g id=\"node8\" class=\"node\">\n",
       "<title>7</title>\n",
       "<polygon fill=\"none\" stroke=\"black\" points=\"158,-636.5 158,-705.5 301,-705.5 301,-636.5 158,-636.5\"/>\n",
       "<text text-anchor=\"middle\" x=\"229.5\" y=\"-690.3\" font-family=\"Times,serif\" font-size=\"14.00\">Op: sep_conv_5x5</text>\n",
       "<polyline fill=\"none\" stroke=\"black\" points=\"158,-682.5 301,-682.5 \"/>\n",
       "<text text-anchor=\"middle\" x=\"229.5\" y=\"-667.3\" font-family=\"Times,serif\" font-size=\"14.00\">In: 3</text>\n",
       "<polyline fill=\"none\" stroke=\"black\" points=\"158,-659.5 301,-659.5 \"/>\n",
       "<text text-anchor=\"middle\" x=\"229.5\" y=\"-644.3\" font-family=\"Times,serif\" font-size=\"14.00\">Out: 4</text>\n",
       "</g>\n",
       "<!-- 4&#45;&gt;7 -->\n",
       "<g id=\"edge9\" class=\"edge\">\n",
       "<title>4&#45;&gt;7</title>\n",
       "<path fill=\"none\" stroke=\"black\" d=\"M336.2,-742.23C321.15,-732.33 304.56,-721.41 289.04,-711.19\"/>\n",
       "<polygon fill=\"black\" stroke=\"black\" points=\"290.82,-708.17 280.54,-705.6 286.97,-714.02 290.82,-708.17\"/>\n",
       "</g>\n",
       "<!-- 8 -->\n",
       "<g id=\"node9\" class=\"node\">\n",
       "<title>8</title>\n",
       "<polygon fill=\"none\" stroke=\"black\" points=\"319,-636.5 319,-705.5 456,-705.5 456,-636.5 319,-636.5\"/>\n",
       "<text text-anchor=\"middle\" x=\"387.5\" y=\"-690.3\" font-family=\"Times,serif\" font-size=\"14.00\">Op: skip_connect</text>\n",
       "<polyline fill=\"none\" stroke=\"black\" points=\"319,-682.5 456,-682.5 \"/>\n",
       "<text text-anchor=\"middle\" x=\"387.5\" y=\"-667.3\" font-family=\"Times,serif\" font-size=\"14.00\">In: 3</text>\n",
       "<polyline fill=\"none\" stroke=\"black\" points=\"319,-659.5 456,-659.5 \"/>\n",
       "<text text-anchor=\"middle\" x=\"387.5\" y=\"-644.3\" font-family=\"Times,serif\" font-size=\"14.00\">Out: 5</text>\n",
       "</g>\n",
       "<!-- 4&#45;&gt;8 -->\n",
       "<g id=\"edge10\" class=\"edge\">\n",
       "<title>4&#45;&gt;8</title>\n",
       "<path fill=\"none\" stroke=\"black\" d=\"M387.5,-742.23C387.5,-733.79 387.5,-724.62 387.5,-715.77\"/>\n",
       "<polygon fill=\"black\" stroke=\"black\" points=\"391,-715.6 387.5,-705.6 384,-715.6 391,-715.6\"/>\n",
       "</g>\n",
       "<!-- 5&#45;&gt;7 -->\n",
       "<g id=\"edge11\" class=\"edge\">\n",
       "<title>5&#45;&gt;7</title>\n",
       "<path fill=\"none\" stroke=\"black\" d=\"M229.5,-742.23C229.5,-733.79 229.5,-724.62 229.5,-715.77\"/>\n",
       "<polygon fill=\"black\" stroke=\"black\" points=\"233,-715.6 229.5,-705.6 226,-715.6 233,-715.6\"/>\n",
       "</g>\n",
       "<!-- 5&#45;&gt;8 -->\n",
       "<g id=\"edge12\" class=\"edge\">\n",
       "<title>5&#45;&gt;8</title>\n",
       "<path fill=\"none\" stroke=\"black\" d=\"M280.8,-742.23C295.85,-732.33 312.44,-721.41 327.96,-711.19\"/>\n",
       "<polygon fill=\"black\" stroke=\"black\" points=\"330.03,-714.02 336.46,-705.6 326.18,-708.17 330.03,-714.02\"/>\n",
       "</g>\n",
       "<!-- 9 -->\n",
       "<g id=\"node10\" class=\"node\">\n",
       "<title>9</title>\n",
       "<polygon fill=\"none\" stroke=\"black\" points=\"161,-530.5 161,-599.5 298,-599.5 298,-530.5 161,-530.5\"/>\n",
       "<text text-anchor=\"middle\" x=\"229.5\" y=\"-584.3\" font-family=\"Times,serif\" font-size=\"14.00\">Op: dil_conv_5x5</text>\n",
       "<polyline fill=\"none\" stroke=\"black\" points=\"161,-576.5 298,-576.5 \"/>\n",
       "<text text-anchor=\"middle\" x=\"229.5\" y=\"-561.3\" font-family=\"Times,serif\" font-size=\"14.00\">In: 4</text>\n",
       "<polyline fill=\"none\" stroke=\"black\" points=\"161,-553.5 298,-553.5 \"/>\n",
       "<text text-anchor=\"middle\" x=\"229.5\" y=\"-538.3\" font-family=\"Times,serif\" font-size=\"14.00\">Out: 5</text>\n",
       "</g>\n",
       "<!-- 6&#45;&gt;9 -->\n",
       "<g id=\"edge13\" class=\"edge\">\n",
       "<title>6&#45;&gt;9</title>\n",
       "<path fill=\"none\" stroke=\"black\" d=\"M85.9,-742.27C99.51,-712.55 121.8,-668.99 148.5,-636 156.89,-625.64 166.93,-615.59 177.05,-606.49\"/>\n",
       "<polygon fill=\"black\" stroke=\"black\" points=\"179.55,-608.95 184.77,-599.73 174.94,-603.68 179.55,-608.95\"/>\n",
       "</g>\n",
       "<!-- 7&#45;&gt;9 -->\n",
       "<g id=\"edge14\" class=\"edge\">\n",
       "<title>7&#45;&gt;9</title>\n",
       "<path fill=\"none\" stroke=\"black\" d=\"M229.5,-636.23C229.5,-627.79 229.5,-618.62 229.5,-609.77\"/>\n",
       "<polygon fill=\"black\" stroke=\"black\" points=\"233,-609.6 229.5,-599.6 226,-609.6 233,-609.6\"/>\n",
       "</g>\n",
       "<!-- 10 -->\n",
       "<g id=\"node11\" class=\"node\">\n",
       "<title>10</title>\n",
       "<polygon fill=\"none\" stroke=\"black\" points=\"192.5,-424.5 192.5,-493.5 272.5,-493.5 272.5,-424.5 192.5,-424.5\"/>\n",
       "<text text-anchor=\"middle\" x=\"232.5\" y=\"-478.3\" font-family=\"Times,serif\" font-size=\"14.00\">Op: none</text>\n",
       "<polyline fill=\"none\" stroke=\"black\" points=\"192.5,-470.5 272.5,-470.5 \"/>\n",
       "<text text-anchor=\"middle\" x=\"232.5\" y=\"-455.3\" font-family=\"Times,serif\" font-size=\"14.00\">In: 5</text>\n",
       "<polyline fill=\"none\" stroke=\"black\" points=\"192.5,-447.5 272.5,-447.5 \"/>\n",
       "<text text-anchor=\"middle\" x=\"232.5\" y=\"-432.3\" font-family=\"Times,serif\" font-size=\"14.00\">Out: 5</text>\n",
       "</g>\n",
       "<!-- 8&#45;&gt;10 -->\n",
       "<g id=\"edge15\" class=\"edge\">\n",
       "<title>8&#45;&gt;10</title>\n",
       "<path fill=\"none\" stroke=\"black\" d=\"M371.84,-636.27C357.31,-606.75 333.99,-563.48 307.5,-530 299.4,-519.76 289.78,-509.65 280.19,-500.42\"/>\n",
       "<polygon fill=\"black\" stroke=\"black\" points=\"282.57,-497.85 272.88,-493.56 277.77,-502.96 282.57,-497.85\"/>\n",
       "</g>\n",
       "<!-- 9&#45;&gt;10 -->\n",
       "<g id=\"edge16\" class=\"edge\">\n",
       "<title>9&#45;&gt;10</title>\n",
       "<path fill=\"none\" stroke=\"black\" d=\"M230.47,-530.23C230.72,-521.79 230.98,-512.62 231.24,-503.77\"/>\n",
       "<polygon fill=\"black\" stroke=\"black\" points=\"234.74,-503.69 231.53,-493.6 227.74,-503.49 234.74,-503.69\"/>\n",
       "</g>\n",
       "<!-- 11 -->\n",
       "<g id=\"node12\" class=\"node\">\n",
       "<title>11</title>\n",
       "<polygon fill=\"none\" stroke=\"black\" points=\"167,-318.5 167,-387.5 304,-387.5 304,-318.5 167,-318.5\"/>\n",
       "<text text-anchor=\"middle\" x=\"235.5\" y=\"-372.3\" font-family=\"Times,serif\" font-size=\"14.00\">Op: dil_conv_3x3</text>\n",
       "<polyline fill=\"none\" stroke=\"black\" points=\"167,-364.5 304,-364.5 \"/>\n",
       "<text text-anchor=\"middle\" x=\"235.5\" y=\"-349.3\" font-family=\"Times,serif\" font-size=\"14.00\">In: 5</text>\n",
       "<polyline fill=\"none\" stroke=\"black\" points=\"167,-341.5 304,-341.5 \"/>\n",
       "<text text-anchor=\"middle\" x=\"235.5\" y=\"-326.3\" font-family=\"Times,serif\" font-size=\"14.00\">Out: 7</text>\n",
       "</g>\n",
       "<!-- 10&#45;&gt;11 -->\n",
       "<g id=\"edge17\" class=\"edge\">\n",
       "<title>10&#45;&gt;11</title>\n",
       "<path fill=\"none\" stroke=\"black\" d=\"M233.47,-424.23C233.72,-415.79 233.98,-406.62 234.24,-397.77\"/>\n",
       "<polygon fill=\"black\" stroke=\"black\" points=\"237.74,-397.69 234.53,-387.6 230.74,-397.49 237.74,-397.69\"/>\n",
       "</g>\n",
       "<!-- 12 -->\n",
       "<g id=\"node13\" class=\"node\">\n",
       "<title>12</title>\n",
       "<polygon fill=\"none\" stroke=\"black\" points=\"65.5,-212.5 65.5,-281.5 211.5,-281.5 211.5,-212.5 65.5,-212.5\"/>\n",
       "<text text-anchor=\"middle\" x=\"138.5\" y=\"-266.3\" font-family=\"Times,serif\" font-size=\"14.00\">Op: max_pool_3x3</text>\n",
       "<polyline fill=\"none\" stroke=\"black\" points=\"65.5,-258.5 211.5,-258.5 \"/>\n",
       "<text text-anchor=\"middle\" x=\"138.5\" y=\"-243.3\" font-family=\"Times,serif\" font-size=\"14.00\">In: 5</text>\n",
       "<polyline fill=\"none\" stroke=\"black\" points=\"65.5,-235.5 211.5,-235.5 \"/>\n",
       "<text text-anchor=\"middle\" x=\"138.5\" y=\"-220.3\" font-family=\"Times,serif\" font-size=\"14.00\">Out: 8</text>\n",
       "</g>\n",
       "<!-- 10&#45;&gt;12 -->\n",
       "<g id=\"edge18\" class=\"edge\">\n",
       "<title>10&#45;&gt;12</title>\n",
       "<path fill=\"none\" stroke=\"black\" d=\"M192.4,-429.66C179.18,-418.24 165.77,-403.98 157.5,-388 142.14,-358.31 137.75,-320.56 137,-291.75\"/>\n",
       "<polygon fill=\"black\" stroke=\"black\" points=\"140.5,-291.52 136.88,-281.57 133.5,-291.61 140.5,-291.52\"/>\n",
       "</g>\n",
       "<!-- 17 -->\n",
       "<g id=\"node18\" class=\"node\">\n",
       "<title>17</title>\n",
       "<polygon fill=\"none\" stroke=\"black\" points=\"230,-212.5 230,-281.5 367,-281.5 367,-212.5 230,-212.5\"/>\n",
       "<text text-anchor=\"middle\" x=\"298.5\" y=\"-266.3\" font-family=\"Times,serif\" font-size=\"14.00\">Op: skip_connect</text>\n",
       "<polyline fill=\"none\" stroke=\"black\" points=\"230,-258.5 367,-258.5 \"/>\n",
       "<text text-anchor=\"middle\" x=\"298.5\" y=\"-243.3\" font-family=\"Times,serif\" font-size=\"14.00\">In: 7</text>\n",
       "<polyline fill=\"none\" stroke=\"black\" points=\"230,-235.5 367,-235.5 \"/>\n",
       "<text text-anchor=\"middle\" x=\"298.5\" y=\"-220.3\" font-family=\"Times,serif\" font-size=\"14.00\">Out: 8</text>\n",
       "</g>\n",
       "<!-- 11&#45;&gt;17 -->\n",
       "<g id=\"edge19\" class=\"edge\">\n",
       "<title>11&#45;&gt;17</title>\n",
       "<path fill=\"none\" stroke=\"black\" d=\"M255.95,-318.23C261.35,-309.33 267.23,-299.62 272.86,-290.33\"/>\n",
       "<polygon fill=\"black\" stroke=\"black\" points=\"275.96,-291.96 278.15,-281.6 269.97,-288.34 275.96,-291.96\"/>\n",
       "</g>\n",
       "<!-- 18 -->\n",
       "<g id=\"node19\" class=\"node\">\n",
       "<title>18</title>\n",
       "<polygon fill=\"none\" stroke=\"black\" points=\"93.5,-106.5 93.5,-175.5 239.5,-175.5 239.5,-106.5 93.5,-106.5\"/>\n",
       "<text text-anchor=\"middle\" x=\"166.5\" y=\"-160.3\" font-family=\"Times,serif\" font-size=\"14.00\">Op: max_pool_3x3</text>\n",
       "<polyline fill=\"none\" stroke=\"black\" points=\"93.5,-152.5 239.5,-152.5 \"/>\n",
       "<text text-anchor=\"middle\" x=\"166.5\" y=\"-137.3\" font-family=\"Times,serif\" font-size=\"14.00\">In: 8</text>\n",
       "<polyline fill=\"none\" stroke=\"black\" points=\"93.5,-129.5 239.5,-129.5 \"/>\n",
       "<text text-anchor=\"middle\" x=\"166.5\" y=\"-114.3\" font-family=\"Times,serif\" font-size=\"14.00\">Out: 9</text>\n",
       "</g>\n",
       "<!-- 12&#45;&gt;18 -->\n",
       "<g id=\"edge20\" class=\"edge\">\n",
       "<title>12&#45;&gt;18</title>\n",
       "<path fill=\"none\" stroke=\"black\" d=\"M147.59,-212.23C149.89,-203.7 152.39,-194.42 154.79,-185.48\"/>\n",
       "<polygon fill=\"black\" stroke=\"black\" points=\"158.23,-186.16 157.45,-175.6 151.48,-184.34 158.23,-186.16\"/>\n",
       "</g>\n",
       "<!-- 19 -->\n",
       "<g id=\"node20\" class=\"node\">\n",
       "<title>19</title>\n",
       "<polygon fill=\"none\" stroke=\"black\" points=\"258,-106.5 258,-175.5 399,-175.5 399,-106.5 258,-106.5\"/>\n",
       "<text text-anchor=\"middle\" x=\"328.5\" y=\"-160.3\" font-family=\"Times,serif\" font-size=\"14.00\">Op: avg_pool_3x3</text>\n",
       "<polyline fill=\"none\" stroke=\"black\" points=\"258,-152.5 399,-152.5 \"/>\n",
       "<text text-anchor=\"middle\" x=\"328.5\" y=\"-137.3\" font-family=\"Times,serif\" font-size=\"14.00\">In: 8</text>\n",
       "<polyline fill=\"none\" stroke=\"black\" points=\"258,-129.5 399,-129.5 \"/>\n",
       "<text text-anchor=\"middle\" x=\"328.5\" y=\"-114.3\" font-family=\"Times,serif\" font-size=\"14.00\">Out: 10</text>\n",
       "</g>\n",
       "<!-- 12&#45;&gt;19 -->\n",
       "<g id=\"edge21\" class=\"edge\">\n",
       "<title>12&#45;&gt;19</title>\n",
       "<path fill=\"none\" stroke=\"black\" d=\"M199.93,-212.38C218.55,-202.18 239.15,-190.91 258.31,-180.42\"/>\n",
       "<polygon fill=\"black\" stroke=\"black\" points=\"260.19,-183.38 267.29,-175.51 256.83,-177.24 260.19,-183.38\"/>\n",
       "</g>\n",
       "<!-- 14 -->\n",
       "<g id=\"node15\" class=\"node\">\n",
       "<title>14</title>\n",
       "<polygon fill=\"none\" stroke=\"black\" points=\"322,-318.5 322,-387.5 459,-387.5 459,-318.5 322,-318.5\"/>\n",
       "<text text-anchor=\"middle\" x=\"390.5\" y=\"-372.3\" font-family=\"Times,serif\" font-size=\"14.00\">Op: skip_connect</text>\n",
       "<polyline fill=\"none\" stroke=\"black\" points=\"322,-364.5 459,-364.5 \"/>\n",
       "<text text-anchor=\"middle\" x=\"390.5\" y=\"-349.3\" font-family=\"Times,serif\" font-size=\"14.00\">In: 6</text>\n",
       "<polyline fill=\"none\" stroke=\"black\" points=\"322,-341.5 459,-341.5 \"/>\n",
       "<text text-anchor=\"middle\" x=\"390.5\" y=\"-326.3\" font-family=\"Times,serif\" font-size=\"14.00\">Out: 7</text>\n",
       "</g>\n",
       "<!-- 13&#45;&gt;14 -->\n",
       "<g id=\"edge22\" class=\"edge\">\n",
       "<title>13&#45;&gt;14</title>\n",
       "<path fill=\"none\" stroke=\"black\" d=\"M456.01,-424.23C447.36,-414.97 437.9,-404.82 428.91,-395.18\"/>\n",
       "<polygon fill=\"black\" stroke=\"black\" points=\"431.22,-392.52 421.84,-387.6 426.1,-397.3 431.22,-392.52\"/>\n",
       "</g>\n",
       "<!-- 15 -->\n",
       "<g id=\"node16\" class=\"node\">\n",
       "<title>15</title>\n",
       "<polygon fill=\"none\" stroke=\"black\" points=\"385,-212.5 385,-281.5 528,-281.5 528,-212.5 385,-212.5\"/>\n",
       "<text text-anchor=\"middle\" x=\"456.5\" y=\"-266.3\" font-family=\"Times,serif\" font-size=\"14.00\">Op: sep_conv_5x5</text>\n",
       "<polyline fill=\"none\" stroke=\"black\" points=\"385,-258.5 528,-258.5 \"/>\n",
       "<text text-anchor=\"middle\" x=\"456.5\" y=\"-243.3\" font-family=\"Times,serif\" font-size=\"14.00\">In: 6</text>\n",
       "<polyline fill=\"none\" stroke=\"black\" points=\"385,-235.5 528,-235.5 \"/>\n",
       "<text text-anchor=\"middle\" x=\"456.5\" y=\"-220.3\" font-family=\"Times,serif\" font-size=\"14.00\">Out: 9</text>\n",
       "</g>\n",
       "<!-- 13&#45;&gt;15 -->\n",
       "<g id=\"edge23\" class=\"edge\">\n",
       "<title>13&#45;&gt;15</title>\n",
       "<path fill=\"none\" stroke=\"black\" d=\"M483.26,-424.29C479.61,-395.9 474.06,-354.25 468.5,-318 467.2,-309.5 465.71,-300.44 464.24,-291.76\"/>\n",
       "<polygon fill=\"black\" stroke=\"black\" points=\"467.67,-291.05 462.54,-281.79 460.77,-292.23 467.67,-291.05\"/>\n",
       "</g>\n",
       "<!-- 16 -->\n",
       "<g id=\"node17\" class=\"node\">\n",
       "<title>16</title>\n",
       "<polygon fill=\"none\" stroke=\"black\" points=\"478,-106.5 478,-175.5 619,-175.5 619,-106.5 478,-106.5\"/>\n",
       "<text text-anchor=\"middle\" x=\"548.5\" y=\"-160.3\" font-family=\"Times,serif\" font-size=\"14.00\">Op: avg_pool_3x3</text>\n",
       "<polyline fill=\"none\" stroke=\"black\" points=\"478,-152.5 619,-152.5 \"/>\n",
       "<text text-anchor=\"middle\" x=\"548.5\" y=\"-137.3\" font-family=\"Times,serif\" font-size=\"14.00\">In: 6</text>\n",
       "<polyline fill=\"none\" stroke=\"black\" points=\"478,-129.5 619,-129.5 \"/>\n",
       "<text text-anchor=\"middle\" x=\"548.5\" y=\"-114.3\" font-family=\"Times,serif\" font-size=\"14.00\">Out: 10</text>\n",
       "</g>\n",
       "<!-- 13&#45;&gt;16 -->\n",
       "<g id=\"edge24\" class=\"edge\">\n",
       "<title>13&#45;&gt;16</title>\n",
       "<path fill=\"none\" stroke=\"black\" d=\"M499.2,-424.4C510.91,-389.32 528.44,-332.49 537.5,-282 543.23,-250.08 545.97,-213.54 547.29,-185.79\"/>\n",
       "<polygon fill=\"black\" stroke=\"black\" points=\"550.79,-185.76 547.73,-175.62 543.8,-185.46 550.79,-185.76\"/>\n",
       "</g>\n",
       "<!-- 14&#45;&gt;17 -->\n",
       "<g id=\"edge25\" class=\"edge\">\n",
       "<title>14&#45;&gt;17</title>\n",
       "<path fill=\"none\" stroke=\"black\" d=\"M360.63,-318.23C352.43,-308.97 343.45,-298.82 334.93,-289.18\"/>\n",
       "<polygon fill=\"black\" stroke=\"black\" points=\"337.47,-286.77 328.22,-281.6 332.22,-291.41 337.47,-286.77\"/>\n",
       "</g>\n",
       "<!-- 20 -->\n",
       "<g id=\"node21\" class=\"node\">\n",
       "<title>20</title>\n",
       "<polygon fill=\"none\" stroke=\"black\" points=\"337.5,-0.5 337.5,-69.5 417.5,-69.5 417.5,-0.5 337.5,-0.5\"/>\n",
       "<text text-anchor=\"middle\" x=\"377.5\" y=\"-54.3\" font-family=\"Times,serif\" font-size=\"14.00\">Op: none</text>\n",
       "<polyline fill=\"none\" stroke=\"black\" points=\"337.5,-46.5 417.5,-46.5 \"/>\n",
       "<text text-anchor=\"middle\" x=\"377.5\" y=\"-31.3\" font-family=\"Times,serif\" font-size=\"14.00\">In: 11</text>\n",
       "<polyline fill=\"none\" stroke=\"black\" points=\"337.5,-23.5 417.5,-23.5 \"/>\n",
       "<text text-anchor=\"middle\" x=\"377.5\" y=\"-8.3\" font-family=\"Times,serif\" font-size=\"14.00\">Out: 11</text>\n",
       "</g>\n",
       "<!-- 15&#45;&gt;20 -->\n",
       "<g id=\"edge26\" class=\"edge\">\n",
       "<title>15&#45;&gt;20</title>\n",
       "<path fill=\"none\" stroke=\"black\" d=\"M445.86,-212.33C436.63,-183.78 422.57,-141.88 408.5,-106 405.04,-97.19 401.11,-87.86 397.24,-78.98\"/>\n",
       "<polygon fill=\"black\" stroke=\"black\" points=\"400.32,-77.31 393.08,-69.58 393.92,-80.14 400.32,-77.31\"/>\n",
       "</g>\n",
       "<!-- 16&#45;&gt;20 -->\n",
       "<g id=\"edge27\" class=\"edge\">\n",
       "<title>16&#45;&gt;20</title>\n",
       "<path fill=\"none\" stroke=\"black\" d=\"M492.98,-106.23C471.48,-93.16 447.08,-78.32 426.26,-65.66\"/>\n",
       "<polygon fill=\"black\" stroke=\"black\" points=\"427.94,-62.58 417.58,-60.38 424.31,-68.56 427.94,-62.58\"/>\n",
       "</g>\n",
       "<!-- 17&#45;&gt;18 -->\n",
       "<g id=\"edge28\" class=\"edge\">\n",
       "<title>17&#45;&gt;18</title>\n",
       "<path fill=\"none\" stroke=\"black\" d=\"M255.64,-212.23C243.42,-202.6 229.98,-192.01 217.32,-182.04\"/>\n",
       "<polygon fill=\"black\" stroke=\"black\" points=\"219.16,-179.04 209.14,-175.6 214.83,-184.53 219.16,-179.04\"/>\n",
       "</g>\n",
       "<!-- 17&#45;&gt;19 -->\n",
       "<g id=\"edge29\" class=\"edge\">\n",
       "<title>17&#45;&gt;19</title>\n",
       "<path fill=\"none\" stroke=\"black\" d=\"M308.24,-212.23C310.7,-203.7 313.38,-194.42 315.96,-185.48\"/>\n",
       "<polygon fill=\"black\" stroke=\"black\" points=\"319.4,-186.17 318.81,-175.6 312.67,-184.23 319.4,-186.17\"/>\n",
       "</g>\n",
       "<!-- 18&#45;&gt;20 -->\n",
       "<g id=\"edge30\" class=\"edge\">\n",
       "<title>18&#45;&gt;20</title>\n",
       "<path fill=\"none\" stroke=\"black\" d=\"M234.71,-106.38C265.11,-91.4 300.25,-74.08 328.06,-60.37\"/>\n",
       "<polygon fill=\"black\" stroke=\"black\" points=\"329.77,-63.43 337.19,-55.87 326.68,-57.15 329.77,-63.43\"/>\n",
       "</g>\n",
       "<!-- 19&#45;&gt;20 -->\n",
       "<g id=\"edge31\" class=\"edge\">\n",
       "<title>19&#45;&gt;20</title>\n",
       "<path fill=\"none\" stroke=\"black\" d=\"M344.41,-106.23C348.52,-97.52 352.99,-88.02 357.28,-78.91\"/>\n",
       "<polygon fill=\"black\" stroke=\"black\" points=\"360.57,-80.13 361.67,-69.6 354.24,-77.15 360.57,-80.13\"/>\n",
       "</g>\n",
       "</g>\n",
       "</svg>\n"
      ],
      "text/plain": [
       "<graphviz.graphs.Digraph at 0x79ff78553740>"
      ]
     },
     "metadata": {},
     "output_type": "display_data"
    }
   ],
   "source": [
    "graph.show_graph()"
   ]
  },
  {
   "cell_type": "code",
   "execution_count": 10,
   "metadata": {
    "execution": {
     "iopub.execute_input": "2025-04-08T17:24:07.137394Z",
     "iopub.status.busy": "2025-04-08T17:24:07.137171Z",
     "iopub.status.idle": "2025-04-08T17:24:07.148704Z",
     "shell.execute_reply": "2025-04-08T17:24:07.147974Z",
     "shell.execute_reply.started": "2025-04-08T17:24:07.137377Z"
    },
    "trusted": true
   },
   "outputs": [
    {
     "data": {
      "text/plain": [
       "(array([[0., 1., 0., 0., 0., 0., 0., 0., 0., 0., 0., 0., 0., 0., 0., 0.,\n",
       "         0., 0., 0., 0., 0.],\n",
       "        [0., 0., 0., 0., 0., 1., 1., 0., 0., 0., 0., 0., 0., 0., 0., 0.,\n",
       "         0., 0., 0., 0., 0.],\n",
       "        [0., 0., 0., 1., 1., 0., 0., 0., 0., 0., 0., 0., 0., 1., 0., 0.,\n",
       "         0., 0., 0., 0., 0.],\n",
       "        [0., 0., 0., 0., 0., 1., 1., 0., 0., 0., 0., 0., 0., 0., 0., 0.,\n",
       "         0., 0., 0., 0., 0.],\n",
       "        [0., 0., 0., 0., 0., 0., 0., 1., 1., 0., 0., 0., 0., 0., 0., 0.,\n",
       "         0., 0., 0., 0., 0.],\n",
       "        [0., 0., 0., 0., 0., 0., 0., 1., 1., 0., 0., 0., 0., 0., 0., 0.,\n",
       "         0., 0., 0., 0., 0.],\n",
       "        [0., 0., 0., 0., 0., 0., 0., 0., 0., 1., 0., 0., 0., 0., 0., 0.,\n",
       "         0., 0., 0., 0., 0.],\n",
       "        [0., 0., 0., 0., 0., 0., 0., 0., 0., 1., 0., 0., 0., 0., 0., 0.,\n",
       "         0., 0., 0., 0., 0.],\n",
       "        [0., 0., 0., 0., 0., 0., 0., 0., 0., 0., 1., 0., 0., 0., 0., 0.,\n",
       "         0., 0., 0., 0., 0.],\n",
       "        [0., 0., 0., 0., 0., 0., 0., 0., 0., 0., 1., 0., 0., 0., 0., 0.,\n",
       "         0., 0., 0., 0., 0.],\n",
       "        [0., 0., 0., 0., 0., 0., 0., 0., 0., 0., 0., 1., 1., 0., 0., 0.,\n",
       "         0., 0., 0., 0., 0.],\n",
       "        [0., 0., 0., 0., 0., 0., 0., 0., 0., 0., 0., 0., 0., 0., 0., 0.,\n",
       "         0., 1., 0., 0., 0.],\n",
       "        [0., 0., 0., 0., 0., 0., 0., 0., 0., 0., 0., 0., 0., 0., 0., 0.,\n",
       "         0., 0., 1., 1., 0.],\n",
       "        [0., 0., 0., 0., 0., 0., 0., 0., 0., 0., 0., 0., 0., 0., 1., 1.,\n",
       "         1., 0., 0., 0., 0.],\n",
       "        [0., 0., 0., 0., 0., 0., 0., 0., 0., 0., 0., 0., 0., 0., 0., 0.,\n",
       "         0., 1., 0., 0., 0.],\n",
       "        [0., 0., 0., 0., 0., 0., 0., 0., 0., 0., 0., 0., 0., 0., 0., 0.,\n",
       "         0., 0., 0., 0., 1.],\n",
       "        [0., 0., 0., 0., 0., 0., 0., 0., 0., 0., 0., 0., 0., 0., 0., 0.,\n",
       "         0., 0., 0., 0., 1.],\n",
       "        [0., 0., 0., 0., 0., 0., 0., 0., 0., 0., 0., 0., 0., 0., 0., 0.,\n",
       "         0., 0., 1., 1., 0.],\n",
       "        [0., 0., 0., 0., 0., 0., 0., 0., 0., 0., 0., 0., 0., 0., 0., 0.,\n",
       "         0., 0., 0., 0., 1.],\n",
       "        [0., 0., 0., 0., 0., 0., 0., 0., 0., 0., 0., 0., 0., 0., 0., 0.,\n",
       "         0., 0., 0., 0., 1.],\n",
       "        [0., 0., 0., 0., 0., 0., 0., 0., 0., 0., 0., 0., 0., 0., 0., 0.,\n",
       "         0., 0., 0., 0., 0.]]),\n",
       " ['none',\n",
       "  'sep_conv_3x3',\n",
       "  'none',\n",
       "  'dil_conv_3x3',\n",
       "  'sep_conv_3x3',\n",
       "  'dil_conv_3x3',\n",
       "  'sep_conv_3x3',\n",
       "  'sep_conv_5x5',\n",
       "  'skip_connect',\n",
       "  'dil_conv_5x5',\n",
       "  'none',\n",
       "  'dil_conv_3x3',\n",
       "  'max_pool_3x3',\n",
       "  'none',\n",
       "  'skip_connect',\n",
       "  'sep_conv_5x5',\n",
       "  'avg_pool_3x3',\n",
       "  'skip_connect',\n",
       "  'max_pool_3x3',\n",
       "  'avg_pool_3x3',\n",
       "  'none'],\n",
       " array([[0., 0., 0., 0., 1., 0., 0., 0.],\n",
       "        [0., 0., 0., 0., 0., 1., 0., 0.],\n",
       "        [0., 0., 0., 0., 1., 0., 0., 0.],\n",
       "        [0., 1., 0., 0., 0., 0., 0., 0.],\n",
       "        [0., 0., 0., 0., 0., 1., 0., 0.],\n",
       "        [0., 1., 0., 0., 0., 0., 0., 0.],\n",
       "        [0., 0., 0., 0., 0., 1., 0., 0.],\n",
       "        [0., 0., 0., 0., 0., 0., 1., 0.],\n",
       "        [0., 0., 0., 0., 0., 0., 0., 1.],\n",
       "        [0., 0., 1., 0., 0., 0., 0., 0.],\n",
       "        [0., 0., 0., 0., 1., 0., 0., 0.],\n",
       "        [0., 1., 0., 0., 0., 0., 0., 0.],\n",
       "        [0., 0., 0., 1., 0., 0., 0., 0.],\n",
       "        [0., 0., 0., 0., 1., 0., 0., 0.],\n",
       "        [0., 0., 0., 0., 0., 0., 0., 1.],\n",
       "        [0., 0., 0., 0., 0., 0., 1., 0.],\n",
       "        [1., 0., 0., 0., 0., 0., 0., 0.],\n",
       "        [0., 0., 0., 0., 0., 0., 0., 1.],\n",
       "        [0., 0., 0., 1., 0., 0., 0., 0.],\n",
       "        [1., 0., 0., 0., 0., 0., 0., 0.],\n",
       "        [0., 0., 0., 0., 1., 0., 0., 0.]]))"
      ]
     },
     "execution_count": 10,
     "metadata": {},
     "output_type": "execute_result"
    }
   ],
   "source": [
    "graph.get_adjacency_matrix()"
   ]
  },
  {
   "cell_type": "code",
   "execution_count": 11,
   "metadata": {
    "execution": {
     "iopub.execute_input": "2025-04-08T17:24:07.149632Z",
     "iopub.status.busy": "2025-04-08T17:24:07.149404Z",
     "iopub.status.idle": "2025-04-08T17:24:07.163874Z",
     "shell.execute_reply": "2025-04-08T17:24:07.163200Z",
     "shell.execute_reply.started": "2025-04-08T17:24:07.149613Z"
    },
    "trusted": true
   },
   "outputs": [
    {
     "data": {
      "text/plain": [
       "[Op: none | In: 0 | Out: 0,\n",
       " Op: sep_conv_3x3 | In: 0 | Out: 2,\n",
       " Op: none | In: 1 | Out: 1,\n",
       " Op: dil_conv_3x3 | In: 1 | Out: 2,\n",
       " Op: sep_conv_3x3 | In: 1 | Out: 3,\n",
       " Op: dil_conv_3x3 | In: 2 | Out: 3,\n",
       " Op: sep_conv_3x3 | In: 2 | Out: 4,\n",
       " Op: sep_conv_5x5 | In: 3 | Out: 4,\n",
       " Op: skip_connect | In: 3 | Out: 5,\n",
       " Op: dil_conv_5x5 | In: 4 | Out: 5]"
      ]
     },
     "execution_count": 11,
     "metadata": {},
     "output_type": "execute_result"
    }
   ],
   "source": [
    "graph._normal_graph"
   ]
  },
  {
   "cell_type": "code",
   "execution_count": 12,
   "metadata": {
    "execution": {
     "iopub.execute_input": "2025-04-08T17:24:07.164776Z",
     "iopub.status.busy": "2025-04-08T17:24:07.164578Z",
     "iopub.status.idle": "2025-04-08T17:24:07.179376Z",
     "shell.execute_reply": "2025-04-08T17:24:07.178705Z",
     "shell.execute_reply.started": "2025-04-08T17:24:07.164759Z"
    },
    "trusted": true
   },
   "outputs": [
    {
     "data": {
      "text/plain": [
       "[Op: none | In: 0 | Out: 0,\n",
       " Op: dil_conv_3x3 | In: 0 | Out: 2,\n",
       " Op: max_pool_3x3 | In: 0 | Out: 3,\n",
       " Op: none | In: 1 | Out: 1,\n",
       " Op: skip_connect | In: 1 | Out: 2,\n",
       " Op: sep_conv_5x5 | In: 1 | Out: 4,\n",
       " Op: avg_pool_3x3 | In: 1 | Out: 5,\n",
       " Op: skip_connect | In: 2 | Out: 3,\n",
       " Op: max_pool_3x3 | In: 3 | Out: 4,\n",
       " Op: avg_pool_3x3 | In: 3 | Out: 5]"
      ]
     },
     "execution_count": 12,
     "metadata": {},
     "output_type": "execute_result"
    }
   ],
   "source": [
    "graph._reduction_graph\n"
   ]
  },
  {
   "cell_type": "markdown",
   "metadata": {},
   "source": [
    "Матрица смежности и описания узлов(сначала в виде строк, потом в виде one-hot векторов) представлены так"
   ]
  },
  {
   "cell_type": "code",
   "execution_count": 13,
   "metadata": {
    "execution": {
     "iopub.execute_input": "2025-04-08T17:24:07.180626Z",
     "iopub.status.busy": "2025-04-08T17:24:07.180310Z",
     "iopub.status.idle": "2025-04-08T17:24:07.199848Z",
     "shell.execute_reply": "2025-04-08T17:24:07.199208Z",
     "shell.execute_reply.started": "2025-04-08T17:24:07.180596Z"
    },
    "trusted": true
   },
   "outputs": [
    {
     "data": {
      "text/plain": [
       "(array([[0., 1., 0., 0., 0., 0., 0., 0., 0., 0., 0., 0., 0., 0., 0., 0.,\n",
       "         0., 0., 0., 0., 0.],\n",
       "        [0., 0., 0., 0., 0., 1., 1., 0., 0., 0., 0., 0., 0., 0., 0., 0.,\n",
       "         0., 0., 0., 0., 0.],\n",
       "        [0., 0., 0., 1., 1., 0., 0., 0., 0., 0., 0., 0., 0., 1., 0., 0.,\n",
       "         0., 0., 0., 0., 0.],\n",
       "        [0., 0., 0., 0., 0., 1., 1., 0., 0., 0., 0., 0., 0., 0., 0., 0.,\n",
       "         0., 0., 0., 0., 0.],\n",
       "        [0., 0., 0., 0., 0., 0., 0., 1., 1., 0., 0., 0., 0., 0., 0., 0.,\n",
       "         0., 0., 0., 0., 0.],\n",
       "        [0., 0., 0., 0., 0., 0., 0., 1., 1., 0., 0., 0., 0., 0., 0., 0.,\n",
       "         0., 0., 0., 0., 0.],\n",
       "        [0., 0., 0., 0., 0., 0., 0., 0., 0., 1., 0., 0., 0., 0., 0., 0.,\n",
       "         0., 0., 0., 0., 0.],\n",
       "        [0., 0., 0., 0., 0., 0., 0., 0., 0., 1., 0., 0., 0., 0., 0., 0.,\n",
       "         0., 0., 0., 0., 0.],\n",
       "        [0., 0., 0., 0., 0., 0., 0., 0., 0., 0., 1., 0., 0., 0., 0., 0.,\n",
       "         0., 0., 0., 0., 0.],\n",
       "        [0., 0., 0., 0., 0., 0., 0., 0., 0., 0., 1., 0., 0., 0., 0., 0.,\n",
       "         0., 0., 0., 0., 0.],\n",
       "        [0., 0., 0., 0., 0., 0., 0., 0., 0., 0., 0., 1., 1., 0., 0., 0.,\n",
       "         0., 0., 0., 0., 0.],\n",
       "        [0., 0., 0., 0., 0., 0., 0., 0., 0., 0., 0., 0., 0., 0., 0., 0.,\n",
       "         0., 1., 0., 0., 0.],\n",
       "        [0., 0., 0., 0., 0., 0., 0., 0., 0., 0., 0., 0., 0., 0., 0., 0.,\n",
       "         0., 0., 1., 1., 0.],\n",
       "        [0., 0., 0., 0., 0., 0., 0., 0., 0., 0., 0., 0., 0., 0., 1., 1.,\n",
       "         1., 0., 0., 0., 0.],\n",
       "        [0., 0., 0., 0., 0., 0., 0., 0., 0., 0., 0., 0., 0., 0., 0., 0.,\n",
       "         0., 1., 0., 0., 0.],\n",
       "        [0., 0., 0., 0., 0., 0., 0., 0., 0., 0., 0., 0., 0., 0., 0., 0.,\n",
       "         0., 0., 0., 0., 1.],\n",
       "        [0., 0., 0., 0., 0., 0., 0., 0., 0., 0., 0., 0., 0., 0., 0., 0.,\n",
       "         0., 0., 0., 0., 1.],\n",
       "        [0., 0., 0., 0., 0., 0., 0., 0., 0., 0., 0., 0., 0., 0., 0., 0.,\n",
       "         0., 0., 1., 1., 0.],\n",
       "        [0., 0., 0., 0., 0., 0., 0., 0., 0., 0., 0., 0., 0., 0., 0., 0.,\n",
       "         0., 0., 0., 0., 1.],\n",
       "        [0., 0., 0., 0., 0., 0., 0., 0., 0., 0., 0., 0., 0., 0., 0., 0.,\n",
       "         0., 0., 0., 0., 1.],\n",
       "        [0., 0., 0., 0., 0., 0., 0., 0., 0., 0., 0., 0., 0., 0., 0., 0.,\n",
       "         0., 0., 0., 0., 0.]]),\n",
       " ['none',\n",
       "  'sep_conv_3x3',\n",
       "  'none',\n",
       "  'dil_conv_3x3',\n",
       "  'sep_conv_3x3',\n",
       "  'dil_conv_3x3',\n",
       "  'sep_conv_3x3',\n",
       "  'sep_conv_5x5',\n",
       "  'skip_connect',\n",
       "  'dil_conv_5x5',\n",
       "  'none',\n",
       "  'dil_conv_3x3',\n",
       "  'max_pool_3x3',\n",
       "  'none',\n",
       "  'skip_connect',\n",
       "  'sep_conv_5x5',\n",
       "  'avg_pool_3x3',\n",
       "  'skip_connect',\n",
       "  'max_pool_3x3',\n",
       "  'avg_pool_3x3',\n",
       "  'none'],\n",
       " array([[0., 0., 0., 0., 1., 0., 0., 0.],\n",
       "        [0., 0., 0., 0., 0., 1., 0., 0.],\n",
       "        [0., 0., 0., 0., 1., 0., 0., 0.],\n",
       "        [0., 1., 0., 0., 0., 0., 0., 0.],\n",
       "        [0., 0., 0., 0., 0., 1., 0., 0.],\n",
       "        [0., 1., 0., 0., 0., 0., 0., 0.],\n",
       "        [0., 0., 0., 0., 0., 1., 0., 0.],\n",
       "        [0., 0., 0., 0., 0., 0., 1., 0.],\n",
       "        [0., 0., 0., 0., 0., 0., 0., 1.],\n",
       "        [0., 0., 1., 0., 0., 0., 0., 0.],\n",
       "        [0., 0., 0., 0., 1., 0., 0., 0.],\n",
       "        [0., 1., 0., 0., 0., 0., 0., 0.],\n",
       "        [0., 0., 0., 1., 0., 0., 0., 0.],\n",
       "        [0., 0., 0., 0., 1., 0., 0., 0.],\n",
       "        [0., 0., 0., 0., 0., 0., 0., 1.],\n",
       "        [0., 0., 0., 0., 0., 0., 1., 0.],\n",
       "        [1., 0., 0., 0., 0., 0., 0., 0.],\n",
       "        [0., 0., 0., 0., 0., 0., 0., 1.],\n",
       "        [0., 0., 0., 1., 0., 0., 0., 0.],\n",
       "        [1., 0., 0., 0., 0., 0., 0., 0.],\n",
       "        [0., 0., 0., 0., 1., 0., 0., 0.]]))"
      ]
     },
     "execution_count": 13,
     "metadata": {},
     "output_type": "execute_result"
    }
   ],
   "source": [
    "graph.get_adjacency_matrix()"
   ]
  },
  {
   "cell_type": "markdown",
   "metadata": {},
   "source": [
    "Рассчитаю разнообразие наивно -- просто буду говорить каков процент совпадений ответов у моделей "
   ]
  },
  {
   "cell_type": "code",
   "execution_count": 14,
   "metadata": {
    "execution": {
     "iopub.execute_input": "2025-04-08T17:24:07.201130Z",
     "iopub.status.busy": "2025-04-08T17:24:07.200732Z",
     "iopub.status.idle": "2025-04-08T17:24:07.213774Z",
     "shell.execute_reply": "2025-04-08T17:24:07.213074Z",
     "shell.execute_reply.started": "2025-04-08T17:24:07.201098Z"
    },
    "trusted": true
   },
   "outputs": [],
   "source": [
    "def get_diversity(args):\n",
    "    i, j, model_i, model_j = args\n",
    "    preds_i = np.array(model_i[\"test_predictions\"])\n",
    "    preds_j = np.array(model_j[\"test_predictions\"])\n",
    "    distance = np.mean(preds_i == preds_j)\n",
    "    return (i, j, distance)\n",
    "\n",
    "def get_diversity_using_jensen_shannon(args):\n",
    "    i, j, model_i, model_j, num_samples = args\n",
    "    indices = np.random.choice(len(model_i[\"test_predictions\"]), num_samples, replace=False)\n",
    "    preds_i = np.array(model_i[\"test_predictions\"])[indices]\n",
    "    preds_j = np.array(model_j[\"test_predictions\"])[indices]\n",
    "    distance = np.mean([jensenshannon(p1, p2) for p1, p2 in zip(preds_i, preds_j)])\n",
    "    return (i, j, distance)"
   ]
  },
  {
   "cell_type": "markdown",
   "metadata": {},
   "source": [
    "Построю матрицу разнообразия"
   ]
  },
  {
   "cell_type": "code",
   "execution_count": null,
   "metadata": {
    "execution": {
     "iopub.execute_input": "2025-04-08T17:24:07.214774Z",
     "iopub.status.busy": "2025-04-08T17:24:07.214536Z",
     "iopub.status.idle": "2025-04-08T17:24:07.228579Z",
     "shell.execute_reply": "2025-04-08T17:24:07.227910Z",
     "shell.execute_reply.started": "2025-04-08T17:24:07.214748Z"
    },
    "trusted": true
   },
   "outputs": [],
   "source": [
    "def get_diversity_matrix_naive(models_dict, num_samples=None):\n",
    "    n_models = len(models_dict)\n",
    "    diversity_matrix = np.eye(n_models)\n",
    "\n",
    "    # Предобработка: обрезаем и кешируем предсказания\n",
    "    cached_preds = {}\n",
    "    for i in range(n_models):\n",
    "        preds = np.array(models_dict[i][\"test_predictions\"])\n",
    "        if num_samples is not None:\n",
    "            preds = preds[:num_samples]\n",
    "        cached_preds[i] = preds\n",
    "\n",
    "    for i in tqdm(range(n_models), desc=\"Computing diversity matrix\"):\n",
    "        for j in range(i + 1, n_models):\n",
    "            distance = np.mean(cached_preds[i] == cached_preds[j])\n",
    "            diversity_matrix[i, j] = diversity_matrix[j, i] = distance\n",
    "\n",
    "    return diversity_matrix\n",
    "\n",
    "def get_diversity_matrix(models_dict, num_samples=2000):\n",
    "    n_models = len(models_dict)\n",
    "    diversity_matrix = np.eye(n_models)\n",
    "    \n",
    "    # Кеширование предсказаний для каждой модели (ограничиваем до num_samples, если нужно)\n",
    "    cached_preds = {\n",
    "        i: np.array(models_dict[i][\"test_predictions\"])[:num_samples]\n",
    "        for i in range(n_models)\n",
    "    }\n",
    "    \n",
    "    # Список аргументов для всех пар (i,j)\n",
    "    pairs = [\n",
    "        (i, j, {\"test_predictions\": cached_preds[i]}, {\"test_predictions\": cached_preds[j]}, num_samples)\n",
    "        for i, j in combinations(range(n_models), 2)\n",
    "    ]\n",
    "    \n",
    "    with Pool(processes=cpu_count()) as pool:\n",
    "        results = list(\n",
    "            tqdm(\n",
    "                pool.imap_unordered(get_diversity_using_jensen_shannon, pairs),\n",
    "                total=len(pairs),\n",
    "                desc=\"Расчет матрицы разнообразия\",\n",
    "            )\n",
    "        )\n",
    "    \n",
    "    for i, j, dist in results:\n",
    "        diversity_matrix[i, j] = dist\n",
    "        diversity_matrix[j, i] = dist\n",
    "    \n",
    "    return diversity_matrix\n"
   ]
  },
  {
   "cell_type": "code",
   "execution_count": 16,
   "metadata": {
    "execution": {
     "iopub.execute_input": "2025-04-08T17:24:07.229735Z",
     "iopub.status.busy": "2025-04-08T17:24:07.229438Z",
     "iopub.status.idle": "2025-04-08T17:24:24.835489Z",
     "shell.execute_reply": "2025-04-08T17:24:24.834769Z",
     "shell.execute_reply.started": "2025-04-08T17:24:07.229706Z"
    },
    "trusted": true
   },
   "outputs": [
    {
     "name": "stderr",
     "output_type": "stream",
     "text": [
      "Computing diversity matrix: 100%|██████████| 1186/1186 [00:44<00:00, 26.88it/s] \n"
     ]
    }
   ],
   "source": [
    "diversity_matrix = get_diversity_matrix_naive(models_dict)"
   ]
  },
  {
   "cell_type": "code",
   "execution_count": 17,
   "metadata": {
    "execution": {
     "iopub.execute_input": "2025-04-08T17:24:24.836649Z",
     "iopub.status.busy": "2025-04-08T17:24:24.836367Z",
     "iopub.status.idle": "2025-04-08T17:24:25.272424Z",
     "shell.execute_reply": "2025-04-08T17:24:25.271524Z",
     "shell.execute_reply.started": "2025-04-08T17:24:24.836628Z"
    },
    "trusted": true
   },
   "outputs": [
    {
     "name": "stderr",
     "output_type": "stream",
     "text": [
      "100%|██████████| 1186/1186 [00:00<00:00, 4645.68it/s]\n"
     ]
    },
    {
     "data": {
      "image/png": "[encoded data removed]",
      "text/plain": [
       "<Figure size 1000x600 with 1 Axes>"
      ]
     },
     "metadata": {},
     "output_type": "display_data"
    }
   ],
   "source": [
    "diversities = []\n",
    "\n",
    "for i in tqdm(range(len(models_dict))):\n",
    "    for j in range(i + 1, len(models_dict)):\n",
    "        diversities.append(diversity_matrix[i, j])\n",
    "diversities = np.array(diversities)\n",
    "\n",
    "plt.figure(figsize=(10, 6))\n",
    "\n",
    "plt.hist(diversities, bins=30, edgecolor=\"black\")\n",
    "# plt.title(\"Distribution of Model Diversity\")\n",
    "plt.xlabel(\"Percentage of Differences\", fontsize=18)\n",
    "plt.ylabel(\"Frequency\", fontsize=18)\n",
    "plt.grid(axis='y', linestyle='--', alpha=0.7)\n",
    "plt.xticks(fontsize=16)\n",
    "plt.yticks(fontsize=16)\n",
    "plt.show()"
   ]
  },
  {
   "cell_type": "markdown",
   "metadata": {},
   "source": [
    "Для triplet loss нам нужно будет подбирать positive и negative примеры, для этого удобно будет использовать дискретную матрицу разнообразия\n",
    "\n",
    "В ней 1 -- positive, -1 -- negative, 0 в ином случае."
   ]
  },
  {
   "cell_type": "code",
   "execution_count": 18,
   "metadata": {
    "execution": {
     "iopub.execute_input": "2025-04-08T17:24:25.273480Z",
     "iopub.status.busy": "2025-04-08T17:24:25.273231Z",
     "iopub.status.idle": "2025-04-08T17:24:25.278110Z",
     "shell.execute_reply": "2025-04-08T17:24:25.276860Z",
     "shell.execute_reply.started": "2025-04-08T17:24:25.273460Z"
    },
    "trusted": true
   },
   "outputs": [],
   "source": [
    "def create_discrete_diversity_matrix(models_dict, diversity_matrix):\n",
    "    discrete_diversity_matrix = np.zeros((len(models_dict), len(models_dict)))\n",
    "\n",
    "    upper_margins = np.quantile(diversity_matrix, 0.90, axis=1)\n",
    "    lower_margins = np.quantile(diversity_matrix, 0.1, axis=1)\n",
    "\n",
    "    discrete_diversity_matrix[diversity_matrix > upper_margins[:, None]] = 1\n",
    "    discrete_diversity_matrix[diversity_matrix < lower_margins[:, None]] = -1\n",
    "\n",
    "    return discrete_diversity_matrix"
   ]
  },
  {
   "cell_type": "code",
   "execution_count": 19,
   "metadata": {
    "execution": {
     "iopub.execute_input": "2025-04-08T17:24:25.296948Z",
     "iopub.status.busy": "2025-04-08T17:24:25.296713Z",
     "iopub.status.idle": "2025-04-08T17:24:25.371475Z",
     "shell.execute_reply": "2025-04-08T17:24:25.370762Z",
     "shell.execute_reply.started": "2025-04-08T17:24:25.296930Z"
    },
    "trusted": true
   },
   "outputs": [],
   "source": [
    "discrete_diversity_matrix = create_discrete_diversity_matrix(models_dict, diversity_matrix)"
   ]
  },
  {
   "cell_type": "markdown",
   "metadata": {},
   "source": [
    "Строим тренировочный и валидационный датасеты."
   ]
  },
  {
   "cell_type": "code",
   "execution_count": 21,
   "metadata": {
    "execution": {
     "iopub.execute_input": "2025-04-08T17:24:25.407498Z",
     "iopub.status.busy": "2025-04-08T17:24:25.407274Z",
     "iopub.status.idle": "2025-04-08T17:24:28.258884Z",
     "shell.execute_reply": "2025-04-08T17:24:28.257779Z",
     "shell.execute_reply.started": "2025-04-08T17:24:25.407462Z"
    },
    "trusted": true
   },
   "outputs": [
    {
     "name": "stdout",
     "output_type": "stream",
     "text": [
      "Train dataset size: 948\n",
      "Test dataset size: 238\n"
     ]
    }
   ],
   "source": [
    "graphs = [Graph(model_dict, index=i) for (i, model_dict) in enumerate(models_dict)]\n",
    "accuracies = [model['test_accuracy'] for model in models_dict]\n",
    "graphs_dataset = CustomDataset(graphs, accuracies)\n",
    "\n",
    "train_size = int(0.8 * len(graphs_dataset))  # 80% для тренировки\n",
    "valid_size = len(graphs_dataset) - train_size  # Остальные 20% для теста\n",
    "\n",
    "train_dataset, valid_dataset = random_split(graphs_dataset, [train_size, valid_size])\n",
    "\n",
    "print(f\"Train dataset size: {len(train_dataset)}\")\n",
    "print(f\"Test dataset size: {len(valid_dataset)}\")"
   ]
  },
  {
   "cell_type": "code",
   "execution_count": 22,
   "metadata": {
    "execution": {
     "iopub.execute_input": "2025-04-08T17:24:28.260104Z",
     "iopub.status.busy": "2025-04-08T17:24:28.259832Z",
     "iopub.status.idle": "2025-04-08T17:24:28.264243Z",
     "shell.execute_reply": "2025-04-08T17:24:28.263318Z",
     "shell.execute_reply.started": "2025-04-08T17:24:28.260083Z"
    },
    "trusted": true
   },
   "outputs": [],
   "source": [
    "def triplet_loss(anchor, positive, negative, margin=0.1):\n",
    "    d_ap = (anchor - positive).pow(2).sum(-1)\n",
    "    d_an = (anchor - negative).pow(2).sum(-1)\n",
    "    \n",
    "    loss = F.relu(d_ap - d_an + margin)\n",
    "    return loss.mean()"
   ]
  },
  {
   "cell_type": "code",
   "execution_count": 23,
   "metadata": {
    "execution": {
     "iopub.execute_input": "2025-04-08T17:24:28.318791Z",
     "iopub.status.busy": "2025-04-08T17:24:28.318585Z",
     "iopub.status.idle": "2025-04-08T17:24:28.335876Z",
     "shell.execute_reply": "2025-04-08T17:24:28.335209Z",
     "shell.execute_reply.started": "2025-04-08T17:24:28.318774Z"
    },
    "trusted": true
   },
   "outputs": [],
   "source": [
    "def extract_embeddings(model, dataset, device):\n",
    "    model.to(device)\n",
    "    model.eval()\n",
    "    embeddings = []\n",
    "    indices = []\n",
    "    \n",
    "    with torch.no_grad():\n",
    "        for data in dataset:\n",
    "            adj, features, index, _ = data\n",
    "            \n",
    "            # Перемещение данных на GPU (если используется)\n",
    "            adj = adj.to(device)\n",
    "            features = features.to(device)\n",
    "\n",
    "            # Преобразование матрицы смежности в edge_index\n",
    "            edge_index, _ = dense_to_sparse(adj)\n",
    "\n",
    "            # Получение эмбеддинга графа\n",
    "            embedding = model(features, edge_index)\n",
    "\n",
    "            embeddings.append(embedding.cpu().numpy())\n",
    "            indices.append(index)\n",
    "\n",
    "    embeddings = np.vstack(embeddings)\n",
    "    return embeddings, indices"
   ]
  },
  {
   "cell_type": "markdown",
   "metadata": {},
   "source": [
    "Обучим модель предсказывать точность по архитектуре."
   ]
  },
  {
   "cell_type": "code",
   "execution_count": 24,
   "metadata": {
    "execution": {
     "iopub.execute_input": "2025-04-08T17:30:25.499879Z",
     "iopub.status.busy": "2025-04-08T17:30:25.499579Z",
     "iopub.status.idle": "2025-04-08T17:30:25.509720Z",
     "shell.execute_reply": "2025-04-08T17:30:25.509053Z",
     "shell.execute_reply.started": "2025-04-08T17:30:25.499856Z"
    },
    "trusted": true
   },
   "outputs": [],
   "source": [
    "input_dim = graphs_dataset[0][1].shape[1]\n",
    "embedding_dim = 32\n",
    "hidden_dim = 128  # Размерность скрытого слоя\n",
    "output_dim = 1\n",
    "num_epochs = 15\n",
    "\n",
    "model_accuracy = GCN(input_dim, output_dim, dropout=0)\n",
    "optimizer = torch.optim.AdamW(model_accuracy.parameters(), lr=1e-4)\n",
    "criterion = nn.MSELoss()"
   ]
  },
  {
   "cell_type": "code",
   "execution_count": null,
   "metadata": {
    "execution": {
     "iopub.execute_input": "2025-04-08T17:30:27.445257Z",
     "iopub.status.busy": "2025-04-08T17:30:27.444921Z",
     "iopub.status.idle": "2025-04-08T17:31:49.278857Z",
     "shell.execute_reply": "2025-04-08T17:31:49.277941Z",
     "shell.execute_reply.started": "2025-04-08T17:30:27.445234Z"
    },
    "trusted": true
   },
   "outputs": [
    {
     "data": {
      "image/png": "[encoded data removed]",
      "text/plain": [
       "<Figure size 1200x600 with 1 Axes>"
      ]
     },
     "metadata": {},
     "output_type": "display_data"
    },
    {
     "name": "stderr",
     "output_type": "stream",
     "text": [
      "Training Progress: 100%|██████████| 15/15 [00:06<00:00,  2.41it/s]"
     ]
    },
    {
     "name": "stdout",
     "output_type": "stream",
     "text": [
      "Epoch 15, Train Loss: 0.0002, Valid Loss: 0.0007, LR: 0.000013\n"
     ]
    },
    {
     "name": "stderr",
     "output_type": "stream",
     "text": [
      "\n"
     ]
    },
    {
     "data": {
      "text/plain": [
       "([0.0002090773910661287,\n",
       "  0.0002022344729065392,\n",
       "  0.00019548748490176622,\n",
       "  0.0001887548950654042,\n",
       "  0.00018210577059395706,\n",
       "  0.00017548934065339937,\n",
       "  0.00017221570643694592,\n",
       "  0.00016896393668802478,\n",
       "  0.00016573756807464085,\n",
       "  0.00016253847110120557,\n",
       "  0.00015936900354638885,\n",
       "  0.0001577962865809348,\n",
       "  0.00015623230911508392,\n",
       "  0.0001547029124030584,\n",
       "  0.00015318192510162224],\n",
       " [0.0008521176436368157,\n",
       "  0.0008262908007918286,\n",
       "  0.0008008012375911745,\n",
       "  0.0007758860578056143,\n",
       "  0.0007511923919204904,\n",
       "  0.0007389396929941257,\n",
       "  0.0007267424038478307,\n",
       "  0.0007144803760432396,\n",
       "  0.0007022997411359258,\n",
       "  0.0006901531034157056,\n",
       "  0.000684115566125437,\n",
       "  0.0006781035736829293,\n",
       "  0.0006721180652369972,\n",
       "  0.0006661604182059024,\n",
       "  0.000660229881270593])"
      ]
     },
     "execution_count": 25,
     "metadata": {},
     "output_type": "execute_result"
    }
   ],
   "source": [
    "train_model_accuracy(\n",
    "    model_accuracy,\n",
    "    train_dataset,\n",
    "    valid_dataset,\n",
    "    optimizer,\n",
    "    criterion,\n",
    "    num_epochs,\n",
    "    device=\"cpu\",\n",
    "    developer_mode=True\n",
    ");"
   ]
  },
  {
   "cell_type": "code",
   "execution_count": 26,
   "metadata": {
    "execution": {
     "iopub.execute_input": "2025-04-08T17:31:55.338169Z",
     "iopub.status.busy": "2025-04-08T17:31:55.337822Z",
     "iopub.status.idle": "2025-04-08T17:31:55.858897Z",
     "shell.execute_reply": "2025-04-08T17:31:55.858068Z",
     "shell.execute_reply.started": "2025-04-08T17:31:55.338144Z"
    },
    "trusted": true
   },
   "outputs": [
    {
     "name": "stdout",
     "output_type": "stream",
     "text": [
      "Index: 0096, Accuracy: 0.849, Embedding: 0.453\n",
      "Index: 0618, Accuracy: 0.840, Embedding: 0.489\n",
      "Index: 0708, Accuracy: 0.836, Embedding: 0.491\n",
      "Index: 0655, Accuracy: 0.835, Embedding: 0.470\n",
      "Index: 0244, Accuracy: 0.805, Embedding: 0.528\n",
      "Index: 0746, Accuracy: 0.851, Embedding: 0.474\n",
      "Index: 0069, Accuracy: 0.853, Embedding: 0.494\n",
      "Index: 0774, Accuracy: 0.802, Embedding: 0.470\n",
      "Index: 0923, Accuracy: 0.850, Embedding: 0.488\n",
      "Index: 0664, Accuracy: 0.863, Embedding: 0.498\n",
      "Index: 0587, Accuracy: 0.848, Embedding: 0.527\n",
      "Index: 0692, Accuracy: 0.870, Embedding: 0.491\n",
      "Index: 0781, Accuracy: 0.824, Embedding: 0.489\n",
      "Index: 0030, Accuracy: 0.862, Embedding: 0.489\n",
      "Index: 0134, Accuracy: 0.868, Embedding: 0.446\n",
      "Index: 0677, Accuracy: 0.853, Embedding: 0.496\n",
      "Index: 1003, Accuracy: 0.835, Embedding: 0.487\n",
      "Index: 0642, Accuracy: 0.850, Embedding: 0.494\n",
      "Index: 0600, Accuracy: 0.852, Embedding: 0.487\n",
      "Index: 0336, Accuracy: 0.845, Embedding: 0.494\n",
      "Index: 1094, Accuracy: 0.843, Embedding: 0.492\n"
     ]
    }
   ],
   "source": [
    "embeddings = extract_embeddings(model_accuracy, valid_dataset, device=\"cpu\")[0]\n",
    "for i, (adj, features, index, accuracy) in enumerate(valid_dataset):\n",
    "    print(f\"Index: {index:04d}, Accuracy: {accuracy.item():.3f}, Embedding: {embeddings[i][0]:.3f}\")\n",
    "    if i >= 20:\n",
    "        break"
   ]
  },
  {
   "cell_type": "code",
   "execution_count": 27,
   "metadata": {
    "execution": {
     "iopub.execute_input": "2025-04-08T17:32:29.023586Z",
     "iopub.status.busy": "2025-04-08T17:32:29.023300Z",
     "iopub.status.idle": "2025-04-08T17:32:29.034531Z",
     "shell.execute_reply": "2025-04-08T17:32:29.033823Z",
     "shell.execute_reply.started": "2025-04-08T17:32:29.023565Z"
    },
    "trusted": true
   },
   "outputs": [],
   "source": [
    "input_dim = graphs_dataset[0][1].shape[1]\n",
    "hidden_dim = 256  # Размерность скрытого слоя\n",
    "output_dim = 16\n",
    "num_epochs = 25\n",
    "\n",
    "model = GCN(input_dim, output_dim, dropout=0.1)\n",
    "optimizer = torch.optim.AdamW(model.parameters(), lr=1e-4)\n",
    "criterion = lambda anchor, positive, negative: triplet_loss(anchor, positive, negative, margin=1)"
   ]
  },
  {
   "cell_type": "markdown",
   "metadata": {},
   "source": [
    "Основной код обучения модели похожести."
   ]
  },
  {
   "cell_type": "code",
   "execution_count": 29,
   "metadata": {
    "execution": {
     "iopub.execute_input": "2025-04-08T17:32:32.020695Z",
     "iopub.status.busy": "2025-04-08T17:32:32.020389Z",
     "iopub.status.idle": "2025-04-08T17:37:21.671056Z",
     "shell.execute_reply": "2025-04-08T17:37:21.670190Z",
     "shell.execute_reply.started": "2025-04-08T17:32:32.020670Z"
    },
    "trusted": true
   },
   "outputs": [
    {
     "data": {
      "image/png": "[encoded data removed]",
      "text/plain": [
       "<Figure size 1200x600 with 1 Axes>"
      ]
     },
     "metadata": {},
     "output_type": "display_data"
    },
    {
     "name": "stderr",
     "output_type": "stream",
     "text": [
      "Training Progress: 100%|██████████| 25/25 [00:21<00:00,  1.14it/s]"
     ]
    },
    {
     "name": "stdout",
     "output_type": "stream",
     "text": [
      "Epoch 25, Train Loss: 0.0010, Valid Loss: 0.0042, LR: 0.000003\n"
     ]
    },
    {
     "name": "stderr",
     "output_type": "stream",
     "text": [
      "\n"
     ]
    },
    {
     "data": {
      "text/plain": [
       "([0.0011419598563310969,\n",
       "  0.0008692193131909591,\n",
       "  0.0010320553045232589,\n",
       "  0.0009915980860150816,\n",
       "  0.0011289962233370367,\n",
       "  0.0010011528111711332,\n",
       "  0.0010050013975755072,\n",
       "  0.0011009583996318061,\n",
       "  0.0012382076510900183,\n",
       "  0.0011173695451599636,\n",
       "  0.0014680548559261274,\n",
       "  0.0010359643129356803,\n",
       "  0.0008471333402118602,\n",
       "  0.0010423173632802842,\n",
       "  0.0010997708336713445,\n",
       "  0.0011702577273050945,\n",
       "  0.0010958027236069306,\n",
       "  0.0009437286401096778,\n",
       "  0.0011221738807259732,\n",
       "  0.001183552581046704,\n",
       "  0.000981445491062438,\n",
       "  0.0010307453226942552,\n",
       "  0.001112606957994936,\n",
       "  0.00102553576356751,\n",
       "  0.0009702373028807499],\n",
       " [0.0044519114895027224,\n",
       "  0.005247647020997119,\n",
       "  0.0047077977356790495,\n",
       "  0.004371190772337072,\n",
       "  0.003677141265708859,\n",
       "  0.004387267998286656,\n",
       "  0.004155477054980623,\n",
       "  0.0042204846854971235,\n",
       "  0.004192500555214761,\n",
       "  0.004388699010640634,\n",
       "  0.004373725221938446,\n",
       "  0.004206168551404937,\n",
       "  0.004236170724660409,\n",
       "  0.0036877301059851124,\n",
       "  0.003155914925727524,\n",
       "  0.004875693000665232,\n",
       "  0.003728043381907359,\n",
       "  0.004295078145355738,\n",
       "  0.003561605425441966,\n",
       "  0.0033041724637776866,\n",
       "  0.0038657391271671327,\n",
       "  0.0041663200915360655,\n",
       "  0.0031905635064389524,\n",
       "  0.0039276067449265165,\n",
       "  0.004205871529939796])"
      ]
     },
     "execution_count": 29,
     "metadata": {},
     "output_type": "execute_result"
    }
   ],
   "source": [
    "train_model_diversity(\n",
    "    model,\n",
    "    train_dataset,\n",
    "    valid_dataset,\n",
    "    discrete_diversity_matrix,\n",
    "    optimizer,\n",
    "    criterion,\n",
    "    num_epochs,\n",
    "    device=\"cpu\",\n",
    "    developer_mode=True,\n",
    ");"
   ]
  },
  {
   "cell_type": "code",
   "execution_count": 36,
   "metadata": {
    "execution": {
     "iopub.execute_input": "2025-04-08T17:38:41.049958Z",
     "iopub.status.busy": "2025-04-08T17:38:41.049640Z",
     "iopub.status.idle": "2025-04-08T17:38:44.650155Z",
     "shell.execute_reply": "2025-04-08T17:38:44.649339Z",
     "shell.execute_reply.started": "2025-04-08T17:38:41.049933Z"
    },
    "trusted": true
   },
   "outputs": [],
   "source": [
    "def visualize_clusters(model, train_dataset, device=\"cpu\", min_samples=3, xi=0.025, min_cluster_size=3):\n",
    "  \"\"\"\n",
    "  Визуализирует кластеры, используя PCA для уменьшения размерности и OPTICS для кластеризации.\n",
    "\n",
    "  Аргументы:\n",
    "    model: Обученная модель для извлечения эмбеддингов.\n",
    "    train_dataset: Датасет для обучения.\n",
    "    device: Устройство для вычислений (\"cpu\" или \"cuda\").\n",
    "    min_samples: Минимальное количество образцов для формирования кластера в OPTICS.\n",
    "    xi: Параметр для определения устойчивости кластеров в OPTICS.\n",
    "    min_cluster_size: Минимальный размер кластера в OPTICS.\n",
    "  \"\"\"\n",
    "  # Извлечение эмбеддингов\n",
    "  embeddings, indices = extract_embeddings(model, train_dataset, device=device)\n",
    "  \n",
    "  # Преобразование эмбеддингов в 2D с помощью PCA\n",
    "  pca = PCA(n_components=2)\n",
    "  embeddings_2d = pca.fit_transform(embeddings)\n",
    "\n",
    "  # Кластеризация с помощью OPTICS\n",
    "  optics = OPTICS(min_samples=min_samples, xi=xi, min_cluster_size=min_cluster_size, metric=\"euclidean\")\n",
    "  clusters = optics.fit_predict(embeddings)\n",
    "\n",
    "  # Визуализация кластеров\n",
    "  plt.figure(figsize=(8, 6.5))\n",
    "  scatter = plt.scatter(\n",
    "    embeddings_2d[:, 0], \n",
    "    embeddings_2d[:, 1], \n",
    "    c=clusters, \n",
    "    cmap='tab10',  \n",
    "    s=np.where(clusters == -1, 20, 70),  \n",
    "    alpha=np.where(clusters == -1, 0.5, 1)\n",
    "  )\n",
    "  plt.xlabel(\"PCA Component 1\", fontsize=16)\n",
    "  plt.ylabel(\"PCA Component 2\", fontsize=16)\n",
    "\n",
    "  # Создание легенды для кластеров\n",
    "  unique_clusters = np.unique(clusters)\n",
    "  for cluster in unique_clusters:\n",
    "    if cluster == -1:\n",
    "      label = \"Noise\"\n",
    "    else:\n",
    "      label = f\"Cluster {cluster}\"\n",
    "    plt.scatter([], [], color=scatter.cmap(scatter.norm(cluster)), label=label, s=50 if cluster != -1 else 20)\n",
    "\n",
    "  plt.gca().set_facecolor('lightgrey')\n",
    "  plt.show()\n",
    "\n",
    "  return clusters"
   ]
  },
  {
   "cell_type": "code",
   "execution_count": null,
   "metadata": {},
   "outputs": [
    {
     "data": {
      "image/png": "[encoded data removed]",
      "text/plain": [
       "<Figure size 800x650 with 1 Axes>"
      ]
     },
     "metadata": {},
     "output_type": "display_data"
    },
    {
     "data": {
      "text/plain": [
       "array([-1, -1, 58, -1, -1, 17, -1, 59,  6, -1, 65, 41, -1, -1, -1, -1, -1,\n",
       "       59, -1, 10, -1, -1, -1, 11, -1, -1, -1, 14, -1, 30, -1,  0, -1, 53,\n",
       "       55, 60, -1, -1, 39, 35, -1, -1, 22, 30, -1, 17, -1, -1, -1, 43, -1,\n",
       "       -1, 27, -1, 46, -1, -1,  9, 50, -1, -1, 38, 11, -1, 22, -1, -1, -1,\n",
       "       -1, -1, -1, 50, -1, -1, 28, -1, -1, 60, -1, -1, -1, 13, -1, -1, -1,\n",
       "       -1, -1, -1,  1, -1, -1, 47, 65, 10, -1, 21,  1, -1, -1, -1,  7, 10,\n",
       "       -1, -1,  6, -1, -1, 51, -1, -1, 31, -1, -1, -1, -1, 20, -1, -1, -1,\n",
       "       48, -1, -1, -1, -1, -1, -1, -1, 15, -1, 58, -1, 15, 23, -1, 13, -1,\n",
       "       -1, 57, 29, -1, -1, -1, -1,  1, -1, -1, -1, -1, -1, -1, -1, -1, -1,\n",
       "       -1, -1, -1, -1, -1,  3, 23, -1, 19, 64, 23, 29, 51, -1, 36, -1, -1,\n",
       "       50, -1, 25, 40, 24, -1, 27, -1, -1, -1, -1, -1, -1, -1, -1, -1, -1,\n",
       "       41, -1,  8, -1, -1, 29, -1, -1, -1, -1, -1, -1, 23, -1,  1, -1, 49,\n",
       "       -1, -1, 38, -1, -1,  7, -1, 49, -1, 57, -1, -1, 19, -1, 25, -1, 49,\n",
       "       33, 58, 30,  6,  5, -1, -1, 46, -1, -1, -1, 29, 36, -1, -1, -1, -1,\n",
       "       -1, 59, -1, 49, -1, -1, -1, -1, -1, -1, 37,  2, 63, 12, -1, -1, -1,\n",
       "       50, -1, 50, -1, 54, -1, -1, -1, -1, -1, -1, -1, -1, 68, 24, 21, 45,\n",
       "       -1, 67, -1, -1, -1, -1, -1, -1, -1, -1, -1, -1, -1, -1, -1, -1, -1,\n",
       "       -1,  4, -1, -1, 50, -1, -1, 49, -1, -1, -1, -1, -1, 65, -1, 38, -1,\n",
       "       -1, -1, -1, -1, 37, -1, -1, -1, -1, 34, -1, -1, 19, 38, -1, 13, -1,\n",
       "       -1, 19, -1, -1, 50, 35, 18, 43, -1, -1, -1, -1, -1, -1, -1, -1,  5,\n",
       "       -1, -1, -1, 40, -1, -1, 59, -1, -1, -1, -1, -1, -1, -1, -1, 56, -1,\n",
       "       -1, -1, -1, 64, 64, -1, -1, -1, 24, -1, 47, -1, -1, 17, -1, -1, 35,\n",
       "       -1, 28, -1, -1, -1, -1, -1, 62, -1, 52, -1, 68, -1, -1, -1, -1, -1,\n",
       "       26,  4, -1, 43, -1, 55, -1, -1, -1, 64, -1, -1, -1, -1, 28, 53, -1,\n",
       "       -1, -1, -1, 43, -1, 38, 14, -1, -1, -1, 56, -1, 39, 38, 58, -1, -1,\n",
       "       -1, -1, 64, -1, 28, -1, -1, -1, -1, -1,  3,  7, -1, -1, 34, -1, 49,\n",
       "       -1, -1, -1, 18, -1, -1, -1, 56, -1, -1, -1, 26, 23, -1, -1, -1, -1,\n",
       "        7, 17, -1, -1, -1, -1, -1, 58, -1, 46, 33, -1, -1, -1, -1, -1, -1,\n",
       "       62, -1, -1, 35, 41, -1, 54, 44,  8, -1, -1, -1, 32, -1, -1, -1, 45,\n",
       "       -1, -1, -1, -1, -1, 61, 43, -1, -1, 53,  8, -1, 25, -1, 27, -1, 58,\n",
       "       -1, -1, 67, -1, -1, -1, -1, -1, -1, -1, -1, -1, 21, -1, -1, -1, 51,\n",
       "       -1, 27, -1, -1, -1, -1, -1, 36, 68, 35, -1, -1, -1, -1, 34, -1, 17,\n",
       "       -1, 31, 22, -1, -1, 56, 33, -1, -1, 32, -1,  3, -1, -1, -1, 11, -1,\n",
       "       -1, -1, -1, -1, -1, -1,  1, -1, -1, -1, -1, -1, -1, -1, 55, -1, -1,\n",
       "       -1, -1, 48, -1, -1, 14, 10, 55, -1, 12, -1, 48, -1,  7, -1, -1, -1,\n",
       "       -1, -1, -1, 36, -1, -1, -1, -1,  2, -1, -1, 45, -1, 54, 36, -1, -1,\n",
       "       -1, -1,  6, 68, -1, -1, -1, 20, -1, 66, -1, -1, -1, -1, -1, -1, -1,\n",
       "       -1, -1,  2, -1,  9, -1, -1, -1, -1,  6, -1, 20, -1, -1, -1, -1, -1,\n",
       "       -1, 37, -1, 44, -1, -1, 12, -1, 19, -1, 57, -1, -1,  4,  3, -1, -1,\n",
       "       -1, -1, -1, 66, 59, 28, 47, -1, 18, -1, -1, -1, 56, -1, -1, -1, -1,\n",
       "       -1, -1,  2, 45, -1, -1, -1, -1, 40, -1, 36, 32, -1, 58, -1, -1, -1,\n",
       "       -1, -1, -1, 42, 40, -1, 56, -1, -1,  6, -1, 54, 22, -1, -1, -1, -1,\n",
       "       -1, 43, -1, 67, 44, 60, 13, 63, -1, -1, 40, 47, -1, -1, 66, 58, -1,\n",
       "       -1, -1, -1, 57, -1, -1, 36, -1, -1, 39, -1, -1, -1, 31, 65, -1, -1,\n",
       "       -1, 61, -1, -1, -1, 39, -1, -1, -1, -1, 42, -1, -1, 32, -1, 61, -1,\n",
       "       -1, -1, -1, -1, 23, -1, -1, -1, 16, -1, -1, -1, 23, -1, -1,  8, -1,\n",
       "        0,  7, -1, -1, -1, 50, -1, 26,  6, -1, -1, -1, -1, -1, -1, -1, -1,\n",
       "        9, 49, -1,  5, -1, 46, -1, -1, 58, -1, -1, -1, -1, -1,  6, 13, 62,\n",
       "       -1, -1, 63, -1, -1, -1, -1, -1, -1, 45, -1, -1, 32, -1, -1, -1, -1,\n",
       "        8, -1, -1, 66, -1, 58, -1, 34, -1, -1, -1, -1, -1, -1, -1, -1, -1,\n",
       "       -1, -1, 31, -1, -1, -1, -1, -1, -1, 25,  3,  3, -1, -1, 16, -1, -1,\n",
       "       34,  6, 23, -1, -1, -1, -1, -1, -1, -1, -1, 26, 42, -1, 52, -1, 25,\n",
       "       14, -1, -1, -1, 56, 52, -1, -1, -1, -1,  1, -1, -1,  0, -1, 30, -1,\n",
       "       -1, -1, -1, -1, -1, 58, -1, 54, -1, 24, -1,  2, -1, 58, 28, -1, -1,\n",
       "       15, -1, -1, -1, -1, -1, -1, 16, -1,  6,  8, -1, -1, -1, 59, -1, -1,\n",
       "       -1, -1, 55, -1, -1, 64, -1, -1, -1, -1, -1, 57, -1])"
      ]
     },
     "execution_count": 37,
     "metadata": {},
     "output_type": "execute_result"
    }
   ],
   "source": [
    "clusters = visualize_clusters(\n",
    "    model,\n",
    "    train_dataset,\n",
    "    device=\"cpu\",\n",
    "    min_samples=3,\n",
    "    xi=0.025,\n",
    "    min_cluster_size=3\n",
    ")"
   ]
  },
  {
   "cell_type": "code",
   "execution_count": null,
   "metadata": {
    "execution": {
     "iopub.execute_input": "2025-04-08T17:44:06.479137Z",
     "iopub.status.busy": "2025-04-08T17:44:06.478764Z",
     "iopub.status.idle": "2025-04-08T17:44:06.489362Z",
     "shell.execute_reply": "2025-04-08T17:44:06.488515Z",
     "shell.execute_reply.started": "2025-04-08T17:44:06.479110Z"
    },
    "trusted": true
   },
   "outputs": [],
   "source": [
    "# torch.save(model.state_dict(), \"model_diversity_weights.pth\")\n",
    "# torch.save(model_accuracy.state_dict(), \"model_accuracy_weights.pth\")"
   ]
  },
  {
   "cell_type": "code",
   "execution_count": null,
   "metadata": {
    "execution": {
     "iopub.execute_input": "2025-04-08T17:38:48.362720Z",
     "iopub.status.busy": "2025-04-08T17:38:48.362437Z",
     "iopub.status.idle": "2025-04-08T17:38:48.368029Z",
     "shell.execute_reply": "2025-04-08T17:38:48.367202Z",
     "shell.execute_reply.started": "2025-04-08T17:38:48.362698Z"
    },
    "trusted": true
   },
   "outputs": [
    {
     "data": {
      "text/plain": [
       "array([ 1.6673385 , -0.41023153,  2.1805983 , -0.9805621 ,  0.16340049,\n",
       "        0.2892076 , -0.88501513, -0.81675166, -1.4027407 , -1.330269  ,\n",
       "        0.7504825 , -0.17252213, -0.48153618, -0.7627205 , -0.04399444,\n",
       "       -0.3247228 ], dtype=float32)"
      ]
     },
     "execution_count": 59,
     "metadata": {},
     "output_type": "execute_result"
    }
   ],
   "source": [
    "embeddings[0]"
   ]
  },
  {
   "cell_type": "code",
   "execution_count": null,
   "metadata": {
    "execution": {
     "iopub.execute_input": "2025-04-08T17:38:50.302826Z",
     "iopub.status.busy": "2025-04-08T17:38:50.302508Z",
     "iopub.status.idle": "2025-04-08T17:38:50.309911Z",
     "shell.execute_reply": "2025-04-08T17:38:50.309095Z",
     "shell.execute_reply.started": "2025-04-08T17:38:50.302800Z"
    },
    "trusted": true
   },
   "outputs": [],
   "source": [
    "def compute_correlation(models_dict, dataset, model, diversity_matrix, device=\"cpu\"):\n",
    "    model.to(device)\n",
    "    model.eval()\n",
    "\n",
    "    N = len(dataset)\n",
    "    embeddings = []\n",
    "\n",
    "    with torch.no_grad():\n",
    "        for adj, features, index, _ in dataset:\n",
    "            adj, features = adj.to(device), features.to(device)\n",
    "\n",
    "            edge_index, _ = dense_to_sparse(adj)\n",
    "\n",
    "            embedding = model(features, edge_index).cpu().numpy()\n",
    "            embeddings.append(embedding)\n",
    "\n",
    "    embeddings = np.array(embeddings)\n",
    "\n",
    "    distance_matrix = cdist(embeddings, embeddings, metric=\"euclidean\")\n",
    "\n",
    "    architectures = [models_dict[index] for index in dataset.indices]\n",
    "\n",
    "    similarity_matrix = np.zeros((N, N))\n",
    "    for i in tqdm(range(N), desc=\"Computing similarity matrix\"):\n",
    "        for j in range(i + 1, N):\n",
    "            arch_i_index = dataset[i][2]\n",
    "            arch_j_index = dataset[j][2]\n",
    "            \n",
    "            similarity_matrix[i, j] = diversity_matrix[arch_i_index, arch_j_index]\n",
    "            similarity_matrix[j, i] = similarity_matrix[i, j]\n",
    "\n",
    "    triu_indices = np.triu_indices(N, k=1)\n",
    "\n",
    "    similarity_values = similarity_matrix[triu_indices]\n",
    "    embedding_distances = distance_matrix[triu_indices]\n",
    "\n",
    "    correlation, _ = pearsonr(embedding_distances, similarity_values)\n",
    "\n",
    "    return correlation"
   ]
  },
  {
   "cell_type": "markdown",
   "metadata": {},
   "source": [
    "Рассчитаю корреляции"
   ]
  },
  {
   "cell_type": "code",
   "execution_count": null,
   "metadata": {
    "execution": {
     "iopub.execute_input": "2025-04-08T17:39:12.732948Z",
     "iopub.status.busy": "2025-04-08T17:39:12.732651Z",
     "iopub.status.idle": "2025-04-08T17:39:13.497333Z",
     "shell.execute_reply": "2025-04-08T17:39:13.496579Z",
     "shell.execute_reply.started": "2025-04-08T17:39:12.732926Z"
    },
    "trusted": true
   },
   "outputs": [
    {
     "name": "stderr",
     "output_type": "stream",
     "text": [
      "Computing similarity matrix: 100%|██████████| 238/238 [00:00<00:00, 1558.69it/s]"
     ]
    },
    {
     "name": "stdout",
     "output_type": "stream",
     "text": [
      "Корреляция Пирсона: -0.490\n"
     ]
    },
    {
     "name": "stderr",
     "output_type": "stream",
     "text": [
      "\n"
     ]
    }
   ],
   "source": [
    "pearson_correlation = compute_correlation(models_dict, valid_dataset, model, diversity_matrix, device=\"cuda\")\n",
    "\n",
    "print(f\"Корреляция Пирсона: {pearson_correlation:.3f}\")"
   ]
  },
  {
   "cell_type": "code",
   "execution_count": null,
   "metadata": {
    "execution": {
     "iopub.execute_input": "2025-04-08T17:42:17.283585Z",
     "iopub.status.busy": "2025-04-08T17:42:17.283278Z",
     "iopub.status.idle": "2025-04-08T17:42:18.184579Z",
     "shell.execute_reply": "2025-04-08T17:42:18.183853Z",
     "shell.execute_reply.started": "2025-04-08T17:42:17.283560Z"
    },
    "trusted": true
   },
   "outputs": [
    {
     "name": "stdout",
     "output_type": "stream",
     "text": [
      "Cluster 0:\n",
      "  Mean Positive Diversity: 0.8150\n",
      "  Mean Negative Diversity: 0.7721\n",
      "Cluster 1:\n",
      "  Mean Positive Diversity: 0.8121\n",
      "  Mean Negative Diversity: 0.7690\n",
      "Cluster 2:\n",
      "  Mean Positive Diversity: 0.8081\n",
      "  Mean Negative Diversity: 0.7683\n",
      "Cluster 3:\n",
      "  Mean Positive Diversity: 0.8187\n",
      "  Mean Negative Diversity: 0.7745\n",
      "Cluster 4:\n",
      "  Mean Positive Diversity: 0.8229\n",
      "  Mean Negative Diversity: 0.7743\n",
      "Cluster 5:\n",
      "  Mean Positive Diversity: 0.8228\n",
      "  Mean Negative Diversity: 0.7617\n",
      "Cluster 6:\n",
      "  Mean Positive Diversity: 0.8222\n",
      "  Mean Negative Diversity: 0.7610\n",
      "Cluster 7:\n",
      "  Mean Positive Diversity: 0.7840\n",
      "  Mean Negative Diversity: 0.7420\n",
      "Cluster 8:\n",
      "  Mean Positive Diversity: 0.8244\n",
      "  Mean Negative Diversity: 0.7646\n",
      "Cluster 9:\n",
      "  Mean Positive Diversity: 0.8197\n",
      "  Mean Negative Diversity: 0.7645\n",
      "Cluster 10:\n",
      "  Mean Positive Diversity: 0.8123\n",
      "  Mean Negative Diversity: 0.7649\n"
     ]
    }
   ],
   "source": [
    "min_samples = 10\n",
    "\n",
    "for i in (range(len(set(clusters)) - 1)):\n",
    "    cluster_indexes = np.where(clusters == i)[0]\n",
    "    # print(cluster_indexes)\n",
    "    \n",
    "    positive_diversity = []\n",
    "    negative_diversity = []\n",
    "    \n",
    "    for index in cluster_indexes:\n",
    "        if index == cluster_indexes[0]:\n",
    "            continue\n",
    "        for _ in range(min_samples):\n",
    "            positive, negative = get_positive_and_negative(discrete_diversity_matrix, cluster_indexes[0])\n",
    "            if positive is None or negative is None:\n",
    "                print(positive, negative)\n",
    "                continue\n",
    "            \n",
    "            positive_diversity.append(get_diversity([index, positive, models_dict[index], models_dict[positive]])[-1])\n",
    "            negative_diversity.append(get_diversity([index, negative, models_dict[index], models_dict[negative]])[-1])\n",
    "\n",
    "\n",
    "    mean_positive_diversity = np.mean(positive_diversity) \n",
    "    mean_negative_diversity = np.mean(negative_diversity) \n",
    "\n",
    "    print(f\"Cluster {i}:\")\n",
    "    print(f\"  Mean Positive Diversity: {mean_positive_diversity:.4f}\" if mean_positive_diversity is not None else \"  No positive diversity data available.\")\n",
    "    print(f\"  Mean Negative Diversity: {mean_negative_diversity:.4f}\" if mean_negative_diversity is not None else \"  No negative diversity data available.\")\n",
    "    if i >= 10:\n",
    "        break"
   ]
  },
  {
   "cell_type": "code",
   "execution_count": null,
   "metadata": {
    "execution": {
     "iopub.execute_input": "2025-04-08T17:42:41.386726Z",
     "iopub.status.busy": "2025-04-08T17:42:41.386420Z",
     "iopub.status.idle": "2025-04-08T17:42:41.434222Z",
     "shell.execute_reply": "2025-04-08T17:42:41.433365Z",
     "shell.execute_reply.started": "2025-04-08T17:42:41.386701Z"
    },
    "trusted": true
   },
   "outputs": [
    {
     "name": "stdout",
     "output_type": "stream",
     "text": [
      "Средняя похожесть внутри первого кластера: 0.7949\n",
      "Средняя похожесть между первым и вторым кластерами: 0.7965\n"
     ]
    }
   ],
   "source": [
    "cluster_1_indexes = np.where(clusters == 1)[0]\n",
    "cluster_2_indexes = np.where(clusters == 2)[0]\n",
    "\n",
    "similarities_within_cluster_1 = [\n",
    "    get_diversity([i, j, models_dict[i], models_dict[j]])[-1]\n",
    "    for i in cluster_1_indexes\n",
    "    for j in cluster_1_indexes\n",
    "    if i != j\n",
    "]\n",
    "mean_similarity_within_cluster_1 = np.mean(similarities_within_cluster_1)\n",
    "\n",
    "similarities_between_clusters = [\n",
    "    get_diversity([i, j, models_dict[i], models_dict[j]])[-1]\n",
    "    for i in cluster_1_indexes\n",
    "    for j in cluster_2_indexes\n",
    "]\n",
    "mean_similarity_between_clusters = np.mean(similarities_between_clusters)\n",
    "\n",
    "print(f\"Средняя похожесть внутри первого кластера: {mean_similarity_within_cluster_1:.4f}\")\n",
    "print(f\"Средняя похожесть между первым и вторым кластерами: {mean_similarity_between_clusters:.4f}\")"
   ]
  },
  {
   "cell_type": "code",
   "execution_count": null,
   "metadata": {
    "execution": {
     "iopub.status.busy": "2025-04-08T17:26:31.156041Z",
     "iopub.status.idle": "2025-04-08T17:26:31.156404Z",
     "shell.execute_reply": "2025-04-08T17:26:31.156246Z"
    },
    "trusted": true
   },
   "outputs": [],
   "source": [
    "with open(\"logs.txt\", \"w\", encoding=\"utf-8\") as log:\n",
    "    for index in cluster_1_indexes:\n",
    "        tmp_graph = Graph(models_dict[index], index=index)\n",
    "        for key, value in models_dict[index][\"architecture\"].items():\n",
    "            log.write(f\"{key}: {value}\\n\")\n",
    "        log.write(\"\\n\")  # Добавляем пустую строку между архитектурами"
   ]
  }
 ],
 "metadata": {
  "kaggle": {
   "accelerator": "gpu",
   "dataSources": [
    {
     "datasetId": 6977610,
     "sourceId": 11329867,
     "sourceType": "datasetVersion"
    }
   ],
   "dockerImageVersionId": 30919,
   "isGpuEnabled": true,
   "isInternetEnabled": true,
   "language": "python",
   "sourceType": "notebook"
  },
  "kernelspec": {
   "display_name": "Python 3",
   "language": "python",
   "name": "python3"
  },
  "language_info": {
   "codemirror_mode": {
    "name": "ipython",
    "version": 3
   },
   "file_extension": ".py",
   "mimetype": "text/x-python",
   "name": "python",
   "nbconvert_exporter": "python",
   "pygments_lexer": "ipython3",
   "version": "3.12.3"
  }
 },
 "nbformat": 4,
 "nbformat_minor": 4
}

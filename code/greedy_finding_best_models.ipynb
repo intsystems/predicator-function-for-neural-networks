{
 "cells": [
  {
   "cell_type": "code",
   "execution_count": 1,
   "metadata": {},
   "outputs": [
    {
     "name": "stdout",
     "output_type": "stream",
     "text": [
      "\u001b[1;31merror\u001b[0m: \u001b[1mexternally-managed-environment\u001b[0m\n",
      "\n",
      "\u001b[31m×\u001b[0m This environment is externally managed\n",
      "\u001b[31m╰─>\u001b[0m To install Python packages system-wide, try apt install\n",
      "\u001b[31m   \u001b[0m python3-xyz, where xyz is the package you are trying to\n",
      "\u001b[31m   \u001b[0m install.\n",
      "\u001b[31m   \u001b[0m \n",
      "\u001b[31m   \u001b[0m If you wish to install a non-Debian-packaged Python package,\n",
      "\u001b[31m   \u001b[0m create a virtual environment using python3 -m venv path/to/venv.\n",
      "\u001b[31m   \u001b[0m Then use path/to/venv/bin/python and path/to/venv/bin/pip. Make\n",
      "\u001b[31m   \u001b[0m sure you have python3-full installed.\n",
      "\u001b[31m   \u001b[0m \n",
      "\u001b[31m   \u001b[0m If you wish to install a non-Debian packaged Python application,\n",
      "\u001b[31m   \u001b[0m it may be easiest to use pipx install xyz, which will manage a\n",
      "\u001b[31m   \u001b[0m virtual environment for you. Make sure you have pipx installed.\n",
      "\u001b[31m   \u001b[0m \n",
      "\u001b[31m   \u001b[0m See /usr/share/doc/python3.12/README.venv for more information.\n",
      "\n",
      "\u001b[1;35mnote\u001b[0m: If you believe this is a mistake, please contact your Python installation or OS distribution provider. You can override this, at the risk of breaking your Python installation or OS, by passing --break-system-packages.\n",
      "\u001b[1;36mhint\u001b[0m: See PEP 668 for the detailed specification.\n"
     ]
    }
   ],
   "source": [
    "!pip install torch_geometric --quiet"
   ]
  },
  {
   "cell_type": "code",
   "execution_count": 2,
   "metadata": {},
   "outputs": [],
   "source": [
    "import numpy as np\n",
    "import torch\n",
    "import torch.nn.functional as F\n",
    "import os\n",
    "import json\n",
    "from torch_geometric.utils import dense_to_sparse\n",
    "import matplotlib.pyplot as plt\n",
    "from sklearn.decomposition import PCA\n",
    "from sklearn.cluster import OPTICS, DBSCAN\n",
    "from tqdm.notebook import tqdm\n",
    "from torch.utils.data import Dataset\n",
    "\n",
    "# Custom imports\n",
    "import sys\n",
    "sys.path.insert(1, \"/kaggle/input/second-dataset/dependecies\")\n",
    "\n",
    "import GCN\n",
    "from Graph import Graph\n",
    "\n",
    "device = torch.device(\"cuda\" if torch.cuda.is_available() else \"cpu\")\n",
    "TEST = False"
   ]
  },
  {
   "cell_type": "code",
   "execution_count": 3,
   "metadata": {},
   "outputs": [],
   "source": [
    "model_diversity_path = \"weights/model_diversity_weights.pth\"\n",
    "model_accuracy_path = \"weights/model_accuracy_weights.pth\""
   ]
  },
  {
   "cell_type": "code",
   "execution_count": 4,
   "metadata": {},
   "outputs": [
    {
     "data": {
      "text/plain": [
       "GCN(\n",
       "  (gc1): GCNConv(8, 64)\n",
       "  (gc2): GCNConv(64, 256)\n",
       "  (gc3): GCNConv(256, 512)\n",
       "  (gc4): GCNConv(512, 64)\n",
       "  (residual_proj): Linear(in_features=8, out_features=64, bias=True)\n",
       "  (layer_norm): LayerNorm((64,), eps=1e-05, elementwise_affine=True)\n",
       "  (dropout): Dropout(p=0, inplace=False)\n",
       "  (fc1): Linear(in_features=64, out_features=64, bias=True)\n",
       "  (fc_norm): LayerNorm((64,), eps=1e-05, elementwise_affine=True)\n",
       "  (fc2): Linear(in_features=64, out_features=16, bias=True)\n",
       ")"
      ]
     },
     "execution_count": 4,
     "metadata": {},
     "output_type": "execute_result"
    }
   ],
   "source": [
    "input_dim = 8\n",
    "output_dim = 16\n",
    "dropout=0\n",
    "\n",
    "model_diverisity = GCN.GCN(input_dim, output_dim, dropout).to(device)\n",
    "state_dict = torch.load(model_diversity_path, map_location=device, weights_only=True)\n",
    "model_diverisity.load_state_dict(state_dict)\n",
    "model_diverisity.eval()"
   ]
  },
  {
   "cell_type": "code",
   "execution_count": 5,
   "metadata": {},
   "outputs": [
    {
     "data": {
      "text/plain": [
       "GCN(\n",
       "  (gc1): GCNConv(8, 64)\n",
       "  (gc2): GCNConv(64, 256)\n",
       "  (gc3): GCNConv(256, 512)\n",
       "  (gc4): GCNConv(512, 64)\n",
       "  (residual_proj): Linear(in_features=8, out_features=64, bias=True)\n",
       "  (layer_norm): LayerNorm((64,), eps=1e-05, elementwise_affine=True)\n",
       "  (dropout): Dropout(p=0, inplace=False)\n",
       "  (fc1): Linear(in_features=64, out_features=64, bias=True)\n",
       "  (fc_norm): LayerNorm((64,), eps=1e-05, elementwise_affine=True)\n",
       "  (fc2): Linear(in_features=64, out_features=1, bias=True)\n",
       ")"
      ]
     },
     "execution_count": 5,
     "metadata": {},
     "output_type": "execute_result"
    }
   ],
   "source": [
    "input_dim = 8\n",
    "output_dim = 1\n",
    "dropout = 0\n",
    "\n",
    "model_accuracy = GCN.GCN(input_dim, output_dim, dropout).to(device)\n",
    "state_dict = torch.load(model_accuracy_path, map_location=device, weights_only=True)\n",
    "model_accuracy.load_state_dict(state_dict)\n",
    "model_accuracy.eval()"
   ]
  },
  {
   "cell_type": "code",
   "execution_count": null,
   "metadata": {},
   "outputs": [],
   "source": []
  }
 ],
 "metadata": {
  "kernelspec": {
   "display_name": "Python 3",
   "language": "python",
   "name": "python3"
  },
  "language_info": {
   "codemirror_mode": {
    "name": "ipython",
    "version": 3
   },
   "file_extension": ".py",
   "mimetype": "text/x-python",
   "name": "python",
   "nbconvert_exporter": "python",
   "pygments_lexer": "ipython3",
   "version": "3.12.3"
  }
 },
 "nbformat": 4,
 "nbformat_minor": 2
}

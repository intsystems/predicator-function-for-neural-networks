{
 "cells": [
  {
   "cell_type": "markdown",
   "id": "c93a89e2",
   "metadata": {},
   "source": [
    "Примение уже обученной модели."
   ]
  },
  {
   "cell_type": "code",
   "execution_count": 1,
   "id": "27625c1c",
   "metadata": {},
   "outputs": [],
   "source": [
    "import numpy as np\n",
    "import torch\n",
    "import torch.nn.functional as F\n",
    "import os\n",
    "import json\n",
    "from torch_geometric.utils import dense_to_sparse\n",
    "import matplotlib.pyplot as plt\n",
    "from sklearn.decomposition import PCA\n",
    "from sklearn.cluster import OPTICS\n",
    "from tqdm.notebook import tqdm\n",
    "\n",
    "#Custom imports\n",
    "import GCN\n",
    "from Graph import Graph\n",
    "\n",
    "device = torch.device(\"cuda\" if torch.cuda.is_available() else \"cpu\")"
   ]
  },
  {
   "cell_type": "code",
   "execution_count": 2,
   "id": "11da0d65",
   "metadata": {},
   "outputs": [],
   "source": [
    "model_diversity_path = \"weights_models_cifar/model_diversity_weights.pth\"\n",
    "model_accuracy_path = \"weights_models_cifar/model_accuracy_weights.pth\""
   ]
  },
  {
   "cell_type": "code",
   "execution_count": 3,
   "id": "3dbf0edc",
   "metadata": {},
   "outputs": [
    {
     "data": {
      "text/plain": [
       "GCN(\n",
       "  (gc1): GCNConv(8, 128)\n",
       "  (gc2): GCNConv(128, 256)\n",
       "  (gc3): GCNConv(256, 64)\n",
       "  (layer_norm): LayerNorm((64,), eps=1e-05, elementwise_affine=True)\n",
       "  (fc): Linear(in_features=64, out_features=16, bias=True)\n",
       "  (dropout): Dropout(p=0.1, inplace=False)\n",
       "  (key): Linear(in_features=256, out_features=256, bias=True)\n",
       "  (query): Linear(in_features=256, out_features=256, bias=True)\n",
       "  (residual_proj): Linear(in_features=8, out_features=64, bias=True)\n",
       ")"
      ]
     },
     "execution_count": 3,
     "metadata": {},
     "output_type": "execute_result"
    }
   ],
   "source": [
    "input_dim = 8\n",
    "output_dim = 16\n",
    "dropout=0.1\n",
    "\n",
    "model_diverisity = GCN.GCN(input_dim, output_dim, dropout).to(device)\n",
    "state_dict = torch.load(model_diversity_path, map_location=device, weights_only=True)\n",
    "model_diverisity.load_state_dict(state_dict)\n",
    "model_diverisity.eval()"
   ]
  },
  {
   "cell_type": "code",
   "execution_count": 4,
   "id": "c91ec44f",
   "metadata": {},
   "outputs": [
    {
     "data": {
      "text/plain": [
       "GCN(\n",
       "  (gc1): GCNConv(8, 128)\n",
       "  (gc2): GCNConv(128, 256)\n",
       "  (gc3): GCNConv(256, 64)\n",
       "  (layer_norm): LayerNorm((64,), eps=1e-05, elementwise_affine=True)\n",
       "  (fc): Linear(in_features=64, out_features=1, bias=True)\n",
       "  (dropout): Dropout(p=0, inplace=False)\n",
       "  (key): Linear(in_features=256, out_features=256, bias=True)\n",
       "  (query): Linear(in_features=256, out_features=256, bias=True)\n",
       "  (residual_proj): Linear(in_features=8, out_features=64, bias=True)\n",
       ")"
      ]
     },
     "execution_count": 4,
     "metadata": {},
     "output_type": "execute_result"
    }
   ],
   "source": [
    "input_dim = 8\n",
    "output_dim = 1\n",
    "dropout = 0\n",
    "model_accuracy = GCN.GCN(input_dim, output_dim, dropout).to(device)\n",
    "state_dict = torch.load(model_accuracy_path, map_location=device, weights_only=True)\n",
    "model_accuracy.load_state_dict(state_dict)\n",
    "model_accuracy.eval()"
   ]
  },
  {
   "cell_type": "code",
   "execution_count": 5,
   "id": "d0e1a5d9",
   "metadata": {},
   "outputs": [],
   "source": [
    "def load_json_from_directory(directory_path):\n",
    "    json_data = []\n",
    "    for root, _, files in os.walk(directory_path):\n",
    "        for file in files:\n",
    "            if file.endswith('.json'):\n",
    "                file_path = os.path.join(root, file)\n",
    "                with open(file_path, 'r', encoding='utf-8') as f:\n",
    "                    try:\n",
    "                        data = json.load(f)\n",
    "                        json_data.append(data)\n",
    "                    except json.JSONDecodeError as e:\n",
    "                        print(f\"Error decoding JSON from file {file_path}: {e}\")\n",
    "    return json_data"
   ]
  },
  {
   "cell_type": "code",
   "execution_count": 6,
   "id": "9c5467d6",
   "metadata": {},
   "outputs": [],
   "source": [
    "architecture_path = \"dataset\"\n",
    "arch_dicts = load_json_from_directory(architecture_path)[0] # return array of dicts, but this json contains all dicts\n",
    "arch_dicts = [{\"architecture\": tmp_dict, \"test_predictions\":None} for tmp_dict in arch_dicts]"
   ]
  },
  {
   "cell_type": "code",
   "execution_count": 7,
   "id": "97f2ca23",
   "metadata": {},
   "outputs": [],
   "source": [
    "graph = Graph(arch_dicts[1])"
   ]
  },
  {
   "cell_type": "code",
   "execution_count": 8,
   "id": "5143c13d",
   "metadata": {},
   "outputs": [],
   "source": [
    "graphs = [Graph(model_dict, index=i) for (i, model_dict) in enumerate(arch_dicts)]"
   ]
  },
  {
   "cell_type": "code",
   "execution_count": 9,
   "id": "2c1f8eaa",
   "metadata": {},
   "outputs": [
    {
     "name": "stderr",
     "output_type": "stream",
     "text": [
      "100%|██████████| 100/100 [00:00<00:00, 186.26it/s]\n"
     ]
    }
   ],
   "source": [
    "dataset = GCN.CustomDataset(graphs)"
   ]
  },
  {
   "cell_type": "code",
   "execution_count": 21,
   "id": "d46acadf",
   "metadata": {},
   "outputs": [],
   "source": [
    "def extract_embeddings(model, dataset, device, use_tqdm=True):\n",
    "    model.to(device)\n",
    "    model.eval()\n",
    "    embeddings = []\n",
    "    indices = []\n",
    "\n",
    "    iterator = tqdm(dataset) if use_tqdm else dataset\n",
    "\n",
    "    with torch.no_grad():\n",
    "        for data in iterator:\n",
    "            adj, features, index = data\n",
    "\n",
    "            adj = adj.to(device)\n",
    "            features = features.to(device)\n",
    "\n",
    "            edge_index, _ = dense_to_sparse(adj)\n",
    "\n",
    "            embedding = model(features, edge_index)\n",
    "\n",
    "            embeddings.append(embedding.cpu().numpy())\n",
    "            indices.append(index)\n",
    "\n",
    "    embeddings = np.vstack(embeddings)\n",
    "    return embeddings, indices\n",
    "\n",
    "\n",
    "def visualize_clusters(\n",
    "    model, train_dataset, device=\"cpu\", min_samples=3, xi=0.025, min_cluster_size=3\n",
    "):\n",
    "    \"\"\"\n",
    "    Визуализирует кластеры, используя PCA для уменьшения размерности и OPTICS для кластеризации.\n",
    "\n",
    "    Аргументы:\n",
    "      model: Обученная модель для извлечения эмбеддингов.\n",
    "      train_dataset: Датасет для обучения.\n",
    "      device: Устройство для вычислений (\"cpu\" или \"cuda\").\n",
    "      min_samples: Минимальное количество образцов для формирования кластера в OPTICS.\n",
    "      xi: Параметр для определения устойчивости кластеров в OPTICS.\n",
    "      min_cluster_size: Минимальный размер кластера в OPTICS.\n",
    "    \"\"\"\n",
    "    # Извлечение эмбеддингов\n",
    "    embeddings, indices = extract_embeddings(model, train_dataset, device=device)\n",
    "\n",
    "    # Преобразование эмбеддингов в 2D с помощью PCA\n",
    "    pca = PCA(n_components=2)\n",
    "    embeddings_2d = pca.fit_transform(embeddings)\n",
    "\n",
    "    # Кластеризация с помощью OPTICS\n",
    "    optics = OPTICS(\n",
    "        min_samples=min_samples,\n",
    "        xi=xi,\n",
    "        min_cluster_size=min_cluster_size,\n",
    "        metric=\"euclidean\",\n",
    "    )\n",
    "    clusters = optics.fit_predict(embeddings)\n",
    "\n",
    "    # Визуализация кластеров\n",
    "    plt.figure(figsize=(8, 6.5))\n",
    "    scatter = plt.scatter(\n",
    "        embeddings_2d[:, 0],\n",
    "        embeddings_2d[:, 1],\n",
    "        c=clusters,\n",
    "        cmap=\"tab10\",\n",
    "        s=np.where(clusters == -1, 20, 70),\n",
    "        alpha=np.where(clusters == -1, 0.5, 1),\n",
    "    )\n",
    "    plt.xlabel(\"PCA Component 1\", fontsize=16)\n",
    "    plt.ylabel(\"PCA Component 2\", fontsize=16)\n",
    "\n",
    "    # Создание легенды для кластеров\n",
    "    unique_clusters = np.unique(clusters)\n",
    "    for cluster in tqdm(unique_clusters):\n",
    "        if cluster == -1:\n",
    "            label = \"Noise\"\n",
    "        else:\n",
    "            label = f\"Cluster {cluster}\"\n",
    "        plt.scatter(\n",
    "            [],\n",
    "            [],\n",
    "            color=scatter.cmap(scatter.norm(cluster)),\n",
    "            label=label,\n",
    "            s=50 if cluster != -1 else 20,\n",
    "        )\n",
    "\n",
    "    plt.gca().set_facecolor(\"lightgrey\")\n",
    "    plt.show()\n",
    "\n",
    "    return clusters"
   ]
  },
  {
   "cell_type": "markdown",
   "id": "ec2b1c80",
   "metadata": {},
   "source": [
    "Разобьем модели на кластеры. "
   ]
  },
  {
   "cell_type": "code",
   "execution_count": 11,
   "id": "3139629f",
   "metadata": {},
   "outputs": [
    {
     "data": {
      "application/vnd.jupyter.widget-view+json": {
       "model_id": "88c3a2b4e46b4e589b2ad9cbb766e3cd",
       "version_major": 2,
       "version_minor": 0
      },
      "text/plain": [
       "  0%|          | 0/100 [00:00<?, ?it/s]"
      ]
     },
     "metadata": {},
     "output_type": "display_data"
    },
    {
     "data": {
      "application/vnd.jupyter.widget-view+json": {
       "model_id": "07cd70def9284d17b51ddcd7fd243acc",
       "version_major": 2,
       "version_minor": 0
      },
      "text/plain": [
       "  0%|          | 0/7 [00:00<?, ?it/s]"
      ]
     },
     "metadata": {},
     "output_type": "display_data"
    },
    {
     "data": {
      "image/png": "[encoded data removed]",
      "text/plain": [
       "<Figure size 800x650 with 1 Axes>"
      ]
     },
     "metadata": {},
     "output_type": "display_data"
    }
   ],
   "source": [
    "clusters = visualize_clusters(\n",
    "  model_diverisity,\n",
    "  dataset,\n",
    "  device=device,\n",
    "  min_samples=3,\n",
    "  xi=0.025,\n",
    "  min_cluster_size=3\n",
    ")"
   ]
  },
  {
   "cell_type": "code",
   "execution_count": 12,
   "id": "b748d3b9",
   "metadata": {},
   "outputs": [],
   "source": [
    "cluster_indexes = np.where(clusters == 0)[0]"
   ]
  },
  {
   "cell_type": "code",
   "execution_count": 13,
   "id": "95304316",
   "metadata": {},
   "outputs": [],
   "source": [
    "max_cluster = np.max(clusters)\n",
    "cluster_indexes = [np.where(clusters == i)[0] for i in range(max_cluster + 1)]"
   ]
  },
  {
   "cell_type": "code",
   "execution_count": 40,
   "id": "0bf59401",
   "metadata": {},
   "outputs": [
    {
     "data": {
      "text/plain": [
       "[array([ 4, 17, 25, 29, 45, 48, 76, 84, 89]),\n",
       " array([ 5, 20, 31, 33, 36, 81, 91, 95]),\n",
       " array([39, 64, 72, 79, 85, 93]),\n",
       " array([ 2, 16, 41, 67, 87]),\n",
       " array([22, 63, 98, 99]),\n",
       " array([28, 57, 68])]"
      ]
     },
     "execution_count": 40,
     "metadata": {},
     "output_type": "execute_result"
    }
   ],
   "source": [
    "cluster_indexes = sorted(cluster_indexes, key=len, reverse=True)\n",
    "cluster_indexes"
   ]
  },
  {
   "cell_type": "markdown",
   "id": "2bfeca81",
   "metadata": {},
   "source": [
    "Для каждого кластера найдем модель с наибольшей точностью"
   ]
  },
  {
   "cell_type": "code",
   "execution_count": null,
   "id": "b6cfe8ca",
   "metadata": {},
   "outputs": [],
   "source": [
    "best_models = []\n",
    "\n",
    "for indexes in  cluster_indexes[:5]:\n",
    "    embeddings, indices = extract_embeddings(\n",
    "    model_accuracy,\n",
    "    dataset[indexes],\n",
    "    device=device,\n",
    "    use_tqdm=False\n",
    "    )\n",
    "\n",
    "    best_model_index = indices[np.argmax(embeddings)]\n",
    "    best_models.append(arch_dicts[best_model_index][\"architecture\"])"
   ]
  },
  {
   "cell_type": "code",
   "execution_count": 34,
   "id": "ece8c9d2",
   "metadata": {},
   "outputs": [],
   "source": [
    "def save_best_models(best_models, output_directory=\"best_models\"):\n",
    "    os.makedirs(output_directory, exist_ok=True)\n",
    "\n",
    "    for i, model in enumerate(best_models):\n",
    "        file_path = os.path.join(output_directory, f\"model_{i}.json\")\n",
    "        with open(file_path, \"w\", encoding=\"utf-8\") as f:\n",
    "            json.dump(model, f, ensure_ascii=False, indent=4)"
   ]
  },
  {
   "cell_type": "code",
   "execution_count": 35,
   "id": "7032faf6",
   "metadata": {},
   "outputs": [],
   "source": [
    "save_best_models(best_models)"
   ]
  }
 ],
 "metadata": {
  "kernelspec": {
   "display_name": "Python 3",
   "language": "python",
   "name": "python3"
  },
  "language_info": {
   "codemirror_mode": {
    "name": "ipython",
    "version": 3
   },
   "file_extension": ".py",
   "mimetype": "text/x-python",
   "name": "python",
   "nbconvert_exporter": "python",
   "pygments_lexer": "ipython3",
   "version": "3.12.3"
  }
 },
 "nbformat": 4,
 "nbformat_minor": 5
}

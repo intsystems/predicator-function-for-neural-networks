{
 "cells": [
  {
   "cell_type": "code",
   "execution_count": 1,
   "id": "07171380",
   "metadata": {},
   "outputs": [],
   "source": [
    "import pandas as pd\n",
    "import numpy as np\n",
    "import json\n",
    "import os\n",
    "from scipy.special import softmax\n",
    "from tqdm.notebook import tqdm"
   ]
  },
  {
   "cell_type": "code",
   "execution_count": 2,
   "id": "0c46027b",
   "metadata": {},
   "outputs": [],
   "source": [
    "def process_dicts(folders, result_dict_name=\"default_dict\"):\n",
    "    # Создаем выходные папки\n",
    "    probs_folder = os.path.join(os.getcwd(), result_dict_name + \"_probs\")\n",
    "    max_folder = os.path.join(os.getcwd(), result_dict_name + \"_max\")\n",
    "    os.makedirs(probs_folder, exist_ok=True)\n",
    "    os.makedirs(max_folder, exist_ok=True)\n",
    "\n",
    "    for folder in folders:\n",
    "        for file in tqdm(os.listdir(folder)):\n",
    "            if not file.endswith(\".json\"):\n",
    "                continue\n",
    "\n",
    "            file_path = os.path.join(folder, file)\n",
    "            with open(file_path, \"r\", encoding=\"utf-8\") as f:\n",
    "                data = json.load(f)\n",
    "\n",
    "            # Получаем исходные данные\n",
    "            predictions = data[\"valid_predictions\"]\n",
    "            architecture = data[\"architecture\"]\n",
    "            accuracy = data[\"valid_accuracy\"]\n",
    "\n",
    "            # Softmax преобразование\n",
    "            softmax_preds = softmax(predictions, axis=1).tolist()\n",
    "            softmax_output = {\n",
    "                \"architecture\": architecture,\n",
    "                \"test_predictions\": softmax_preds,\n",
    "                \"test_accuracy\": accuracy,\n",
    "            }\n",
    "            with open(os.path.join(probs_folder, file), \"w\", encoding=\"utf-8\") as f_out:\n",
    "                json.dump(softmax_output, f_out)\n",
    "\n",
    "            # Argmax преобразование\n",
    "            argmax_preds = np.argmax(predictions, axis=1).tolist()\n",
    "            argmax_output = {\n",
    "                \"architecture\": architecture,\n",
    "                \"test_predictions\": argmax_preds,\n",
    "                \"test_accuracy\": accuracy,\n",
    "            }\n",
    "            with open(os.path.join(max_folder, file), \"w\", encoding=\"utf-8\") as f_out:\n",
    "                json.dump(argmax_output, f_out)"
   ]
  },
  {
   "cell_type": "code",
   "execution_count": 3,
   "id": "33468258",
   "metadata": {},
   "outputs": [
    {
     "data": {
      "application/vnd.jupyter.widget-view+json": {
       "model_id": "519ff4911d0148c0934501d03bf3dfe8",
       "version_major": 2,
       "version_minor": 0
      },
      "text/plain": [
       "  0%|          | 0/51 [00:00<?, ?it/s]"
      ]
     },
     "metadata": {},
     "output_type": "display_data"
    }
   ],
   "source": [
    "process_dicts([\"cifar100\"], \"cifar100\")"
   ]
  }
 ],
 "metadata": {
  "kernelspec": {
   "display_name": "Python 3",
   "language": "python",
   "name": "python3"
  },
  "language_info": {
   "codemirror_mode": {
    "name": "ipython",
    "version": 3
   },
   "file_extension": ".py",
   "mimetype": "text/x-python",
   "name": "python",
   "nbconvert_exporter": "python",
   "pygments_lexer": "ipython3",
   "version": "3.12.3"
  }
 },
 "nbformat": 4,
 "nbformat_minor": 5
}

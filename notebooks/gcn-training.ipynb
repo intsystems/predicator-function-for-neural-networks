{
 "cells": [
  {
   "cell_type": "markdown",
   "metadata": {
    "papermill": {
     "duration": 0.009642,
     "end_time": "2025-04-10T15:58:56.509183",
     "exception": false,
     "start_time": "2025-04-10T15:58:56.499541",
     "status": "completed"
    },
    "tags": []
   },
   "source": [
    "В данном ноутбуке я создам базовый класс, на основе которого обучу сверточную графовую нейронную сеть."
   ]
  },
  {
   "cell_type": "code",
   "execution_count": 9,
   "metadata": {
    "execution": {
     "iopub.execute_input": "2025-05-20T17:11:24.047059Z",
     "iopub.status.busy": "2025-05-20T17:11:24.046678Z",
     "iopub.status.idle": "2025-05-20T17:11:41.799050Z",
     "shell.execute_reply": "2025-05-20T17:11:41.798039Z",
     "shell.execute_reply.started": "2025-05-20T17:11:24.047024Z"
    },
    "papermill": {
     "duration": 16.552176,
     "end_time": "2025-04-10T15:59:13.069782",
     "exception": false,
     "start_time": "2025-04-10T15:58:56.517606",
     "status": "completed"
    },
    "tags": [],
    "trusted": true
   },
   "outputs": [
    {
     "name": "stdout",
     "output_type": "stream",
     "text": [
      "\u001b[1;31merror\u001b[0m: \u001b[1mexternally-managed-environment\u001b[0m\n",
      "\n",
      "\u001b[31m×\u001b[0m This environment is externally managed\n",
      "\u001b[31m╰─>\u001b[0m To install Python packages system-wide, try apt install\n",
      "\u001b[31m   \u001b[0m python3-xyz, where xyz is the package you are trying to\n",
      "\u001b[31m   \u001b[0m install.\n",
      "\u001b[31m   \u001b[0m \n",
      "\u001b[31m   \u001b[0m If you wish to install a non-Debian-packaged Python package,\n",
      "\u001b[31m   \u001b[0m create a virtual environment using python3 -m venv path/to/venv.\n",
      "\u001b[31m   \u001b[0m Then use path/to/venv/bin/python and path/to/venv/bin/pip. Make\n",
      "\u001b[31m   \u001b[0m sure you have python3-full installed.\n",
      "\u001b[31m   \u001b[0m \n",
      "\u001b[31m   \u001b[0m If you wish to install a non-Debian packaged Python application,\n",
      "\u001b[31m   \u001b[0m it may be easiest to use pipx install xyz, which will manage a\n",
      "\u001b[31m   \u001b[0m virtual environment for you. Make sure you have pipx installed.\n",
      "\u001b[31m   \u001b[0m \n",
      "\u001b[31m   \u001b[0m See /usr/share/doc/python3.12/README.venv for more information.\n",
      "\n",
      "\u001b[1;35mnote\u001b[0m: If you believe this is a mistake, please contact your Python installation or OS distribution provider. You can override this, at the risk of breaking your Python installation or OS, by passing --break-system-packages.\n",
      "\u001b[1;36mhint\u001b[0m: See PEP 668 for the detailed specification.\n",
      "\u001b[1;31merror\u001b[0m: \u001b[1mexternally-managed-environment\u001b[0m\n",
      "\n",
      "\u001b[31m×\u001b[0m This environment is externally managed\n",
      "\u001b[31m╰─>\u001b[0m To install Python packages system-wide, try apt install\n",
      "\u001b[31m   \u001b[0m python3-xyz, where xyz is the package you are trying to\n",
      "\u001b[31m   \u001b[0m install.\n",
      "\u001b[31m   \u001b[0m \n",
      "\u001b[31m   \u001b[0m If you wish to install a non-Debian-packaged Python package,\n",
      "\u001b[31m   \u001b[0m create a virtual environment using python3 -m venv path/to/venv.\n",
      "\u001b[31m   \u001b[0m Then use path/to/venv/bin/python and path/to/venv/bin/pip. Make\n",
      "\u001b[31m   \u001b[0m sure you have python3-full installed.\n",
      "\u001b[31m   \u001b[0m \n",
      "\u001b[31m   \u001b[0m If you wish to install a non-Debian packaged Python application,\n",
      "\u001b[31m   \u001b[0m it may be easiest to use pipx install xyz, which will manage a\n",
      "\u001b[31m   \u001b[0m virtual environment for you. Make sure you have pipx installed.\n",
      "\u001b[31m   \u001b[0m \n",
      "\u001b[31m   \u001b[0m See /usr/share/doc/python3.12/README.venv for more information.\n",
      "\n",
      "\u001b[1;35mnote\u001b[0m: If you believe this is a mistake, please contact your Python installation or OS distribution provider. You can override this, at the risk of breaking your Python installation or OS, by passing --break-system-packages.\n",
      "\u001b[1;36mhint\u001b[0m: See PEP 668 for the detailed specification.\n"
     ]
    }
   ],
   "source": [
    "!pip install torch_geometric --quiet\n",
    "!pip install nni --quiet"
   ]
  },
  {
   "cell_type": "markdown",
   "metadata": {
    "papermill": {
     "duration": 0.008695,
     "end_time": "2025-04-10T15:59:13.088648",
     "exception": false,
     "start_time": "2025-04-10T15:59:13.079953",
     "status": "completed"
    },
    "tags": []
   },
   "source": [
    "Импортируем необходимые библиотеки"
   ]
  },
  {
   "cell_type": "code",
   "execution_count": 10,
   "metadata": {
    "execution": {
     "iopub.execute_input": "2025-05-20T17:11:41.800795Z",
     "iopub.status.busy": "2025-05-20T17:11:41.800525Z",
     "iopub.status.idle": "2025-05-20T17:11:51.466894Z",
     "shell.execute_reply": "2025-05-20T17:11:51.466096Z",
     "shell.execute_reply.started": "2025-05-20T17:11:41.800773Z"
    },
    "papermill": {
     "duration": 11.498714,
     "end_time": "2025-04-10T15:59:24.596429",
     "exception": false,
     "start_time": "2025-04-10T15:59:13.097715",
     "status": "completed"
    },
    "tags": [],
    "trusted": true
   },
   "outputs": [],
   "source": [
    "import os\n",
    "import json\n",
    "import numpy as np\n",
    "import matplotlib.pyplot as plt\n",
    "from tqdm import tqdm\n",
    "from sklearn.preprocessing import OneHotEncoder\n",
    "from sklearn.decomposition import PCA\n",
    "from sklearn.cluster import OPTICS,DBSCAN\n",
    "from scipy.spatial.distance import cdist\n",
    "from scipy.stats import pearsonr, spearmanr\n",
    "from scipy.spatial.distance import jensenshannon\n",
    "\n",
    "import torch\n",
    "import torch.nn as nn\n",
    "import torch.nn.functional as F\n",
    "from torch.utils.data import random_split\n",
    "from torch.utils.data import DataLoader\n",
    "\n",
    "# Custom imports\n",
    "import sys\n",
    "sys.path.insert(1, \"../dependencies\")\n",
    "sys.path.insert(1, \"../code/dependencies\")\n",
    "\n",
    "from Graph import Graph\n",
    "from GCN import (\n",
    "    GCN,\n",
    "    SimpleGCN,\n",
    "    GAT,\n",
    "    CustomDataset,\n",
    "    TripletGraphDataset,\n",
    "    train_model_accuracy,\n",
    "    train_model_diversity,\n",
    "    get_positive_and_negative,\n",
    "    extract_embeddings,\n",
    "    collate_triplets,\n",
    "    collate_graphs\n",
    ")\n",
    "\n",
    "device = torch.device(\"cuda\" if torch.cuda.is_available() else \"cpu\")"
   ]
  },
  {
   "cell_type": "markdown",
   "metadata": {
    "papermill": {
     "duration": 0.008813,
     "end_time": "2025-04-10T15:59:24.615173",
     "exception": false,
     "start_time": "2025-04-10T15:59:24.606360",
     "status": "completed"
    },
    "tags": []
   },
   "source": [
    "Основные операция DARTS search space. Добавил 'none' для начальных вершин."
   ]
  },
  {
   "cell_type": "code",
   "execution_count": 11,
   "metadata": {
    "execution": {
     "iopub.execute_input": "2025-05-20T17:11:51.469416Z",
     "iopub.status.busy": "2025-05-20T17:11:51.468928Z",
     "iopub.status.idle": "2025-05-20T17:11:51.473513Z",
     "shell.execute_reply": "2025-05-20T17:11:51.472570Z",
     "shell.execute_reply.started": "2025-05-20T17:11:51.469388Z"
    },
    "papermill": {
     "duration": 0.015381,
     "end_time": "2025-04-10T15:59:24.639967",
     "exception": false,
     "start_time": "2025-04-10T15:59:24.624586",
     "status": "completed"
    },
    "tags": [],
    "trusted": true
   },
   "outputs": [],
   "source": [
    "DARTS_OPS = [\n",
    "        'none',\n",
    "        'max_pool_3x3',\n",
    "        'avg_pool_3x3',\n",
    "        'skip_connect',\n",
    "        'sep_conv_3x3',\n",
    "        'sep_conv_5x5',\n",
    "        'dil_conv_3x3',\n",
    "        'dil_conv_5x5',\n",
    "    ]\n",
    "\n",
    "encoder = OneHotEncoder(handle_unknown='ignore')"
   ]
  },
  {
   "cell_type": "markdown",
   "metadata": {
    "papermill": {
     "duration": 0.009107,
     "end_time": "2025-04-10T15:59:24.658614",
     "exception": false,
     "start_time": "2025-04-10T15:59:24.649507",
     "status": "completed"
    },
    "tags": []
   },
   "source": [
    "Для графовой нейронной сети нам необходимо привести операции к числовому виду. Воспользуемся one-hot-encoder."
   ]
  },
  {
   "cell_type": "code",
   "execution_count": 12,
   "metadata": {
    "execution": {
     "iopub.execute_input": "2025-05-20T17:11:51.475010Z",
     "iopub.status.busy": "2025-05-20T17:11:51.474727Z",
     "iopub.status.idle": "2025-05-20T17:11:51.523832Z",
     "shell.execute_reply": "2025-05-20T17:11:51.522919Z",
     "shell.execute_reply.started": "2025-05-20T17:11:51.474958Z"
    },
    "papermill": {
     "duration": 0.018514,
     "end_time": "2025-04-10T15:59:24.686321",
     "exception": false,
     "start_time": "2025-04-10T15:59:24.667807",
     "status": "completed"
    },
    "tags": [],
    "trusted": true
   },
   "outputs": [
    {
     "name": "stdout",
     "output_type": "stream",
     "text": [
      "[[0. 0. 0. 0. 1. 0. 0. 0.]\n",
      " [0. 0. 0. 1. 0. 0. 0. 0.]\n",
      " [1. 0. 0. 0. 0. 0. 0. 0.]\n",
      " [0. 0. 0. 0. 0. 0. 0. 1.]\n",
      " [0. 0. 0. 0. 0. 1. 0. 0.]\n",
      " [0. 0. 0. 0. 0. 0. 1. 0.]\n",
      " [0. 1. 0. 0. 0. 0. 0. 0.]\n",
      " [0. 0. 1. 0. 0. 0. 0. 0.]]\n"
     ]
    }
   ],
   "source": [
    "encoder = OneHotEncoder(handle_unknown='ignore')\n",
    "ops_array = np.array(DARTS_OPS).reshape(-1, 1)\n",
    "\n",
    "DARTS_OPS_ONE_HOT = encoder.fit_transform(ops_array).toarray()\n",
    "\n",
    "print(DARTS_OPS_ONE_HOT)"
   ]
  },
  {
   "cell_type": "markdown",
   "metadata": {
    "papermill": {
     "duration": 0.009188,
     "end_time": "2025-04-10T15:59:24.706202",
     "exception": false,
     "start_time": "2025-04-10T15:59:24.697014",
     "status": "completed"
    },
    "tags": []
   },
   "source": [
    "Загрузим архитектуры обученных моделей, их предсказания и точность."
   ]
  },
  {
   "cell_type": "code",
   "execution_count": 13,
   "metadata": {
    "execution": {
     "iopub.execute_input": "2025-05-20T17:11:51.525322Z",
     "iopub.status.busy": "2025-05-20T17:11:51.524998Z",
     "iopub.status.idle": "2025-05-20T17:11:51.540001Z",
     "shell.execute_reply": "2025-05-20T17:11:51.539077Z",
     "shell.execute_reply.started": "2025-05-20T17:11:51.525286Z"
    },
    "papermill": {
     "duration": 0.017254,
     "end_time": "2025-04-10T15:59:24.732904",
     "exception": false,
     "start_time": "2025-04-10T15:59:24.715650",
     "status": "completed"
    },
    "tags": [],
    "trusted": true
   },
   "outputs": [],
   "source": [
    "def load_json_from_directory(directory_path):\n",
    "    \"\"\"\n",
    "    Обходит директорию и создает список словарей из JSON файлов.\n",
    "\n",
    "    Аргументы:\n",
    "        directory_path (str): Путь к директории, содержащей JSON файлы.\n",
    "\n",
    "    Возвращает:\n",
    "        list: Список словарей, загруженных из JSON файлов.\n",
    "    \"\"\"\n",
    "    json_data = []\n",
    "    for root, _, files in os.walk(directory_path):\n",
    "        for file in tqdm(files, desc=\"Loading dataset\"):\n",
    "            if file.endswith('.json'):\n",
    "                file_path = os.path.join(root, file)\n",
    "                with open(file_path, 'r', encoding='utf-8') as f:\n",
    "                    try:\n",
    "                        data = json.load(f)\n",
    "                        json_data.append(data)\n",
    "                    except json.JSONDecodeError as e:\n",
    "                        print(f\"Error decoding JSON from file {file_path}: {e}\")\n",
    "    return json_data"
   ]
  },
  {
   "cell_type": "code",
   "execution_count": 16,
   "metadata": {
    "execution": {
     "iopub.execute_input": "2025-05-20T17:11:51.541243Z",
     "iopub.status.busy": "2025-05-20T17:11:51.540911Z",
     "iopub.status.idle": "2025-05-20T17:12:01.095149Z",
     "shell.execute_reply": "2025-05-20T17:12:01.094052Z",
     "shell.execute_reply.started": "2025-05-20T17:11:51.541217Z"
    },
    "papermill": {
     "duration": 11.178686,
     "end_time": "2025-04-10T15:59:35.921341",
     "exception": false,
     "start_time": "2025-04-10T15:59:24.742655",
     "status": "completed"
    },
    "tags": [],
    "trusted": true
   },
   "outputs": [
    {
     "name": "stderr",
     "output_type": "stream",
     "text": [
      "Loading dataset: 100%|██████████| 1300/1300 [00:02<00:00, 511.82it/s]\n"
     ]
    }
   ],
   "source": [
    "models_dict = load_json_from_directory('../code/datasets/third_dataset/')"
   ]
  },
  {
   "cell_type": "markdown",
   "metadata": {
    "papermill": {
     "duration": 0.009603,
     "end_time": "2025-04-10T15:59:35.941597",
     "exception": false,
     "start_time": "2025-04-10T15:59:35.931994",
     "status": "completed"
    },
    "tags": []
   },
   "source": [
    "Посмотрю как распределена точность моделей"
   ]
  },
  {
   "cell_type": "code",
   "execution_count": 17,
   "metadata": {
    "execution": {
     "iopub.execute_input": "2025-05-20T17:12:01.096688Z",
     "iopub.status.busy": "2025-05-20T17:12:01.096292Z",
     "iopub.status.idle": "2025-05-20T17:12:01.446592Z",
     "shell.execute_reply": "2025-05-20T17:12:01.445583Z",
     "shell.execute_reply.started": "2025-05-20T17:12:01.096650Z"
    },
    "papermill": {
     "duration": 0.329964,
     "end_time": "2025-04-10T15:59:36.281267",
     "exception": false,
     "start_time": "2025-04-10T15:59:35.951303",
     "status": "completed"
    },
    "tags": [],
    "trusted": true
   },
   "outputs": [
    {
     "name": "stdout",
     "output_type": "stream",
     "text": [
      "0.9009\n"
     ]
    },
    {
     "data": {
      "image/png": "[encoded data removed]",
      "text/plain": [
       "<Figure size 1000x600 with 1 Axes>"
      ]
     },
     "metadata": {},
     "output_type": "display_data"
    }
   ],
   "source": [
    "accuracies = [model['test_accuracy'] for model in models_dict]\n",
    "\n",
    "plt.figure(figsize=(10, 6))\n",
    "\n",
    "plt.hist(accuracies, bins=50, edgecolor='black', color=\"green\", weights=[1/len(accuracies)]*len(accuracies))\n",
    "# plt.title('Distribution of Model Accuracies')\n",
    "plt.xlabel('Accuracy', fontsize=18)\n",
    "plt.ylabel('Percentage', fontsize=18)\n",
    "plt.xticks(fontsize=16)\n",
    "plt.yticks(fontsize=16)\n",
    "print(np.max(accuracies))\n",
    "plt.show()"
   ]
  },
  {
   "cell_type": "code",
   "execution_count": 18,
   "metadata": {
    "execution": {
     "iopub.execute_input": "2025-05-20T17:12:01.449383Z",
     "iopub.status.busy": "2025-05-20T17:12:01.449063Z",
     "iopub.status.idle": "2025-05-20T17:12:01.454140Z",
     "shell.execute_reply": "2025-05-20T17:12:01.453087Z",
     "shell.execute_reply.started": "2025-05-20T17:12:01.449356Z"
    },
    "papermill": {
     "duration": 0.016572,
     "end_time": "2025-04-10T15:59:36.308649",
     "exception": false,
     "start_time": "2025-04-10T15:59:36.292077",
     "status": "completed"
    },
    "tags": [],
    "trusted": true
   },
   "outputs": [],
   "source": [
    "graph = Graph(models_dict[1])"
   ]
  },
  {
   "cell_type": "markdown",
   "metadata": {
    "papermill": {
     "duration": 0.009593,
     "end_time": "2025-04-10T15:59:36.328554",
     "exception": false,
     "start_time": "2025-04-10T15:59:36.318961",
     "status": "completed"
    },
    "tags": []
   },
   "source": [
    "Посмотрю как выглядит граф."
   ]
  },
  {
   "cell_type": "code",
   "execution_count": 19,
   "metadata": {
    "execution": {
     "iopub.execute_input": "2025-05-20T17:12:01.456517Z",
     "iopub.status.busy": "2025-05-20T17:12:01.456194Z",
     "iopub.status.idle": "2025-05-20T17:12:01.665397Z",
     "shell.execute_reply": "2025-05-20T17:12:01.664428Z",
     "shell.execute_reply.started": "2025-05-20T17:12:01.456487Z"
    },
    "papermill": {
     "duration": 0.248156,
     "end_time": "2025-04-10T15:59:36.586773",
     "exception": false,
     "start_time": "2025-04-10T15:59:36.338617",
     "status": "completed"
    },
    "tags": [],
    "trusted": true
   },
   "outputs": [
    {
     "data": {
      "image/svg+xml": [
       "<?xml version=\"1.0\" encoding=\"UTF-8\" standalone=\"no\"?>\n",
       "<!DOCTYPE svg PUBLIC \"-//W3C//DTD SVG 1.1//EN\"\n",
       " \"http://www.w3.org/Graphics/SVG/1.1/DTD/svg11.dtd\">\n",
       "<!-- Generated by graphviz version 2.43.0 (0)\n",
       " -->\n",
       "<!-- Title: %3 Pages: 1 -->\n",
       "<svg width=\"1087pt\" height=\"714pt\"\n",
       " viewBox=\"0.00 0.00 1086.50 714.00\" xmlns=\"http://www.w3.org/2000/svg\" xmlns:xlink=\"http://www.w3.org/1999/xlink\">\n",
       "<g id=\"graph0\" class=\"graph\" transform=\"scale(1 1) rotate(0) translate(4 710)\">\n",
       "<title>%3</title>\n",
       "<polygon fill=\"white\" stroke=\"transparent\" points=\"-4,4 -4,-710 1082.5,-710 1082.5,4 -4,4\"/>\n",
       "<!-- 0 -->\n",
       "<g id=\"node1\" class=\"node\">\n",
       "<title>0</title>\n",
       "<polygon fill=\"none\" stroke=\"black\" points=\"183.5,-636.5 183.5,-705.5 263.5,-705.5 263.5,-636.5 183.5,-636.5\"/>\n",
       "<text text-anchor=\"middle\" x=\"223.5\" y=\"-690.3\" font-family=\"Times,serif\" font-size=\"14.00\">Op: none</text>\n",
       "<polyline fill=\"none\" stroke=\"black\" points=\"183.5,-682.5 263.5,-682.5 \"/>\n",
       "<text text-anchor=\"middle\" x=\"223.5\" y=\"-667.3\" font-family=\"Times,serif\" font-size=\"14.00\">In: 0</text>\n",
       "<polyline fill=\"none\" stroke=\"black\" points=\"183.5,-659.5 263.5,-659.5 \"/>\n",
       "<text text-anchor=\"middle\" x=\"223.5\" y=\"-644.3\" font-family=\"Times,serif\" font-size=\"14.00\">Out: 0</text>\n",
       "</g>\n",
       "<!-- 1 -->\n",
       "<g id=\"node2\" class=\"node\">\n",
       "<title>1</title>\n",
       "<polygon fill=\"none\" stroke=\"black\" points=\"155,-530.5 155,-599.5 292,-599.5 292,-530.5 155,-530.5\"/>\n",
       "<text text-anchor=\"middle\" x=\"223.5\" y=\"-584.3\" font-family=\"Times,serif\" font-size=\"14.00\">Op: dil_conv_5x5</text>\n",
       "<polyline fill=\"none\" stroke=\"black\" points=\"155,-576.5 292,-576.5 \"/>\n",
       "<text text-anchor=\"middle\" x=\"223.5\" y=\"-561.3\" font-family=\"Times,serif\" font-size=\"14.00\">In: 0</text>\n",
       "<polyline fill=\"none\" stroke=\"black\" points=\"155,-553.5 292,-553.5 \"/>\n",
       "<text text-anchor=\"middle\" x=\"223.5\" y=\"-538.3\" font-family=\"Times,serif\" font-size=\"14.00\">Out: 2</text>\n",
       "</g>\n",
       "<!-- 0&#45;&gt;1 -->\n",
       "<g id=\"edge1\" class=\"edge\">\n",
       "<title>0&#45;&gt;1</title>\n",
       "<path fill=\"none\" stroke=\"black\" d=\"M223.5,-636.23C223.5,-627.79 223.5,-618.62 223.5,-609.77\"/>\n",
       "<polygon fill=\"black\" stroke=\"black\" points=\"227,-609.6 223.5,-599.6 220,-609.6 227,-609.6\"/>\n",
       "</g>\n",
       "<!-- 2 -->\n",
       "<g id=\"node3\" class=\"node\">\n",
       "<title>2</title>\n",
       "<polygon fill=\"none\" stroke=\"black\" points=\"0,-530.5 0,-599.5 137,-599.5 137,-530.5 0,-530.5\"/>\n",
       "<text text-anchor=\"middle\" x=\"68.5\" y=\"-584.3\" font-family=\"Times,serif\" font-size=\"14.00\">Op: dil_conv_3x3</text>\n",
       "<polyline fill=\"none\" stroke=\"black\" points=\"0,-576.5 137,-576.5 \"/>\n",
       "<text text-anchor=\"middle\" x=\"68.5\" y=\"-561.3\" font-family=\"Times,serif\" font-size=\"14.00\">In: 0</text>\n",
       "<polyline fill=\"none\" stroke=\"black\" points=\"0,-553.5 137,-553.5 \"/>\n",
       "<text text-anchor=\"middle\" x=\"68.5\" y=\"-538.3\" font-family=\"Times,serif\" font-size=\"14.00\">Out: 3</text>\n",
       "</g>\n",
       "<!-- 0&#45;&gt;2 -->\n",
       "<g id=\"edge2\" class=\"edge\">\n",
       "<title>0&#45;&gt;2</title>\n",
       "<path fill=\"none\" stroke=\"black\" d=\"M183.18,-642.95C166.07,-631.46 145.78,-617.86 127.07,-605.3\"/>\n",
       "<polygon fill=\"black\" stroke=\"black\" points=\"128.85,-602.28 118.6,-599.62 124.95,-608.09 128.85,-602.28\"/>\n",
       "</g>\n",
       "<!-- 3 -->\n",
       "<g id=\"node4\" class=\"node\">\n",
       "<title>3</title>\n",
       "<polygon fill=\"none\" stroke=\"black\" points=\"465,-530.5 465,-599.5 602,-599.5 602,-530.5 465,-530.5\"/>\n",
       "<text text-anchor=\"middle\" x=\"533.5\" y=\"-584.3\" font-family=\"Times,serif\" font-size=\"14.00\">Op: dil_conv_5x5</text>\n",
       "<polyline fill=\"none\" stroke=\"black\" points=\"465,-576.5 602,-576.5 \"/>\n",
       "<text text-anchor=\"middle\" x=\"533.5\" y=\"-561.3\" font-family=\"Times,serif\" font-size=\"14.00\">In: 0</text>\n",
       "<polyline fill=\"none\" stroke=\"black\" points=\"465,-553.5 602,-553.5 \"/>\n",
       "<text text-anchor=\"middle\" x=\"533.5\" y=\"-538.3\" font-family=\"Times,serif\" font-size=\"14.00\">Out: 5</text>\n",
       "</g>\n",
       "<!-- 0&#45;&gt;3 -->\n",
       "<g id=\"edge3\" class=\"edge\">\n",
       "<title>0&#45;&gt;3</title>\n",
       "<path fill=\"none\" stroke=\"black\" d=\"M263.57,-659.59C308.38,-647.59 383.16,-626.5 455.15,-600.38\"/>\n",
       "<polygon fill=\"black\" stroke=\"black\" points=\"456.64,-603.56 464.83,-596.83 454.23,-596.99 456.64,-603.56\"/>\n",
       "</g>\n",
       "<!-- 8 -->\n",
       "<g id=\"node9\" class=\"node\">\n",
       "<title>8</title>\n",
       "<polygon fill=\"none\" stroke=\"black\" points=\"146,-424.5 146,-493.5 289,-493.5 289,-424.5 146,-424.5\"/>\n",
       "<text text-anchor=\"middle\" x=\"217.5\" y=\"-478.3\" font-family=\"Times,serif\" font-size=\"14.00\">Op: sep_conv_5x5</text>\n",
       "<polyline fill=\"none\" stroke=\"black\" points=\"146,-470.5 289,-470.5 \"/>\n",
       "<text text-anchor=\"middle\" x=\"217.5\" y=\"-455.3\" font-family=\"Times,serif\" font-size=\"14.00\">In: 2</text>\n",
       "<polyline fill=\"none\" stroke=\"black\" points=\"146,-447.5 289,-447.5 \"/>\n",
       "<text text-anchor=\"middle\" x=\"217.5\" y=\"-432.3\" font-family=\"Times,serif\" font-size=\"14.00\">Out: 3</text>\n",
       "</g>\n",
       "<!-- 1&#45;&gt;8 -->\n",
       "<g id=\"edge4\" class=\"edge\">\n",
       "<title>1&#45;&gt;8</title>\n",
       "<path fill=\"none\" stroke=\"black\" d=\"M221.55,-530.23C221.07,-521.79 220.54,-512.62 220.03,-503.77\"/>\n",
       "<polygon fill=\"black\" stroke=\"black\" points=\"223.51,-503.38 219.44,-493.6 216.52,-503.78 223.51,-503.38\"/>\n",
       "</g>\n",
       "<!-- 9 -->\n",
       "<g id=\"node10\" class=\"node\">\n",
       "<title>9</title>\n",
       "<polygon fill=\"none\" stroke=\"black\" points=\"307,-424.5 307,-493.5 450,-493.5 450,-424.5 307,-424.5\"/>\n",
       "<text text-anchor=\"middle\" x=\"378.5\" y=\"-478.3\" font-family=\"Times,serif\" font-size=\"14.00\">Op: sep_conv_5x5</text>\n",
       "<polyline fill=\"none\" stroke=\"black\" points=\"307,-470.5 450,-470.5 \"/>\n",
       "<text text-anchor=\"middle\" x=\"378.5\" y=\"-455.3\" font-family=\"Times,serif\" font-size=\"14.00\">In: 2</text>\n",
       "<polyline fill=\"none\" stroke=\"black\" points=\"307,-447.5 450,-447.5 \"/>\n",
       "<text text-anchor=\"middle\" x=\"378.5\" y=\"-432.3\" font-family=\"Times,serif\" font-size=\"14.00\">Out: 4</text>\n",
       "</g>\n",
       "<!-- 1&#45;&gt;9 -->\n",
       "<g id=\"edge5\" class=\"edge\">\n",
       "<title>1&#45;&gt;9</title>\n",
       "<path fill=\"none\" stroke=\"black\" d=\"M273.82,-530.23C288.59,-520.33 304.87,-509.41 320.09,-499.19\"/>\n",
       "<polygon fill=\"black\" stroke=\"black\" points=\"322.07,-502.07 328.43,-493.6 318.17,-496.26 322.07,-502.07\"/>\n",
       "</g>\n",
       "<!-- 10 -->\n",
       "<g id=\"node11\" class=\"node\">\n",
       "<title>10</title>\n",
       "<polygon fill=\"none\" stroke=\"black\" points=\"392.5,-318.5 392.5,-387.5 472.5,-387.5 472.5,-318.5 392.5,-318.5\"/>\n",
       "<text text-anchor=\"middle\" x=\"432.5\" y=\"-372.3\" font-family=\"Times,serif\" font-size=\"14.00\">Op: none</text>\n",
       "<polyline fill=\"none\" stroke=\"black\" points=\"392.5,-364.5 472.5,-364.5 \"/>\n",
       "<text text-anchor=\"middle\" x=\"432.5\" y=\"-349.3\" font-family=\"Times,serif\" font-size=\"14.00\">In: 5</text>\n",
       "<polyline fill=\"none\" stroke=\"black\" points=\"392.5,-341.5 472.5,-341.5 \"/>\n",
       "<text text-anchor=\"middle\" x=\"432.5\" y=\"-326.3\" font-family=\"Times,serif\" font-size=\"14.00\">Out: 5</text>\n",
       "</g>\n",
       "<!-- 2&#45;&gt;10 -->\n",
       "<g id=\"edge6\" class=\"edge\">\n",
       "<title>2&#45;&gt;10</title>\n",
       "<path fill=\"none\" stroke=\"black\" d=\"M76.2,-530.5C85.35,-498.36 103.81,-450.85 137.5,-424 208.76,-367.21 318.54,-355.21 382.16,-353.4\"/>\n",
       "<polygon fill=\"black\" stroke=\"black\" points=\"382.42,-356.9 392.34,-353.19 382.27,-349.9 382.42,-356.9\"/>\n",
       "</g>\n",
       "<!-- 3&#45;&gt;10 -->\n",
       "<g id=\"edge7\" class=\"edge\">\n",
       "<title>3&#45;&gt;10</title>\n",
       "<path fill=\"none\" stroke=\"black\" d=\"M515.83,-530.31C509.9,-518.84 503.32,-505.91 497.5,-494 481.7,-461.7 464.61,-424.8 451.92,-396.99\"/>\n",
       "<polygon fill=\"black\" stroke=\"black\" points=\"454.95,-395.21 447.62,-387.56 448.58,-398.11 454.95,-395.21\"/>\n",
       "</g>\n",
       "<!-- 4 -->\n",
       "<g id=\"node5\" class=\"node\">\n",
       "<title>4</title>\n",
       "<polygon fill=\"none\" stroke=\"black\" points=\"655.5,-636.5 655.5,-705.5 735.5,-705.5 735.5,-636.5 655.5,-636.5\"/>\n",
       "<text text-anchor=\"middle\" x=\"695.5\" y=\"-690.3\" font-family=\"Times,serif\" font-size=\"14.00\">Op: none</text>\n",
       "<polyline fill=\"none\" stroke=\"black\" points=\"655.5,-682.5 735.5,-682.5 \"/>\n",
       "<text text-anchor=\"middle\" x=\"695.5\" y=\"-667.3\" font-family=\"Times,serif\" font-size=\"14.00\">In: 1</text>\n",
       "<polyline fill=\"none\" stroke=\"black\" points=\"655.5,-659.5 735.5,-659.5 \"/>\n",
       "<text text-anchor=\"middle\" x=\"695.5\" y=\"-644.3\" font-family=\"Times,serif\" font-size=\"14.00\">Out: 1</text>\n",
       "</g>\n",
       "<!-- 5 -->\n",
       "<g id=\"node6\" class=\"node\">\n",
       "<title>5</title>\n",
       "<polygon fill=\"none\" stroke=\"black\" points=\"310,-530.5 310,-599.5 447,-599.5 447,-530.5 310,-530.5\"/>\n",
       "<text text-anchor=\"middle\" x=\"378.5\" y=\"-584.3\" font-family=\"Times,serif\" font-size=\"14.00\">Op: skip_connect</text>\n",
       "<polyline fill=\"none\" stroke=\"black\" points=\"310,-576.5 447,-576.5 \"/>\n",
       "<text text-anchor=\"middle\" x=\"378.5\" y=\"-561.3\" font-family=\"Times,serif\" font-size=\"14.00\">In: 1</text>\n",
       "<polyline fill=\"none\" stroke=\"black\" points=\"310,-553.5 447,-553.5 \"/>\n",
       "<text text-anchor=\"middle\" x=\"378.5\" y=\"-538.3\" font-family=\"Times,serif\" font-size=\"14.00\">Out: 2</text>\n",
       "</g>\n",
       "<!-- 4&#45;&gt;5 -->\n",
       "<g id=\"edge8\" class=\"edge\">\n",
       "<title>4&#45;&gt;5</title>\n",
       "<path fill=\"none\" stroke=\"black\" d=\"M655.25,-659.87C609.31,-647.95 531.87,-626.75 456.83,-599.98\"/>\n",
       "<polygon fill=\"black\" stroke=\"black\" points=\"457.81,-596.61 447.21,-596.51 455.43,-603.2 457.81,-596.61\"/>\n",
       "</g>\n",
       "<!-- 6 -->\n",
       "<g id=\"node7\" class=\"node\">\n",
       "<title>6</title>\n",
       "<polygon fill=\"none\" stroke=\"black\" points=\"506.5,-424.5 506.5,-493.5 652.5,-493.5 652.5,-424.5 506.5,-424.5\"/>\n",
       "<text text-anchor=\"middle\" x=\"579.5\" y=\"-478.3\" font-family=\"Times,serif\" font-size=\"14.00\">Op: max_pool_3x3</text>\n",
       "<polyline fill=\"none\" stroke=\"black\" points=\"506.5,-470.5 652.5,-470.5 \"/>\n",
       "<text text-anchor=\"middle\" x=\"579.5\" y=\"-455.3\" font-family=\"Times,serif\" font-size=\"14.00\">In: 1</text>\n",
       "<polyline fill=\"none\" stroke=\"black\" points=\"506.5,-447.5 652.5,-447.5 \"/>\n",
       "<text text-anchor=\"middle\" x=\"579.5\" y=\"-432.3\" font-family=\"Times,serif\" font-size=\"14.00\">Out: 4</text>\n",
       "</g>\n",
       "<!-- 4&#45;&gt;6 -->\n",
       "<g id=\"edge9\" class=\"edge\">\n",
       "<title>4&#45;&gt;6</title>\n",
       "<path fill=\"none\" stroke=\"black\" d=\"M676.86,-636.26C656.82,-599.98 624.91,-542.21 603.12,-502.77\"/>\n",
       "<polygon fill=\"black\" stroke=\"black\" points=\"605.99,-500.72 598.09,-493.66 599.86,-504.1 605.99,-500.72\"/>\n",
       "</g>\n",
       "<!-- 7 -->\n",
       "<g id=\"node8\" class=\"node\">\n",
       "<title>7</title>\n",
       "<polygon fill=\"none\" stroke=\"black\" points=\"671,-424.5 671,-493.5 814,-493.5 814,-424.5 671,-424.5\"/>\n",
       "<text text-anchor=\"middle\" x=\"742.5\" y=\"-478.3\" font-family=\"Times,serif\" font-size=\"14.00\">Op: sep_conv_3x3</text>\n",
       "<polyline fill=\"none\" stroke=\"black\" points=\"671,-470.5 814,-470.5 \"/>\n",
       "<text text-anchor=\"middle\" x=\"742.5\" y=\"-455.3\" font-family=\"Times,serif\" font-size=\"14.00\">In: 1</text>\n",
       "<polyline fill=\"none\" stroke=\"black\" points=\"671,-447.5 814,-447.5 \"/>\n",
       "<text text-anchor=\"middle\" x=\"742.5\" y=\"-432.3\" font-family=\"Times,serif\" font-size=\"14.00\">Out: 5</text>\n",
       "</g>\n",
       "<!-- 4&#45;&gt;7 -->\n",
       "<g id=\"edge10\" class=\"edge\">\n",
       "<title>4&#45;&gt;7</title>\n",
       "<path fill=\"none\" stroke=\"black\" d=\"M703.05,-636.26C711.12,-600.21 723.94,-542.94 732.76,-503.52\"/>\n",
       "<polygon fill=\"black\" stroke=\"black\" points=\"736.2,-504.18 734.97,-493.66 729.37,-502.65 736.2,-504.18\"/>\n",
       "</g>\n",
       "<!-- 14 -->\n",
       "<g id=\"node15\" class=\"node\">\n",
       "<title>14</title>\n",
       "<polygon fill=\"none\" stroke=\"black\" points=\"802.5,-318.5 802.5,-387.5 882.5,-387.5 882.5,-318.5 802.5,-318.5\"/>\n",
       "<text text-anchor=\"middle\" x=\"842.5\" y=\"-372.3\" font-family=\"Times,serif\" font-size=\"14.00\">Op: none</text>\n",
       "<polyline fill=\"none\" stroke=\"black\" points=\"802.5,-364.5 882.5,-364.5 \"/>\n",
       "<text text-anchor=\"middle\" x=\"842.5\" y=\"-349.3\" font-family=\"Times,serif\" font-size=\"14.00\">In: 6</text>\n",
       "<polyline fill=\"none\" stroke=\"black\" points=\"802.5,-341.5 882.5,-341.5 \"/>\n",
       "<text text-anchor=\"middle\" x=\"842.5\" y=\"-326.3\" font-family=\"Times,serif\" font-size=\"14.00\">Out: 6</text>\n",
       "</g>\n",
       "<!-- 4&#45;&gt;14 -->\n",
       "<g id=\"edge11\" class=\"edge\">\n",
       "<title>4&#45;&gt;14</title>\n",
       "<path fill=\"none\" stroke=\"black\" d=\"M727.92,-636.41C757.99,-603.11 801.33,-549.22 823.5,-494 835.83,-463.29 840.44,-426.06 842.05,-397.71\"/>\n",
       "<polygon fill=\"black\" stroke=\"black\" points=\"845.54,-397.85 842.51,-387.7 838.55,-397.53 845.54,-397.85\"/>\n",
       "</g>\n",
       "<!-- 5&#45;&gt;8 -->\n",
       "<g id=\"edge12\" class=\"edge\">\n",
       "<title>5&#45;&gt;8</title>\n",
       "<path fill=\"none\" stroke=\"black\" d=\"M326.23,-530.23C310.89,-520.33 293.98,-509.41 278.17,-499.19\"/>\n",
       "<polygon fill=\"black\" stroke=\"black\" points=\"279.81,-496.08 269.51,-493.6 276.01,-501.96 279.81,-496.08\"/>\n",
       "</g>\n",
       "<!-- 5&#45;&gt;9 -->\n",
       "<g id=\"edge13\" class=\"edge\">\n",
       "<title>5&#45;&gt;9</title>\n",
       "<path fill=\"none\" stroke=\"black\" d=\"M378.5,-530.23C378.5,-521.79 378.5,-512.62 378.5,-503.77\"/>\n",
       "<polygon fill=\"black\" stroke=\"black\" points=\"382,-503.6 378.5,-493.6 375,-503.6 382,-503.6\"/>\n",
       "</g>\n",
       "<!-- 6&#45;&gt;10 -->\n",
       "<g id=\"edge14\" class=\"edge\">\n",
       "<title>6&#45;&gt;10</title>\n",
       "<path fill=\"none\" stroke=\"black\" d=\"M531.77,-424.23C515.5,-412.72 497.29,-399.84 480.96,-388.28\"/>\n",
       "<polygon fill=\"black\" stroke=\"black\" points=\"482.79,-385.29 472.6,-382.37 478.75,-391.01 482.79,-385.29\"/>\n",
       "</g>\n",
       "<!-- 7&#45;&gt;10 -->\n",
       "<g id=\"edge15\" class=\"edge\">\n",
       "<title>7&#45;&gt;10</title>\n",
       "<path fill=\"none\" stroke=\"black\" d=\"M670.66,-427.4C667.57,-426.23 664.51,-425.09 661.5,-424 600.68,-402 529.2,-380.89 482.49,-367.71\"/>\n",
       "<polygon fill=\"black\" stroke=\"black\" points=\"483.19,-364.27 472.62,-364.94 481.3,-371.01 483.19,-364.27\"/>\n",
       "</g>\n",
       "<!-- 8&#45;&gt;10 -->\n",
       "<g id=\"edge16\" class=\"edge\">\n",
       "<title>8&#45;&gt;10</title>\n",
       "<path fill=\"none\" stroke=\"black\" d=\"M287.01,-424.38C318.31,-409.24 354.55,-391.71 383.03,-377.93\"/>\n",
       "<polygon fill=\"black\" stroke=\"black\" points=\"384.89,-380.92 392.37,-373.41 381.84,-374.62 384.89,-380.92\"/>\n",
       "</g>\n",
       "<!-- 9&#45;&gt;10 -->\n",
       "<g id=\"edge17\" class=\"edge\">\n",
       "<title>9&#45;&gt;10</title>\n",
       "<path fill=\"none\" stroke=\"black\" d=\"M396.03,-424.23C400.61,-415.43 405.59,-405.82 410.37,-396.62\"/>\n",
       "<polygon fill=\"black\" stroke=\"black\" points=\"413.55,-398.08 415.06,-387.6 407.34,-394.86 413.55,-398.08\"/>\n",
       "</g>\n",
       "<!-- 11 -->\n",
       "<g id=\"node12\" class=\"node\">\n",
       "<title>11</title>\n",
       "<polygon fill=\"none\" stroke=\"black\" points=\"461,-212.5 461,-281.5 598,-281.5 598,-212.5 461,-212.5\"/>\n",
       "<text text-anchor=\"middle\" x=\"529.5\" y=\"-266.3\" font-family=\"Times,serif\" font-size=\"14.00\">Op: skip_connect</text>\n",
       "<polyline fill=\"none\" stroke=\"black\" points=\"461,-258.5 598,-258.5 \"/>\n",
       "<text text-anchor=\"middle\" x=\"529.5\" y=\"-243.3\" font-family=\"Times,serif\" font-size=\"14.00\">In: 5</text>\n",
       "<polyline fill=\"none\" stroke=\"black\" points=\"461,-235.5 598,-235.5 \"/>\n",
       "<text text-anchor=\"middle\" x=\"529.5\" y=\"-220.3\" font-family=\"Times,serif\" font-size=\"14.00\">Out: 7</text>\n",
       "</g>\n",
       "<!-- 10&#45;&gt;11 -->\n",
       "<g id=\"edge18\" class=\"edge\">\n",
       "<title>10&#45;&gt;11</title>\n",
       "<path fill=\"none\" stroke=\"black\" d=\"M463.99,-318.23C472.64,-308.97 482.1,-298.82 491.09,-289.18\"/>\n",
       "<polygon fill=\"black\" stroke=\"black\" points=\"493.9,-291.3 498.16,-281.6 488.78,-286.52 493.9,-291.3\"/>\n",
       "</g>\n",
       "<!-- 12 -->\n",
       "<g id=\"node13\" class=\"node\">\n",
       "<title>12</title>\n",
       "<polygon fill=\"none\" stroke=\"black\" points=\"365,-106.5 365,-175.5 502,-175.5 502,-106.5 365,-106.5\"/>\n",
       "<text text-anchor=\"middle\" x=\"433.5\" y=\"-160.3\" font-family=\"Times,serif\" font-size=\"14.00\">Op: dil_conv_5x5</text>\n",
       "<polyline fill=\"none\" stroke=\"black\" points=\"365,-152.5 502,-152.5 \"/>\n",
       "<text text-anchor=\"middle\" x=\"433.5\" y=\"-137.3\" font-family=\"Times,serif\" font-size=\"14.00\">In: 5</text>\n",
       "<polyline fill=\"none\" stroke=\"black\" points=\"365,-129.5 502,-129.5 \"/>\n",
       "<text text-anchor=\"middle\" x=\"433.5\" y=\"-114.3\" font-family=\"Times,serif\" font-size=\"14.00\">Out: 8</text>\n",
       "</g>\n",
       "<!-- 10&#45;&gt;12 -->\n",
       "<g id=\"edge19\" class=\"edge\">\n",
       "<title>10&#45;&gt;12</title>\n",
       "<path fill=\"none\" stroke=\"black\" d=\"M432.66,-318.26C432.83,-282.29 433.1,-225.18 433.29,-185.77\"/>\n",
       "<polygon fill=\"black\" stroke=\"black\" points=\"436.79,-185.67 433.34,-175.66 429.79,-185.64 436.79,-185.67\"/>\n",
       "</g>\n",
       "<!-- 13 -->\n",
       "<g id=\"node14\" class=\"node\">\n",
       "<title>13</title>\n",
       "<polygon fill=\"none\" stroke=\"black\" points=\"206,-106.5 206,-175.5 347,-175.5 347,-106.5 206,-106.5\"/>\n",
       "<text text-anchor=\"middle\" x=\"276.5\" y=\"-160.3\" font-family=\"Times,serif\" font-size=\"14.00\">Op: avg_pool_3x3</text>\n",
       "<polyline fill=\"none\" stroke=\"black\" points=\"206,-152.5 347,-152.5 \"/>\n",
       "<text text-anchor=\"middle\" x=\"276.5\" y=\"-137.3\" font-family=\"Times,serif\" font-size=\"14.00\">In: 5</text>\n",
       "<polyline fill=\"none\" stroke=\"black\" points=\"206,-129.5 347,-129.5 \"/>\n",
       "<text text-anchor=\"middle\" x=\"276.5\" y=\"-114.3\" font-family=\"Times,serif\" font-size=\"14.00\">Out: 9</text>\n",
       "</g>\n",
       "<!-- 10&#45;&gt;13 -->\n",
       "<g id=\"edge20\" class=\"edge\">\n",
       "<title>10&#45;&gt;13</title>\n",
       "<path fill=\"none\" stroke=\"black\" d=\"M407.44,-318.26C380.26,-281.67 336.84,-223.23 307.53,-183.77\"/>\n",
       "<polygon fill=\"black\" stroke=\"black\" points=\"310.27,-181.6 301.5,-175.66 304.66,-185.77 310.27,-181.6\"/>\n",
       "</g>\n",
       "<!-- 18 -->\n",
       "<g id=\"node19\" class=\"node\">\n",
       "<title>18</title>\n",
       "<polygon fill=\"none\" stroke=\"black\" points=\"520,-106.5 520,-175.5 657,-175.5 657,-106.5 520,-106.5\"/>\n",
       "<text text-anchor=\"middle\" x=\"588.5\" y=\"-160.3\" font-family=\"Times,serif\" font-size=\"14.00\">Op: dil_conv_3x3</text>\n",
       "<polyline fill=\"none\" stroke=\"black\" points=\"520,-152.5 657,-152.5 \"/>\n",
       "<text text-anchor=\"middle\" x=\"588.5\" y=\"-137.3\" font-family=\"Times,serif\" font-size=\"14.00\">In: 7</text>\n",
       "<polyline fill=\"none\" stroke=\"black\" points=\"520,-129.5 657,-129.5 \"/>\n",
       "<text text-anchor=\"middle\" x=\"588.5\" y=\"-114.3\" font-family=\"Times,serif\" font-size=\"14.00\">Out: 8</text>\n",
       "</g>\n",
       "<!-- 11&#45;&gt;18 -->\n",
       "<g id=\"edge21\" class=\"edge\">\n",
       "<title>11&#45;&gt;18</title>\n",
       "<path fill=\"none\" stroke=\"black\" d=\"M548.66,-212.23C553.7,-203.33 559.22,-193.62 564.49,-184.33\"/>\n",
       "<polygon fill=\"black\" stroke=\"black\" points=\"567.55,-186.02 569.44,-175.6 561.46,-182.57 567.55,-186.02\"/>\n",
       "</g>\n",
       "<!-- 19 -->\n",
       "<g id=\"node20\" class=\"node\">\n",
       "<title>19</title>\n",
       "<polygon fill=\"none\" stroke=\"black\" points=\"675,-106.5 675,-175.5 812,-175.5 812,-106.5 675,-106.5\"/>\n",
       "<text text-anchor=\"middle\" x=\"743.5\" y=\"-160.3\" font-family=\"Times,serif\" font-size=\"14.00\">Op: dil_conv_5x5</text>\n",
       "<polyline fill=\"none\" stroke=\"black\" points=\"675,-152.5 812,-152.5 \"/>\n",
       "<text text-anchor=\"middle\" x=\"743.5\" y=\"-137.3\" font-family=\"Times,serif\" font-size=\"14.00\">In: 7</text>\n",
       "<polyline fill=\"none\" stroke=\"black\" points=\"675,-129.5 812,-129.5 \"/>\n",
       "<text text-anchor=\"middle\" x=\"743.5\" y=\"-114.3\" font-family=\"Times,serif\" font-size=\"14.00\">Out: 10</text>\n",
       "</g>\n",
       "<!-- 11&#45;&gt;19 -->\n",
       "<g id=\"edge22\" class=\"edge\">\n",
       "<title>11&#45;&gt;19</title>\n",
       "<path fill=\"none\" stroke=\"black\" d=\"M598.09,-212.66C619.69,-202.17 643.7,-190.5 665.87,-179.72\"/>\n",
       "<polygon fill=\"black\" stroke=\"black\" points=\"667.46,-182.84 674.93,-175.33 664.4,-176.55 667.46,-182.84\"/>\n",
       "</g>\n",
       "<!-- 20 -->\n",
       "<g id=\"node21\" class=\"node\">\n",
       "<title>20</title>\n",
       "<polygon fill=\"none\" stroke=\"black\" points=\"625.5,-0.5 625.5,-69.5 705.5,-69.5 705.5,-0.5 625.5,-0.5\"/>\n",
       "<text text-anchor=\"middle\" x=\"665.5\" y=\"-54.3\" font-family=\"Times,serif\" font-size=\"14.00\">Op: none</text>\n",
       "<polyline fill=\"none\" stroke=\"black\" points=\"625.5,-46.5 705.5,-46.5 \"/>\n",
       "<text text-anchor=\"middle\" x=\"665.5\" y=\"-31.3\" font-family=\"Times,serif\" font-size=\"14.00\">In: 11</text>\n",
       "<polyline fill=\"none\" stroke=\"black\" points=\"625.5,-23.5 705.5,-23.5 \"/>\n",
       "<text text-anchor=\"middle\" x=\"665.5\" y=\"-8.3\" font-family=\"Times,serif\" font-size=\"14.00\">Out: 11</text>\n",
       "</g>\n",
       "<!-- 12&#45;&gt;20 -->\n",
       "<g id=\"edge23\" class=\"edge\">\n",
       "<title>12&#45;&gt;20</title>\n",
       "<path fill=\"none\" stroke=\"black\" d=\"M502.17,-109.22C538.65,-92.86 582.67,-73.13 615.82,-58.27\"/>\n",
       "<polygon fill=\"black\" stroke=\"black\" points=\"617.6,-61.31 625.3,-54.02 614.74,-54.92 617.6,-61.31\"/>\n",
       "</g>\n",
       "<!-- 13&#45;&gt;20 -->\n",
       "<g id=\"edge24\" class=\"edge\">\n",
       "<title>13&#45;&gt;20</title>\n",
       "<path fill=\"none\" stroke=\"black\" d=\"M347.35,-109.11C350.42,-108.02 353.48,-106.97 356.5,-106 446,-77.1 553.79,-55.58 615.51,-44.47\"/>\n",
       "<polygon fill=\"black\" stroke=\"black\" points=\"616.15,-47.91 625.38,-42.71 614.92,-41.02 616.15,-47.91\"/>\n",
       "</g>\n",
       "<!-- 15 -->\n",
       "<g id=\"node16\" class=\"node\">\n",
       "<title>15</title>\n",
       "<polygon fill=\"none\" stroke=\"black\" points=\"616,-212.5 616,-281.5 753,-281.5 753,-212.5 616,-212.5\"/>\n",
       "<text text-anchor=\"middle\" x=\"684.5\" y=\"-266.3\" font-family=\"Times,serif\" font-size=\"14.00\">Op: dil_conv_3x3</text>\n",
       "<polyline fill=\"none\" stroke=\"black\" points=\"616,-258.5 753,-258.5 \"/>\n",
       "<text text-anchor=\"middle\" x=\"684.5\" y=\"-243.3\" font-family=\"Times,serif\" font-size=\"14.00\">In: 6</text>\n",
       "<polyline fill=\"none\" stroke=\"black\" points=\"616,-235.5 753,-235.5 \"/>\n",
       "<text text-anchor=\"middle\" x=\"684.5\" y=\"-220.3\" font-family=\"Times,serif\" font-size=\"14.00\">Out: 7</text>\n",
       "</g>\n",
       "<!-- 14&#45;&gt;15 -->\n",
       "<g id=\"edge25\" class=\"edge\">\n",
       "<title>14&#45;&gt;15</title>\n",
       "<path fill=\"none\" stroke=\"black\" d=\"M802.22,-325.49C784.54,-313.85 763.42,-299.95 743.98,-287.15\"/>\n",
       "<polygon fill=\"black\" stroke=\"black\" points=\"745.76,-284.13 735.48,-281.56 741.91,-289.98 745.76,-284.13\"/>\n",
       "</g>\n",
       "<!-- 16 -->\n",
       "<g id=\"node17\" class=\"node\">\n",
       "<title>16</title>\n",
       "<polygon fill=\"none\" stroke=\"black\" points=\"932.5,-212.5 932.5,-281.5 1078.5,-281.5 1078.5,-212.5 932.5,-212.5\"/>\n",
       "<text text-anchor=\"middle\" x=\"1005.5\" y=\"-266.3\" font-family=\"Times,serif\" font-size=\"14.00\">Op: max_pool_3x3</text>\n",
       "<polyline fill=\"none\" stroke=\"black\" points=\"932.5,-258.5 1078.5,-258.5 \"/>\n",
       "<text text-anchor=\"middle\" x=\"1005.5\" y=\"-243.3\" font-family=\"Times,serif\" font-size=\"14.00\">In: 6</text>\n",
       "<polyline fill=\"none\" stroke=\"black\" points=\"932.5,-235.5 1078.5,-235.5 \"/>\n",
       "<text text-anchor=\"middle\" x=\"1005.5\" y=\"-220.3\" font-family=\"Times,serif\" font-size=\"14.00\">Out: 9</text>\n",
       "</g>\n",
       "<!-- 14&#45;&gt;16 -->\n",
       "<g id=\"edge26\" class=\"edge\">\n",
       "<title>14&#45;&gt;16</title>\n",
       "<path fill=\"none\" stroke=\"black\" d=\"M882.79,-326.29C901.27,-314.5 923.58,-300.27 944.09,-287.18\"/>\n",
       "<polygon fill=\"black\" stroke=\"black\" points=\"946.2,-289.99 952.75,-281.66 942.43,-284.09 946.2,-289.99\"/>\n",
       "</g>\n",
       "<!-- 17 -->\n",
       "<g id=\"node18\" class=\"node\">\n",
       "<title>17</title>\n",
       "<polygon fill=\"none\" stroke=\"black\" points=\"771,-212.5 771,-281.5 914,-281.5 914,-212.5 771,-212.5\"/>\n",
       "<text text-anchor=\"middle\" x=\"842.5\" y=\"-266.3\" font-family=\"Times,serif\" font-size=\"14.00\">Op: sep_conv_5x5</text>\n",
       "<polyline fill=\"none\" stroke=\"black\" points=\"771,-258.5 914,-258.5 \"/>\n",
       "<text text-anchor=\"middle\" x=\"842.5\" y=\"-243.3\" font-family=\"Times,serif\" font-size=\"14.00\">In: 6</text>\n",
       "<polyline fill=\"none\" stroke=\"black\" points=\"771,-235.5 914,-235.5 \"/>\n",
       "<text text-anchor=\"middle\" x=\"842.5\" y=\"-220.3\" font-family=\"Times,serif\" font-size=\"14.00\">Out: 10</text>\n",
       "</g>\n",
       "<!-- 14&#45;&gt;17 -->\n",
       "<g id=\"edge27\" class=\"edge\">\n",
       "<title>14&#45;&gt;17</title>\n",
       "<path fill=\"none\" stroke=\"black\" d=\"M842.5,-318.23C842.5,-309.79 842.5,-300.62 842.5,-291.77\"/>\n",
       "<polygon fill=\"black\" stroke=\"black\" points=\"846,-291.6 842.5,-281.6 839,-291.6 846,-291.6\"/>\n",
       "</g>\n",
       "<!-- 15&#45;&gt;18 -->\n",
       "<g id=\"edge28\" class=\"edge\">\n",
       "<title>15&#45;&gt;18</title>\n",
       "<path fill=\"none\" stroke=\"black\" d=\"M653.33,-212.23C644.78,-202.97 635.41,-192.82 626.52,-183.18\"/>\n",
       "<polygon fill=\"black\" stroke=\"black\" points=\"628.87,-180.57 619.51,-175.6 623.72,-185.32 628.87,-180.57\"/>\n",
       "</g>\n",
       "<!-- 15&#45;&gt;19 -->\n",
       "<g id=\"edge29\" class=\"edge\">\n",
       "<title>15&#45;&gt;19</title>\n",
       "<path fill=\"none\" stroke=\"black\" d=\"M703.66,-212.23C708.7,-203.33 714.22,-193.62 719.49,-184.33\"/>\n",
       "<polygon fill=\"black\" stroke=\"black\" points=\"722.55,-186.02 724.44,-175.6 716.46,-182.57 722.55,-186.02\"/>\n",
       "</g>\n",
       "<!-- 16&#45;&gt;20 -->\n",
       "<g id=\"edge30\" class=\"edge\">\n",
       "<title>16&#45;&gt;20</title>\n",
       "<path fill=\"none\" stroke=\"black\" d=\"M974.12,-212.23C943.86,-181.24 895.55,-135.77 846.5,-106 805.12,-80.89 753.18,-61.92 715.57,-50.1\"/>\n",
       "<polygon fill=\"black\" stroke=\"black\" points=\"716.43,-46.7 705.85,-47.11 714.37,-53.39 716.43,-46.7\"/>\n",
       "</g>\n",
       "<!-- 17&#45;&gt;20 -->\n",
       "<g id=\"edge31\" class=\"edge\">\n",
       "<title>17&#45;&gt;20</title>\n",
       "<path fill=\"none\" stroke=\"black\" d=\"M846.01,-212.29C847.38,-181.56 844.6,-136.45 821.5,-106 796.03,-72.42 750.82,-54.56 715.61,-45.3\"/>\n",
       "<polygon fill=\"black\" stroke=\"black\" points=\"716.05,-41.81 705.5,-42.81 714.37,-48.6 716.05,-41.81\"/>\n",
       "</g>\n",
       "<!-- 18&#45;&gt;20 -->\n",
       "<g id=\"edge32\" class=\"edge\">\n",
       "<title>18&#45;&gt;20</title>\n",
       "<path fill=\"none\" stroke=\"black\" d=\"M613.5,-106.23C620.22,-97.15 627.58,-87.22 634.58,-77.76\"/>\n",
       "<polygon fill=\"black\" stroke=\"black\" points=\"637.49,-79.72 640.63,-69.6 631.86,-75.55 637.49,-79.72\"/>\n",
       "</g>\n",
       "<!-- 19&#45;&gt;20 -->\n",
       "<g id=\"edge33\" class=\"edge\">\n",
       "<title>19&#45;&gt;20</title>\n",
       "<path fill=\"none\" stroke=\"black\" d=\"M718.18,-106.23C711.36,-97.15 703.91,-87.22 696.82,-77.76\"/>\n",
       "<polygon fill=\"black\" stroke=\"black\" points=\"699.5,-75.5 690.7,-69.6 693.9,-79.7 699.5,-75.5\"/>\n",
       "</g>\n",
       "</g>\n",
       "</svg>\n"
      ],
      "text/plain": [
       "<graphviz.graphs.Digraph at 0x7dc309742930>"
      ]
     },
     "metadata": {},
     "output_type": "display_data"
    }
   ],
   "source": [
    "graph.show_graph()"
   ]
  },
  {
   "cell_type": "code",
   "execution_count": 20,
   "metadata": {
    "execution": {
     "iopub.execute_input": "2025-05-20T17:12:01.666737Z",
     "iopub.status.busy": "2025-05-20T17:12:01.666359Z",
     "iopub.status.idle": "2025-05-20T17:12:01.679960Z",
     "shell.execute_reply": "2025-05-20T17:12:01.679136Z",
     "shell.execute_reply.started": "2025-05-20T17:12:01.666703Z"
    },
    "papermill": {
     "duration": 0.02457,
     "end_time": "2025-04-10T15:59:36.622731",
     "exception": false,
     "start_time": "2025-04-10T15:59:36.598161",
     "status": "completed"
    },
    "tags": [],
    "trusted": true
   },
   "outputs": [],
   "source": [
    "adj = graph.get_adjacency_matrix()"
   ]
  },
  {
   "cell_type": "code",
   "execution_count": 21,
   "metadata": {},
   "outputs": [
    {
     "data": {
      "text/plain": [
       "33"
      ]
     },
     "execution_count": 21,
     "metadata": {},
     "output_type": "execute_result"
    }
   ],
   "source": [
    "(adj[0] != 0).sum()"
   ]
  },
  {
   "cell_type": "code",
   "execution_count": 22,
   "metadata": {},
   "outputs": [
    {
     "ename": "NameError",
     "evalue": "name 'abort' is not defined",
     "output_type": "error",
     "traceback": [
      "\u001b[0;31m---------------------------------------------------------------------------\u001b[0m",
      "\u001b[0;31mNameError\u001b[0m                                 Traceback (most recent call last)",
      "Cell \u001b[0;32mIn[22], line 1\u001b[0m\n\u001b[0;32m----> 1\u001b[0m \u001b[43mabort\u001b[49m()\n",
      "\u001b[0;31mNameError\u001b[0m: name 'abort' is not defined"
     ]
    }
   ],
   "source": [
    "abort()"
   ]
  },
  {
   "cell_type": "code",
   "execution_count": null,
   "metadata": {
    "execution": {
     "iopub.execute_input": "2025-05-20T17:12:01.681107Z",
     "iopub.status.busy": "2025-05-20T17:12:01.680826Z",
     "iopub.status.idle": "2025-05-20T17:12:01.696416Z",
     "shell.execute_reply": "2025-05-20T17:12:01.695576Z",
     "shell.execute_reply.started": "2025-05-20T17:12:01.681084Z"
    },
    "papermill": {
     "duration": 0.01749,
     "end_time": "2025-04-10T15:59:36.650704",
     "exception": false,
     "start_time": "2025-04-10T15:59:36.633214",
     "status": "completed"
    },
    "tags": [],
    "trusted": true
   },
   "outputs": [
    {
     "data": {
      "text/plain": [
       "[Op: none | In: 0 | Out: 0,\n",
       " Op: dil_conv_5x5 | In: 0 | Out: 2,\n",
       " Op: dil_conv_3x3 | In: 0 | Out: 3,\n",
       " Op: dil_conv_5x5 | In: 0 | Out: 5,\n",
       " Op: none | In: 1 | Out: 1,\n",
       " Op: skip_connect | In: 1 | Out: 2,\n",
       " Op: max_pool_3x3 | In: 1 | Out: 4,\n",
       " Op: sep_conv_3x3 | In: 1 | Out: 5,\n",
       " Op: sep_conv_5x5 | In: 2 | Out: 3,\n",
       " Op: sep_conv_5x5 | In: 2 | Out: 4]"
      ]
     },
     "execution_count": 34,
     "metadata": {},
     "output_type": "execute_result"
    }
   ],
   "source": [
    "graph._normal_graph"
   ]
  },
  {
   "cell_type": "code",
   "execution_count": null,
   "metadata": {
    "execution": {
     "iopub.execute_input": "2025-05-20T17:12:01.697736Z",
     "iopub.status.busy": "2025-05-20T17:12:01.697427Z",
     "iopub.status.idle": "2025-05-20T17:12:01.712621Z",
     "shell.execute_reply": "2025-05-20T17:12:01.711677Z",
     "shell.execute_reply.started": "2025-05-20T17:12:01.697713Z"
    },
    "papermill": {
     "duration": 0.017447,
     "end_time": "2025-04-10T15:59:36.678813",
     "exception": false,
     "start_time": "2025-04-10T15:59:36.661366",
     "status": "completed"
    },
    "tags": [],
    "trusted": true
   },
   "outputs": [
    {
     "data": {
      "text/plain": [
       "[Op: none | In: 0 | Out: 0,\n",
       " Op: skip_connect | In: 0 | Out: 2,\n",
       " Op: dil_conv_5x5 | In: 0 | Out: 3,\n",
       " Op: avg_pool_3x3 | In: 0 | Out: 4,\n",
       " Op: none | In: 1 | Out: 1,\n",
       " Op: dil_conv_3x3 | In: 1 | Out: 2,\n",
       " Op: max_pool_3x3 | In: 1 | Out: 4,\n",
       " Op: sep_conv_5x5 | In: 1 | Out: 5,\n",
       " Op: dil_conv_3x3 | In: 2 | Out: 3,\n",
       " Op: dil_conv_5x5 | In: 2 | Out: 5]"
      ]
     },
     "execution_count": 35,
     "metadata": {},
     "output_type": "execute_result"
    }
   ],
   "source": [
    "graph._reduction_graph\n"
   ]
  },
  {
   "cell_type": "markdown",
   "metadata": {
    "papermill": {
     "duration": 0.010992,
     "end_time": "2025-04-10T15:59:36.700771",
     "exception": false,
     "start_time": "2025-04-10T15:59:36.689779",
     "status": "completed"
    },
    "tags": []
   },
   "source": [
    "Матрица смежности и описания узлов(сначала в виде строк, потом в виде one-hot векторов) представлены так"
   ]
  },
  {
   "cell_type": "code",
   "execution_count": null,
   "metadata": {
    "execution": {
     "iopub.execute_input": "2025-05-20T17:12:01.713843Z",
     "iopub.status.busy": "2025-05-20T17:12:01.713565Z",
     "iopub.status.idle": "2025-05-20T17:12:01.736358Z",
     "shell.execute_reply": "2025-05-20T17:12:01.735394Z",
     "shell.execute_reply.started": "2025-05-20T17:12:01.713819Z"
    },
    "papermill": {
     "duration": 0.025042,
     "end_time": "2025-04-10T15:59:36.736866",
     "exception": false,
     "start_time": "2025-04-10T15:59:36.711824",
     "status": "completed"
    },
    "tags": [],
    "trusted": true
   },
   "outputs": [
    {
     "data": {
      "text/plain": [
       "(array([[0., 1., 1., 1., 0., 0., 0., 0., 0., 0., 0., 0., 0., 0., 0., 0.,\n",
       "         0., 0., 0., 0., 0.],\n",
       "        [0., 0., 0., 0., 0., 0., 0., 0., 1., 1., 0., 0., 0., 0., 0., 0.,\n",
       "         0., 0., 0., 0., 0.],\n",
       "        [0., 0., 0., 0., 0., 0., 0., 0., 0., 0., 1., 0., 0., 0., 0., 0.,\n",
       "         0., 0., 0., 0., 0.],\n",
       "        [0., 0., 0., 0., 0., 0., 0., 0., 0., 0., 1., 0., 0., 0., 0., 0.,\n",
       "         0., 0., 0., 0., 0.],\n",
       "        [0., 0., 0., 0., 0., 1., 1., 1., 0., 0., 0., 0., 0., 0., 1., 0.,\n",
       "         0., 0., 0., 0., 0.],\n",
       "        [0., 0., 0., 0., 0., 0., 0., 0., 1., 1., 0., 0., 0., 0., 0., 0.,\n",
       "         0., 0., 0., 0., 0.],\n",
       "        [0., 0., 0., 0., 0., 0., 0., 0., 0., 0., 1., 0., 0., 0., 0., 0.,\n",
       "         0., 0., 0., 0., 0.],\n",
       "        [0., 0., 0., 0., 0., 0., 0., 0., 0., 0., 1., 0., 0., 0., 0., 0.,\n",
       "         0., 0., 0., 0., 0.],\n",
       "        [0., 0., 0., 0., 0., 0., 0., 0., 0., 0., 1., 0., 0., 0., 0., 0.,\n",
       "         0., 0., 0., 0., 0.],\n",
       "        [0., 0., 0., 0., 0., 0., 0., 0., 0., 0., 1., 0., 0., 0., 0., 0.,\n",
       "         0., 0., 0., 0., 0.],\n",
       "        [0., 0., 0., 0., 0., 0., 0., 0., 0., 0., 0., 1., 1., 1., 0., 0.,\n",
       "         0., 0., 0., 0., 0.],\n",
       "        [0., 0., 0., 0., 0., 0., 0., 0., 0., 0., 0., 0., 0., 0., 0., 0.,\n",
       "         0., 0., 1., 1., 0.],\n",
       "        [0., 0., 0., 0., 0., 0., 0., 0., 0., 0., 0., 0., 0., 0., 0., 0.,\n",
       "         0., 0., 0., 0., 1.],\n",
       "        [0., 0., 0., 0., 0., 0., 0., 0., 0., 0., 0., 0., 0., 0., 0., 0.,\n",
       "         0., 0., 0., 0., 1.],\n",
       "        [0., 0., 0., 0., 0., 0., 0., 0., 0., 0., 0., 0., 0., 0., 0., 1.,\n",
       "         1., 1., 0., 0., 0.],\n",
       "        [0., 0., 0., 0., 0., 0., 0., 0., 0., 0., 0., 0., 0., 0., 0., 0.,\n",
       "         0., 0., 1., 1., 0.],\n",
       "        [0., 0., 0., 0., 0., 0., 0., 0., 0., 0., 0., 0., 0., 0., 0., 0.,\n",
       "         0., 0., 0., 0., 1.],\n",
       "        [0., 0., 0., 0., 0., 0., 0., 0., 0., 0., 0., 0., 0., 0., 0., 0.,\n",
       "         0., 0., 0., 0., 1.],\n",
       "        [0., 0., 0., 0., 0., 0., 0., 0., 0., 0., 0., 0., 0., 0., 0., 0.,\n",
       "         0., 0., 0., 0., 1.],\n",
       "        [0., 0., 0., 0., 0., 0., 0., 0., 0., 0., 0., 0., 0., 0., 0., 0.,\n",
       "         0., 0., 0., 0., 1.],\n",
       "        [0., 0., 0., 0., 0., 0., 0., 0., 0., 0., 0., 0., 0., 0., 0., 0.,\n",
       "         0., 0., 0., 0., 0.]]),\n",
       " ['none',\n",
       "  'dil_conv_5x5',\n",
       "  'dil_conv_3x3',\n",
       "  'dil_conv_5x5',\n",
       "  'none',\n",
       "  'skip_connect',\n",
       "  'max_pool_3x3',\n",
       "  'sep_conv_3x3',\n",
       "  'sep_conv_5x5',\n",
       "  'sep_conv_5x5',\n",
       "  'none',\n",
       "  'skip_connect',\n",
       "  'dil_conv_5x5',\n",
       "  'avg_pool_3x3',\n",
       "  'none',\n",
       "  'dil_conv_3x3',\n",
       "  'max_pool_3x3',\n",
       "  'sep_conv_5x5',\n",
       "  'dil_conv_3x3',\n",
       "  'dil_conv_5x5',\n",
       "  'none'],\n",
       " array([[0., 0., 0., 0., 1., 0., 0., 0.],\n",
       "        [0., 0., 1., 0., 0., 0., 0., 0.],\n",
       "        [0., 1., 0., 0., 0., 0., 0., 0.],\n",
       "        [0., 0., 1., 0., 0., 0., 0., 0.],\n",
       "        [0., 0., 0., 0., 1., 0., 0., 0.],\n",
       "        [0., 0., 0., 0., 0., 0., 0., 1.],\n",
       "        [0., 0., 0., 1., 0., 0., 0., 0.],\n",
       "        [0., 0., 0., 0., 0., 1., 0., 0.],\n",
       "        [0., 0., 0., 0., 0., 0., 1., 0.],\n",
       "        [0., 0., 0., 0., 0., 0., 1., 0.],\n",
       "        [0., 0., 0., 0., 1., 0., 0., 0.],\n",
       "        [0., 0., 0., 0., 0., 0., 0., 1.],\n",
       "        [0., 0., 1., 0., 0., 0., 0., 0.],\n",
       "        [1., 0., 0., 0., 0., 0., 0., 0.],\n",
       "        [0., 0., 0., 0., 1., 0., 0., 0.],\n",
       "        [0., 1., 0., 0., 0., 0., 0., 0.],\n",
       "        [0., 0., 0., 1., 0., 0., 0., 0.],\n",
       "        [0., 0., 0., 0., 0., 0., 1., 0.],\n",
       "        [0., 1., 0., 0., 0., 0., 0., 0.],\n",
       "        [0., 0., 1., 0., 0., 0., 0., 0.],\n",
       "        [0., 0., 0., 0., 1., 0., 0., 0.]]))"
      ]
     },
     "execution_count": 36,
     "metadata": {},
     "output_type": "execute_result"
    }
   ],
   "source": [
    "graph.get_adjacency_matrix()"
   ]
  },
  {
   "cell_type": "markdown",
   "metadata": {
    "papermill": {
     "duration": 0.010719,
     "end_time": "2025-04-10T15:59:36.759079",
     "exception": false,
     "start_time": "2025-04-10T15:59:36.748360",
     "status": "completed"
    },
    "tags": []
   },
   "source": [
    "Рассчитаю разнообразие наивно -- просто буду говорить каков процент совпадений ответов у моделей "
   ]
  },
  {
   "cell_type": "code",
   "execution_count": null,
   "metadata": {
    "execution": {
     "iopub.execute_input": "2025-05-20T17:12:01.737540Z",
     "iopub.status.busy": "2025-05-20T17:12:01.737303Z",
     "iopub.status.idle": "2025-05-20T17:12:01.751763Z",
     "shell.execute_reply": "2025-05-20T17:12:01.750953Z",
     "shell.execute_reply.started": "2025-05-20T17:12:01.737521Z"
    },
    "papermill": {
     "duration": 0.019545,
     "end_time": "2025-04-10T15:59:36.789624",
     "exception": false,
     "start_time": "2025-04-10T15:59:36.770079",
     "status": "completed"
    },
    "tags": [],
    "trusted": true
   },
   "outputs": [],
   "source": [
    "def get_diversity(args):\n",
    "    i, j, model_i, model_j = args\n",
    "    preds_i = np.array(model_i[\"test_predictions\"])\n",
    "    preds_j = np.array(model_j[\"test_predictions\"])\n",
    "    distance = np.mean(preds_i == preds_j)\n",
    "    return (i, j, distance)\n",
    "\n",
    "def get_diversity_using_jensen_shannon(args):\n",
    "    i, j, model_i, model_j= args\n",
    "    preds_i = np.array(model_i[\"test_predictions\"])\n",
    "    preds_j = np.array(model_j[\"test_predictions\"])\n",
    "    distance = np.mean([np.sqrt(jensenshannon(p1, p2)) for p1, p2 in zip(preds_i, preds_j)])\n",
    "    return (i, j, distance)"
   ]
  },
  {
   "cell_type": "markdown",
   "metadata": {
    "papermill": {
     "duration": 0.011595,
     "end_time": "2025-04-10T15:59:36.813236",
     "exception": false,
     "start_time": "2025-04-10T15:59:36.801641",
     "status": "completed"
    },
    "tags": []
   },
   "source": [
    "Построю матрицу разнообразия"
   ]
  },
  {
   "cell_type": "code",
   "execution_count": null,
   "metadata": {
    "execution": {
     "iopub.execute_input": "2025-05-20T17:12:01.753132Z",
     "iopub.status.busy": "2025-05-20T17:12:01.752712Z",
     "iopub.status.idle": "2025-05-20T17:12:01.772677Z",
     "shell.execute_reply": "2025-05-20T17:12:01.771578Z",
     "shell.execute_reply.started": "2025-05-20T17:12:01.753097Z"
    },
    "papermill": {
     "duration": 0.022754,
     "end_time": "2025-04-10T15:59:36.847812",
     "exception": false,
     "start_time": "2025-04-10T15:59:36.825058",
     "status": "completed"
    },
    "tags": [],
    "trusted": true
   },
   "outputs": [],
   "source": [
    "def get_diversity_matrix_naive(models_dict, num_samples=None):\n",
    "    n_models = len(models_dict)\n",
    "    diversity_matrix = np.eye(n_models)\n",
    "\n",
    "    # Предобработка: обрезаем и кешируем предсказания\n",
    "    cached_preds = {}\n",
    "    for i in range(n_models):\n",
    "        preds = np.array(models_dict[i][\"test_predictions\"])\n",
    "        if num_samples is not None:\n",
    "            preds = preds[:num_samples]\n",
    "        cached_preds[i] = preds\n",
    "\n",
    "    for i in tqdm(range(n_models), desc=\"Computing diversity matrix\"):\n",
    "        for j in range(i + 1, n_models):\n",
    "            distance = np.mean(cached_preds[i] == cached_preds[j])\n",
    "            diversity_matrix[i, j] = diversity_matrix[j, i] = distance\n",
    "\n",
    "    return diversity_matrix\n",
    "\n",
    "def get_diversity_matrix(models_dict, num_samples=2000):\n",
    "    n_models = len(models_dict)\n",
    "    diversity_matrix = np.eye(n_models)\n",
    "\n",
    "    # Предобработка: обрезаем и кешируем предсказания\n",
    "    cached_preds = {}\n",
    "    for i in range(n_models):\n",
    "        preds = np.array(models_dict[i][\"test_predictions\"])\n",
    "        cached_preds[i] = preds\n",
    "\n",
    "    for i in tqdm(range(n_models), desc=\"Computing diversity matrix\"):\n",
    "        for j in range(i + 1, n_models):\n",
    "            distance = np.mean(np.sqrt(jensenshannon(cached_preds[i], cached_preds[j])))\n",
    "            diversity_matrix[i, j] = distance\n",
    "            diversity_matrix[j, i] = distance\n",
    "\n",
    "    return diversity_matrix"
   ]
  },
  {
   "cell_type": "code",
   "execution_count": null,
   "metadata": {
    "execution": {
     "iopub.execute_input": "2025-05-20T17:12:01.774286Z",
     "iopub.status.busy": "2025-05-20T17:12:01.773905Z",
     "iopub.status.idle": "2025-05-20T17:12:26.183927Z",
     "shell.execute_reply": "2025-05-20T17:12:26.182833Z",
     "shell.execute_reply.started": "2025-05-20T17:12:01.774249Z"
    },
    "papermill": {
     "duration": 22.960355,
     "end_time": "2025-04-10T15:59:59.819743",
     "exception": false,
     "start_time": "2025-04-10T15:59:36.859388",
     "status": "completed"
    },
    "tags": [],
    "trusted": true
   },
   "outputs": [
    {
     "name": "stderr",
     "output_type": "stream",
     "text": [
      "Computing diversity matrix: 100%|██████████| 1300/1300 [00:39<00:00, 32.91it/s] \n"
     ]
    }
   ],
   "source": [
    "diversity_matrix = get_diversity_matrix_naive(models_dict)"
   ]
  },
  {
   "cell_type": "code",
   "execution_count": null,
   "metadata": {
    "execution": {
     "iopub.execute_input": "2025-05-20T17:12:26.185415Z",
     "iopub.status.busy": "2025-05-20T17:12:26.185064Z",
     "iopub.status.idle": "2025-05-20T17:12:26.817396Z",
     "shell.execute_reply": "2025-05-20T17:12:26.816235Z",
     "shell.execute_reply.started": "2025-05-20T17:12:26.185390Z"
    },
    "papermill": {
     "duration": 0.585071,
     "end_time": "2025-04-10T16:00:00.427002",
     "exception": false,
     "start_time": "2025-04-10T15:59:59.841931",
     "status": "completed"
    },
    "tags": [],
    "trusted": true
   },
   "outputs": [
    {
     "name": "stderr",
     "output_type": "stream",
     "text": [
      "100%|██████████| 1300/1300 [00:00<00:00, 3420.87it/s]\n"
     ]
    },
    {
     "data": {
      "image/png": "[encoded data removed]",
      "text/plain": [
       "<Figure size 1000x600 with 1 Axes>"
      ]
     },
     "metadata": {},
     "output_type": "display_data"
    }
   ],
   "source": [
    "diversities = []\n",
    "\n",
    "for i in tqdm(range(len(models_dict))):\n",
    "    for j in range(i + 1, len(models_dict)):\n",
    "        diversities.append(diversity_matrix[i, j])\n",
    "diversities = np.array(diversities)\n",
    "\n",
    "plt.figure(figsize=(10, 6))\n",
    "\n",
    "plt.hist(diversities, bins=50, edgecolor=\"black\", weights=np.ones(len(diversities)) / len(diversities))\n",
    "# plt.title(\"Distribution of Model Diversity\")\n",
    "plt.xlabel(\"Percentage of Differences\", fontsize=18)\n",
    "plt.ylabel(\"Percentage\", fontsize=18)\n",
    "plt.grid(axis='y', linestyle='--', alpha=0.7)\n",
    "plt.xticks(fontsize=16)\n",
    "plt.yticks(fontsize=16)\n",
    "plt.show()"
   ]
  },
  {
   "cell_type": "markdown",
   "metadata": {
    "papermill": {
     "duration": 0.022295,
     "end_time": "2025-04-10T16:00:00.472612",
     "exception": false,
     "start_time": "2025-04-10T16:00:00.450317",
     "status": "completed"
    },
    "tags": []
   },
   "source": [
    "Для triplet loss нам нужно будет подбирать positive и negative примеры, для этого удобно будет использовать дискретную матрицу разнообразия\n",
    "\n",
    "В ней 1 -- positive, -1 -- negative, 0 в ином случае."
   ]
  },
  {
   "cell_type": "code",
   "execution_count": null,
   "metadata": {
    "execution": {
     "iopub.execute_input": "2025-05-20T17:12:26.818869Z",
     "iopub.status.busy": "2025-05-20T17:12:26.818516Z",
     "iopub.status.idle": "2025-05-20T17:12:26.825640Z",
     "shell.execute_reply": "2025-05-20T17:12:26.824165Z",
     "shell.execute_reply.started": "2025-05-20T17:12:26.818839Z"
    },
    "papermill": {
     "duration": 0.029419,
     "end_time": "2025-04-10T16:00:00.524285",
     "exception": false,
     "start_time": "2025-04-10T16:00:00.494866",
     "status": "completed"
    },
    "tags": [],
    "trusted": true
   },
   "outputs": [],
   "source": [
    "def create_discrete_diversity_matrix(models_dict, diversity_matrix):\n",
    "    discrete_diversity_matrix = np.zeros((len(models_dict), len(models_dict)))\n",
    "\n",
    "    upper_margins = np.quantile(diversity_matrix, 0.8, axis=1)\n",
    "    lower_margins = np.quantile(diversity_matrix, 0.2, axis=1)\n",
    "\n",
    "    discrete_diversity_matrix[diversity_matrix > upper_margins[:, None]] = 1\n",
    "    discrete_diversity_matrix[diversity_matrix < lower_margins[:, None]] = -1\n",
    "\n",
    "    return discrete_diversity_matrix"
   ]
  },
  {
   "cell_type": "code",
   "execution_count": null,
   "metadata": {
    "execution": {
     "iopub.execute_input": "2025-05-20T17:12:26.827238Z",
     "iopub.status.busy": "2025-05-20T17:12:26.826859Z",
     "iopub.status.idle": "2025-05-20T17:12:26.949692Z",
     "shell.execute_reply": "2025-05-20T17:12:26.948392Z",
     "shell.execute_reply.started": "2025-05-20T17:12:26.827207Z"
    },
    "papermill": {
     "duration": 0.114839,
     "end_time": "2025-04-10T16:00:00.662047",
     "exception": false,
     "start_time": "2025-04-10T16:00:00.547208",
     "status": "completed"
    },
    "tags": [],
    "trusted": true
   },
   "outputs": [],
   "source": [
    "discrete_diversity_matrix = create_discrete_diversity_matrix(models_dict, diversity_matrix)"
   ]
  },
  {
   "cell_type": "markdown",
   "metadata": {
    "papermill": {
     "duration": 0.02218,
     "end_time": "2025-04-10T16:00:00.706161",
     "exception": false,
     "start_time": "2025-04-10T16:00:00.683981",
     "status": "completed"
    },
    "tags": []
   },
   "source": [
    "Строим тренировочный и валидационный датасеты."
   ]
  },
  {
   "cell_type": "code",
   "execution_count": null,
   "metadata": {
    "execution": {
     "iopub.execute_input": "2025-05-20T17:12:26.951266Z",
     "iopub.status.busy": "2025-05-20T17:12:26.950841Z",
     "iopub.status.idle": "2025-05-20T17:12:39.938728Z",
     "shell.execute_reply": "2025-05-20T17:12:39.937690Z",
     "shell.execute_reply.started": "2025-05-20T17:12:26.951223Z"
    },
    "papermill": {
     "duration": 3.848322,
     "end_time": "2025-04-10T16:00:04.576314",
     "exception": false,
     "start_time": "2025-04-10T16:00:00.727992",
     "status": "completed"
    },
    "tags": [],
    "trusted": true
   },
   "outputs": [
    {
     "name": "stdout",
     "output_type": "stream",
     "text": [
      "Train dataset size: 1040\n",
      "Test dataset size: 260\n"
     ]
    }
   ],
   "source": [
    "graphs = [Graph(model_dict, index=i) for (i, model_dict) in enumerate(models_dict)]\n",
    "accuracies = [model['test_accuracy'] for model in models_dict]\n",
    "graphs_dataset = CustomDataset(graphs, accuracies)\n",
    "\n",
    "train_size = int(0.8 * len(graphs_dataset))  # 80% для тренировки\n",
    "valid_size = len(graphs_dataset) - train_size  # Остальные 20% для теста\n",
    "\n",
    "base_train_dataset, base_valid_dataset = random_split(graphs_dataset, [train_size, valid_size])\n",
    "\n",
    "print(f\"Train dataset size: {len(base_train_dataset)}\")\n",
    "print(f\"Test dataset size: {len(base_valid_dataset)}\")"
   ]
  },
  {
   "cell_type": "code",
   "execution_count": null,
   "metadata": {
    "execution": {
     "iopub.execute_input": "2025-05-20T17:12:39.940060Z",
     "iopub.status.busy": "2025-05-20T17:12:39.939763Z",
     "iopub.status.idle": "2025-05-20T17:12:40.153495Z",
     "shell.execute_reply": "2025-05-20T17:12:40.152586Z",
     "shell.execute_reply.started": "2025-05-20T17:12:39.940034Z"
    },
    "trusted": true
   },
   "outputs": [],
   "source": [
    "train_dataset = TripletGraphDataset(base_train_dataset, discrete_diversity_matrix)\n",
    "valid_dataset = TripletGraphDataset(base_valid_dataset, discrete_diversity_matrix)\n",
    "full_triplet_dataset = TripletGraphDataset(graphs_dataset, discrete_diversity_matrix)\n",
    "\n",
    "BATCH_SIZE = 8\n",
    "\n",
    "train_loader_diversity = DataLoader(\n",
    "    train_dataset,\n",
    "    batch_size=BATCH_SIZE,\n",
    "    shuffle=True,\n",
    "    num_workers=4,\n",
    "    collate_fn=collate_triplets,\n",
    ")\n",
    "\n",
    "valid_loader_diversity = DataLoader(\n",
    "    valid_dataset,\n",
    "    batch_size=BATCH_SIZE,\n",
    "    shuffle=False,\n",
    "    num_workers=4,\n",
    "    collate_fn=collate_triplets,\n",
    ")\n",
    "\n",
    "train_loader_accuracy = DataLoader(\n",
    "    base_train_dataset,\n",
    "    batch_size=BATCH_SIZE,\n",
    "    shuffle=True,\n",
    "    num_workers=4,\n",
    "    collate_fn=collate_graphs,\n",
    ")\n",
    "\n",
    "valid_loader_accuracy = DataLoader(\n",
    "    base_valid_dataset,\n",
    "    batch_size=BATCH_SIZE,\n",
    "    shuffle=False,\n",
    "    num_workers=4,\n",
    "    collate_fn=collate_graphs,\n",
    ")"
   ]
  },
  {
   "cell_type": "markdown",
   "metadata": {
    "papermill": {
     "duration": 0.030448,
     "end_time": "2025-04-10T16:00:20.740044",
     "exception": false,
     "start_time": "2025-04-10T16:00:20.709596",
     "status": "completed"
    },
    "tags": []
   },
   "source": [
    "Обучим модель предсказывать точность по архитектуре."
   ]
  },
  {
   "cell_type": "code",
   "execution_count": null,
   "metadata": {
    "execution": {
     "iopub.execute_input": "2025-05-20T17:12:40.154623Z",
     "iopub.status.busy": "2025-05-20T17:12:40.154371Z",
     "iopub.status.idle": "2025-05-20T17:12:40.582367Z",
     "shell.execute_reply": "2025-05-20T17:12:40.581661Z",
     "shell.execute_reply.started": "2025-05-20T17:12:40.154603Z"
    },
    "papermill": {
     "duration": 0.109536,
     "end_time": "2025-04-10T16:00:20.880034",
     "exception": false,
     "start_time": "2025-04-10T16:00:20.770498",
     "status": "completed"
    },
    "tags": [],
    "trusted": true
   },
   "outputs": [],
   "source": [
    "input_dim = graphs_dataset[0][\"x\"].shape[1]\n",
    "output_dim = 1\n",
    "num_epochs = 15\n",
    "\n",
    "model_accuracy = GAT(input_dim, output_dim=output_dim, dropout=0.4, heads=16)\n",
    "optimizer = torch.optim.AdamW(model_accuracy.parameters(), lr=1e-2)\n",
    "criterion = nn.MSELoss()"
   ]
  },
  {
   "cell_type": "code",
   "execution_count": null,
   "metadata": {
    "execution": {
     "iopub.execute_input": "2025-05-20T17:12:40.589052Z",
     "iopub.status.busy": "2025-05-20T17:12:40.588562Z",
     "iopub.status.idle": "2025-05-20T17:17:22.680144Z",
     "shell.execute_reply": "2025-05-20T17:17:22.678870Z",
     "shell.execute_reply.started": "2025-05-20T17:12:40.589010Z"
    },
    "papermill": {
     "duration": 98.381372,
     "end_time": "2025-04-10T16:01:59.292304",
     "exception": false,
     "start_time": "2025-04-10T16:00:20.910932",
     "status": "completed"
    },
    "tags": [],
    "trusted": true
   },
   "outputs": [
    {
     "data": {
      "image/png": "[encoded data removed]",
      "text/plain": [
       "<Figure size 1200x600 with 1 Axes>"
      ]
     },
     "metadata": {},
     "output_type": "display_data"
    },
    {
     "name": "stdout",
     "output_type": "stream",
     "text": [
      "Epoch 15, Train Loss: 3.5443, Valid Loss: 3.5468, LR: 0.000001\n"
     ]
    }
   ],
   "source": [
    "train_model_accuracy(\n",
    "    model_accuracy,\n",
    "    train_loader_accuracy,\n",
    "    valid_loader_accuracy,\n",
    "    optimizer,\n",
    "    criterion,\n",
    "    num_epochs,\n",
    "    device=device,\n",
    "    developer_mode=False,\n",
    "    final_lr=1e-6\n",
    ");"
   ]
  },
  {
   "cell_type": "code",
   "execution_count": null,
   "metadata": {
    "execution": {
     "iopub.execute_input": "2025-05-20T17:17:22.682397Z",
     "iopub.status.busy": "2025-05-20T17:17:22.682124Z",
     "iopub.status.idle": "2025-05-20T17:17:23.675198Z",
     "shell.execute_reply": "2025-05-20T17:17:23.673791Z",
     "shell.execute_reply.started": "2025-05-20T17:17:22.682372Z"
    },
    "papermill": {
     "duration": 0.734207,
     "end_time": "2025-04-10T16:02:00.057751",
     "exception": false,
     "start_time": "2025-04-10T16:01:59.323544",
     "status": "completed"
    },
    "tags": [],
    "trusted": true
   },
   "outputs": [
    {
     "data": {
      "application/vnd.jupyter.widget-view+json": {
       "model_id": "1f3c0da6fcb04c39b5ef4be833b4211e",
       "version_major": 2,
       "version_minor": 0
      },
      "text/plain": [
       "  0%|          | 0/33 [00:00<?, ?it/s]"
      ]
     },
     "metadata": {},
     "output_type": "display_data"
    },
    {
     "name": "stdout",
     "output_type": "stream",
     "text": [
      "Index: 0578, Accuracy: 0.873, Embedding: 0.866\n",
      "Index: 0397, Accuracy: 0.834, Embedding: 0.842\n",
      "Index: 0371, Accuracy: 0.805, Embedding: 0.825\n",
      "Index: 0559, Accuracy: 0.863, Embedding: 0.860\n",
      "Index: 1300, Accuracy: 0.787, Embedding: 0.819\n",
      "Index: 0526, Accuracy: 0.800, Embedding: 0.806\n",
      "Index: 0420, Accuracy: 0.816, Embedding: 0.847\n",
      "Index: 1001, Accuracy: 0.825, Embedding: 0.848\n",
      "Index: 1206, Accuracy: 0.841, Embedding: 0.837\n",
      "Index: 0707, Accuracy: 0.874, Embedding: 0.854\n",
      "Index: 0344, Accuracy: 0.869, Embedding: 0.847\n",
      "Index: 0222, Accuracy: 0.833, Embedding: 0.845\n",
      "Index: 0218, Accuracy: 0.869, Embedding: 0.859\n",
      "Index: 0180, Accuracy: 0.859, Embedding: 0.850\n",
      "Index: 0413, Accuracy: 0.859, Embedding: 0.857\n",
      "Index: 1370, Accuracy: 0.818, Embedding: 0.828\n",
      "Index: 0189, Accuracy: 0.790, Embedding: 0.814\n",
      "Index: 0056, Accuracy: 0.737, Embedding: 0.762\n",
      "Index: 1244, Accuracy: 0.859, Embedding: 0.854\n",
      "Index: 1220, Accuracy: 0.853, Embedding: 0.863\n",
      "Index: 0849, Accuracy: 0.843, Embedding: 0.850\n",
      "Index: 0668, Accuracy: 0.873, Embedding: 0.860\n",
      "Index: 1027, Accuracy: 0.805, Embedding: 0.829\n",
      "Index: 0886, Accuracy: 0.855, Embedding: 0.863\n",
      "Index: 0553, Accuracy: 0.837, Embedding: 0.834\n",
      "Index: 1257, Accuracy: 0.865, Embedding: 0.848\n",
      "Index: 0289, Accuracy: 0.845, Embedding: 0.848\n",
      "Index: 1199, Accuracy: 0.826, Embedding: 0.831\n",
      "Index: 0086, Accuracy: 0.860, Embedding: 0.850\n",
      "Index: 0430, Accuracy: 0.830, Embedding: 0.852\n",
      "Index: 0433, Accuracy: 0.879, Embedding: 0.852\n",
      "Index: 0575, Accuracy: 0.869, Embedding: 0.861\n"
     ]
    }
   ],
   "source": [
    "embeddings = extract_embeddings(model_accuracy, valid_loader_accuracy, device=device)[0]\n",
    "\n",
    "for i, data in enumerate(valid_loader_accuracy):\n",
    "    index = data.index\n",
    "    accuracy = data.y\n",
    "    accuracy_values = accuracy.cpu().numpy()\n",
    "\n",
    "    # mask = (accuracy_values > 0.87) | (accuracy_values < 0.83)\n",
    "    # accuracy_values = accuracy_values[mask]\n",
    "    # index = index[mask] \n",
    "\n",
    "    for j in range(len(accuracy_values)):\n",
    "        embedding_index = i * BATCH_SIZE + j\n",
    "        print(f\"Index: {index[j]:04d}, Accuracy: {accuracy_values[j]:.3f}, Embedding: {embeddings[embedding_index].mean():.3f}\")\n",
    "        \n",
    "        if j >= 20:\n",
    "            break\n",
    "\n",
    "    if i * BATCH_SIZE > 20:\n",
    "        break\n"
   ]
  },
  {
   "cell_type": "code",
   "execution_count": null,
   "metadata": {
    "execution": {
     "iopub.execute_input": "2025-05-20T17:17:23.677033Z",
     "iopub.status.busy": "2025-05-20T17:17:23.676633Z",
     "iopub.status.idle": "2025-05-20T17:17:23.682342Z",
     "shell.execute_reply": "2025-05-20T17:17:23.681338Z",
     "shell.execute_reply.started": "2025-05-20T17:17:23.676972Z"
    },
    "trusted": true
   },
   "outputs": [],
   "source": [
    "def triplet_loss(anchor, positive, negative, margin=0.1):\n",
    "    d_ap = (anchor - positive).pow(2).sum(-1)\n",
    "    d_an = (anchor - negative).pow(2).sum(-1)\n",
    "    \n",
    "    loss = F.relu(d_ap - d_an + margin)\n",
    "    return loss.mean()"
   ]
  },
  {
   "cell_type": "code",
   "execution_count": null,
   "metadata": {
    "execution": {
     "iopub.execute_input": "2025-05-20T17:17:23.683768Z",
     "iopub.status.busy": "2025-05-20T17:17:23.683468Z",
     "iopub.status.idle": "2025-05-20T17:17:23.713711Z",
     "shell.execute_reply": "2025-05-20T17:17:23.713047Z",
     "shell.execute_reply.started": "2025-05-20T17:17:23.683724Z"
    },
    "papermill": {
     "duration": 0.045729,
     "end_time": "2025-04-10T16:02:00.137298",
     "exception": false,
     "start_time": "2025-04-10T16:02:00.091569",
     "status": "completed"
    },
    "tags": [],
    "trusted": true
   },
   "outputs": [],
   "source": [
    "input_dim = graphs_dataset[0][\"x\"].shape[1]\n",
    "hidden_dim = 256  # Размерность скрытого слоя\n",
    "output_dim = 128\n",
    "num_epochs = 30\n",
    "\n",
    "model = GAT(input_dim, output_dim, dropout=0.1)\n",
    "optimizer = torch.optim.AdamW(model.parameters(), lr=1e-3)\n",
    "criterion = lambda anchor, positive, negative: triplet_loss(anchor, positive, negative, margin=1)"
   ]
  },
  {
   "cell_type": "markdown",
   "metadata": {
    "papermill": {
     "duration": 0.030697,
     "end_time": "2025-04-10T16:02:00.199992",
     "exception": false,
     "start_time": "2025-04-10T16:02:00.169295",
     "status": "completed"
    },
    "tags": []
   },
   "source": [
    "Основной код обучения модели похожести."
   ]
  },
  {
   "cell_type": "code",
   "execution_count": null,
   "metadata": {
    "execution": {
     "iopub.execute_input": "2025-05-20T17:17:23.714763Z",
     "iopub.status.busy": "2025-05-20T17:17:23.714553Z",
     "iopub.status.idle": "2025-05-20T17:24:28.401426Z",
     "shell.execute_reply": "2025-05-20T17:24:28.400097Z",
     "shell.execute_reply.started": "2025-05-20T17:17:23.714745Z"
    },
    "papermill": {
     "duration": 510.069494,
     "end_time": "2025-04-10T16:10:30.300489",
     "exception": false,
     "start_time": "2025-04-10T16:02:00.230995",
     "status": "completed"
    },
    "tags": [],
    "trusted": true
   },
   "outputs": [
    {
     "data": {
      "application/vnd.jupyter.widget-view+json": {
       "model_id": "b2111651d03f45a49010a457ecfc0ca9",
       "version_major": 2,
       "version_minor": 0
      },
      "text/plain": [
       "Training Progress:   0%|          | 0/30 [00:00<?, ?it/s]"
      ]
     },
     "metadata": {},
     "output_type": "display_data"
    },
    {
     "ename": "KeyboardInterrupt",
     "evalue": "",
     "output_type": "error",
     "traceback": [
      "\u001b[0;31m---------------------------------------------------------------------------\u001b[0m",
      "\u001b[0;31mKeyboardInterrupt\u001b[0m                         Traceback (most recent call last)",
      "Cell \u001b[0;32mIn[50], line 1\u001b[0m\n\u001b[0;32m----> 1\u001b[0m \u001b[43mtrain_model_diversity\u001b[49m\u001b[43m(\u001b[49m\n\u001b[1;32m      2\u001b[0m \u001b[43m    \u001b[49m\u001b[43mmodel\u001b[49m\u001b[43m,\u001b[49m\n\u001b[1;32m      3\u001b[0m \u001b[43m    \u001b[49m\u001b[43mtrain_loader_diversity\u001b[49m\u001b[43m,\u001b[49m\n\u001b[1;32m      4\u001b[0m \u001b[43m    \u001b[49m\u001b[43mvalid_loader_diversity\u001b[49m\u001b[43m,\u001b[49m\n\u001b[1;32m      5\u001b[0m \u001b[43m    \u001b[49m\u001b[43moptimizer\u001b[49m\u001b[43m,\u001b[49m\n\u001b[1;32m      6\u001b[0m \u001b[43m    \u001b[49m\u001b[43mcriterion\u001b[49m\u001b[43m,\u001b[49m\n\u001b[1;32m      7\u001b[0m \u001b[43m    \u001b[49m\u001b[43mnum_epochs\u001b[49m\u001b[43m,\u001b[49m\n\u001b[1;32m      8\u001b[0m \u001b[43m    \u001b[49m\u001b[43mdevice\u001b[49m\u001b[38;5;241;43m=\u001b[39;49m\u001b[43mdevice\u001b[49m\u001b[43m,\u001b[49m\n\u001b[1;32m      9\u001b[0m \u001b[43m    \u001b[49m\u001b[43mdeveloper_mode\u001b[49m\u001b[38;5;241;43m=\u001b[39;49m\u001b[38;5;28;43;01mFalse\u001b[39;49;00m\u001b[43m,\u001b[49m\n\u001b[1;32m     10\u001b[0m \u001b[43m    \u001b[49m\u001b[43mfinal_lr\u001b[49m\u001b[38;5;241;43m=\u001b[39;49m\u001b[38;5;241;43m1e-5\u001b[39;49m\n\u001b[1;32m     11\u001b[0m \u001b[43m)\u001b[49m;\n",
      "File \u001b[0;32m~/RAS/m1p/predicator-function-for-neural-networks/code/dependencies/GCN.py:375\u001b[0m, in \u001b[0;36mtrain_model_diversity\u001b[0;34m(model, train_loader, valid_loader, optimizer, criterion, num_epochs, device, developer_mode, final_lr)\u001b[0m\n\u001b[1;32m    370\u001b[0m running_loss \u001b[38;5;241m=\u001b[39m \u001b[38;5;241m0.0\u001b[39m\n\u001b[1;32m    371\u001b[0m n_batches \u001b[38;5;241m=\u001b[39m \u001b[38;5;241m0\u001b[39m\n\u001b[1;32m    373\u001b[0m \u001b[38;5;28;01mfor\u001b[39;00m i, (anchor_batch, pos_batch, neg_batch, idx_triplet) \u001b[38;5;129;01min\u001b[39;00m \u001b[38;5;28menumerate\u001b[39m(\n\u001b[1;32m    374\u001b[0m     train_loader\n\u001b[0;32m--> 375\u001b[0m ):\n\u001b[1;32m    376\u001b[0m     \u001b[38;5;28;01mif\u001b[39;00m developer_mode \u001b[38;5;129;01mand\u001b[39;00m i \u001b[38;5;241m>\u001b[39m \u001b[38;5;241m0\u001b[39m:\n\u001b[1;32m    377\u001b[0m         \u001b[38;5;28;01mbreak\u001b[39;00m\n",
      "File \u001b[0;32m~/.local/lib/python3.12/site-packages/torch/nn/modules/module.py:1736\u001b[0m, in \u001b[0;36mModule._wrapped_call_impl\u001b[0;34m(self, *args, **kwargs)\u001b[0m\n\u001b[1;32m   1734\u001b[0m     \u001b[38;5;28;01mreturn\u001b[39;00m \u001b[38;5;28mself\u001b[39m\u001b[38;5;241m.\u001b[39m_compiled_call_impl(\u001b[38;5;241m*\u001b[39margs, \u001b[38;5;241m*\u001b[39m\u001b[38;5;241m*\u001b[39mkwargs)  \u001b[38;5;66;03m# type: ignore[misc]\u001b[39;00m\n\u001b[1;32m   1735\u001b[0m \u001b[38;5;28;01melse\u001b[39;00m:\n\u001b[0;32m-> 1736\u001b[0m     \u001b[38;5;28;01mreturn\u001b[39;00m \u001b[38;5;28;43mself\u001b[39;49m\u001b[38;5;241;43m.\u001b[39;49m\u001b[43m_call_impl\u001b[49m\u001b[43m(\u001b[49m\u001b[38;5;241;43m*\u001b[39;49m\u001b[43margs\u001b[49m\u001b[43m,\u001b[49m\u001b[43m \u001b[49m\u001b[38;5;241;43m*\u001b[39;49m\u001b[38;5;241;43m*\u001b[39;49m\u001b[43mkwargs\u001b[49m\u001b[43m)\u001b[49m\n",
      "File \u001b[0;32m~/.local/lib/python3.12/site-packages/torch/nn/modules/module.py:1747\u001b[0m, in \u001b[0;36mModule._call_impl\u001b[0;34m(self, *args, **kwargs)\u001b[0m\n\u001b[1;32m   1742\u001b[0m \u001b[38;5;66;03m# If we don't have any hooks, we want to skip the rest of the logic in\u001b[39;00m\n\u001b[1;32m   1743\u001b[0m \u001b[38;5;66;03m# this function, and just call forward.\u001b[39;00m\n\u001b[1;32m   1744\u001b[0m \u001b[38;5;28;01mif\u001b[39;00m \u001b[38;5;129;01mnot\u001b[39;00m (\u001b[38;5;28mself\u001b[39m\u001b[38;5;241m.\u001b[39m_backward_hooks \u001b[38;5;129;01mor\u001b[39;00m \u001b[38;5;28mself\u001b[39m\u001b[38;5;241m.\u001b[39m_backward_pre_hooks \u001b[38;5;129;01mor\u001b[39;00m \u001b[38;5;28mself\u001b[39m\u001b[38;5;241m.\u001b[39m_forward_hooks \u001b[38;5;129;01mor\u001b[39;00m \u001b[38;5;28mself\u001b[39m\u001b[38;5;241m.\u001b[39m_forward_pre_hooks\n\u001b[1;32m   1745\u001b[0m         \u001b[38;5;129;01mor\u001b[39;00m _global_backward_pre_hooks \u001b[38;5;129;01mor\u001b[39;00m _global_backward_hooks\n\u001b[1;32m   1746\u001b[0m         \u001b[38;5;129;01mor\u001b[39;00m _global_forward_hooks \u001b[38;5;129;01mor\u001b[39;00m _global_forward_pre_hooks):\n\u001b[0;32m-> 1747\u001b[0m     \u001b[38;5;28;01mreturn\u001b[39;00m \u001b[43mforward_call\u001b[49m\u001b[43m(\u001b[49m\u001b[38;5;241;43m*\u001b[39;49m\u001b[43margs\u001b[49m\u001b[43m,\u001b[49m\u001b[43m \u001b[49m\u001b[38;5;241;43m*\u001b[39;49m\u001b[38;5;241;43m*\u001b[39;49m\u001b[43mkwargs\u001b[49m\u001b[43m)\u001b[49m\n\u001b[1;32m   1749\u001b[0m result \u001b[38;5;241m=\u001b[39m \u001b[38;5;28;01mNone\u001b[39;00m\n\u001b[1;32m   1750\u001b[0m called_always_called_hooks \u001b[38;5;241m=\u001b[39m \u001b[38;5;28mset\u001b[39m()\n",
      "File \u001b[0;32m~/RAS/m1p/predicator-function-for-neural-networks/code/dependencies/GCN.py:194\u001b[0m, in \u001b[0;36mforward\u001b[0;34m(self, x, edge_index, batch)\u001b[0m\n\u001b[1;32m    192\u001b[0m h3 \u001b[38;5;241m=\u001b[39m \u001b[38;5;28mself\u001b[39m\u001b[38;5;241m.\u001b[39mgat3(h2, edge_index)\n\u001b[1;32m    193\u001b[0m h3 \u001b[38;5;241m=\u001b[39m F\u001b[38;5;241m.\u001b[39mleaky_relu(h3 \u001b[38;5;241m+\u001b[39m \u001b[38;5;28mself\u001b[39m\u001b[38;5;241m.\u001b[39mres3(h2))\n\u001b[0;32m--> 194\u001b[0m h3 \u001b[38;5;241m=\u001b[39m \u001b[38;5;28mself\u001b[39m\u001b[38;5;241m.\u001b[39mnorm3(h3)\n\u001b[1;32m    195\u001b[0m h3 \u001b[38;5;241m=\u001b[39m \u001b[38;5;28mself\u001b[39m\u001b[38;5;241m.\u001b[39mdropout(h3)\n\u001b[1;32m    197\u001b[0m \u001b[38;5;66;03m# Layer 4\u001b[39;00m\n",
      "File \u001b[0;32m~/.local/lib/python3.12/site-packages/torch/nn/modules/module.py:1736\u001b[0m, in \u001b[0;36mModule._wrapped_call_impl\u001b[0;34m(self, *args, **kwargs)\u001b[0m\n\u001b[1;32m   1734\u001b[0m     \u001b[38;5;28;01mreturn\u001b[39;00m \u001b[38;5;28mself\u001b[39m\u001b[38;5;241m.\u001b[39m_compiled_call_impl(\u001b[38;5;241m*\u001b[39margs, \u001b[38;5;241m*\u001b[39m\u001b[38;5;241m*\u001b[39mkwargs)  \u001b[38;5;66;03m# type: ignore[misc]\u001b[39;00m\n\u001b[1;32m   1735\u001b[0m \u001b[38;5;28;01melse\u001b[39;00m:\n\u001b[0;32m-> 1736\u001b[0m     \u001b[38;5;28;01mreturn\u001b[39;00m \u001b[38;5;28;43mself\u001b[39;49m\u001b[38;5;241;43m.\u001b[39;49m\u001b[43m_call_impl\u001b[49m\u001b[43m(\u001b[49m\u001b[38;5;241;43m*\u001b[39;49m\u001b[43margs\u001b[49m\u001b[43m,\u001b[49m\u001b[43m \u001b[49m\u001b[38;5;241;43m*\u001b[39;49m\u001b[38;5;241;43m*\u001b[39;49m\u001b[43mkwargs\u001b[49m\u001b[43m)\u001b[49m\n",
      "File \u001b[0;32m~/.local/lib/python3.12/site-packages/torch/nn/modules/module.py:1747\u001b[0m, in \u001b[0;36mModule._call_impl\u001b[0;34m(self, *args, **kwargs)\u001b[0m\n\u001b[1;32m   1742\u001b[0m \u001b[38;5;66;03m# If we don't have any hooks, we want to skip the rest of the logic in\u001b[39;00m\n\u001b[1;32m   1743\u001b[0m \u001b[38;5;66;03m# this function, and just call forward.\u001b[39;00m\n\u001b[1;32m   1744\u001b[0m \u001b[38;5;28;01mif\u001b[39;00m \u001b[38;5;129;01mnot\u001b[39;00m (\u001b[38;5;28mself\u001b[39m\u001b[38;5;241m.\u001b[39m_backward_hooks \u001b[38;5;129;01mor\u001b[39;00m \u001b[38;5;28mself\u001b[39m\u001b[38;5;241m.\u001b[39m_backward_pre_hooks \u001b[38;5;129;01mor\u001b[39;00m \u001b[38;5;28mself\u001b[39m\u001b[38;5;241m.\u001b[39m_forward_hooks \u001b[38;5;129;01mor\u001b[39;00m \u001b[38;5;28mself\u001b[39m\u001b[38;5;241m.\u001b[39m_forward_pre_hooks\n\u001b[1;32m   1745\u001b[0m         \u001b[38;5;129;01mor\u001b[39;00m _global_backward_pre_hooks \u001b[38;5;129;01mor\u001b[39;00m _global_backward_hooks\n\u001b[1;32m   1746\u001b[0m         \u001b[38;5;129;01mor\u001b[39;00m _global_forward_hooks \u001b[38;5;129;01mor\u001b[39;00m _global_forward_pre_hooks):\n\u001b[0;32m-> 1747\u001b[0m     \u001b[38;5;28;01mreturn\u001b[39;00m \u001b[43mforward_call\u001b[49m\u001b[43m(\u001b[49m\u001b[38;5;241;43m*\u001b[39;49m\u001b[43margs\u001b[49m\u001b[43m,\u001b[49m\u001b[43m \u001b[49m\u001b[38;5;241;43m*\u001b[39;49m\u001b[38;5;241;43m*\u001b[39;49m\u001b[43mkwargs\u001b[49m\u001b[43m)\u001b[49m\n\u001b[1;32m   1749\u001b[0m result \u001b[38;5;241m=\u001b[39m \u001b[38;5;28;01mNone\u001b[39;00m\n\u001b[1;32m   1750\u001b[0m called_always_called_hooks \u001b[38;5;241m=\u001b[39m \u001b[38;5;28mset\u001b[39m()\n",
      "File \u001b[0;32m~/.local/lib/python3.12/site-packages/torch/nn/modules/linear.py:125\u001b[0m, in \u001b[0;36mLinear.forward\u001b[0;34m(self, input)\u001b[0m\n\u001b[1;32m    124\u001b[0m \u001b[38;5;28;01mdef\u001b[39;00m \u001b[38;5;21mforward\u001b[39m(\u001b[38;5;28mself\u001b[39m, \u001b[38;5;28minput\u001b[39m: Tensor) \u001b[38;5;241m-\u001b[39m\u001b[38;5;241m>\u001b[39m Tensor:\n\u001b[0;32m--> 125\u001b[0m     \u001b[38;5;28;01mreturn\u001b[39;00m \u001b[43mF\u001b[49m\u001b[38;5;241;43m.\u001b[39;49m\u001b[43mlinear\u001b[49m\u001b[43m(\u001b[49m\u001b[38;5;28;43minput\u001b[39;49m\u001b[43m,\u001b[49m\u001b[43m \u001b[49m\u001b[38;5;28;43mself\u001b[39;49m\u001b[38;5;241;43m.\u001b[39;49m\u001b[43mweight\u001b[49m\u001b[43m,\u001b[49m\u001b[43m \u001b[49m\u001b[38;5;28;43mself\u001b[39;49m\u001b[38;5;241;43m.\u001b[39;49m\u001b[43mbias\u001b[49m\u001b[43m)\u001b[49m\n",
      "\u001b[0;31mKeyboardInterrupt\u001b[0m: "
     ]
    }
   ],
   "source": [
    "train_model_diversity(\n",
    "    model,\n",
    "    train_loader_diversity,\n",
    "    valid_loader_diversity,\n",
    "    optimizer,\n",
    "    criterion,\n",
    "    num_epochs,\n",
    "    device=device,\n",
    "    developer_mode=False,\n",
    "    final_lr=1e-5\n",
    ");"
   ]
  },
  {
   "cell_type": "code",
   "execution_count": null,
   "metadata": {
    "execution": {
     "iopub.execute_input": "2025-05-20T17:24:28.403431Z",
     "iopub.status.busy": "2025-05-20T17:24:28.403030Z",
     "iopub.status.idle": "2025-05-20T17:24:28.412066Z",
     "shell.execute_reply": "2025-05-20T17:24:28.410944Z",
     "shell.execute_reply.started": "2025-05-20T17:24:28.403402Z"
    },
    "papermill": {
     "duration": 0.039922,
     "end_time": "2025-04-10T16:10:30.372120",
     "exception": false,
     "start_time": "2025-04-10T16:10:30.332198",
     "status": "completed"
    },
    "tags": [],
    "trusted": true
   },
   "outputs": [],
   "source": [
    "def visualize_clusters(model, train_loader, device=\"cpu\", min_samples=3, eps=0.025):\n",
    "    # Извлечение эмбеддингов\n",
    "    embeddings, indices = extract_embeddings(model, train_loader, device=device)\n",
    "    \n",
    "    # Преобразование эмбеддингов в 2D с помощью PCA\n",
    "    pca = PCA(n_components=2)\n",
    "    embeddings_2d = pca.fit_transform(embeddings)\n",
    "    \n",
    "    # Кластеризация с помощью OPTICS\n",
    "    # optics = OPTICS(min_samples=min_samples, xi=xi, min_cluster_size=min_cluster_size, metric=\"euclidean\")\n",
    "    # clusters = optics.fit_predict(embeddings)\n",
    "    \n",
    "    dbscan = DBSCAN(eps=eps, min_samples=min_samples, metric='euclidean', n_jobs=-1)\n",
    "    clusters = dbscan.fit_predict(embeddings)\n",
    "    \n",
    "    # Визуализация кластеров\n",
    "    plt.figure(figsize=(8, 6.5))\n",
    "    scatter = plt.scatter(\n",
    "        embeddings_2d[:, 0], \n",
    "        embeddings_2d[:, 1], \n",
    "        c=clusters, \n",
    "        cmap='tab10',  \n",
    "        s=np.where(clusters == -1, 20, 70),  \n",
    "        alpha=np.where(clusters == -1, 0.5, 1)\n",
    "    )\n",
    "    plt.xlabel(\"PCA Component 1\", fontsize=16)\n",
    "    plt.ylabel(\"PCA Component 2\", fontsize=16)\n",
    "    \n",
    "    # Создание легенды для кластеров\n",
    "    unique_clusters = np.unique(clusters)\n",
    "    for cluster in unique_clusters:\n",
    "        if cluster == -1:\n",
    "          label = \"Noise\"\n",
    "        else:\n",
    "          label = f\"Cluster {cluster}\"\n",
    "        plt.scatter([], [], color=scatter.cmap(scatter.norm(cluster)), label=label ,  s=50 if cluster != -1 else 20)\n",
    "    \n",
    "    plt.gca().set_facecolor('lightgrey')\n",
    "    # plt.legend()\n",
    "    plt.show()\n",
    "    \n",
    "    return clusters"
   ]
  },
  {
   "cell_type": "code",
   "execution_count": null,
   "metadata": {
    "execution": {
     "iopub.execute_input": "2025-05-20T17:24:28.413260Z",
     "iopub.status.busy": "2025-05-20T17:24:28.412935Z",
     "iopub.status.idle": "2025-05-20T17:24:33.712623Z",
     "shell.execute_reply": "2025-05-20T17:24:33.711372Z",
     "shell.execute_reply.started": "2025-05-20T17:24:28.413235Z"
    },
    "papermill": {
     "duration": 4.717403,
     "end_time": "2025-04-10T16:10:35.120432",
     "exception": false,
     "start_time": "2025-04-10T16:10:30.403029",
     "status": "completed"
    },
    "tags": [],
    "trusted": true
   },
   "outputs": [
    {
     "data": {
      "application/vnd.jupyter.widget-view+json": {
       "model_id": "4dfc2f31c96c491d89b5f2c1d629b924",
       "version_major": 2,
       "version_minor": 0
      },
      "text/plain": [
       "  0%|          | 0/130 [00:00<?, ?it/s]"
      ]
     },
     "metadata": {},
     "output_type": "display_data"
    },
    {
     "data": {
      "image/png": "[encoded data removed]",
      "text/plain": [
       "<Figure size 800x650 with 1 Axes>"
      ]
     },
     "metadata": {},
     "output_type": "display_data"
    }
   ],
   "source": [
    "clusters = visualize_clusters(\n",
    "  model,\n",
    "  train_loader_diversity,\n",
    "  device=device,\n",
    "  min_samples=3,\n",
    "  eps=0.6,\n",
    ")"
   ]
  },
  {
   "cell_type": "code",
   "execution_count": null,
   "metadata": {
    "execution": {
     "iopub.execute_input": "2025-05-20T17:24:33.714287Z",
     "iopub.status.busy": "2025-05-20T17:24:33.713947Z",
     "iopub.status.idle": "2025-05-20T17:24:33.720915Z",
     "shell.execute_reply": "2025-05-20T17:24:33.720055Z",
     "shell.execute_reply.started": "2025-05-20T17:24:33.714256Z"
    },
    "papermill": {
     "duration": 0.04271,
     "end_time": "2025-04-10T16:10:35.275163",
     "exception": false,
     "start_time": "2025-04-10T16:10:35.232453",
     "status": "completed"
    },
    "tags": [],
    "trusted": true
   },
   "outputs": [
    {
     "data": {
      "text/plain": [
       "0.8629521"
      ]
     },
     "execution_count": 30,
     "metadata": {},
     "output_type": "execute_result"
    }
   ],
   "source": [
    "embeddings[0]"
   ]
  },
  {
   "cell_type": "code",
   "execution_count": null,
   "metadata": {
    "execution": {
     "iopub.execute_input": "2025-05-20T17:24:33.722307Z",
     "iopub.status.busy": "2025-05-20T17:24:33.721917Z",
     "iopub.status.idle": "2025-05-20T17:24:33.739808Z",
     "shell.execute_reply": "2025-05-20T17:24:33.738783Z",
     "shell.execute_reply.started": "2025-05-20T17:24:33.722270Z"
    },
    "papermill": {
     "duration": 0.045568,
     "end_time": "2025-04-10T16:10:35.355584",
     "exception": false,
     "start_time": "2025-04-10T16:10:35.310016",
     "status": "completed"
    },
    "tags": [],
    "trusted": true
   },
   "outputs": [],
   "source": [
    "def compute_correlation(models_dict, dataset, model, diversity_matrix, device=\"cpu\"):\n",
    "    model.to(device)\n",
    "    model.eval()\n",
    "\n",
    "    N = len(dataset)\n",
    "    embeddings = []\n",
    "\n",
    "    with torch.no_grad():\n",
    "        for sample in dataset:\n",
    "            x = sample.x.to(device)\n",
    "            edge_index = sample.edge_index.to(device)\n",
    "            batch = sample.batch if hasattr(sample, \"batch\") else None  # если batch'и не заданы\n",
    "\n",
    "            embedding = model(x, edge_index, batch=batch).cpu().numpy().reshape(-1)\n",
    "            embeddings.append(embedding)\n",
    "\n",
    "    embeddings = np.array(embeddings)\n",
    "\n",
    "    # Вычисление попарных евклидовых расстояний\n",
    "    distance_matrix = cdist(embeddings, embeddings, metric=\"euclidean\")\n",
    "\n",
    "    # Массив архитектур\n",
    "    architectures = [models_dict[index] for index in dataset.indices]\n",
    "\n",
    "    # Заполнение similarity matrix по индексам архитектур\n",
    "    similarity_matrix = np.zeros((N, N))\n",
    "    for i in tqdm(range(N), desc=\"Computing similarity matrix\"):\n",
    "        for j in range(i + 1, N):\n",
    "            arch_i_index = dataset[i].index\n",
    "            arch_j_index = dataset[j].index\n",
    "\n",
    "            similarity_matrix[i, j] = diversity_matrix[arch_i_index, arch_j_index]\n",
    "            similarity_matrix[j, i] = similarity_matrix[i, j]\n",
    "\n",
    "    # Только верхний треугольник\n",
    "    triu_indices = np.triu_indices(N, k=1)\n",
    "\n",
    "    similarity_values = similarity_matrix[triu_indices]\n",
    "    embedding_distances = distance_matrix[triu_indices]\n",
    "\n",
    "    correlation_pearson, _ = pearsonr(embedding_distances, similarity_values)\n",
    "    correlation_spearman, _ = spearmanr(embedding_distances, similarity_values)\n",
    "\n",
    "    return correlation_pearson, correlation_spearman"
   ]
  },
  {
   "cell_type": "markdown",
   "metadata": {
    "papermill": {
     "duration": 0.03507,
     "end_time": "2025-04-10T16:10:35.425820",
     "exception": false,
     "start_time": "2025-04-10T16:10:35.390750",
     "status": "completed"
    },
    "tags": []
   },
   "source": [
    "input_dim = graphs_dataset[0][\"x\"].shape[1]\n",
    "hidden_dim = 256  # Размерность скрытого слоя\n",
    "output_dim = 128\n",
    "num_epochs = 30\n",
    "\n",
    "model = GAT(input_dim, output_dim, dropout=0.1)\n",
    "optimizer = torch.optim.AdamW(model.parameters(), lr=1e-3)\n",
    "criterion = lambda anchor, positive, negative: triplet_loss(anchor, positive, negative, margin=1)Рассчитаю корреляции"
   ]
  },
  {
   "cell_type": "code",
   "execution_count": null,
   "metadata": {
    "execution": {
     "iopub.execute_input": "2025-05-20T17:24:33.740993Z",
     "iopub.status.busy": "2025-05-20T17:24:33.740664Z",
     "iopub.status.idle": "2025-05-20T17:24:39.064637Z",
     "shell.execute_reply": "2025-05-20T17:24:39.063583Z",
     "shell.execute_reply.started": "2025-05-20T17:24:33.740943Z"
    },
    "papermill": {
     "duration": 0.941399,
     "end_time": "2025-04-10T16:10:36.402867",
     "exception": false,
     "start_time": "2025-04-10T16:10:35.461468",
     "status": "completed"
    },
    "tags": [],
    "trusted": true
   },
   "outputs": [
    {
     "name": "stderr",
     "output_type": "stream",
     "text": [
      "Computing similarity matrix: 100%|██████████| 260/260 [00:03<00:00, 66.19it/s] "
     ]
    },
    {
     "name": "stdout",
     "output_type": "stream",
     "text": [
      "Корреляция Пирсона: -0.393\n",
      "Корреляция Спирмена: -0.377\n"
     ]
    },
    {
     "name": "stderr",
     "output_type": "stream",
     "text": [
      "\n"
     ]
    }
   ],
   "source": [
    "pearson_correlation, spearman_correlation = compute_correlation(\n",
    "    models_dict, base_valid_dataset, model, diversity_matrix, device=device\n",
    ")\n",
    "\n",
    "print(f\"Корреляция Пирсона: {pearson_correlation:.3f}\")\n",
    "print(f\"Корреляция Спирмена: {spearman_correlation:.3f}\")"
   ]
  },
  {
   "cell_type": "code",
   "execution_count": null,
   "metadata": {
    "execution": {
     "iopub.execute_input": "2025-05-20T17:24:39.066482Z",
     "iopub.status.busy": "2025-05-20T17:24:39.066107Z",
     "iopub.status.idle": "2025-05-20T17:24:39.084833Z",
     "shell.execute_reply": "2025-05-20T17:24:39.083575Z",
     "shell.execute_reply.started": "2025-05-20T17:24:39.066444Z"
    },
    "papermill": {
     "duration": 1.052262,
     "end_time": "2025-04-10T16:10:37.494091",
     "exception": false,
     "start_time": "2025-04-10T16:10:36.441829",
     "status": "completed"
    },
    "tags": [],
    "trusted": true
   },
   "outputs": [
    {
     "name": "stdout",
     "output_type": "stream",
     "text": [
      "Cluster 0:\n",
      "  Mean Positive Diversity: 0.8409\n",
      "  Mean Negative Diversity: 0.7961\n",
      "Cluster 1:\n",
      "  Mean Positive Diversity: 0.8183\n",
      "  Mean Negative Diversity: 0.7657\n",
      "Cluster 2:\n",
      "  Mean Positive Diversity: 0.8297\n",
      "  Mean Negative Diversity: 0.7805\n",
      "Cluster 3: not enough samples.\n"
     ]
    }
   ],
   "source": [
    "def compute_cluster_mean_diversities(\n",
    "    clusters: np.ndarray,\n",
    "    diversity_matrix: np.ndarray,\n",
    "    discrete_diversity_matrix: np.ndarray,\n",
    "    min_samples: int = 10,\n",
    "):\n",
    "    \"\"\"\n",
    "    Для каждого кластера берёт «якорную» архитектуру (первый элемент кластера),\n",
    "    затем в min_samples раз выбирает положительную и отрицательную архитектуры\n",
    "    через get_positive_and_negative (по discrete_diversity_matrix),\n",
    "    и усредняет заранее посчитанные отношения разнообразия из diversity_matrix.\n",
    "    \"\"\"\n",
    "    n_clusters = len(set(clusters))\n",
    "    \n",
    "    for i in range(n_clusters):\n",
    "        # индексы объектов, попавших в кластер i\n",
    "        cluster_idxs = np.where(clusters == i)[0]\n",
    "        if len(cluster_idxs) < 2:\n",
    "            print(f\"Cluster {i}: not enough samples.\")\n",
    "            continue\n",
    "        \n",
    "        anchor = cluster_idxs[0]\n",
    "        pos_divs, neg_divs = [], []\n",
    "        \n",
    "        for _ in range(min_samples):\n",
    "            positive, negative = get_positive_and_negative(discrete_diversity_matrix, [anchor])\n",
    "            if positive is None or negative is None:\n",
    "                # пропускаем, если не удалось найти пару\n",
    "                continue\n",
    "            \n",
    "            # вместо вызова get_diversity_js просто берём готовое значение\n",
    "            pos_divs.append(diversity_matrix[anchor, positive])\n",
    "            neg_divs.append(diversity_matrix[anchor, negative])\n",
    "        \n",
    "        mean_pos = np.mean(pos_divs) if pos_divs else None\n",
    "        mean_neg = np.mean(neg_divs) if neg_divs else None\n",
    "        \n",
    "        print(f\"Cluster {i}:\")\n",
    "        if mean_pos is not None:\n",
    "            print(f\"  Mean Positive Diversity: {mean_pos:.4f}\")\n",
    "        else:\n",
    "            print(\"  No positive diversity data available.\")\n",
    "        \n",
    "        if mean_neg is not None:\n",
    "            print(f\"  Mean Negative Diversity: {mean_neg:.4f}\")\n",
    "        else:\n",
    "            print(\"  No negative diversity data available.\")\n",
    "        \n",
    "        # ограничиваем вывод первыми 11 кластерами\n",
    "        if i >= 10:\n",
    "            break\n",
    "            \n",
    "compute_cluster_mean_diversities(\n",
    "    clusters,\n",
    "    diversity_matrix,\n",
    "    discrete_diversity_matrix,\n",
    "    min_samples=10,\n",
    ")"
   ]
  },
  {
   "cell_type": "code",
   "execution_count": null,
   "metadata": {
    "execution": {
     "iopub.execute_input": "2025-05-20T17:24:39.086487Z",
     "iopub.status.busy": "2025-05-20T17:24:39.086115Z",
     "iopub.status.idle": "2025-05-20T17:24:39.102937Z",
     "shell.execute_reply": "2025-05-20T17:24:39.101810Z",
     "shell.execute_reply.started": "2025-05-20T17:24:39.086443Z"
    },
    "papermill": {
     "duration": 0.085831,
     "end_time": "2025-04-10T16:10:37.615173",
     "exception": false,
     "start_time": "2025-04-10T16:10:37.529342",
     "status": "completed"
    },
    "tags": [],
    "trusted": true
   },
   "outputs": [
    {
     "name": "stdout",
     "output_type": "stream",
     "text": [
      "Средняя похожесть внутри первого кластера: 0.7949\n",
      "Средняя похожесть между первым и вторым кластерами: 0.7960\n"
     ]
    }
   ],
   "source": [
    "# Индексы кластеров\n",
    "cluster_1_indexes = np.where(clusters == 1)[0]\n",
    "cluster_2_indexes = np.where(clusters == 2)[0]\n",
    "\n",
    "# ====== Средняя похожесть внутри первого кластера ======\n",
    "n1 = len(cluster_1_indexes)\n",
    "if n1 > 1:\n",
    "    # Выбираем подматрицу diversity_matrix для кластер 1\n",
    "    submat_1 = diversity_matrix[np.ix_(cluster_1_indexes, cluster_1_indexes)]\n",
    "    # Берём только верхний треугольник без диагонали\n",
    "    triu_i, triu_j = np.triu_indices(n1, k=1)\n",
    "    sims_within_1 = submat_1[triu_i, triu_j]\n",
    "    mean_similarity_within_cluster_1 = np.mean(sims_within_1)\n",
    "else:\n",
    "    mean_similarity_within_cluster_1 = None\n",
    "\n",
    "# ====== Средняя похожесть между кластерами 1 и 2 ======\n",
    "if len(cluster_1_indexes) > 0 and len(cluster_2_indexes) > 0:\n",
    "    sims_between = diversity_matrix[np.ix_(cluster_1_indexes, cluster_2_indexes)]\n",
    "    mean_similarity_between_clusters = np.mean(sims_between)\n",
    "else:\n",
    "    mean_similarity_between_clusters = None\n",
    "\n",
    "# ====== Результаты ======\n",
    "if mean_similarity_within_cluster_1 is not None:\n",
    "    print(f\"Средняя похожесть внутри первого кластера: {mean_similarity_within_cluster_1:.4f}\")\n",
    "else:\n",
    "    print(\"В первом кластере недостаточно элементов для расчёта похожести.\")\n",
    "\n",
    "if mean_similarity_between_clusters is not None:\n",
    "    print(f\"Средняя похожесть между первым и вторым кластерами: {mean_similarity_between_clusters:.4f}\")\n",
    "else:\n",
    "    print(\"Недостаточно элементов в одном из кластеров для расчёта межкластерной похожести.\")"
   ]
  },
  {
   "cell_type": "code",
   "execution_count": null,
   "metadata": {
    "execution": {
     "iopub.execute_input": "2025-05-20T17:24:39.104539Z",
     "iopub.status.busy": "2025-05-20T17:24:39.104155Z",
     "iopub.status.idle": "2025-05-20T17:24:39.120538Z",
     "shell.execute_reply": "2025-05-20T17:24:39.119343Z",
     "shell.execute_reply.started": "2025-05-20T17:24:39.104511Z"
    },
    "trusted": true
   },
   "outputs": [],
   "source": [
    "# abort()"
   ]
  },
  {
   "cell_type": "code",
   "execution_count": null,
   "metadata": {
    "execution": {
     "iopub.execute_input": "2025-05-20T17:24:39.122079Z",
     "iopub.status.busy": "2025-05-20T17:24:39.121722Z",
     "iopub.status.idle": "2025-05-20T17:24:39.137935Z",
     "shell.execute_reply": "2025-05-20T17:24:39.136650Z",
     "shell.execute_reply.started": "2025-05-20T17:24:39.122040Z"
    },
    "trusted": true
   },
   "outputs": [],
   "source": [
    "final_loader_accuracy = DataLoader(\n",
    "    graphs_dataset,\n",
    "    batch_size=BATCH_SIZE,\n",
    "    shuffle=False,\n",
    "    collate_fn=collate_graphs,\n",
    "    num_workers=4,\n",
    ")\n",
    "\n",
    "final_loader_diversity = DataLoader(\n",
    "    full_triplet_dataset,\n",
    "    batch_size=BATCH_SIZE,\n",
    "    shuffle=False,\n",
    "    collate_fn=collate_triplets,\n",
    "    num_workers=4,\n",
    ")"
   ]
  },
  {
   "cell_type": "code",
   "execution_count": null,
   "metadata": {
    "execution": {
     "iopub.execute_input": "2025-05-20T17:24:39.139669Z",
     "iopub.status.busy": "2025-05-20T17:24:39.139268Z",
     "iopub.status.idle": "2025-05-20T17:24:39.296087Z",
     "shell.execute_reply": "2025-05-20T17:24:39.294065Z",
     "shell.execute_reply.started": "2025-05-20T17:24:39.139607Z"
    },
    "trusted": true
   },
   "outputs": [
    {
     "ename": "NameError",
     "evalue": "name 'abort' is not defined",
     "output_type": "error",
     "traceback": [
      "\u001b[0;31m---------------------------------------------------------------------------\u001b[0m",
      "\u001b[0;31mNameError\u001b[0m                                 Traceback (most recent call last)",
      "\u001b[0;32m<ipython-input-37-60c519502801>\u001b[0m in \u001b[0;36m<cell line: 1>\u001b[0;34m()\u001b[0m\n\u001b[0;32m----> 1\u001b[0;31m \u001b[0mabort\u001b[0m\u001b[0;34m(\u001b[0m\u001b[0;34m)\u001b[0m\u001b[0;34m\u001b[0m\u001b[0;34m\u001b[0m\u001b[0m\n\u001b[0m",
      "\u001b[0;31mNameError\u001b[0m: name 'abort' is not defined"
     ]
    }
   ],
   "source": [
    "abort()"
   ]
  },
  {
   "cell_type": "code",
   "execution_count": null,
   "metadata": {
    "execution": {
     "iopub.status.busy": "2025-05-20T17:24:39.297095Z",
     "iopub.status.idle": "2025-05-20T17:24:39.297580Z",
     "shell.execute_reply": "2025-05-20T17:24:39.297377Z"
    },
    "trusted": true
   },
   "outputs": [],
   "source": [
    "input_dim = graphs_dataset[0][\"x\"].shape[1]\n",
    "output_dim = 1\n",
    "num_epochs = 30\n",
    "\n",
    "model_accuracy = GAT(input_dim, output_dim=output_dim, dropout=0.4, heads=16)\n",
    "optimizer = torch.optim.AdamW(model_accuracy.parameters(), lr=1e-2)\n",
    "criterion = nn.MSELoss()\n",
    "\n",
    "train_model_accuracy(\n",
    "    model_accuracy,\n",
    "    final_loader_accuracy,\n",
    "    final_loader_accuracy,\n",
    "    optimizer,\n",
    "    criterion,\n",
    "    num_epochs,\n",
    "    device=device,\n",
    "    developer_mode=False\n",
    ");"
   ]
  },
  {
   "cell_type": "code",
   "execution_count": null,
   "metadata": {
    "execution": {
     "iopub.status.busy": "2025-05-20T17:24:39.299178Z",
     "iopub.status.idle": "2025-05-20T17:24:39.299629Z",
     "shell.execute_reply": "2025-05-20T17:24:39.299439Z"
    },
    "trusted": true
   },
   "outputs": [],
   "source": [
    "input_dim = graphs_dataset[0][\"x\"].shape[1]\n",
    "hidden_dim = 256  # Размерность скрытого слоя\n",
    "output_dim = 128\n",
    "num_epochs = 30\n",
    "\n",
    "model = GAT(input_dim, output_dim, dropout=0.1)\n",
    "optimizer = torch.optim.AdamW(model.parameters(), lr=1e-3)\n",
    "criterion = lambda anchor, positive, negative: triplet_loss(anchor, positive, negative, margin=1)\n",
    "\n",
    "train_model_diversity(\n",
    "    model,\n",
    "    final_loader_diversity,\n",
    "    valid_loader_diversity,\n",
    "    optimizer,\n",
    "    criterion,\n",
    "    num_epochs,\n",
    "    device=device,\n",
    "    developer_mode=False,\n",
    ");"
   ]
  },
  {
   "cell_type": "code",
   "execution_count": null,
   "metadata": {},
   "outputs": [],
   "source": [
    "\"hello world\";"
   ]
  },
  {
   "cell_type": "code",
   "execution_count": null,
   "metadata": {
    "execution": {
     "iopub.status.busy": "2025-05-20T17:24:39.301563Z",
     "iopub.status.idle": "2025-05-20T17:24:39.301934Z",
     "shell.execute_reply": "2025-05-20T17:24:39.301800Z"
    },
    "trusted": true
   },
   "outputs": [],
   "source": [
    "torch.save(model.state_dict(), \"model_diversity_weights.pth\")\n",
    "torch.save(model_accuracy.state_dict(), \"model_accuracy_weights.pth\")"
   ]
  },
  {
   "cell_type": "code",
   "execution_count": null,
   "metadata": {
    "execution": {
     "iopub.status.busy": "2025-05-20T17:24:39.302842Z",
     "iopub.status.idle": "2025-05-20T17:24:39.303192Z",
     "shell.execute_reply": "2025-05-20T17:24:39.303066Z"
    },
    "trusted": true
   },
   "outputs": [],
   "source": [
    "!zip weights model_diversity_weights.pth model_accuracy_weights.pth"
   ]
  }
 ],
 "metadata": {
  "kaggle": {
   "accelerator": "none",
   "dataSources": [
    {
     "databundleVersionId": 12390276,
     "datasetId": 6977610,
     "sourceId": 11887081,
     "sourceType": "datasetVersion"
    }
   ],
   "dockerImageVersionId": 30919,
   "isGpuEnabled": false,
   "isInternetEnabled": true,
   "language": "python",
   "sourceType": "notebook"
  },
  "kernelspec": {
   "display_name": "Python 3",
   "language": "python",
   "name": "python3"
  },
  "language_info": {
   "codemirror_mode": {
    "name": "ipython",
    "version": 3
   },
   "file_extension": ".py",
   "mimetype": "text/x-python",
   "name": "python",
   "nbconvert_exporter": "python",
   "pygments_lexer": "ipython3",
   "version": "3.12.3"
  },
  "papermill": {
   "default_parameters": {},
   "duration": 707.259268,
   "end_time": "2025-04-10T16:10:40.838775",
   "environment_variables": {},
   "exception": null,
   "input_path": "__notebook__.ipynb",
   "output_path": "__notebook__.ipynb",
   "parameters": {},
   "start_time": "2025-04-10T15:58:53.579507",
   "version": "2.6.0"
  }
 },
 "nbformat": 4,
 "nbformat_minor": 4
}
